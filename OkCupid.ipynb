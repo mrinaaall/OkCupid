{
  "nbformat": 4,
  "nbformat_minor": 0,
  "metadata": {
    "colab": {
      "name": "OkCupid.ipynb",
      "provenance": [],
      "collapsed_sections": [],
      "mount_file_id": "1BPbGjnoAwkBCpfF0hv5JuB_OrpVjXd-G",
      "authorship_tag": "ABX9TyPYXT/22tvo/EkYrH+fTa6s",
      "include_colab_link": true
    },
    "kernelspec": {
      "name": "python3",
      "display_name": "Python 3"
    },
    "widgets": {
      "application/vnd.jupyter.widget-state+json": {
        "d73d2d5fcfe74e3aab704ff2963eb5e8": {
          "model_module": "@jupyter-widgets/controls",
          "model_name": "HBoxModel",
          "state": {
            "_view_name": "HBoxView",
            "_dom_classes": [],
            "_model_name": "HBoxModel",
            "_view_module": "@jupyter-widgets/controls",
            "_model_module_version": "1.5.0",
            "_view_count": null,
            "_view_module_version": "1.5.0",
            "box_style": "",
            "layout": "IPY_MODEL_111a313fcbfd47c78d206a36e8e0af76",
            "_model_module": "@jupyter-widgets/controls",
            "children": [
              "IPY_MODEL_32b8f6cf5f7d44118acd2dfc4f889a4a",
              "IPY_MODEL_4747969521d6478fa3e17d16c478dd96"
            ]
          }
        },
        "111a313fcbfd47c78d206a36e8e0af76": {
          "model_module": "@jupyter-widgets/base",
          "model_name": "LayoutModel",
          "state": {
            "_view_name": "LayoutView",
            "grid_template_rows": null,
            "right": null,
            "justify_content": null,
            "_view_module": "@jupyter-widgets/base",
            "overflow": null,
            "_model_module_version": "1.2.0",
            "_view_count": null,
            "flex_flow": null,
            "width": null,
            "min_width": null,
            "border": null,
            "align_items": null,
            "bottom": null,
            "_model_module": "@jupyter-widgets/base",
            "top": null,
            "grid_column": null,
            "overflow_y": null,
            "overflow_x": null,
            "grid_auto_flow": null,
            "grid_area": null,
            "grid_template_columns": null,
            "flex": null,
            "_model_name": "LayoutModel",
            "justify_items": null,
            "grid_row": null,
            "max_height": null,
            "align_content": null,
            "visibility": null,
            "align_self": null,
            "height": null,
            "min_height": null,
            "padding": null,
            "grid_auto_rows": null,
            "grid_gap": null,
            "max_width": null,
            "order": null,
            "_view_module_version": "1.2.0",
            "grid_template_areas": null,
            "object_position": null,
            "object_fit": null,
            "grid_auto_columns": null,
            "margin": null,
            "display": null,
            "left": null
          }
        },
        "32b8f6cf5f7d44118acd2dfc4f889a4a": {
          "model_module": "@jupyter-widgets/controls",
          "model_name": "FloatProgressModel",
          "state": {
            "_view_name": "ProgressView",
            "style": "IPY_MODEL_c5e9eafc74e64d41bdeffc5b3a869260",
            "_dom_classes": [],
            "description": "100%",
            "_model_name": "FloatProgressModel",
            "bar_style": "success",
            "max": 9,
            "_view_module": "@jupyter-widgets/controls",
            "_model_module_version": "1.5.0",
            "value": 9,
            "_view_count": null,
            "_view_module_version": "1.5.0",
            "orientation": "horizontal",
            "min": 0,
            "description_tooltip": null,
            "_model_module": "@jupyter-widgets/controls",
            "layout": "IPY_MODEL_93325d513fa947a8a7862dd85921349d"
          }
        },
        "4747969521d6478fa3e17d16c478dd96": {
          "model_module": "@jupyter-widgets/controls",
          "model_name": "HTMLModel",
          "state": {
            "_view_name": "HTMLView",
            "style": "IPY_MODEL_8debcd138bf841d5b8f569b98a17f73e",
            "_dom_classes": [],
            "description": "",
            "_model_name": "HTMLModel",
            "placeholder": "​",
            "_view_module": "@jupyter-widgets/controls",
            "_model_module_version": "1.5.0",
            "value": " 9/9 [00:02&lt;00:00,  4.21it/s]",
            "_view_count": null,
            "_view_module_version": "1.5.0",
            "description_tooltip": null,
            "_model_module": "@jupyter-widgets/controls",
            "layout": "IPY_MODEL_f542f53674a54685bbc95e7f8cf4a46f"
          }
        },
        "c5e9eafc74e64d41bdeffc5b3a869260": {
          "model_module": "@jupyter-widgets/controls",
          "model_name": "ProgressStyleModel",
          "state": {
            "_view_name": "StyleView",
            "_model_name": "ProgressStyleModel",
            "description_width": "initial",
            "_view_module": "@jupyter-widgets/base",
            "_model_module_version": "1.5.0",
            "_view_count": null,
            "_view_module_version": "1.2.0",
            "bar_color": null,
            "_model_module": "@jupyter-widgets/controls"
          }
        },
        "93325d513fa947a8a7862dd85921349d": {
          "model_module": "@jupyter-widgets/base",
          "model_name": "LayoutModel",
          "state": {
            "_view_name": "LayoutView",
            "grid_template_rows": null,
            "right": null,
            "justify_content": null,
            "_view_module": "@jupyter-widgets/base",
            "overflow": null,
            "_model_module_version": "1.2.0",
            "_view_count": null,
            "flex_flow": null,
            "width": null,
            "min_width": null,
            "border": null,
            "align_items": null,
            "bottom": null,
            "_model_module": "@jupyter-widgets/base",
            "top": null,
            "grid_column": null,
            "overflow_y": null,
            "overflow_x": null,
            "grid_auto_flow": null,
            "grid_area": null,
            "grid_template_columns": null,
            "flex": null,
            "_model_name": "LayoutModel",
            "justify_items": null,
            "grid_row": null,
            "max_height": null,
            "align_content": null,
            "visibility": null,
            "align_self": null,
            "height": null,
            "min_height": null,
            "padding": null,
            "grid_auto_rows": null,
            "grid_gap": null,
            "max_width": null,
            "order": null,
            "_view_module_version": "1.2.0",
            "grid_template_areas": null,
            "object_position": null,
            "object_fit": null,
            "grid_auto_columns": null,
            "margin": null,
            "display": null,
            "left": null
          }
        },
        "8debcd138bf841d5b8f569b98a17f73e": {
          "model_module": "@jupyter-widgets/controls",
          "model_name": "DescriptionStyleModel",
          "state": {
            "_view_name": "StyleView",
            "_model_name": "DescriptionStyleModel",
            "description_width": "",
            "_view_module": "@jupyter-widgets/base",
            "_model_module_version": "1.5.0",
            "_view_count": null,
            "_view_module_version": "1.2.0",
            "_model_module": "@jupyter-widgets/controls"
          }
        },
        "f542f53674a54685bbc95e7f8cf4a46f": {
          "model_module": "@jupyter-widgets/base",
          "model_name": "LayoutModel",
          "state": {
            "_view_name": "LayoutView",
            "grid_template_rows": null,
            "right": null,
            "justify_content": null,
            "_view_module": "@jupyter-widgets/base",
            "overflow": null,
            "_model_module_version": "1.2.0",
            "_view_count": null,
            "flex_flow": null,
            "width": null,
            "min_width": null,
            "border": null,
            "align_items": null,
            "bottom": null,
            "_model_module": "@jupyter-widgets/base",
            "top": null,
            "grid_column": null,
            "overflow_y": null,
            "overflow_x": null,
            "grid_auto_flow": null,
            "grid_area": null,
            "grid_template_columns": null,
            "flex": null,
            "_model_name": "LayoutModel",
            "justify_items": null,
            "grid_row": null,
            "max_height": null,
            "align_content": null,
            "visibility": null,
            "align_self": null,
            "height": null,
            "min_height": null,
            "padding": null,
            "grid_auto_rows": null,
            "grid_gap": null,
            "max_width": null,
            "order": null,
            "_view_module_version": "1.2.0",
            "grid_template_areas": null,
            "object_position": null,
            "object_fit": null,
            "grid_auto_columns": null,
            "margin": null,
            "display": null,
            "left": null
          }
        }
      }
    }
  },
  "cells": [
    {
      "cell_type": "markdown",
      "metadata": {
        "id": "view-in-github",
        "colab_type": "text"
      },
      "source": [
        "<a href=\"https://colab.research.google.com/github/mrinaaall/OkCupid/blob/main/OkCupid.ipynb\" target=\"_parent\"><img src=\"https://colab.research.google.com/assets/colab-badge.svg\" alt=\"Open In Colab\"/></a>"
      ]
    },
    {
      "cell_type": "code",
      "metadata": {
        "id": "QyHtTEal0pQE"
      },
      "source": [
        "import pandas as pd\n",
        "import numpy as np\n",
        "import matplotlib.pyplot as plt\n",
        "import plotly.express as px\n",
        "import datetime"
      ],
      "execution_count": 1,
      "outputs": []
    },
    {
      "cell_type": "code",
      "metadata": {
        "id": "NshEuVM005lw"
      },
      "source": [
        "missing_values = [\"n/a\", \"na\", \"--\", '-1', \"NaN\"]\n",
        "profile_data = pd.read_csv('/content/drive/MyDrive/profiles.csv', encoding = 'utf8', na_values = missing_values)"
      ],
      "execution_count": 2,
      "outputs": []
    },
    {
      "cell_type": "code",
      "metadata": {
        "id": "XZ5UfXWv4j9T",
        "colab": {
          "base_uri": "https://localhost:8080/"
        },
        "outputId": "71a0db3a-ff09-4b6d-9b8e-929119316ecc"
      },
      "source": [
        "profile_data.columns"
      ],
      "execution_count": 3,
      "outputs": [
        {
          "output_type": "execute_result",
          "data": {
            "text/plain": [
              "Index(['age', 'body_type', 'diet', 'drinks', 'drugs', 'education', 'essay0',\n",
              "       'essay1', 'essay2', 'essay3', 'essay4', 'essay5', 'essay6', 'essay7',\n",
              "       'essay8', 'essay9', 'ethnicity', 'height', 'income', 'job',\n",
              "       'last_online', 'location', 'offspring', 'orientation', 'pets',\n",
              "       'religion', 'sex', 'sign', 'smokes', 'speaks', 'status'],\n",
              "      dtype='object')"
            ]
          },
          "metadata": {
            "tags": []
          },
          "execution_count": 3
        }
      ]
    },
    {
      "cell_type": "code",
      "metadata": {
        "colab": {
          "base_uri": "https://localhost:8080/"
        },
        "id": "sMqnVYV7xGIC",
        "outputId": "1cfb6179-c32e-4502-d203-a47aea24e5c3"
      },
      "source": [
        "profile_data.dtypes"
      ],
      "execution_count": 4,
      "outputs": [
        {
          "output_type": "execute_result",
          "data": {
            "text/plain": [
              "age              int64\n",
              "body_type       object\n",
              "diet            object\n",
              "drinks          object\n",
              "drugs           object\n",
              "education       object\n",
              "essay0          object\n",
              "essay1          object\n",
              "essay2          object\n",
              "essay3          object\n",
              "essay4          object\n",
              "essay5          object\n",
              "essay6          object\n",
              "essay7          object\n",
              "essay8          object\n",
              "essay9          object\n",
              "ethnicity       object\n",
              "height         float64\n",
              "income         float64\n",
              "job             object\n",
              "last_online     object\n",
              "location        object\n",
              "offspring       object\n",
              "orientation     object\n",
              "pets            object\n",
              "religion        object\n",
              "sex             object\n",
              "sign            object\n",
              "smokes          object\n",
              "speaks          object\n",
              "status          object\n",
              "dtype: object"
            ]
          },
          "metadata": {
            "tags": []
          },
          "execution_count": 4
        }
      ]
    },
    {
      "cell_type": "code",
      "metadata": {
        "colab": {
          "base_uri": "https://localhost:8080/",
          "height": 717
        },
        "id": "WeW3oflBQTe0",
        "outputId": "26a930cd-8b15-4416-e870-469818d285e3"
      },
      "source": [
        "profile_data.head()"
      ],
      "execution_count": 5,
      "outputs": [
        {
          "output_type": "execute_result",
          "data": {
            "text/html": [
              "<div>\n",
              "<style scoped>\n",
              "    .dataframe tbody tr th:only-of-type {\n",
              "        vertical-align: middle;\n",
              "    }\n",
              "\n",
              "    .dataframe tbody tr th {\n",
              "        vertical-align: top;\n",
              "    }\n",
              "\n",
              "    .dataframe thead th {\n",
              "        text-align: right;\n",
              "    }\n",
              "</style>\n",
              "<table border=\"1\" class=\"dataframe\">\n",
              "  <thead>\n",
              "    <tr style=\"text-align: right;\">\n",
              "      <th></th>\n",
              "      <th>age</th>\n",
              "      <th>body_type</th>\n",
              "      <th>diet</th>\n",
              "      <th>drinks</th>\n",
              "      <th>drugs</th>\n",
              "      <th>education</th>\n",
              "      <th>essay0</th>\n",
              "      <th>essay1</th>\n",
              "      <th>essay2</th>\n",
              "      <th>essay3</th>\n",
              "      <th>essay4</th>\n",
              "      <th>essay5</th>\n",
              "      <th>essay6</th>\n",
              "      <th>essay7</th>\n",
              "      <th>essay8</th>\n",
              "      <th>essay9</th>\n",
              "      <th>ethnicity</th>\n",
              "      <th>height</th>\n",
              "      <th>income</th>\n",
              "      <th>job</th>\n",
              "      <th>last_online</th>\n",
              "      <th>location</th>\n",
              "      <th>offspring</th>\n",
              "      <th>orientation</th>\n",
              "      <th>pets</th>\n",
              "      <th>religion</th>\n",
              "      <th>sex</th>\n",
              "      <th>sign</th>\n",
              "      <th>smokes</th>\n",
              "      <th>speaks</th>\n",
              "      <th>status</th>\n",
              "    </tr>\n",
              "  </thead>\n",
              "  <tbody>\n",
              "    <tr>\n",
              "      <th>0</th>\n",
              "      <td>22</td>\n",
              "      <td>a little extra</td>\n",
              "      <td>strictly anything</td>\n",
              "      <td>socially</td>\n",
              "      <td>never</td>\n",
              "      <td>working on college/university</td>\n",
              "      <td>about me:&lt;br /&gt;\\n&lt;br /&gt;\\ni would love to think...</td>\n",
              "      <td>currently working as an international agent fo...</td>\n",
              "      <td>making people laugh.&lt;br /&gt;\\nranting about a go...</td>\n",
              "      <td>the way i look. i am a six foot half asian, ha...</td>\n",
              "      <td>books:&lt;br /&gt;\\nabsurdistan, the republic, of mi...</td>\n",
              "      <td>food.&lt;br /&gt;\\nwater.&lt;br /&gt;\\ncell phone.&lt;br /&gt;\\n...</td>\n",
              "      <td>duality and humorous things</td>\n",
              "      <td>trying to find someone to hang out with. i am ...</td>\n",
              "      <td>i am new to california and looking for someone...</td>\n",
              "      <td>you want to be swept off your feet!&lt;br /&gt;\\nyou...</td>\n",
              "      <td>asian, white</td>\n",
              "      <td>75.0</td>\n",
              "      <td>NaN</td>\n",
              "      <td>transportation</td>\n",
              "      <td>2012-06-28-20-30</td>\n",
              "      <td>south san francisco, california</td>\n",
              "      <td>doesn&amp;rsquo;t have kids, but might want them</td>\n",
              "      <td>straight</td>\n",
              "      <td>likes dogs and likes cats</td>\n",
              "      <td>agnosticism and very serious about it</td>\n",
              "      <td>m</td>\n",
              "      <td>gemini</td>\n",
              "      <td>sometimes</td>\n",
              "      <td>english</td>\n",
              "      <td>single</td>\n",
              "    </tr>\n",
              "    <tr>\n",
              "      <th>1</th>\n",
              "      <td>35</td>\n",
              "      <td>average</td>\n",
              "      <td>mostly other</td>\n",
              "      <td>often</td>\n",
              "      <td>sometimes</td>\n",
              "      <td>working on space camp</td>\n",
              "      <td>i am a chef: this is what that means.&lt;br /&gt;\\n1...</td>\n",
              "      <td>dedicating everyday to being an unbelievable b...</td>\n",
              "      <td>being silly. having ridiculous amonts of fun w...</td>\n",
              "      <td>NaN</td>\n",
              "      <td>i am die hard christopher moore fan. i don't r...</td>\n",
              "      <td>delicious porkness in all of its glories.&lt;br /...</td>\n",
              "      <td>NaN</td>\n",
              "      <td>NaN</td>\n",
              "      <td>i am very open and will share just about anyth...</td>\n",
              "      <td>NaN</td>\n",
              "      <td>white</td>\n",
              "      <td>70.0</td>\n",
              "      <td>80000.0</td>\n",
              "      <td>hospitality / travel</td>\n",
              "      <td>2012-06-29-21-41</td>\n",
              "      <td>oakland, california</td>\n",
              "      <td>doesn&amp;rsquo;t have kids, but might want them</td>\n",
              "      <td>straight</td>\n",
              "      <td>likes dogs and likes cats</td>\n",
              "      <td>agnosticism but not too serious about it</td>\n",
              "      <td>m</td>\n",
              "      <td>cancer</td>\n",
              "      <td>no</td>\n",
              "      <td>english (fluently), spanish (poorly), french (...</td>\n",
              "      <td>single</td>\n",
              "    </tr>\n",
              "    <tr>\n",
              "      <th>2</th>\n",
              "      <td>38</td>\n",
              "      <td>thin</td>\n",
              "      <td>anything</td>\n",
              "      <td>socially</td>\n",
              "      <td>NaN</td>\n",
              "      <td>graduated from masters program</td>\n",
              "      <td>i'm not ashamed of much, but writing public te...</td>\n",
              "      <td>i make nerdy software for musicians, artists, ...</td>\n",
              "      <td>improvising in different contexts. alternating...</td>\n",
              "      <td>my large jaw and large glasses are the physica...</td>\n",
              "      <td>okay this is where the cultural matrix gets so...</td>\n",
              "      <td>movement&lt;br /&gt;\\nconversation&lt;br /&gt;\\ncreation&lt;b...</td>\n",
              "      <td>NaN</td>\n",
              "      <td>viewing. listening. dancing. talking. drinking...</td>\n",
              "      <td>when i was five years old, i was known as \"the...</td>\n",
              "      <td>you are bright, open, intense, silly, ironic, ...</td>\n",
              "      <td>NaN</td>\n",
              "      <td>68.0</td>\n",
              "      <td>NaN</td>\n",
              "      <td>NaN</td>\n",
              "      <td>2012-06-27-09-10</td>\n",
              "      <td>san francisco, california</td>\n",
              "      <td>NaN</td>\n",
              "      <td>straight</td>\n",
              "      <td>has cats</td>\n",
              "      <td>NaN</td>\n",
              "      <td>m</td>\n",
              "      <td>pisces but it doesn&amp;rsquo;t matter</td>\n",
              "      <td>no</td>\n",
              "      <td>english, french, c++</td>\n",
              "      <td>available</td>\n",
              "    </tr>\n",
              "    <tr>\n",
              "      <th>3</th>\n",
              "      <td>23</td>\n",
              "      <td>thin</td>\n",
              "      <td>vegetarian</td>\n",
              "      <td>socially</td>\n",
              "      <td>NaN</td>\n",
              "      <td>working on college/university</td>\n",
              "      <td>i work in a library and go to school. . .</td>\n",
              "      <td>reading things written by old dead people</td>\n",
              "      <td>playing synthesizers and organizing books acco...</td>\n",
              "      <td>socially awkward but i do my best</td>\n",
              "      <td>bataille, celine, beckett. . .&lt;br /&gt;\\nlynch, j...</td>\n",
              "      <td>NaN</td>\n",
              "      <td>cats and german philosophy</td>\n",
              "      <td>NaN</td>\n",
              "      <td>NaN</td>\n",
              "      <td>you feel so inclined.</td>\n",
              "      <td>white</td>\n",
              "      <td>71.0</td>\n",
              "      <td>20000.0</td>\n",
              "      <td>student</td>\n",
              "      <td>2012-06-28-14-22</td>\n",
              "      <td>berkeley, california</td>\n",
              "      <td>doesn&amp;rsquo;t want kids</td>\n",
              "      <td>straight</td>\n",
              "      <td>likes cats</td>\n",
              "      <td>NaN</td>\n",
              "      <td>m</td>\n",
              "      <td>pisces</td>\n",
              "      <td>no</td>\n",
              "      <td>english, german (poorly)</td>\n",
              "      <td>single</td>\n",
              "    </tr>\n",
              "    <tr>\n",
              "      <th>4</th>\n",
              "      <td>29</td>\n",
              "      <td>athletic</td>\n",
              "      <td>NaN</td>\n",
              "      <td>socially</td>\n",
              "      <td>never</td>\n",
              "      <td>graduated from college/university</td>\n",
              "      <td>hey how's it going? currently vague on the pro...</td>\n",
              "      <td>work work work work + play</td>\n",
              "      <td>creating imagery to look at:&lt;br /&gt;\\nhttp://bag...</td>\n",
              "      <td>i smile a lot and my inquisitive nature</td>\n",
              "      <td>music: bands, rappers, musicians&lt;br /&gt;\\nat the...</td>\n",
              "      <td>NaN</td>\n",
              "      <td>NaN</td>\n",
              "      <td>NaN</td>\n",
              "      <td>NaN</td>\n",
              "      <td>NaN</td>\n",
              "      <td>asian, black, other</td>\n",
              "      <td>66.0</td>\n",
              "      <td>NaN</td>\n",
              "      <td>artistic / musical / writer</td>\n",
              "      <td>2012-06-27-21-26</td>\n",
              "      <td>san francisco, california</td>\n",
              "      <td>NaN</td>\n",
              "      <td>straight</td>\n",
              "      <td>likes dogs and likes cats</td>\n",
              "      <td>NaN</td>\n",
              "      <td>m</td>\n",
              "      <td>aquarius</td>\n",
              "      <td>no</td>\n",
              "      <td>english</td>\n",
              "      <td>single</td>\n",
              "    </tr>\n",
              "  </tbody>\n",
              "</table>\n",
              "</div>"
            ],
            "text/plain": [
              "   age  ...     status\n",
              "0   22  ...     single\n",
              "1   35  ...     single\n",
              "2   38  ...  available\n",
              "3   23  ...     single\n",
              "4   29  ...     single\n",
              "\n",
              "[5 rows x 31 columns]"
            ]
          },
          "metadata": {
            "tags": []
          },
          "execution_count": 5
        }
      ]
    },
    {
      "cell_type": "code",
      "metadata": {
        "id": "8NuYhDPJMb2C"
      },
      "source": [
        "# Eliminating the Chained Assignment error.\n",
        "pd.set_option('mode.chained_assignment', None)"
      ],
      "execution_count": 6,
      "outputs": []
    },
    {
      "cell_type": "code",
      "metadata": {
        "id": "3Ik0EiEUsOxp"
      },
      "source": [
        "profile_data = profile_data.dropna()"
      ],
      "execution_count": 7,
      "outputs": []
    },
    {
      "cell_type": "markdown",
      "metadata": {
        "id": "ub5WeaEkXngZ"
      },
      "source": [
        "-----------------------"
      ]
    },
    {
      "cell_type": "markdown",
      "metadata": {
        "id": "j1ajawdCZgFj"
      },
      "source": [
        "Profile Demographics:"
      ]
    },
    {
      "cell_type": "code",
      "metadata": {
        "id": "Bsje2YEd2-H4"
      },
      "source": [
        "'''\n",
        "Creating a date-time object from the feature: last_online.\n",
        "'''\n",
        "profile_data['last_online'] = pd.to_datetime(profile_data.last_online, format='%Y-%m-%d-%H-%M')\n",
        "\n",
        "'''\n",
        "Splitting DATETIME instance of last_online into Date AND Time.\n",
        "'''\n",
        "profile_data['last_date_online'] = pd.to_datetime(profile_data['last_online']).dt.date\n",
        "profile_data['last_time_online'] = pd.to_datetime(profile_data['last_online']).dt.time\n",
        "\n",
        "'''\n",
        "Splitting date into Day, Month, and Year.\n",
        "'''\n",
        "profile_data['year'] = pd.to_datetime(profile_data['last_date_online']).dt.year\n",
        "profile_data['month'] = pd.to_datetime(profile_data['last_date_online']).dt.month\n",
        "profile_data['day'] = pd.to_datetime(profile_data['last_date_online']).dt.day"
      ],
      "execution_count": 8,
      "outputs": []
    },
    {
      "cell_type": "markdown",
      "metadata": {
        "id": "x02ChxwmXBzS"
      },
      "source": [
        "--------------------------------------"
      ]
    },
    {
      "cell_type": "code",
      "metadata": {
        "id": "1nCHBUKDMaqT"
      },
      "source": [
        "'''\u0010\n",
        "Separating location into CITY and STATE.\n",
        "'''\n",
        "location_separated = profile_data[\"location\"].str.split(\", \", n = 1, expand = True)\n",
        "profile_data['city'] = location_separated[0]\n",
        "profile_data['state'] = location_separated[1]"
      ],
      "execution_count": 9,
      "outputs": []
    },
    {
      "cell_type": "markdown",
      "metadata": {
        "id": "pm2W7g63XRZp"
      },
      "source": [
        "-------------------------------------------"
      ]
    },
    {
      "cell_type": "code",
      "metadata": {
        "id": "H8MNZS7vKVal"
      },
      "source": [
        "'''\n",
        "Retaining the religion, no other information.\n",
        "'''\n",
        "profile_data['religion'] = profile_data['religion'].str.split(' ').str[0]"
      ],
      "execution_count": 10,
      "outputs": []
    },
    {
      "cell_type": "markdown",
      "metadata": {
        "id": "6O15zVPEYhu9"
      },
      "source": [
        "---------------------"
      ]
    },
    {
      "cell_type": "code",
      "metadata": {
        "id": "RW7WCV5H1q7M"
      },
      "source": [
        "'''\n",
        "Retaining just the zodiac sign, no other information.\n",
        "'''\n",
        "profile_data['sign'] = profile_data['sign'].str.split(' ').str[0]"
      ],
      "execution_count": 11,
      "outputs": []
    },
    {
      "cell_type": "markdown",
      "metadata": {
        "id": "8XIIHyX3YwSY"
      },
      "source": [
        "----------------"
      ]
    },
    {
      "cell_type": "code",
      "metadata": {
        "id": "r7MECSDsIJ9c"
      },
      "source": [
        "'''\n",
        "Exploding language into multiple columns, each column containing one language.\n",
        "'''\n",
        "languages_separated = profile_data['speaks'].str.split(\", \", n = 5, expand = True)\n",
        "\n",
        "profile_data['language_1'] = languages_separated[0]\n",
        "profile_data['language_2'] = languages_separated[1]\n",
        "profile_data['language_3'] = languages_separated[2]\n",
        "profile_data['language_4'] = languages_separated[3]\n",
        "profile_data['language_5'] = languages_separated[4]\n",
        "\n",
        "'''\n",
        "Converting type to STRING:\n",
        "'''\n",
        "profile_data['language_1']=profile_data['language_1'].apply(str)\n",
        "profile_data['language_2']=profile_data['language_2'].apply(str)\n",
        "profile_data['language_3']=profile_data['language_3'].apply(str)\n",
        "profile_data['language_4']=profile_data['language_4'].apply(str)\n",
        "profile_data['language_5']=profile_data['language_5'].apply(str)\n",
        "\n",
        "'''\n",
        "Eliminating fluency levels in languages to obtain one single language\"\n",
        "'''\n",
        "# Importing re package for using regular expressions \n",
        "import re \n",
        "  \n",
        "# Function to clean the names \n",
        "def language_names(language_name): \n",
        "    # Search for opening bracket in the name followed by any characters repeated any number of times \n",
        "    if re.search('\\(.*', language_name): \n",
        "  \n",
        "        # Extract the position of beginning of pattern \n",
        "        pos = re.search('\\(.*', language_name).start() \n",
        "  \n",
        "        # return the cleaned name \n",
        "        return language_name[:pos] \n",
        "  \n",
        "    else: \n",
        "        # if clean up needed return the same name \n",
        "        return language_name \n",
        "          \n",
        "'''\n",
        "Updating dataframes with clean text.\n",
        "'''\n",
        "profile_data['language_1'] = profile_data['language_1'].apply(language_names) \n",
        "profile_data['language_2'] = profile_data['language_2'].apply(language_names) \n",
        "profile_data['language_3'] = profile_data['language_3'].apply(language_names) \n",
        "profile_data['language_4'] = profile_data['language_4'].apply(language_names) \n",
        "profile_data['language_5'] = profile_data['language_5'].apply(language_names) \n",
        "\n",
        "'''\n",
        "Getting rid of SPACE post eliminating FLUENCY.\n",
        "'''\n",
        "profile_data['language_1'] = profile_data['language_1'].str.replace(\" \", \"\")\n",
        "profile_data['language_2'] = profile_data['language_2'].str.replace(\" \", \"\")\n",
        "profile_data['language_3'] = profile_data['language_3'].str.replace(\" \", \"\")\n",
        "profile_data['language_4'] = profile_data['language_4'].str.replace(\" \", \"\")\n",
        "profile_data['language_5'] = profile_data['language_5'].str.replace(\" \", \"\")"
      ],
      "execution_count": 12,
      "outputs": []
    },
    {
      "cell_type": "markdown",
      "metadata": {
        "id": "aybBSHU5p7-q"
      },
      "source": [
        "---------"
      ]
    },
    {
      "cell_type": "code",
      "metadata": {
        "id": "HzZud37jpZCZ"
      },
      "source": [
        "'''\n",
        "Clean the column offspring, eliminating &rsquo;.\n",
        "'''\n",
        "profile_data[\"offspring\"] = profile_data['offspring'].str.replace(\"&rsquo;\", \"'\")"
      ],
      "execution_count": 13,
      "outputs": []
    },
    {
      "cell_type": "markdown",
      "metadata": {
        "id": "ghtp-nfsKo_n"
      },
      "source": [
        "-----"
      ]
    },
    {
      "cell_type": "code",
      "metadata": {
        "id": "ecLF6foJHdjk"
      },
      "source": [
        "profile_data['height'] = profile_data['height'].apply(lambda x: x*2.54)"
      ],
      "execution_count": 14,
      "outputs": []
    },
    {
      "cell_type": "markdown",
      "metadata": {
        "id": "y3FKy0SeKxMV"
      },
      "source": [
        "--------"
      ]
    },
    {
      "cell_type": "code",
      "metadata": {
        "id": "9HHCELDwlYAS"
      },
      "source": [
        "profile_data = profile_data.drop(columns = (['last_online', 'location', 'religion', 'sign', 'speaks', 'state']))"
      ],
      "execution_count": 15,
      "outputs": []
    },
    {
      "cell_type": "markdown",
      "metadata": {
        "id": "WupR1ziRHd14"
      },
      "source": [
        "----------"
      ]
    },
    {
      "cell_type": "code",
      "metadata": {
        "id": "VmTdcR2pPHY1"
      },
      "source": [
        "# list_of_complete_col = []\n",
        "# list_of_missing_cols = []\n",
        "# for cols in profile_data.columns:\n",
        "#   if profile_data[cols].isna().sum() > 0:\n",
        "#     list_of_missing_cols.append(cols)\n",
        "#   else:\n",
        "#     list_of_complete_col.append(cols)"
      ],
      "execution_count": 16,
      "outputs": []
    },
    {
      "cell_type": "code",
      "metadata": {
        "id": "hNm_SI8_P15n"
      },
      "source": [
        "# print('Features with complete data: {}'.format(list_of_complete_col))"
      ],
      "execution_count": 17,
      "outputs": []
    },
    {
      "cell_type": "code",
      "metadata": {
        "id": "5nQfEVCbQEzK"
      },
      "source": [
        "# print('Features with missing values: {}'.format(list_of_missing_cols))"
      ],
      "execution_count": 18,
      "outputs": []
    },
    {
      "cell_type": "markdown",
      "metadata": {
        "id": "tlX8J_H1Xigy"
      },
      "source": [
        "-----------------------------"
      ]
    },
    {
      "cell_type": "markdown",
      "metadata": {
        "id": "HRvx6f_-Zae4"
      },
      "source": [
        "Profile Essays:"
      ]
    },
    {
      "cell_type": "code",
      "metadata": {
        "id": "DEZN_lc8KVRv"
      },
      "source": [
        "'''\n",
        "preprocess_text: Function to strip html tags, \\n and https from text.\n",
        "params: data_frame\n",
        "'''\n",
        "def preprocess_text(data_frame):\n",
        "  for cols in data_frame.columns:\n",
        "    data_frame[cols] = data_frame[cols].str.replace('<[^<]+?>', ' ', regex = True)\n",
        "    data_frame[cols] = data_frame[cols].str.replace('\\n', ' ')\n",
        "    data_frame[cols] = data_frame[cols].str.replace('\\'', '')\n",
        "\n",
        "  return data_frame"
      ],
      "execution_count": 19,
      "outputs": []
    },
    {
      "cell_type": "code",
      "metadata": {
        "id": "8XuDdw1SS7r2"
      },
      "source": [
        "profile_data[['essay0', 'essay1', 'essay2', 'essay3', 'essay4', 'essay5', 'essay6', 'essay7',\n",
        "                               'essay8', 'essay9']] = preprocess_text(profile_data[['essay0', 'essay1', 'essay2', 'essay3', 'essay4', 'essay5', 'essay6', 'essay7',\n",
        "                               'essay8', 'essay9']])"
      ],
      "execution_count": 20,
      "outputs": []
    },
    {
      "cell_type": "markdown",
      "metadata": {
        "id": "Z5aPWQiM3huF"
      },
      "source": [
        "----------"
      ]
    },
    {
      "cell_type": "markdown",
      "metadata": {
        "id": "DjhmQLg9vW7m"
      },
      "source": [
        "Topic Modeling:"
      ]
    },
    {
      "cell_type": "code",
      "metadata": {
        "id": "UBpguUkfZ_PH"
      },
      "source": [
        "from sklearn.feature_extraction.text import CountVectorizer"
      ],
      "execution_count": 21,
      "outputs": []
    },
    {
      "cell_type": "code",
      "metadata": {
        "id": "cI7T92_hZ-zy"
      },
      "source": [
        "from sklearn.decomposition import LatentDirichletAllocation"
      ],
      "execution_count": 22,
      "outputs": []
    },
    {
      "cell_type": "markdown",
      "metadata": {
        "id": "UA_7PmZ-vpDH"
      },
      "source": [
        "In the cell above I used the 'LatentDirichletAllocation' class from the sklearn.decomposition library to perform LDA on our document-term matrix. The parameter n_components specifies the number of categories, or topics, that we want our text to be divided into.\n",
        "Let's randomly fetch words from our vocabulary. Count vectorizer contains all the words in our vocabulary. We can use the get_feature_names() method and pass it the ID of the word that we want to fetch."
      ]
    },
    {
      "cell_type": "markdown",
      "metadata": {
        "id": "kyasorhtw3-R"
      },
      "source": [
        "The first topic contains the probabilities of 2279 words for topic 1. To sort the indexes according to probability values, we can use the argsort() function. Once sorted, the 10 words with the highest probabilities will now belong to the last 10 indexes of the array."
      ]
    },
    {
      "cell_type": "markdown",
      "metadata": {
        "id": "Q4fvGJXGw9-a"
      },
      "source": [
        "These indexes can then be used to retrieve the value of the words from the count_vect object."
      ]
    },
    {
      "cell_type": "markdown",
      "metadata": {
        "id": "tdKlXV8kxCop"
      },
      "source": [
        "These are the top 10 words obtained for the response 'You should message me if..' From the top 10 words above we can infer that the first topic might be about how users want other users to message them if they're looking to have fun or if they love sense of humor."
      ]
    },
    {
      "cell_type": "markdown",
      "metadata": {
        "id": "eFXljyW0xMZB"
      },
      "source": [
        "As a final step, we will add a column to the original data frame that will store the topic for the text. To do so, we can use LDA.transform() method and pass it our document-term matrix. This method will assign the probability of all the topics to each document."
      ]
    },
    {
      "cell_type": "markdown",
      "metadata": {
        "id": "B0eqFENJhcCO"
      },
      "source": [
        "-----"
      ]
    },
    {
      "cell_type": "markdown",
      "metadata": {
        "id": "BH3lMpPn2XHF"
      },
      "source": [
        "Wrapping topic modeling in a function:"
      ]
    },
    {
      "cell_type": "code",
      "metadata": {
        "id": "xIoTnly62Wlg"
      },
      "source": [
        "count_vect = CountVectorizer(max_df = 0.8, min_df = 2, stop_words = 'english')\n",
        "LDA = LatentDirichletAllocation(n_components = 5, random_state = 42)"
      ],
      "execution_count": 23,
      "outputs": []
    },
    {
      "cell_type": "code",
      "metadata": {
        "id": "MlCgQbfLxV0p"
      },
      "source": [
        "def topic_modeling(data_frame, cols, count_vectorizer, lda):\n",
        "  '''\n",
        "  Function: To perform topic modeling on multiple columns of a df.\n",
        "  Params: data_frame - Dataframe as an input.\n",
        "          cols - list of columns to obtain topics.\n",
        "  '''\n",
        "\n",
        "  og_data_frame = data_frame.copy()\n",
        "\n",
        "  # Obtaining document term matrix using count_vect as count_vectorizer:\n",
        "  dt_matrix = count_vectorizer.fit_transform(data_frame[cols].values.astype('U'))\n",
        "\n",
        "  # LDA\n",
        "  lda.fit(dt_matrix)\n",
        "  first_topic = lda.components_[0]\n",
        "  top_topic_words = first_topic.argsort()[-10:]\n",
        "  topic_values = lda.transform(dt_matrix)\n",
        "  og_data_frame[str(cols)+'_new'] = topic_values.argmax(axis=1) \n",
        "\n",
        "  return og_data_frame"
      ],
      "execution_count": 24,
      "outputs": []
    },
    {
      "cell_type": "code",
      "metadata": {
        "id": "jIVw-6x84Nvb"
      },
      "source": [
        "asd = profile_data\n",
        "for column in profile_data[['essay0', 'essay1', 'essay2', 'essay3', 'essay4', 'essay5', 'essay6', 'essay7',\n",
        "                               'essay8', 'essay9']]:\n",
        "  asd = topic_modeling(asd, column, count_vect, LDA)"
      ],
      "execution_count": 25,
      "outputs": []
    },
    {
      "cell_type": "code",
      "metadata": {
        "id": "YoCVnF1l4UN6",
        "colab": {
          "base_uri": "https://localhost:8080/"
        },
        "outputId": "c32f3c98-881d-48b6-b415-13e44a8aeaee"
      },
      "source": [
        "asd.shape"
      ],
      "execution_count": 26,
      "outputs": [
        {
          "output_type": "execute_result",
          "data": {
            "text/plain": [
              "(1424, 47)"
            ]
          },
          "metadata": {
            "tags": []
          },
          "execution_count": 26
        }
      ]
    },
    {
      "cell_type": "code",
      "metadata": {
        "id": "DwR4Ywz2I-bs",
        "colab": {
          "base_uri": "https://localhost:8080/"
        },
        "outputId": "e14e47d5-6dca-4c4a-bd81-40781c3d2a3e"
      },
      "source": [
        "'''\n",
        "Checking datatypes of columns and appending to the respective list.\n",
        "'''\n",
        "quantitative_var = []\n",
        "categorical_var = []\n",
        "for cols in asd.columns:\n",
        "  if asd[cols].dtype == 'object':\n",
        "    categorical_var.append(cols)\n",
        "  else:\n",
        "    quantitative_var.append(cols)\n",
        "\n",
        "print('Quantitative Features: {0} \\nCategorical Features: {1}'.format(quantitative_var, categorical_var))"
      ],
      "execution_count": 27,
      "outputs": [
        {
          "output_type": "stream",
          "text": [
            "Quantitative Features: ['age', 'height', 'income', 'year', 'month', 'day', 'essay0_new', 'essay1_new', 'essay2_new', 'essay3_new', 'essay4_new', 'essay5_new', 'essay6_new', 'essay7_new', 'essay8_new', 'essay9_new'] \n",
            "Categorical Features: ['body_type', 'diet', 'drinks', 'drugs', 'education', 'essay0', 'essay1', 'essay2', 'essay3', 'essay4', 'essay5', 'essay6', 'essay7', 'essay8', 'essay9', 'ethnicity', 'job', 'offspring', 'orientation', 'pets', 'sex', 'smokes', 'status', 'last_date_online', 'last_time_online', 'city', 'language_1', 'language_2', 'language_3', 'language_4', 'language_5']\n"
          ],
          "name": "stdout"
        }
      ]
    },
    {
      "cell_type": "code",
      "metadata": {
        "id": "eYkTcIjCkLvE"
      },
      "source": [
        ""
      ],
      "execution_count": 27,
      "outputs": []
    },
    {
      "cell_type": "markdown",
      "metadata": {
        "id": "_PBEIu5Ehsm3"
      },
      "source": [
        "----"
      ]
    },
    {
      "cell_type": "markdown",
      "metadata": {
        "id": "c2IHyv3dhtvR"
      },
      "source": [
        "Vectorizing categorical features to prepare for clustering:"
      ]
    },
    {
      "cell_type": "code",
      "metadata": {
        "id": "QTQ87SF4HGDK"
      },
      "source": [
        "# Instantiating the Vectorizer\n",
        "vectorizer = CountVectorizer()"
      ],
      "execution_count": 28,
      "outputs": []
    },
    {
      "cell_type": "code",
      "metadata": {
        "id": "EDUfOdbXlm8G"
      },
      "source": [
        "asd = asd.reset_index()"
      ],
      "execution_count": 29,
      "outputs": []
    },
    {
      "cell_type": "code",
      "metadata": {
        "id": "OTDP87Jglgnq"
      },
      "source": [
        "asd = asd.drop(columns='index')"
      ],
      "execution_count": 30,
      "outputs": []
    },
    {
      "cell_type": "markdown",
      "metadata": {
        "id": "0u56ZqRGh-MF"
      },
      "source": [
        "Keeping only categorical features that describe something about the profiles:"
      ]
    },
    {
      "cell_type": "code",
      "metadata": {
        "id": "H1xhUWSVlzfh"
      },
      "source": [
        "new_df = asd[['body_type', 'diet', 'drinks', 'drugs', 'education', 'ethnicity', 'job', 'offspring',\n",
        "       'orientation', 'pets', 'smokes', 'status', 'city']]"
      ],
      "execution_count": 31,
      "outputs": []
    },
    {
      "cell_type": "code",
      "metadata": {
        "id": "IqjaDEdnerBz"
      },
      "source": [
        "# print(new_df.columns)\n",
        "for cols in ['body_type', 'diet', 'drinks', 'drugs', 'education', 'ethnicity', 'job', 'offspring',\n",
        "       'orientation', 'pets', 'smokes', 'status', 'city']:\n",
        "       try:\n",
        "         a = vectorizer.fit_transform(new_df[cols])\n",
        "         df_wrds = pd.DataFrame(a.toarray(), columns=vectorizer.get_feature_names())\n",
        "         new_df = pd.concat([new_df, df_wrds], axis=1)\n",
        "         new_df = new_df.drop(cols, axis=1)\n",
        "        #  break\n",
        "       except Exception as e:\n",
        "        print(cols)"
      ],
      "execution_count": 32,
      "outputs": []
    },
    {
      "cell_type": "code",
      "metadata": {
        "colab": {
          "base_uri": "https://localhost:8080/",
          "height": 253
        },
        "id": "CtN1tltCKxwf",
        "outputId": "d05b6b3f-3dd6-4c48-cd23-814b4157f722"
      },
      "source": [
        "new_df.head()"
      ],
      "execution_count": 33,
      "outputs": [
        {
          "output_type": "execute_result",
          "data": {
            "text/html": [
              "<div>\n",
              "<style scoped>\n",
              "    .dataframe tbody tr th:only-of-type {\n",
              "        vertical-align: middle;\n",
              "    }\n",
              "\n",
              "    .dataframe tbody tr th {\n",
              "        vertical-align: top;\n",
              "    }\n",
              "\n",
              "    .dataframe thead th {\n",
              "        text-align: right;\n",
              "    }\n",
              "</style>\n",
              "<table border=\"1\" class=\"dataframe\">\n",
              "  <thead>\n",
              "    <tr style=\"text-align: right;\">\n",
              "      <th></th>\n",
              "      <th>athletic</th>\n",
              "      <th>average</th>\n",
              "      <th>curvy</th>\n",
              "      <th>extra</th>\n",
              "      <th>figured</th>\n",
              "      <th>fit</th>\n",
              "      <th>full</th>\n",
              "      <th>jacked</th>\n",
              "      <th>little</th>\n",
              "      <th>not</th>\n",
              "      <th>overweight</th>\n",
              "      <th>rather</th>\n",
              "      <th>say</th>\n",
              "      <th>skinny</th>\n",
              "      <th>thin</th>\n",
              "      <th>up</th>\n",
              "      <th>used</th>\n",
              "      <th>anything</th>\n",
              "      <th>halal</th>\n",
              "      <th>kosher</th>\n",
              "      <th>mostly</th>\n",
              "      <th>other</th>\n",
              "      <th>strictly</th>\n",
              "      <th>vegan</th>\n",
              "      <th>vegetarian</th>\n",
              "      <th>all</th>\n",
              "      <th>at</th>\n",
              "      <th>desperately</th>\n",
              "      <th>not</th>\n",
              "      <th>often</th>\n",
              "      <th>rarely</th>\n",
              "      <th>socially</th>\n",
              "      <th>very</th>\n",
              "      <th>never</th>\n",
              "      <th>often</th>\n",
              "      <th>sometimes</th>\n",
              "      <th>camp</th>\n",
              "      <th>college</th>\n",
              "      <th>dropped</th>\n",
              "      <th>from</th>\n",
              "      <th>...</th>\n",
              "      <th>menlo</th>\n",
              "      <th>mill</th>\n",
              "      <th>millbrae</th>\n",
              "      <th>montara</th>\n",
              "      <th>moon</th>\n",
              "      <th>moraga</th>\n",
              "      <th>moss</th>\n",
              "      <th>mountain</th>\n",
              "      <th>new</th>\n",
              "      <th>novato</th>\n",
              "      <th>oakland</th>\n",
              "      <th>orinda</th>\n",
              "      <th>ozone</th>\n",
              "      <th>pablo</th>\n",
              "      <th>pacifica</th>\n",
              "      <th>palo</th>\n",
              "      <th>park</th>\n",
              "      <th>piedmont</th>\n",
              "      <th>pinole</th>\n",
              "      <th>pleasant</th>\n",
              "      <th>rafael</th>\n",
              "      <th>redwood</th>\n",
              "      <th>richmond</th>\n",
              "      <th>rodeo</th>\n",
              "      <th>rohnert</th>\n",
              "      <th>ross</th>\n",
              "      <th>san</th>\n",
              "      <th>sausalito</th>\n",
              "      <th>sobrante</th>\n",
              "      <th>south</th>\n",
              "      <th>stanford</th>\n",
              "      <th>stockton</th>\n",
              "      <th>tiburon</th>\n",
              "      <th>tucson</th>\n",
              "      <th>vallejo</th>\n",
              "      <th>valley</th>\n",
              "      <th>view</th>\n",
              "      <th>walnut</th>\n",
              "      <th>woodacre</th>\n",
              "      <th>york</th>\n",
              "    </tr>\n",
              "  </thead>\n",
              "  <tbody>\n",
              "    <tr>\n",
              "      <th>0</th>\n",
              "      <td>0</td>\n",
              "      <td>0</td>\n",
              "      <td>0</td>\n",
              "      <td>0</td>\n",
              "      <td>0</td>\n",
              "      <td>1</td>\n",
              "      <td>0</td>\n",
              "      <td>0</td>\n",
              "      <td>0</td>\n",
              "      <td>0</td>\n",
              "      <td>0</td>\n",
              "      <td>0</td>\n",
              "      <td>0</td>\n",
              "      <td>0</td>\n",
              "      <td>0</td>\n",
              "      <td>0</td>\n",
              "      <td>0</td>\n",
              "      <td>1</td>\n",
              "      <td>0</td>\n",
              "      <td>0</td>\n",
              "      <td>1</td>\n",
              "      <td>0</td>\n",
              "      <td>0</td>\n",
              "      <td>0</td>\n",
              "      <td>0</td>\n",
              "      <td>0</td>\n",
              "      <td>0</td>\n",
              "      <td>0</td>\n",
              "      <td>0</td>\n",
              "      <td>0</td>\n",
              "      <td>0</td>\n",
              "      <td>1</td>\n",
              "      <td>0</td>\n",
              "      <td>0</td>\n",
              "      <td>0</td>\n",
              "      <td>1</td>\n",
              "      <td>0</td>\n",
              "      <td>1</td>\n",
              "      <td>0</td>\n",
              "      <td>1</td>\n",
              "      <td>...</td>\n",
              "      <td>0</td>\n",
              "      <td>0</td>\n",
              "      <td>0</td>\n",
              "      <td>0</td>\n",
              "      <td>0</td>\n",
              "      <td>0</td>\n",
              "      <td>0</td>\n",
              "      <td>0</td>\n",
              "      <td>0</td>\n",
              "      <td>0</td>\n",
              "      <td>0</td>\n",
              "      <td>0</td>\n",
              "      <td>0</td>\n",
              "      <td>0</td>\n",
              "      <td>0</td>\n",
              "      <td>0</td>\n",
              "      <td>0</td>\n",
              "      <td>0</td>\n",
              "      <td>0</td>\n",
              "      <td>0</td>\n",
              "      <td>0</td>\n",
              "      <td>0</td>\n",
              "      <td>0</td>\n",
              "      <td>0</td>\n",
              "      <td>0</td>\n",
              "      <td>0</td>\n",
              "      <td>1</td>\n",
              "      <td>0</td>\n",
              "      <td>0</td>\n",
              "      <td>0</td>\n",
              "      <td>0</td>\n",
              "      <td>0</td>\n",
              "      <td>0</td>\n",
              "      <td>0</td>\n",
              "      <td>0</td>\n",
              "      <td>0</td>\n",
              "      <td>0</td>\n",
              "      <td>0</td>\n",
              "      <td>0</td>\n",
              "      <td>0</td>\n",
              "    </tr>\n",
              "    <tr>\n",
              "      <th>1</th>\n",
              "      <td>0</td>\n",
              "      <td>0</td>\n",
              "      <td>1</td>\n",
              "      <td>0</td>\n",
              "      <td>0</td>\n",
              "      <td>0</td>\n",
              "      <td>0</td>\n",
              "      <td>0</td>\n",
              "      <td>0</td>\n",
              "      <td>0</td>\n",
              "      <td>0</td>\n",
              "      <td>0</td>\n",
              "      <td>0</td>\n",
              "      <td>0</td>\n",
              "      <td>0</td>\n",
              "      <td>0</td>\n",
              "      <td>0</td>\n",
              "      <td>1</td>\n",
              "      <td>0</td>\n",
              "      <td>0</td>\n",
              "      <td>1</td>\n",
              "      <td>0</td>\n",
              "      <td>0</td>\n",
              "      <td>0</td>\n",
              "      <td>0</td>\n",
              "      <td>0</td>\n",
              "      <td>0</td>\n",
              "      <td>0</td>\n",
              "      <td>0</td>\n",
              "      <td>0</td>\n",
              "      <td>1</td>\n",
              "      <td>0</td>\n",
              "      <td>0</td>\n",
              "      <td>1</td>\n",
              "      <td>0</td>\n",
              "      <td>0</td>\n",
              "      <td>0</td>\n",
              "      <td>1</td>\n",
              "      <td>0</td>\n",
              "      <td>0</td>\n",
              "      <td>...</td>\n",
              "      <td>0</td>\n",
              "      <td>0</td>\n",
              "      <td>0</td>\n",
              "      <td>0</td>\n",
              "      <td>0</td>\n",
              "      <td>0</td>\n",
              "      <td>0</td>\n",
              "      <td>0</td>\n",
              "      <td>0</td>\n",
              "      <td>0</td>\n",
              "      <td>0</td>\n",
              "      <td>0</td>\n",
              "      <td>0</td>\n",
              "      <td>0</td>\n",
              "      <td>0</td>\n",
              "      <td>0</td>\n",
              "      <td>0</td>\n",
              "      <td>0</td>\n",
              "      <td>0</td>\n",
              "      <td>0</td>\n",
              "      <td>0</td>\n",
              "      <td>0</td>\n",
              "      <td>0</td>\n",
              "      <td>0</td>\n",
              "      <td>0</td>\n",
              "      <td>0</td>\n",
              "      <td>1</td>\n",
              "      <td>0</td>\n",
              "      <td>0</td>\n",
              "      <td>0</td>\n",
              "      <td>0</td>\n",
              "      <td>0</td>\n",
              "      <td>0</td>\n",
              "      <td>0</td>\n",
              "      <td>0</td>\n",
              "      <td>0</td>\n",
              "      <td>0</td>\n",
              "      <td>0</td>\n",
              "      <td>0</td>\n",
              "      <td>0</td>\n",
              "    </tr>\n",
              "    <tr>\n",
              "      <th>2</th>\n",
              "      <td>0</td>\n",
              "      <td>0</td>\n",
              "      <td>0</td>\n",
              "      <td>0</td>\n",
              "      <td>0</td>\n",
              "      <td>0</td>\n",
              "      <td>0</td>\n",
              "      <td>0</td>\n",
              "      <td>0</td>\n",
              "      <td>0</td>\n",
              "      <td>0</td>\n",
              "      <td>0</td>\n",
              "      <td>0</td>\n",
              "      <td>0</td>\n",
              "      <td>1</td>\n",
              "      <td>0</td>\n",
              "      <td>0</td>\n",
              "      <td>1</td>\n",
              "      <td>0</td>\n",
              "      <td>0</td>\n",
              "      <td>0</td>\n",
              "      <td>0</td>\n",
              "      <td>1</td>\n",
              "      <td>0</td>\n",
              "      <td>0</td>\n",
              "      <td>0</td>\n",
              "      <td>0</td>\n",
              "      <td>0</td>\n",
              "      <td>0</td>\n",
              "      <td>0</td>\n",
              "      <td>0</td>\n",
              "      <td>1</td>\n",
              "      <td>0</td>\n",
              "      <td>0</td>\n",
              "      <td>1</td>\n",
              "      <td>0</td>\n",
              "      <td>1</td>\n",
              "      <td>0</td>\n",
              "      <td>0</td>\n",
              "      <td>0</td>\n",
              "      <td>...</td>\n",
              "      <td>0</td>\n",
              "      <td>0</td>\n",
              "      <td>0</td>\n",
              "      <td>0</td>\n",
              "      <td>0</td>\n",
              "      <td>0</td>\n",
              "      <td>0</td>\n",
              "      <td>0</td>\n",
              "      <td>0</td>\n",
              "      <td>0</td>\n",
              "      <td>0</td>\n",
              "      <td>0</td>\n",
              "      <td>0</td>\n",
              "      <td>0</td>\n",
              "      <td>0</td>\n",
              "      <td>0</td>\n",
              "      <td>0</td>\n",
              "      <td>0</td>\n",
              "      <td>0</td>\n",
              "      <td>0</td>\n",
              "      <td>0</td>\n",
              "      <td>0</td>\n",
              "      <td>0</td>\n",
              "      <td>0</td>\n",
              "      <td>0</td>\n",
              "      <td>0</td>\n",
              "      <td>1</td>\n",
              "      <td>0</td>\n",
              "      <td>0</td>\n",
              "      <td>0</td>\n",
              "      <td>0</td>\n",
              "      <td>0</td>\n",
              "      <td>0</td>\n",
              "      <td>0</td>\n",
              "      <td>0</td>\n",
              "      <td>0</td>\n",
              "      <td>0</td>\n",
              "      <td>0</td>\n",
              "      <td>0</td>\n",
              "      <td>0</td>\n",
              "    </tr>\n",
              "    <tr>\n",
              "      <th>3</th>\n",
              "      <td>0</td>\n",
              "      <td>1</td>\n",
              "      <td>0</td>\n",
              "      <td>0</td>\n",
              "      <td>0</td>\n",
              "      <td>0</td>\n",
              "      <td>0</td>\n",
              "      <td>0</td>\n",
              "      <td>0</td>\n",
              "      <td>0</td>\n",
              "      <td>0</td>\n",
              "      <td>0</td>\n",
              "      <td>0</td>\n",
              "      <td>0</td>\n",
              "      <td>0</td>\n",
              "      <td>0</td>\n",
              "      <td>0</td>\n",
              "      <td>1</td>\n",
              "      <td>0</td>\n",
              "      <td>0</td>\n",
              "      <td>1</td>\n",
              "      <td>0</td>\n",
              "      <td>0</td>\n",
              "      <td>0</td>\n",
              "      <td>0</td>\n",
              "      <td>0</td>\n",
              "      <td>0</td>\n",
              "      <td>0</td>\n",
              "      <td>0</td>\n",
              "      <td>1</td>\n",
              "      <td>0</td>\n",
              "      <td>0</td>\n",
              "      <td>0</td>\n",
              "      <td>1</td>\n",
              "      <td>0</td>\n",
              "      <td>0</td>\n",
              "      <td>0</td>\n",
              "      <td>1</td>\n",
              "      <td>0</td>\n",
              "      <td>0</td>\n",
              "      <td>...</td>\n",
              "      <td>0</td>\n",
              "      <td>0</td>\n",
              "      <td>0</td>\n",
              "      <td>0</td>\n",
              "      <td>0</td>\n",
              "      <td>0</td>\n",
              "      <td>0</td>\n",
              "      <td>0</td>\n",
              "      <td>0</td>\n",
              "      <td>0</td>\n",
              "      <td>0</td>\n",
              "      <td>0</td>\n",
              "      <td>0</td>\n",
              "      <td>0</td>\n",
              "      <td>0</td>\n",
              "      <td>0</td>\n",
              "      <td>0</td>\n",
              "      <td>0</td>\n",
              "      <td>0</td>\n",
              "      <td>0</td>\n",
              "      <td>0</td>\n",
              "      <td>0</td>\n",
              "      <td>0</td>\n",
              "      <td>0</td>\n",
              "      <td>0</td>\n",
              "      <td>0</td>\n",
              "      <td>0</td>\n",
              "      <td>0</td>\n",
              "      <td>0</td>\n",
              "      <td>0</td>\n",
              "      <td>0</td>\n",
              "      <td>0</td>\n",
              "      <td>0</td>\n",
              "      <td>0</td>\n",
              "      <td>0</td>\n",
              "      <td>0</td>\n",
              "      <td>0</td>\n",
              "      <td>0</td>\n",
              "      <td>0</td>\n",
              "      <td>0</td>\n",
              "    </tr>\n",
              "    <tr>\n",
              "      <th>4</th>\n",
              "      <td>0</td>\n",
              "      <td>0</td>\n",
              "      <td>1</td>\n",
              "      <td>0</td>\n",
              "      <td>0</td>\n",
              "      <td>0</td>\n",
              "      <td>0</td>\n",
              "      <td>0</td>\n",
              "      <td>0</td>\n",
              "      <td>0</td>\n",
              "      <td>0</td>\n",
              "      <td>0</td>\n",
              "      <td>0</td>\n",
              "      <td>0</td>\n",
              "      <td>0</td>\n",
              "      <td>0</td>\n",
              "      <td>0</td>\n",
              "      <td>1</td>\n",
              "      <td>0</td>\n",
              "      <td>0</td>\n",
              "      <td>1</td>\n",
              "      <td>0</td>\n",
              "      <td>0</td>\n",
              "      <td>0</td>\n",
              "      <td>0</td>\n",
              "      <td>0</td>\n",
              "      <td>0</td>\n",
              "      <td>0</td>\n",
              "      <td>0</td>\n",
              "      <td>0</td>\n",
              "      <td>0</td>\n",
              "      <td>1</td>\n",
              "      <td>0</td>\n",
              "      <td>1</td>\n",
              "      <td>0</td>\n",
              "      <td>0</td>\n",
              "      <td>0</td>\n",
              "      <td>1</td>\n",
              "      <td>0</td>\n",
              "      <td>0</td>\n",
              "      <td>...</td>\n",
              "      <td>0</td>\n",
              "      <td>0</td>\n",
              "      <td>0</td>\n",
              "      <td>0</td>\n",
              "      <td>0</td>\n",
              "      <td>0</td>\n",
              "      <td>0</td>\n",
              "      <td>0</td>\n",
              "      <td>0</td>\n",
              "      <td>0</td>\n",
              "      <td>0</td>\n",
              "      <td>0</td>\n",
              "      <td>0</td>\n",
              "      <td>0</td>\n",
              "      <td>0</td>\n",
              "      <td>0</td>\n",
              "      <td>0</td>\n",
              "      <td>0</td>\n",
              "      <td>0</td>\n",
              "      <td>0</td>\n",
              "      <td>0</td>\n",
              "      <td>0</td>\n",
              "      <td>0</td>\n",
              "      <td>0</td>\n",
              "      <td>0</td>\n",
              "      <td>0</td>\n",
              "      <td>0</td>\n",
              "      <td>0</td>\n",
              "      <td>0</td>\n",
              "      <td>0</td>\n",
              "      <td>0</td>\n",
              "      <td>0</td>\n",
              "      <td>0</td>\n",
              "      <td>0</td>\n",
              "      <td>0</td>\n",
              "      <td>0</td>\n",
              "      <td>0</td>\n",
              "      <td>0</td>\n",
              "      <td>0</td>\n",
              "      <td>0</td>\n",
              "    </tr>\n",
              "  </tbody>\n",
              "</table>\n",
              "<p>5 rows × 231 columns</p>\n",
              "</div>"
            ],
            "text/plain": [
              "   athletic  average  curvy  extra  ...  view  walnut  woodacre  york\n",
              "0         0        0      0      0  ...     0       0         0     0\n",
              "1         0        0      1      0  ...     0       0         0     0\n",
              "2         0        0      0      0  ...     0       0         0     0\n",
              "3         0        1      0      0  ...     0       0         0     0\n",
              "4         0        0      1      0  ...     0       0         0     0\n",
              "\n",
              "[5 rows x 231 columns]"
            ]
          },
          "metadata": {
            "tags": []
          },
          "execution_count": 33
        }
      ]
    },
    {
      "cell_type": "code",
      "metadata": {
        "colab": {
          "base_uri": "https://localhost:8080/"
        },
        "id": "YNfgNBdbcfRQ",
        "outputId": "b5f141fe-c76b-49c4-98e0-64aead237fee"
      },
      "source": [
        "new_df.shape"
      ],
      "execution_count": 34,
      "outputs": [
        {
          "output_type": "execute_result",
          "data": {
            "text/plain": [
              "(1424, 231)"
            ]
          },
          "metadata": {
            "tags": []
          },
          "execution_count": 34
        }
      ]
    },
    {
      "cell_type": "markdown",
      "metadata": {
        "id": "XwgFAb7-iJ8w"
      },
      "source": [
        "----"
      ]
    },
    {
      "cell_type": "markdown",
      "metadata": {
        "id": "BR5BmZcviK_2"
      },
      "source": [
        "Standardization and PCA:"
      ]
    },
    {
      "cell_type": "code",
      "metadata": {
        "id": "5_nQyjh_naUi"
      },
      "source": [
        "from sklearn.preprocessing import MinMaxScaler\n",
        "scaler = MinMaxScaler()\n",
        "\n",
        "vect_df = pd.DataFrame(scaler.fit_transform(new_df), index=new_df.index, columns=new_df.columns)"
      ],
      "execution_count": 35,
      "outputs": []
    },
    {
      "cell_type": "code",
      "metadata": {
        "colab": {
          "base_uri": "https://localhost:8080/",
          "height": 296
        },
        "id": "V1x4BdlqJdMJ",
        "outputId": "20e8f256-4ae0-4bda-c8d2-f9195c990b24"
      },
      "source": [
        "from sklearn.decomposition import PCA\n",
        "\n",
        "# Instantiating PCA\n",
        "pca = PCA()\n",
        "\n",
        "# Fitting and Transforming the DF\n",
        "df_pca = pca.fit_transform(vect_df)\n",
        "\n",
        "# Plotting to determine how many features should the dataset be reduced to\n",
        "plt.style.use(\"bmh\")\n",
        "plt.figure(figsize=(14,4))\n",
        "plt.plot(range(1,new_df.shape[1]+1), pca.explained_variance_ratio_.cumsum())\n",
        "plt.show()\n",
        "\n",
        "# Finding the exact number of features that explain at least 95% of the variance in the dataset\n",
        "total_explained_variance = pca.explained_variance_ratio_.cumsum()\n",
        "n_over_95 = len(total_explained_variance[total_explained_variance>=.95])\n",
        "n_to_reach_95 = new_df.shape[1] - n_over_95\n",
        "\n",
        "print(f\"Number features: {n_to_reach_95}\\nTotal Variance Explained: {total_explained_variance[n_to_reach_95]}\")"
      ],
      "execution_count": 36,
      "outputs": [
        {
          "output_type": "display_data",
          "data": {
            "image/png": "[encoded data removed]",
            "text/plain": [
              "<Figure size 1008x288 with 1 Axes>"
            ]
          },
          "metadata": {
            "tags": [],
            "needs_background": "light"
          }
        },
        {
          "output_type": "stream",
          "text": [
            "Number features: 70\n",
            "Total Variance Explained: 0.9507685163008079\n"
          ],
          "name": "stdout"
        }
      ]
    },
    {
      "cell_type": "code",
      "metadata": {
        "colab": {
          "base_uri": "https://localhost:8080/"
        },
        "id": "dvzbG_RIXOg5",
        "outputId": "7a11961e-d896-49c4-d670-98439082dde8"
      },
      "source": [
        "# Instantiating PCA\n",
        "pca = PCA()\n",
        "\n",
        "# Fitting and Transforming the DF\n",
        "df_pca = pca.fit_transform(vect_df)\n",
        "\n",
        "# Finding the exact number of features that explain at least 99% of the variance in the dataset\n",
        "total_explained_variance = pca.explained_variance_ratio_.cumsum()\n",
        "n_over_9 = len(total_explained_variance[total_explained_variance>=.99])\n",
        "n_to_reach_9 = vect_df.shape[1] - n_over_9\n",
        "\n",
        "print(\"PCA reduces the # of features from\", vect_df.shape[1], 'to', n_to_reach_9)\n",
        "\n",
        "# Reducing the dataset to the number of features determined before\n",
        "pca = PCA(n_components=n_to_reach_9)\n",
        "\n",
        "# Fitting and transforming the dataset to the stated number of features\n",
        "df_pca = pca.fit_transform(vect_df)\n",
        "\n",
        "# Seeing the variance ratio that still remains after the dataset has been reduced\n",
        "pca.explained_variance_ratio_.cumsum()[-1]"
      ],
      "execution_count": 37,
      "outputs": [
        {
          "output_type": "stream",
          "text": [
            "PCA reduces the # of features from 231 to 106\n"
          ],
          "name": "stdout"
        },
        {
          "output_type": "execute_result",
          "data": {
            "text/plain": [
              "0.9899836477906552"
            ]
          },
          "metadata": {
            "tags": []
          },
          "execution_count": 37
        }
      ]
    },
    {
      "cell_type": "markdown",
      "metadata": {
        "id": "yuidsDr7iTg_"
      },
      "source": [
        "----"
      ]
    },
    {
      "cell_type": "markdown",
      "metadata": {
        "id": "9FQ3u3OLiUmI"
      },
      "source": [
        "Hierarchical Agglomerative Clustering:"
      ]
    },
    {
      "cell_type": "code",
      "metadata": {
        "id": "xqrabRlnpdPT"
      },
      "source": [
        "# from tqdm import tqdm_notebook as tqdm\n",
        "from tqdm.notebook import tqdm\n",
        "from sklearn.cluster import AgglomerativeClustering, KMeans\n",
        "from sklearn.metrics import calinski_harabasz_score, silhouette_score, davies_bouldin_score\n",
        "from sklearn.preprocessing import MinMaxScaler"
      ],
      "execution_count": 38,
      "outputs": []
    },
    {
      "cell_type": "code",
      "metadata": {
        "colab": {
          "base_uri": "https://localhost:8080/",
          "height": 66,
          "referenced_widgets": [
            "d73d2d5fcfe74e3aab704ff2963eb5e8",
            "111a313fcbfd47c78d206a36e8e0af76",
            "32b8f6cf5f7d44118acd2dfc4f889a4a",
            "4747969521d6478fa3e17d16c478dd96",
            "c5e9eafc74e64d41bdeffc5b3a869260",
            "93325d513fa947a8a7862dd85921349d",
            "8debcd138bf841d5b8f569b98a17f73e",
            "f542f53674a54685bbc95e7f8cf4a46f"
          ]
        },
        "id": "22wBijA0oykp",
        "outputId": "42844408-6f60-4168-c34e-4c97f2acf8d1"
      },
      "source": [
        "# Setting the amount of clusters to test out\n",
        "cluster_cnt = [i for i in range(2, 11, 1)]\n",
        "\n",
        "# Establishing empty lists to store the scores for the evaluation metrics\n",
        "ch_scores = []\n",
        "\n",
        "s_scores = []\n",
        "\n",
        "db_scores = []\n",
        "\n",
        "# The DF for evaluation\n",
        "eval_df = df_pca\n",
        "\n",
        "# Looping through different iterations for the number of clusters\n",
        "for i in tqdm(cluster_cnt):\n",
        "    \n",
        "    # Clustering with different number of clusters\n",
        "    clust = AgglomerativeClustering(n_clusters=i, linkage='complete')\n",
        "    \n",
        "    clust.fit(eval_df)\n",
        "    \n",
        "    cluster_assignments = clust.labels_\n",
        "    \n",
        "    # Appending the scores to the empty lists\n",
        "    ch_scores.append(calinski_harabasz_score(eval_df, cluster_assignments))\n",
        "    \n",
        "    s_scores.append(silhouette_score(eval_df, cluster_assignments))\n",
        "    \n",
        "    db_scores.append(davies_bouldin_score(eval_df, cluster_assignments))"
      ],
      "execution_count": 39,
      "outputs": [
        {
          "output_type": "display_data",
          "data": {
            "application/vnd.jupyter.widget-view+json": {
              "model_id": "d73d2d5fcfe74e3aab704ff2963eb5e8",
              "version_minor": 0,
              "version_major": 2
            },
            "text/plain": [
              "HBox(children=(FloatProgress(value=0.0, max=9.0), HTML(value='')))"
            ]
          },
          "metadata": {
            "tags": []
          }
        },
        {
          "output_type": "stream",
          "text": [
            "\n"
          ],
          "name": "stdout"
        }
      ]
    },
    {
      "cell_type": "code",
      "metadata": {
        "id": "wdAqwiwfo1pg"
      },
      "source": [
        "def cluster_eval(y, x):\n",
        "    \"\"\"\n",
        "    Prints the scores of a set evaluation metric. Prints out the max and min values of the evaluation scores.\n",
        "    \"\"\"\n",
        "    \n",
        "    # Creating a DataFrame for returning the max and min scores for each cluster\n",
        "    df = pd.DataFrame(columns=['Cluster Score'], index=[i for i in range(2, len(y)+2)])\n",
        "    df['Cluster Score'] = y\n",
        "    \n",
        "    print('Max Value:\\nCluster #', df[df['Cluster Score']==df['Cluster Score'].max()])\n",
        "    print('\\nMin Value:\\nCluster #', df[df['Cluster Score']==df['Cluster Score'].min()])\n",
        "    \n",
        "    # Plotting out the scores based on cluster count\n",
        "    plt.figure(figsize=(16,6))\n",
        "    plt.style.use('bmh')\n",
        "    plt.plot(x,y)\n",
        "    plt.xlabel('# of Clusters')\n",
        "    plt.ylabel('Score')\n",
        "    plt.show()"
      ],
      "execution_count": 40,
      "outputs": []
    },
    {
      "cell_type": "code",
      "metadata": {
        "colab": {
          "base_uri": "https://localhost:8080/",
          "height": 1000
        },
        "id": "sc8nvIaMrZUZ",
        "outputId": "39edc203-5dce-477d-ece9-87eaafd7ae76"
      },
      "source": [
        "print(\"The Calinski-Harabasz Score (find max score):\")\n",
        "cluster_eval(ch_scores, cluster_cnt)\n",
        "\n",
        "print(\"\\nThe Silhouette Coefficient Score (find max score):\")\n",
        "cluster_eval(s_scores, cluster_cnt)\n",
        "\n",
        "print(\"\\nThe Davies-Bouldin Score (find minimum score):\")\n",
        "cluster_eval(db_scores, cluster_cnt)"
      ],
      "execution_count": 41,
      "outputs": [
        {
          "output_type": "stream",
          "text": [
            "The Calinski-Harabasz Score (find max score):\n",
            "Max Value:\n",
            "Cluster #    Cluster Score\n",
            "4      37.757295\n",
            "\n",
            "Min Value:\n",
            "Cluster #    Cluster Score\n",
            "3      23.546282\n"
          ],
          "name": "stdout"
        },
        {
          "output_type": "display_data",
          "data": {
            "image/png": "[encoded data removed]",
            "text/plain": [
              "<Figure size 1152x432 with 1 Axes>"
            ]
          },
          "metadata": {
            "tags": [],
            "needs_background": "light"
          }
        },
        {
          "output_type": "stream",
          "text": [
            "\n",
            "The Silhouette Coefficient Score (find max score):\n",
            "Max Value:\n",
            "Cluster #    Cluster Score\n",
            "2        0.07273\n",
            "\n",
            "Min Value:\n",
            "Cluster #     Cluster Score\n",
            "10       0.028581\n"
          ],
          "name": "stdout"
        },
        {
          "output_type": "display_data",
          "data": {
            "image/png": "[encoded data removed]",
            "text/plain": [
              "<Figure size 1152x432 with 1 Axes>"
            ]
          },
          "metadata": {
            "tags": [],
            "needs_background": "light"
          }
        },
        {
          "output_type": "stream",
          "text": [
            "\n",
            "The Davies-Bouldin Score (find minimum score):\n",
            "Max Value:\n",
            "Cluster #    Cluster Score\n",
            "2       4.021985\n",
            "\n",
            "Min Value:\n",
            "Cluster #    Cluster Score\n",
            "8       2.934338\n"
          ],
          "name": "stdout"
        },
        {
          "output_type": "display_data",
          "data": {
            "image/png": "[encoded data removed]",
            "text/plain": [
              "<Figure size 1152x432 with 1 Axes>"
            ]
          },
          "metadata": {
            "tags": [],
            "needs_background": "light"
          }
        }
      ]
    },
    {
      "cell_type": "code",
      "metadata": {
        "id": "Dv5qHtQhrcws"
      },
      "source": [
        "# Instantiating HAC based on the optimum number of clusters found\n",
        "hac = AgglomerativeClustering(n_clusters=5, linkage='complete')\n",
        "\n",
        "# Fitting\n",
        "hac.fit(df_pca)\n",
        "\n",
        "# Getting cluster assignments\n",
        "cluster_assignments = hac.labels_\n",
        "\n",
        "# Assigning the clusters to each profile\n",
        "asd['Cluster #'] = cluster_assignments\n",
        "\n",
        "vect_df['Cluster #'] = cluster_assignments"
      ],
      "execution_count": 42,
      "outputs": []
    },
    {
      "cell_type": "markdown",
      "metadata": {
        "id": "CQBbfA9gjrkf"
      },
      "source": [
        "----"
      ]
    },
    {
      "cell_type": "markdown",
      "metadata": {
        "id": "WyrA5eBrjs3S"
      },
      "source": [
        "Cluster column representing data points in the respective cluster."
      ]
    },
    {
      "cell_type": "code",
      "metadata": {
        "colab": {
          "base_uri": "https://localhost:8080/"
        },
        "id": "YBi4QWh4tHR-",
        "outputId": "c7b60fc2-69ea-4e99-e9e1-41eba9e6fa2f"
      },
      "source": [
        "asd['Cluster #']"
      ],
      "execution_count": 44,
      "outputs": [
        {
          "output_type": "execute_result",
          "data": {
            "text/plain": [
              "0       1\n",
              "1       0\n",
              "2       1\n",
              "3       3\n",
              "4       0\n",
              "       ..\n",
              "1419    0\n",
              "1420    0\n",
              "1421    3\n",
              "1422    3\n",
              "1423    1\n",
              "Name: Cluster #, Length: 1424, dtype: int64"
            ]
          },
          "metadata": {
            "tags": []
          },
          "execution_count": 44
        }
      ]
    },
    {
      "cell_type": "code",
      "metadata": {
        "id": "cWpeMHrXJDqr"
      },
      "source": [
        ""
      ],
      "execution_count": 44,
      "outputs": []
    }
  ]
}