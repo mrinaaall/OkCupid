{
  "nbformat": 4,
  "nbformat_minor": 0,
  "metadata": {
    "colab": {
      "name": "OkCupid.ipynb",
      "provenance": [],
      "collapsed_sections": [],
      "mount_file_id": "1BPbGjnoAwkBCpfF0hv5JuB_OrpVjXd-G",
      "authorship_tag": "ABX9TyMn7n4ainnO2rkk+RezgTT2",
      "include_colab_link": true
    },
    "kernelspec": {
      "name": "python3",
      "display_name": "Python 3"
    }
  },
  "cells": [
    {
      "cell_type": "markdown",
      "metadata": {
        "id": "view-in-github",
        "colab_type": "text"
      },
      "source": [
        "<a href=\"https://colab.research.google.com/github/mrinaaall/OkCupid/blob/main/OkCupid.ipynb\" target=\"_parent\"><img src=\"https://colab.research.google.com/assets/colab-badge.svg\" alt=\"Open In Colab\"/></a>"
      ]
    },
    {
      "cell_type": "code",
      "metadata": {
        "colab": {
          "base_uri": "https://localhost:8080/"
        },
        "id": "jEqb8cV-Bbrb",
        "outputId": "5fc1f27c-96a8-486f-c3fe-c4d2989fe16c"
      },
      "source": [
        "!pip install kmodes"
      ],
      "execution_count": 1,
      "outputs": [
        {
          "output_type": "stream",
          "text": [
            "Collecting kmodes\n",
            "  Downloading https://files.pythonhosted.org/packages/b2/55/d8ec1ae1f7e1e202a8a4184c6852a3ee993b202b0459672c699d0ac18fc8/kmodes-0.10.2-py2.py3-none-any.whl\n",
            "Requirement already satisfied: scikit-learn>=0.19.0 in /usr/local/lib/python3.6/dist-packages (from kmodes) (0.22.2.post1)\n",
            "Requirement already satisfied: numpy>=1.10.4 in /usr/local/lib/python3.6/dist-packages (from kmodes) (1.19.5)\n",
            "Requirement already satisfied: joblib>=0.11 in /usr/local/lib/python3.6/dist-packages (from kmodes) (1.0.0)\n",
            "Requirement already satisfied: scipy>=0.13.3 in /usr/local/lib/python3.6/dist-packages (from kmodes) (1.4.1)\n",
            "Installing collected packages: kmodes\n",
            "Successfully installed kmodes-0.10.2\n"
          ],
          "name": "stdout"
        }
      ]
    },
    {
      "cell_type": "code",
      "metadata": {
        "id": "QyHtTEal0pQE"
      },
      "source": [
        "import pandas as pd\n",
        "import numpy as np\n",
        "import matplotlib.pyplot as plt\n",
        "import plotly.express as px\n",
        "import datetime\n",
        "from sklearn.cluster import KMeans\n",
        "from kmodes.kprototypes import KPrototypes"
      ],
      "execution_count": 2,
      "outputs": []
    },
    {
      "cell_type": "code",
      "metadata": {
        "id": "NshEuVM005lw"
      },
      "source": [
        "missing_values = [\"n/a\", \"na\", \"--\", '-1', \"NaN\"]\n",
        "profile_data = pd.read_csv('/content/drive/MyDrive/profiles.csv', encoding = 'utf8', na_values = missing_values)"
      ],
      "execution_count": 3,
      "outputs": []
    },
    {
      "cell_type": "code",
      "metadata": {
        "id": "XZ5UfXWv4j9T",
        "colab": {
          "base_uri": "https://localhost:8080/"
        },
        "outputId": "88ac40f5-116b-4323-955c-7a6e8d18b0a7"
      },
      "source": [
        "profile_data.columns"
      ],
      "execution_count": 4,
      "outputs": [
        {
          "output_type": "execute_result",
          "data": {
            "text/plain": [
              "Index(['age', 'body_type', 'diet', 'drinks', 'drugs', 'education', 'essay0',\n",
              "       'essay1', 'essay2', 'essay3', 'essay4', 'essay5', 'essay6', 'essay7',\n",
              "       'essay8', 'essay9', 'ethnicity', 'height', 'income', 'job',\n",
              "       'last_online', 'location', 'offspring', 'orientation', 'pets',\n",
              "       'religion', 'sex', 'sign', 'smokes', 'speaks', 'status'],\n",
              "      dtype='object')"
            ]
          },
          "metadata": {
            "tags": []
          },
          "execution_count": 4
        }
      ]
    },
    {
      "cell_type": "code",
      "metadata": {
        "colab": {
          "base_uri": "https://localhost:8080/",
          "height": 717
        },
        "id": "WeW3oflBQTe0",
        "outputId": "81facb84-aef5-446b-e31c-4e2789ead675"
      },
      "source": [
        "profile_data.head()"
      ],
      "execution_count": 6,
      "outputs": [
        {
          "output_type": "execute_result",
          "data": {
            "text/html": [
              "<div>\n",
              "<style scoped>\n",
              "    .dataframe tbody tr th:only-of-type {\n",
              "        vertical-align: middle;\n",
              "    }\n",
              "\n",
              "    .dataframe tbody tr th {\n",
              "        vertical-align: top;\n",
              "    }\n",
              "\n",
              "    .dataframe thead th {\n",
              "        text-align: right;\n",
              "    }\n",
              "</style>\n",
              "<table border=\"1\" class=\"dataframe\">\n",
              "  <thead>\n",
              "    <tr style=\"text-align: right;\">\n",
              "      <th></th>\n",
              "      <th>age</th>\n",
              "      <th>body_type</th>\n",
              "      <th>diet</th>\n",
              "      <th>drinks</th>\n",
              "      <th>drugs</th>\n",
              "      <th>education</th>\n",
              "      <th>essay0</th>\n",
              "      <th>essay1</th>\n",
              "      <th>essay2</th>\n",
              "      <th>essay3</th>\n",
              "      <th>essay4</th>\n",
              "      <th>essay5</th>\n",
              "      <th>essay6</th>\n",
              "      <th>essay7</th>\n",
              "      <th>essay8</th>\n",
              "      <th>essay9</th>\n",
              "      <th>ethnicity</th>\n",
              "      <th>height</th>\n",
              "      <th>income</th>\n",
              "      <th>job</th>\n",
              "      <th>last_online</th>\n",
              "      <th>location</th>\n",
              "      <th>offspring</th>\n",
              "      <th>orientation</th>\n",
              "      <th>pets</th>\n",
              "      <th>religion</th>\n",
              "      <th>sex</th>\n",
              "      <th>sign</th>\n",
              "      <th>smokes</th>\n",
              "      <th>speaks</th>\n",
              "      <th>status</th>\n",
              "    </tr>\n",
              "  </thead>\n",
              "  <tbody>\n",
              "    <tr>\n",
              "      <th>0</th>\n",
              "      <td>22</td>\n",
              "      <td>a little extra</td>\n",
              "      <td>strictly anything</td>\n",
              "      <td>socially</td>\n",
              "      <td>never</td>\n",
              "      <td>working on college/university</td>\n",
              "      <td>about me:&lt;br /&gt;\\n&lt;br /&gt;\\ni would love to think...</td>\n",
              "      <td>currently working as an international agent fo...</td>\n",
              "      <td>making people laugh.&lt;br /&gt;\\nranting about a go...</td>\n",
              "      <td>the way i look. i am a six foot half asian, ha...</td>\n",
              "      <td>books:&lt;br /&gt;\\nabsurdistan, the republic, of mi...</td>\n",
              "      <td>food.&lt;br /&gt;\\nwater.&lt;br /&gt;\\ncell phone.&lt;br /&gt;\\n...</td>\n",
              "      <td>duality and humorous things</td>\n",
              "      <td>trying to find someone to hang out with. i am ...</td>\n",
              "      <td>i am new to california and looking for someone...</td>\n",
              "      <td>you want to be swept off your feet!&lt;br /&gt;\\nyou...</td>\n",
              "      <td>asian, white</td>\n",
              "      <td>75.0</td>\n",
              "      <td>NaN</td>\n",
              "      <td>transportation</td>\n",
              "      <td>2012-06-28-20-30</td>\n",
              "      <td>south san francisco, california</td>\n",
              "      <td>doesn&amp;rsquo;t have kids, but might want them</td>\n",
              "      <td>straight</td>\n",
              "      <td>likes dogs and likes cats</td>\n",
              "      <td>agnosticism and very serious about it</td>\n",
              "      <td>m</td>\n",
              "      <td>gemini</td>\n",
              "      <td>sometimes</td>\n",
              "      <td>english</td>\n",
              "      <td>single</td>\n",
              "    </tr>\n",
              "    <tr>\n",
              "      <th>1</th>\n",
              "      <td>35</td>\n",
              "      <td>average</td>\n",
              "      <td>mostly other</td>\n",
              "      <td>often</td>\n",
              "      <td>sometimes</td>\n",
              "      <td>working on space camp</td>\n",
              "      <td>i am a chef: this is what that means.&lt;br /&gt;\\n1...</td>\n",
              "      <td>dedicating everyday to being an unbelievable b...</td>\n",
              "      <td>being silly. having ridiculous amonts of fun w...</td>\n",
              "      <td>NaN</td>\n",
              "      <td>i am die hard christopher moore fan. i don't r...</td>\n",
              "      <td>delicious porkness in all of its glories.&lt;br /...</td>\n",
              "      <td>NaN</td>\n",
              "      <td>NaN</td>\n",
              "      <td>i am very open and will share just about anyth...</td>\n",
              "      <td>NaN</td>\n",
              "      <td>white</td>\n",
              "      <td>70.0</td>\n",
              "      <td>80000.0</td>\n",
              "      <td>hospitality / travel</td>\n",
              "      <td>2012-06-29-21-41</td>\n",
              "      <td>oakland, california</td>\n",
              "      <td>doesn&amp;rsquo;t have kids, but might want them</td>\n",
              "      <td>straight</td>\n",
              "      <td>likes dogs and likes cats</td>\n",
              "      <td>agnosticism but not too serious about it</td>\n",
              "      <td>m</td>\n",
              "      <td>cancer</td>\n",
              "      <td>no</td>\n",
              "      <td>english (fluently), spanish (poorly), french (...</td>\n",
              "      <td>single</td>\n",
              "    </tr>\n",
              "    <tr>\n",
              "      <th>2</th>\n",
              "      <td>38</td>\n",
              "      <td>thin</td>\n",
              "      <td>anything</td>\n",
              "      <td>socially</td>\n",
              "      <td>NaN</td>\n",
              "      <td>graduated from masters program</td>\n",
              "      <td>i'm not ashamed of much, but writing public te...</td>\n",
              "      <td>i make nerdy software for musicians, artists, ...</td>\n",
              "      <td>improvising in different contexts. alternating...</td>\n",
              "      <td>my large jaw and large glasses are the physica...</td>\n",
              "      <td>okay this is where the cultural matrix gets so...</td>\n",
              "      <td>movement&lt;br /&gt;\\nconversation&lt;br /&gt;\\ncreation&lt;b...</td>\n",
              "      <td>NaN</td>\n",
              "      <td>viewing. listening. dancing. talking. drinking...</td>\n",
              "      <td>when i was five years old, i was known as \"the...</td>\n",
              "      <td>you are bright, open, intense, silly, ironic, ...</td>\n",
              "      <td>NaN</td>\n",
              "      <td>68.0</td>\n",
              "      <td>NaN</td>\n",
              "      <td>NaN</td>\n",
              "      <td>2012-06-27-09-10</td>\n",
              "      <td>san francisco, california</td>\n",
              "      <td>NaN</td>\n",
              "      <td>straight</td>\n",
              "      <td>has cats</td>\n",
              "      <td>NaN</td>\n",
              "      <td>m</td>\n",
              "      <td>pisces but it doesn&amp;rsquo;t matter</td>\n",
              "      <td>no</td>\n",
              "      <td>english, french, c++</td>\n",
              "      <td>available</td>\n",
              "    </tr>\n",
              "    <tr>\n",
              "      <th>3</th>\n",
              "      <td>23</td>\n",
              "      <td>thin</td>\n",
              "      <td>vegetarian</td>\n",
              "      <td>socially</td>\n",
              "      <td>NaN</td>\n",
              "      <td>working on college/university</td>\n",
              "      <td>i work in a library and go to school. . .</td>\n",
              "      <td>reading things written by old dead people</td>\n",
              "      <td>playing synthesizers and organizing books acco...</td>\n",
              "      <td>socially awkward but i do my best</td>\n",
              "      <td>bataille, celine, beckett. . .&lt;br /&gt;\\nlynch, j...</td>\n",
              "      <td>NaN</td>\n",
              "      <td>cats and german philosophy</td>\n",
              "      <td>NaN</td>\n",
              "      <td>NaN</td>\n",
              "      <td>you feel so inclined.</td>\n",
              "      <td>white</td>\n",
              "      <td>71.0</td>\n",
              "      <td>20000.0</td>\n",
              "      <td>student</td>\n",
              "      <td>2012-06-28-14-22</td>\n",
              "      <td>berkeley, california</td>\n",
              "      <td>doesn&amp;rsquo;t want kids</td>\n",
              "      <td>straight</td>\n",
              "      <td>likes cats</td>\n",
              "      <td>NaN</td>\n",
              "      <td>m</td>\n",
              "      <td>pisces</td>\n",
              "      <td>no</td>\n",
              "      <td>english, german (poorly)</td>\n",
              "      <td>single</td>\n",
              "    </tr>\n",
              "    <tr>\n",
              "      <th>4</th>\n",
              "      <td>29</td>\n",
              "      <td>athletic</td>\n",
              "      <td>NaN</td>\n",
              "      <td>socially</td>\n",
              "      <td>never</td>\n",
              "      <td>graduated from college/university</td>\n",
              "      <td>hey how's it going? currently vague on the pro...</td>\n",
              "      <td>work work work work + play</td>\n",
              "      <td>creating imagery to look at:&lt;br /&gt;\\nhttp://bag...</td>\n",
              "      <td>i smile a lot and my inquisitive nature</td>\n",
              "      <td>music: bands, rappers, musicians&lt;br /&gt;\\nat the...</td>\n",
              "      <td>NaN</td>\n",
              "      <td>NaN</td>\n",
              "      <td>NaN</td>\n",
              "      <td>NaN</td>\n",
              "      <td>NaN</td>\n",
              "      <td>asian, black, other</td>\n",
              "      <td>66.0</td>\n",
              "      <td>NaN</td>\n",
              "      <td>artistic / musical / writer</td>\n",
              "      <td>2012-06-27-21-26</td>\n",
              "      <td>san francisco, california</td>\n",
              "      <td>NaN</td>\n",
              "      <td>straight</td>\n",
              "      <td>likes dogs and likes cats</td>\n",
              "      <td>NaN</td>\n",
              "      <td>m</td>\n",
              "      <td>aquarius</td>\n",
              "      <td>no</td>\n",
              "      <td>english</td>\n",
              "      <td>single</td>\n",
              "    </tr>\n",
              "  </tbody>\n",
              "</table>\n",
              "</div>"
            ],
            "text/plain": [
              "   age  ...     status\n",
              "0   22  ...     single\n",
              "1   35  ...     single\n",
              "2   38  ...  available\n",
              "3   23  ...     single\n",
              "4   29  ...     single\n",
              "\n",
              "[5 rows x 31 columns]"
            ]
          },
          "metadata": {
            "tags": []
          },
          "execution_count": 6
        }
      ]
    },
    {
      "cell_type": "code",
      "metadata": {
        "id": "8NuYhDPJMb2C"
      },
      "source": [
        "# Eliminating the Chained Assignment error.\n",
        "pd.set_option('mode.chained_assignment', None)"
      ],
      "execution_count": 5,
      "outputs": []
    },
    {
      "cell_type": "code",
      "metadata": {
        "id": "3Ik0EiEUsOxp"
      },
      "source": [
        "profile_data = profile_data.dropna()"
      ],
      "execution_count": 7,
      "outputs": []
    },
    {
      "cell_type": "markdown",
      "metadata": {
        "id": "ub5WeaEkXngZ"
      },
      "source": [
        "-----------------------"
      ]
    },
    {
      "cell_type": "markdown",
      "metadata": {
        "id": "j1ajawdCZgFj"
      },
      "source": [
        "Profile Demographics:"
      ]
    },
    {
      "cell_type": "code",
      "metadata": {
        "id": "Bsje2YEd2-H4"
      },
      "source": [
        "'''\n",
        "Creating a date-time object from the feature: last_online.\n",
        "'''\n",
        "profile_data['last_online'] = pd.to_datetime(profile_data.last_online, format='%Y-%m-%d-%H-%M')\n",
        "\n",
        "'''\n",
        "Splitting DATETIME instance of last_online into Date AND Time.\n",
        "'''\n",
        "profile_data['last_date_online'] = pd.to_datetime(profile_data['last_online']).dt.date\n",
        "profile_data['last_time_online'] = pd.to_datetime(profile_data['last_online']).dt.time\n",
        "\n",
        "'''\n",
        "Splitting date into Day, Month, and Year.\n",
        "'''\n",
        "profile_data['year'] = pd.to_datetime(profile_data['last_date_online']).dt.year\n",
        "profile_data['month'] = pd.to_datetime(profile_data['last_date_online']).dt.month\n",
        "profile_data['day'] = pd.to_datetime(profile_data['last_date_online']).dt.day"
      ],
      "execution_count": 8,
      "outputs": []
    },
    {
      "cell_type": "markdown",
      "metadata": {
        "id": "x02ChxwmXBzS"
      },
      "source": [
        "--------------------------------------"
      ]
    },
    {
      "cell_type": "code",
      "metadata": {
        "id": "1nCHBUKDMaqT"
      },
      "source": [
        "'''\u0010\n",
        "Separating location into CITY and STATE.\n",
        "'''\n",
        "location_separated = profile_data[\"location\"].str.split(\", \", n = 1, expand = True)\n",
        "profile_data['city'] = location_separated[0]\n",
        "profile_data['state'] = location_separated[1]"
      ],
      "execution_count": 9,
      "outputs": []
    },
    {
      "cell_type": "markdown",
      "metadata": {
        "id": "pm2W7g63XRZp"
      },
      "source": [
        "-------------------------------------------"
      ]
    },
    {
      "cell_type": "code",
      "metadata": {
        "id": "H8MNZS7vKVal"
      },
      "source": [
        "'''\n",
        "Retaining the religion, no other information.\n",
        "'''\n",
        "profile_data['religion'] = profile_data['religion'].str.split(' ').str[0]"
      ],
      "execution_count": 10,
      "outputs": []
    },
    {
      "cell_type": "markdown",
      "metadata": {
        "id": "6O15zVPEYhu9"
      },
      "source": [
        "---------------------"
      ]
    },
    {
      "cell_type": "code",
      "metadata": {
        "id": "RW7WCV5H1q7M"
      },
      "source": [
        "'''\n",
        "Retaining just the zodiac sign, no other information.\n",
        "'''\n",
        "profile_data['sign'] = profile_data['sign'].str.split(' ').str[0]"
      ],
      "execution_count": 11,
      "outputs": []
    },
    {
      "cell_type": "markdown",
      "metadata": {
        "id": "8XIIHyX3YwSY"
      },
      "source": [
        "----------------"
      ]
    },
    {
      "cell_type": "code",
      "metadata": {
        "id": "r7MECSDsIJ9c"
      },
      "source": [
        "'''\n",
        "Exploding language into multiple columns, each column containing one language.\n",
        "'''\n",
        "languages_separated = profile_data['speaks'].str.split(\", \", n = 5, expand = True)\n",
        "\n",
        "profile_data['language_1'] = languages_separated[0]\n",
        "profile_data['language_2'] = languages_separated[1]\n",
        "profile_data['language_3'] = languages_separated[2]\n",
        "profile_data['language_4'] = languages_separated[3]\n",
        "profile_data['language_5'] = languages_separated[4]\n",
        "\n",
        "'''\n",
        "Converting type to STRING:\n",
        "'''\n",
        "profile_data['language_1']=profile_data['language_1'].apply(str)\n",
        "profile_data['language_2']=profile_data['language_2'].apply(str)\n",
        "profile_data['language_3']=profile_data['language_3'].apply(str)\n",
        "profile_data['language_4']=profile_data['language_4'].apply(str)\n",
        "profile_data['language_5']=profile_data['language_5'].apply(str)\n",
        "\n",
        "'''\n",
        "Eliminating fluency levels in languages to obtain one single language\"\n",
        "'''\n",
        "# Importing re package for using regular expressions \n",
        "import re \n",
        "  \n",
        "# Function to clean the names \n",
        "def language_names(language_name): \n",
        "    # Search for opening bracket in the name followed by any characters repeated any number of times \n",
        "    if re.search('\\(.*', language_name): \n",
        "  \n",
        "        # Extract the position of beginning of pattern \n",
        "        pos = re.search('\\(.*', language_name).start() \n",
        "  \n",
        "        # return the cleaned name \n",
        "        return language_name[:pos] \n",
        "  \n",
        "    else: \n",
        "        # if clean up needed return the same name \n",
        "        return language_name \n",
        "          \n",
        "'''\n",
        "Updating dataframes with clean text.\n",
        "'''\n",
        "profile_data['language_1'] = profile_data['language_1'].apply(language_names) \n",
        "profile_data['language_2'] = profile_data['language_2'].apply(language_names) \n",
        "profile_data['language_3'] = profile_data['language_3'].apply(language_names) \n",
        "profile_data['language_4'] = profile_data['language_4'].apply(language_names) \n",
        "profile_data['language_5'] = profile_data['language_5'].apply(language_names) \n",
        "\n",
        "'''\n",
        "Getting rid of SPACE post eliminating FLUENCY.\n",
        "'''\n",
        "profile_data['language_1'] = profile_data['language_1'].str.replace(\" \", \"\")\n",
        "profile_data['language_2'] = profile_data['language_2'].str.replace(\" \", \"\")\n",
        "profile_data['language_3'] = profile_data['language_3'].str.replace(\" \", \"\")\n",
        "profile_data['language_4'] = profile_data['language_4'].str.replace(\" \", \"\")\n",
        "profile_data['language_5'] = profile_data['language_5'].str.replace(\" \", \"\")"
      ],
      "execution_count": 12,
      "outputs": []
    },
    {
      "cell_type": "markdown",
      "metadata": {
        "id": "aybBSHU5p7-q"
      },
      "source": [
        "---------"
      ]
    },
    {
      "cell_type": "code",
      "metadata": {
        "id": "HzZud37jpZCZ"
      },
      "source": [
        "'''\n",
        "Clean the column offspring, eliminating &rsquo;.\n",
        "'''\n",
        "profile_data[\"offspring\"] = profile_data['offspring'].str.replace(\"&rsquo;\", \"'\")"
      ],
      "execution_count": 13,
      "outputs": []
    },
    {
      "cell_type": "markdown",
      "metadata": {
        "id": "ghtp-nfsKo_n"
      },
      "source": [
        "-----"
      ]
    },
    {
      "cell_type": "code",
      "metadata": {
        "id": "ecLF6foJHdjk"
      },
      "source": [
        "profile_data['height'] = profile_data['height'].apply(lambda x: x*2.54)"
      ],
      "execution_count": 14,
      "outputs": []
    },
    {
      "cell_type": "markdown",
      "metadata": {
        "id": "y3FKy0SeKxMV"
      },
      "source": [
        "--------"
      ]
    },
    {
      "cell_type": "code",
      "metadata": {
        "id": "9HHCELDwlYAS"
      },
      "source": [
        "profile_data = profile_data.drop(columns = (['last_online', 'location', 'religion', 'sign', 'speaks']))"
      ],
      "execution_count": 15,
      "outputs": []
    },
    {
      "cell_type": "markdown",
      "metadata": {
        "id": "WupR1ziRHd14"
      },
      "source": [
        "----------"
      ]
    },
    {
      "cell_type": "code",
      "metadata": {
        "id": "VmTdcR2pPHY1"
      },
      "source": [
        "# list_of_complete_col = []\n",
        "# list_of_missing_cols = []\n",
        "# for cols in profile_data.columns:\n",
        "#   if profile_data[cols].isna().sum() > 0:\n",
        "#     list_of_missing_cols.append(cols)\n",
        "#   else:\n",
        "#     list_of_complete_col.append(cols)"
      ],
      "execution_count": 27,
      "outputs": []
    },
    {
      "cell_type": "code",
      "metadata": {
        "colab": {
          "base_uri": "https://localhost:8080/"
        },
        "id": "hNm_SI8_P15n",
        "outputId": "1625e80b-ee91-4f8a-8edd-b8773d3988cd"
      },
      "source": [
        "# print('Features with complete data: {}'.format(list_of_complete_col))"
      ],
      "execution_count": 20,
      "outputs": [
        {
          "output_type": "stream",
          "text": [
            "Features with complete data: ['age', 'body_type', 'diet', 'drinks', 'drugs', 'education', 'essay0', 'essay1', 'essay2', 'essay3', 'essay4', 'essay5', 'essay6', 'essay7', 'essay8', 'essay9', 'ethnicity', 'height', 'income', 'job', 'offspring', 'orientation', 'pets', 'sex', 'smokes', 'status', 'last_date_online', 'last_time_online', 'year', 'month', 'day', 'city', 'state', 'language_1', 'language_2', 'language_3', 'language_4', 'language_5']\n"
          ],
          "name": "stdout"
        }
      ]
    },
    {
      "cell_type": "code",
      "metadata": {
        "colab": {
          "base_uri": "https://localhost:8080/"
        },
        "id": "5nQfEVCbQEzK",
        "outputId": "e67a4b73-29ca-47e4-cca3-cd0411a49c07"
      },
      "source": [
        "# print('Features with missing values: {}'.format(list_of_missing_cols))"
      ],
      "execution_count": 21,
      "outputs": [
        {
          "output_type": "stream",
          "text": [
            "Features with missing values: []\n"
          ],
          "name": "stdout"
        }
      ]
    },
    {
      "cell_type": "markdown",
      "metadata": {
        "id": "tlX8J_H1Xigy"
      },
      "source": [
        "-----------------------------"
      ]
    },
    {
      "cell_type": "markdown",
      "metadata": {
        "id": "HRvx6f_-Zae4"
      },
      "source": [
        "Profile Essays:"
      ]
    },
    {
      "cell_type": "code",
      "metadata": {
        "id": "DEZN_lc8KVRv"
      },
      "source": [
        "'''\n",
        "preprocess_text: Function to strip html tags, \\n and https from text.\n",
        "params: data_frame\n",
        "'''\n",
        "def preprocess_text(data_frame):\n",
        "  for cols in data_frame.columns:\n",
        "    data_frame[cols] = data_frame[cols].str.replace('<[^<]+?>', ' ', regex = True)\n",
        "    data_frame[cols] = data_frame[cols].str.replace('\\n', ' ')\n",
        "    data_frame[cols] = data_frame[cols].str.replace('\\'', '')\n",
        "\n",
        "  return data_frame"
      ],
      "execution_count": 24,
      "outputs": []
    },
    {
      "cell_type": "code",
      "metadata": {
        "id": "8XuDdw1SS7r2"
      },
      "source": [
        "profile_data[['essay0', 'essay1', 'essay2', 'essay3', 'essay4', 'essay5', 'essay6', 'essay7',\n",
        "                               'essay8', 'essay9']] = preprocess_text(profile_data[['essay0', 'essay1', 'essay2', 'essay3', 'essay4', 'essay5', 'essay6', 'essay7',\n",
        "                               'essay8', 'essay9']])"
      ],
      "execution_count": 25,
      "outputs": []
    },
    {
      "cell_type": "markdown",
      "metadata": {
        "id": "Z5aPWQiM3huF"
      },
      "source": [
        "----------"
      ]
    },
    {
      "cell_type": "markdown",
      "metadata": {
        "id": "DjhmQLg9vW7m"
      },
      "source": [
        "Topic Modeling:"
      ]
    },
    {
      "cell_type": "code",
      "metadata": {
        "id": "UBpguUkfZ_PH"
      },
      "source": [
        "from sklearn.feature_extraction.text import CountVectorizer"
      ],
      "execution_count": 28,
      "outputs": []
    },
    {
      "cell_type": "code",
      "metadata": {
        "id": "nebDuinGZ_GH"
      },
      "source": [
        "count_vect = CountVectorizer(max_df=0.8, min_df=2, stop_words='english')"
      ],
      "execution_count": 29,
      "outputs": []
    },
    {
      "cell_type": "code",
      "metadata": {
        "id": "EV4rv4o3Z-9j"
      },
      "source": [
        "# doc_term_matrix = count_vect.fit_transform(profile_data['essay9'].values.astype('U'))"
      ],
      "execution_count": 30,
      "outputs": []
    },
    {
      "cell_type": "markdown",
      "metadata": {
        "id": "i34EAlrEvj22"
      },
      "source": [
        "Each of 1424 documents is represented as 2279 dimensional vector, which means that our vocabulary has 14546 words. Next, we will use LDA to create topics along with the probability distribution for each word in our vocabulary for each topic."
      ]
    },
    {
      "cell_type": "code",
      "metadata": {
        "id": "cI7T92_hZ-zy"
      },
      "source": [
        "from sklearn.decomposition import LatentDirichletAllocation\n",
        "LDA = LatentDirichletAllocation(n_components=5, random_state=42)"
      ],
      "execution_count": 38,
      "outputs": []
    },
    {
      "cell_type": "code",
      "metadata": {
        "id": "Tg-jKnESwu5b"
      },
      "source": [
        "# LDA.fit(doc_term_matrix)"
      ],
      "execution_count": null,
      "outputs": []
    },
    {
      "cell_type": "markdown",
      "metadata": {
        "id": "UA_7PmZ-vpDH"
      },
      "source": [
        "In the cell above I used the 'LatentDirichletAllocation' class from the sklearn.decomposition library to perform LDA on our document-term matrix. The parameter n_components specifies the number of categories, or topics, that we want our text to be divided into.\n",
        "Let's randomly fetch words from our vocabulary. Count vectorizer contains all the words in our vocabulary. We can use the get_feature_names() method and pass it the ID of the word that we want to fetch."
      ]
    },
    {
      "cell_type": "code",
      "metadata": {
        "id": "94ImTJjjKK-F"
      },
      "source": [
        "# import random\n",
        "\n",
        "# for i in range(10):\n",
        "#     random_id = random.randint(0,len(count_vect.get_feature_names()))\n",
        "#     print(count_vect.get_feature_names()[random_id])"
      ],
      "execution_count": null,
      "outputs": []
    },
    {
      "cell_type": "code",
      "metadata": {
        "id": "jb4-mwakvz13"
      },
      "source": [
        "# first_topic = LDA.components_[0]"
      ],
      "execution_count": 43,
      "outputs": []
    },
    {
      "cell_type": "code",
      "metadata": {
        "id": "UXFAPOdtvuJh"
      },
      "source": [
        "# first_topic"
      ],
      "execution_count": null,
      "outputs": []
    },
    {
      "cell_type": "markdown",
      "metadata": {
        "id": "kyasorhtw3-R"
      },
      "source": [
        "The first topic contains the probabilities of 2279 words for topic 1. To sort the indexes according to probability values, we can use the argsort() function. Once sorted, the 10 words with the highest probabilities will now belong to the last 10 indexes of the array."
      ]
    },
    {
      "cell_type": "code",
      "metadata": {
        "id": "ffaLjE3Jw1wn"
      },
      "source": [
        "# top_topic_words = first_topic.argsort()[-10:]"
      ],
      "execution_count": 45,
      "outputs": []
    },
    {
      "cell_type": "code",
      "metadata": {
        "colab": {
          "base_uri": "https://localhost:8080/"
        },
        "id": "sPj4Hwx5w6Uv",
        "outputId": "74625bc9-58bc-49ba-fbf7-197baf02c657"
      },
      "source": [
        "# top_topic_words"
      ],
      "execution_count": 46,
      "outputs": [
        {
          "output_type": "execute_result",
          "data": {
            "text/plain": [
              "array([2229, 1518,  834, 1245, 1167, 2187,  833, 1875, 1219, 2280])"
            ]
          },
          "metadata": {
            "tags": []
          },
          "execution_count": 46
        }
      ]
    },
    {
      "cell_type": "markdown",
      "metadata": {
        "id": "Q4fvGJXGw9-a"
      },
      "source": [
        "These indexes can then be used to retrieve the value of the words from the count_vect object."
      ]
    },
    {
      "cell_type": "code",
      "metadata": {
        "id": "0kSQn01yw8GX"
      },
      "source": [
        "# for i in top_topic_words:\n",
        "#     print(count_vect.get_feature_names()[i])"
      ],
      "execution_count": null,
      "outputs": []
    },
    {
      "cell_type": "markdown",
      "metadata": {
        "id": "tdKlXV8kxCop"
      },
      "source": [
        "These are the top 10 words obtained for the response 'You should message me if..' From the top 10 words above we can infer that the first topic might be about how users want other users to message them if they're looking to have fun or if they love sense of humor."
      ]
    },
    {
      "cell_type": "markdown",
      "metadata": {
        "id": "eJ7ZvcvRxE3m"
      },
      "source": [
        "Printing the 10 words with highest probabilities for all the five topics:"
      ]
    },
    {
      "cell_type": "code",
      "metadata": {
        "id": "mRkHiGwhxAJi"
      },
      "source": [
        "# for i,topic in enumerate(LDA.components_):\n",
        "#     print(f'Top 10 words for topic #{i}:')\n",
        "#     print([count_vect.get_feature_names()[i] for i in topic.argsort()[-10:]])\n",
        "#     print('\\n')"
      ],
      "execution_count": null,
      "outputs": []
    },
    {
      "cell_type": "markdown",
      "metadata": {
        "id": "SepvQ3cXxJ9n"
      },
      "source": [
        "From the top 5 topics above, we see what people want other users to initiate conversations on or match with them if they're looking for the said things."
      ]
    },
    {
      "cell_type": "markdown",
      "metadata": {
        "id": "eFXljyW0xMZB"
      },
      "source": [
        "As a final step, we will add a column to the original data frame that will store the topic for the text. To do so, we can use LDA.transform() method and pass it our document-term matrix. This method will assign the probability of all the topics to each document."
      ]
    },
    {
      "cell_type": "code",
      "metadata": {
        "colab": {
          "base_uri": "https://localhost:8080/"
        },
        "id": "L87X2ct-xHFi",
        "outputId": "ea052f59-ed4a-4ba2-d55a-f925b7dffef0"
      },
      "source": [
        "# topic_values = LDA.transform(doc_term_matrix)\n",
        "# topic_values.shape"
      ],
      "execution_count": 49,
      "outputs": [
        {
          "output_type": "execute_result",
          "data": {
            "text/plain": [
              "(1424, 5)"
            ]
          },
          "metadata": {
            "tags": []
          },
          "execution_count": 49
        }
      ]
    },
    {
      "cell_type": "code",
      "metadata": {
        "id": "ooWAJIs6xO2z"
      },
      "source": [
        "# profile_data['essay9_topic'] = topic_values.argmax(axis=1)"
      ],
      "execution_count": 50,
      "outputs": []
    },
    {
      "cell_type": "code",
      "metadata": {
        "colab": {
          "base_uri": "https://localhost:8080/",
          "height": 734
        },
        "id": "DRsFE1JxxSq5",
        "outputId": "554fb4ac-f8ae-4675-a62d-7649f6102472"
      },
      "source": [
        "# profile_data.head()"
      ],
      "execution_count": 51,
      "outputs": [
        {
          "output_type": "execute_result",
          "data": {
            "text/html": [
              "<div>\n",
              "<style scoped>\n",
              "    .dataframe tbody tr th:only-of-type {\n",
              "        vertical-align: middle;\n",
              "    }\n",
              "\n",
              "    .dataframe tbody tr th {\n",
              "        vertical-align: top;\n",
              "    }\n",
              "\n",
              "    .dataframe thead th {\n",
              "        text-align: right;\n",
              "    }\n",
              "</style>\n",
              "<table border=\"1\" class=\"dataframe\">\n",
              "  <thead>\n",
              "    <tr style=\"text-align: right;\">\n",
              "      <th></th>\n",
              "      <th>age</th>\n",
              "      <th>body_type</th>\n",
              "      <th>diet</th>\n",
              "      <th>drinks</th>\n",
              "      <th>drugs</th>\n",
              "      <th>education</th>\n",
              "      <th>essay0</th>\n",
              "      <th>essay1</th>\n",
              "      <th>essay2</th>\n",
              "      <th>essay3</th>\n",
              "      <th>essay4</th>\n",
              "      <th>essay5</th>\n",
              "      <th>essay6</th>\n",
              "      <th>essay7</th>\n",
              "      <th>essay8</th>\n",
              "      <th>essay9</th>\n",
              "      <th>ethnicity</th>\n",
              "      <th>height</th>\n",
              "      <th>income</th>\n",
              "      <th>job</th>\n",
              "      <th>offspring</th>\n",
              "      <th>orientation</th>\n",
              "      <th>pets</th>\n",
              "      <th>sex</th>\n",
              "      <th>smokes</th>\n",
              "      <th>status</th>\n",
              "      <th>last_date_online</th>\n",
              "      <th>last_time_online</th>\n",
              "      <th>year</th>\n",
              "      <th>month</th>\n",
              "      <th>day</th>\n",
              "      <th>city</th>\n",
              "      <th>state</th>\n",
              "      <th>language_1</th>\n",
              "      <th>language_2</th>\n",
              "      <th>language_3</th>\n",
              "      <th>language_4</th>\n",
              "      <th>language_5</th>\n",
              "      <th>essay9_topic</th>\n",
              "    </tr>\n",
              "  </thead>\n",
              "  <tbody>\n",
              "    <tr>\n",
              "      <th>94</th>\n",
              "      <td>29</td>\n",
              "      <td>fit</td>\n",
              "      <td>mostly anything</td>\n",
              "      <td>socially</td>\n",
              "      <td>sometimes</td>\n",
              "      <td>graduated from college/university</td>\n",
              "      <td>my names josh, and i create art for a living. ...</td>\n",
              "      <td>living it</td>\n",
              "      <td>everything</td>\n",
              "      <td>i honestly couldnt say....</td>\n",
              "      <td>-books: anything joseph campbell - osho - terr...</td>\n",
              "      <td>invalid question</td>\n",
              "      <td>the world</td>\n",
              "      <td>out.</td>\n",
              "      <td>no</td>\n",
              "      <td>youre curious.</td>\n",
              "      <td>white</td>\n",
              "      <td>170.18</td>\n",
              "      <td>40000.0</td>\n",
              "      <td>artistic / musical / writer</td>\n",
              "      <td>doesn't want kids</td>\n",
              "      <td>straight</td>\n",
              "      <td>likes dogs and likes cats</td>\n",
              "      <td>m</td>\n",
              "      <td>no</td>\n",
              "      <td>single</td>\n",
              "      <td>2012-05-28</td>\n",
              "      <td>15:18:00</td>\n",
              "      <td>2012</td>\n",
              "      <td>5</td>\n",
              "      <td>28</td>\n",
              "      <td>san francisco</td>\n",
              "      <td>california</td>\n",
              "      <td>english</td>\n",
              "      <td>None</td>\n",
              "      <td>None</td>\n",
              "      <td>None</td>\n",
              "      <td>None</td>\n",
              "      <td>0</td>\n",
              "    </tr>\n",
              "    <tr>\n",
              "      <th>113</th>\n",
              "      <td>23</td>\n",
              "      <td>curvy</td>\n",
              "      <td>mostly anything</td>\n",
              "      <td>rarely</td>\n",
              "      <td>never</td>\n",
              "      <td>working on college/university</td>\n",
              "      <td>hey  im angel, heres a little about myself. i ...</td>\n",
              "      <td>discovering and exploring! finding myself.  ta...</td>\n",
              "      <td>art, math, learnin things fast, puzzles and br...</td>\n",
              "      <td>id say my hair and my eyes. i would say my smi...</td>\n",
              "      <td>favorite books are: my life as a teenage fairy...</td>\n",
              "      <td>uumm, well music thats one, i love food but th...</td>\n",
              "      <td>everything; the world, what i can do for fun, ...</td>\n",
              "      <td>home happy to have some quite and a good movie...</td>\n",
              "      <td>sometimes i like to sit in the shower.. :)  th...</td>\n",
              "      <td>you are chill, nice, down to earth, educated, ...</td>\n",
              "      <td>black, native american, hispanic / latin</td>\n",
              "      <td>167.64</td>\n",
              "      <td>20000.0</td>\n",
              "      <td>other</td>\n",
              "      <td>has a kid</td>\n",
              "      <td>straight</td>\n",
              "      <td>likes dogs and likes cats</td>\n",
              "      <td>f</td>\n",
              "      <td>when drinking</td>\n",
              "      <td>single</td>\n",
              "      <td>2012-06-28</td>\n",
              "      <td>18:40:00</td>\n",
              "      <td>2012</td>\n",
              "      <td>6</td>\n",
              "      <td>28</td>\n",
              "      <td>san francisco</td>\n",
              "      <td>california</td>\n",
              "      <td>english</td>\n",
              "      <td>None</td>\n",
              "      <td>None</td>\n",
              "      <td>None</td>\n",
              "      <td>None</td>\n",
              "      <td>0</td>\n",
              "    </tr>\n",
              "    <tr>\n",
              "      <th>123</th>\n",
              "      <td>21</td>\n",
              "      <td>thin</td>\n",
              "      <td>strictly anything</td>\n",
              "      <td>socially</td>\n",
              "      <td>often</td>\n",
              "      <td>working on space camp</td>\n",
              "      <td>ill-matic, drastically fantastic, orgasmic, in...</td>\n",
              "      <td>enjoying it.</td>\n",
              "      <td>producing music, entertaining, struggling with...</td>\n",
              "      <td>hair or clothes, or that im longboarding.</td>\n",
              "      <td>the art of war, fear and loathing in las vegas...</td>\n",
              "      <td>i dont need a god damn thing.</td>\n",
              "      <td>everything. also your mom.</td>\n",
              "      <td>doing the most.</td>\n",
              "      <td>im probably down for a lot more than you realize.</td>\n",
              "      <td>you feel so inclined.</td>\n",
              "      <td>hispanic / latin, white</td>\n",
              "      <td>177.80</td>\n",
              "      <td>1000000.0</td>\n",
              "      <td>medicine / health</td>\n",
              "      <td>doesn't have kids, and doesn't want any</td>\n",
              "      <td>straight</td>\n",
              "      <td>likes dogs</td>\n",
              "      <td>m</td>\n",
              "      <td>sometimes</td>\n",
              "      <td>single</td>\n",
              "      <td>2012-06-29</td>\n",
              "      <td>17:01:00</td>\n",
              "      <td>2012</td>\n",
              "      <td>6</td>\n",
              "      <td>29</td>\n",
              "      <td>san francisco</td>\n",
              "      <td>california</td>\n",
              "      <td>english</td>\n",
              "      <td>None</td>\n",
              "      <td>None</td>\n",
              "      <td>None</td>\n",
              "      <td>None</td>\n",
              "      <td>0</td>\n",
              "    </tr>\n",
              "    <tr>\n",
              "      <th>137</th>\n",
              "      <td>50</td>\n",
              "      <td>average</td>\n",
              "      <td>mostly anything</td>\n",
              "      <td>often</td>\n",
              "      <td>never</td>\n",
              "      <td>college/university</td>\n",
              "      <td>i am a good guy looking to find that someone s...</td>\n",
              "      <td>working hard and learning about myself.</td>\n",
              "      <td>cooking on the grill!</td>\n",
              "      <td>my smile</td>\n",
              "      <td>i dont read a lot, mostly mags and trade journ...</td>\n",
              "      <td>this is good first date stuff...</td>\n",
              "      <td>not enough room here</td>\n",
              "      <td>unwinding from the week with a glass of wine &amp;...</td>\n",
              "      <td>if you ask, i will answer!</td>\n",
              "      <td>you have a great smile!!!  are not too uptight...</td>\n",
              "      <td>white</td>\n",
              "      <td>185.42</td>\n",
              "      <td>80000.0</td>\n",
              "      <td>transportation</td>\n",
              "      <td>doesn't want kids</td>\n",
              "      <td>straight</td>\n",
              "      <td>has cats</td>\n",
              "      <td>m</td>\n",
              "      <td>no</td>\n",
              "      <td>single</td>\n",
              "      <td>2012-06-29</td>\n",
              "      <td>21:54:00</td>\n",
              "      <td>2012</td>\n",
              "      <td>6</td>\n",
              "      <td>29</td>\n",
              "      <td>benicia</td>\n",
              "      <td>california</td>\n",
              "      <td>english</td>\n",
              "      <td>None</td>\n",
              "      <td>None</td>\n",
              "      <td>None</td>\n",
              "      <td>None</td>\n",
              "      <td>2</td>\n",
              "    </tr>\n",
              "    <tr>\n",
              "      <th>167</th>\n",
              "      <td>26</td>\n",
              "      <td>curvy</td>\n",
              "      <td>mostly anything</td>\n",
              "      <td>socially</td>\n",
              "      <td>never</td>\n",
              "      <td>working on college/university</td>\n",
              "      <td>i am strong woman who loves to dance (even tho...</td>\n",
              "      <td>so, i work part time in sales while attending ...</td>\n",
              "      <td>i am really good at boxing so if any luck lady...</td>\n",
              "      <td>my hair . . . oddly enough . . . my friends jo...</td>\n",
              "      <td>remedios: stories of eatrh and iron from the h...</td>\n",
              "      <td>my sorority sisters (lmao dont hate!)  car  my...</td>\n",
              "      <td>about my film. its kind of taken up a huge prt...</td>\n",
              "      <td>i ususally just kick it with my friends and ha...</td>\n",
              "      <td>i am really awkward when it comes to the club ...</td>\n",
              "      <td>just message me if you feel like it. its chill...</td>\n",
              "      <td>hispanic / latin, white</td>\n",
              "      <td>160.02</td>\n",
              "      <td>20000.0</td>\n",
              "      <td>sales / marketing / biz dev</td>\n",
              "      <td>doesn't have kids, but might want them</td>\n",
              "      <td>gay</td>\n",
              "      <td>likes dogs and likes cats</td>\n",
              "      <td>f</td>\n",
              "      <td>no</td>\n",
              "      <td>single</td>\n",
              "      <td>2012-06-23</td>\n",
              "      <td>23:10:00</td>\n",
              "      <td>2012</td>\n",
              "      <td>6</td>\n",
              "      <td>23</td>\n",
              "      <td>berkeley</td>\n",
              "      <td>california</td>\n",
              "      <td>english</td>\n",
              "      <td>None</td>\n",
              "      <td>None</td>\n",
              "      <td>None</td>\n",
              "      <td>None</td>\n",
              "      <td>1</td>\n",
              "    </tr>\n",
              "  </tbody>\n",
              "</table>\n",
              "</div>"
            ],
            "text/plain": [
              "     age body_type               diet  ... language_4 language_5 essay9_topic\n",
              "94    29       fit    mostly anything  ...       None       None            0\n",
              "113   23     curvy    mostly anything  ...       None       None            0\n",
              "123   21      thin  strictly anything  ...       None       None            0\n",
              "137   50   average    mostly anything  ...       None       None            2\n",
              "167   26     curvy    mostly anything  ...       None       None            1\n",
              "\n",
              "[5 rows x 39 columns]"
            ]
          },
          "metadata": {
            "tags": []
          },
          "execution_count": 51
        }
      ]
    },
    {
      "cell_type": "code",
      "metadata": {
        "id": "x5i1Zhu82Wxo"
      },
      "source": [
        ""
      ],
      "execution_count": null,
      "outputs": []
    },
    {
      "cell_type": "markdown",
      "metadata": {
        "id": "BH3lMpPn2XHF"
      },
      "source": [
        "Wrapping topic modeling in a function:"
      ]
    },
    {
      "cell_type": "code",
      "metadata": {
        "id": "xIoTnly62Wlg"
      },
      "source": [
        "count_vect = CountVectorizer(max_df = 0.8, min_df = 2, stop_words = 'english')\n",
        "LDA = LatentDirichletAllocation(n_components = 5, random_state = 42)"
      ],
      "execution_count": null,
      "outputs": []
    },
    {
      "cell_type": "code",
      "metadata": {
        "id": "MlCgQbfLxV0p"
      },
      "source": [
        "def topic_modeling(data_frame, cols, count_vectorizer, lda):\n",
        "  '''\n",
        "  Function: To perform topic modeling on multiple columns of a df.\n",
        "  Params: data_frame - Dataframe as an input.\n",
        "          cols - list of columns to obtain topics.\n",
        "  '''\n",
        "\n",
        "  og_data_frame = data_frame.copy()\n",
        "\n",
        "  # Obtaining document term matrix using count_vect as count_vectorizer:\n",
        "  dt_matrix = count_vectorizer.fit_transform(data_frame[cols].values.astype('U'))\n",
        "\n",
        "  # LDA\n",
        "  lda.fit(dt_matrix)\n",
        "  first_topic = lda.components_[0]\n",
        "  top_topic_words = first_topic.argsort()[-10:]\n",
        "  topic_values = lda.transform(dt_matrix)\n",
        "  og_data_frame[str(cols)+'_new'] = topic_values.argmax(axis=1) \n",
        "\n",
        "  return og_data_frame"
      ],
      "execution_count": 56,
      "outputs": []
    },
    {
      "cell_type": "code",
      "metadata": {
        "id": "jIVw-6x84Nvb"
      },
      "source": [
        "asd = profile_data\n",
        "for column in profile_data[['essay0', 'essay1', 'essay2', 'essay3', 'essay4', 'essay5', 'essay6', 'essay7',\n",
        "                               'essay8', 'essay9']]:\n",
        "  asd = topic_modeling(asd, column, count_vect, LDA)"
      ],
      "execution_count": 62,
      "outputs": []
    },
    {
      "cell_type": "code",
      "metadata": {
        "id": "YoCVnF1l4UN6"
      },
      "source": [
        "asd = asd.drop(columns = ['essay9_topic'])"
      ],
      "execution_count": null,
      "outputs": []
    },
    {
      "cell_type": "code",
      "metadata": {
        "colab": {
          "base_uri": "https://localhost:8080/",
          "height": 734
        },
        "id": "zk3JUUf8BujD",
        "outputId": "b98abd70-e851-43ca-b879-c59c22184711"
      },
      "source": [
        "asd.head()"
      ],
      "execution_count": 69,
      "outputs": [
        {
          "output_type": "execute_result",
          "data": {
            "text/html": [
              "<div>\n",
              "<style scoped>\n",
              "    .dataframe tbody tr th:only-of-type {\n",
              "        vertical-align: middle;\n",
              "    }\n",
              "\n",
              "    .dataframe tbody tr th {\n",
              "        vertical-align: top;\n",
              "    }\n",
              "\n",
              "    .dataframe thead th {\n",
              "        text-align: right;\n",
              "    }\n",
              "</style>\n",
              "<table border=\"1\" class=\"dataframe\">\n",
              "  <thead>\n",
              "    <tr style=\"text-align: right;\">\n",
              "      <th></th>\n",
              "      <th>age</th>\n",
              "      <th>body_type</th>\n",
              "      <th>diet</th>\n",
              "      <th>drinks</th>\n",
              "      <th>drugs</th>\n",
              "      <th>education</th>\n",
              "      <th>essay0</th>\n",
              "      <th>essay1</th>\n",
              "      <th>essay2</th>\n",
              "      <th>essay3</th>\n",
              "      <th>essay4</th>\n",
              "      <th>essay5</th>\n",
              "      <th>essay6</th>\n",
              "      <th>essay7</th>\n",
              "      <th>essay8</th>\n",
              "      <th>essay9</th>\n",
              "      <th>ethnicity</th>\n",
              "      <th>height</th>\n",
              "      <th>income</th>\n",
              "      <th>job</th>\n",
              "      <th>offspring</th>\n",
              "      <th>orientation</th>\n",
              "      <th>pets</th>\n",
              "      <th>sex</th>\n",
              "      <th>smokes</th>\n",
              "      <th>status</th>\n",
              "      <th>last_date_online</th>\n",
              "      <th>last_time_online</th>\n",
              "      <th>year</th>\n",
              "      <th>month</th>\n",
              "      <th>day</th>\n",
              "      <th>city</th>\n",
              "      <th>state</th>\n",
              "      <th>language_1</th>\n",
              "      <th>language_2</th>\n",
              "      <th>language_3</th>\n",
              "      <th>language_4</th>\n",
              "      <th>language_5</th>\n",
              "      <th>essay0_new</th>\n",
              "      <th>essay1_new</th>\n",
              "      <th>essay2_new</th>\n",
              "      <th>essay3_new</th>\n",
              "      <th>essay4_new</th>\n",
              "      <th>essay5_new</th>\n",
              "      <th>essay6_new</th>\n",
              "      <th>essay7_new</th>\n",
              "      <th>essay8_new</th>\n",
              "      <th>essay9_new</th>\n",
              "    </tr>\n",
              "  </thead>\n",
              "  <tbody>\n",
              "    <tr>\n",
              "      <th>94</th>\n",
              "      <td>29</td>\n",
              "      <td>fit</td>\n",
              "      <td>mostly anything</td>\n",
              "      <td>socially</td>\n",
              "      <td>sometimes</td>\n",
              "      <td>graduated from college/university</td>\n",
              "      <td>my names josh, and i create art for a living. ...</td>\n",
              "      <td>living it</td>\n",
              "      <td>everything</td>\n",
              "      <td>i honestly couldnt say....</td>\n",
              "      <td>-books: anything joseph campbell - osho - terr...</td>\n",
              "      <td>invalid question</td>\n",
              "      <td>the world</td>\n",
              "      <td>out.</td>\n",
              "      <td>no</td>\n",
              "      <td>youre curious.</td>\n",
              "      <td>white</td>\n",
              "      <td>170.18</td>\n",
              "      <td>40000.0</td>\n",
              "      <td>artistic / musical / writer</td>\n",
              "      <td>doesn't want kids</td>\n",
              "      <td>straight</td>\n",
              "      <td>likes dogs and likes cats</td>\n",
              "      <td>m</td>\n",
              "      <td>no</td>\n",
              "      <td>single</td>\n",
              "      <td>2012-05-28</td>\n",
              "      <td>15:18:00</td>\n",
              "      <td>2012</td>\n",
              "      <td>5</td>\n",
              "      <td>28</td>\n",
              "      <td>san francisco</td>\n",
              "      <td>california</td>\n",
              "      <td>english</td>\n",
              "      <td>None</td>\n",
              "      <td>None</td>\n",
              "      <td>None</td>\n",
              "      <td>None</td>\n",
              "      <td>2</td>\n",
              "      <td>4</td>\n",
              "      <td>0</td>\n",
              "      <td>3</td>\n",
              "      <td>4</td>\n",
              "      <td>1</td>\n",
              "      <td>3</td>\n",
              "      <td>0</td>\n",
              "      <td>0</td>\n",
              "      <td>0</td>\n",
              "    </tr>\n",
              "    <tr>\n",
              "      <th>113</th>\n",
              "      <td>23</td>\n",
              "      <td>curvy</td>\n",
              "      <td>mostly anything</td>\n",
              "      <td>rarely</td>\n",
              "      <td>never</td>\n",
              "      <td>working on college/university</td>\n",
              "      <td>hey  im angel, heres a little about myself. i ...</td>\n",
              "      <td>discovering and exploring! finding myself.  ta...</td>\n",
              "      <td>art, math, learnin things fast, puzzles and br...</td>\n",
              "      <td>id say my hair and my eyes. i would say my smi...</td>\n",
              "      <td>favorite books are: my life as a teenage fairy...</td>\n",
              "      <td>uumm, well music thats one, i love food but th...</td>\n",
              "      <td>everything; the world, what i can do for fun, ...</td>\n",
              "      <td>home happy to have some quite and a good movie...</td>\n",
              "      <td>sometimes i like to sit in the shower.. :)  th...</td>\n",
              "      <td>you are chill, nice, down to earth, educated, ...</td>\n",
              "      <td>black, native american, hispanic / latin</td>\n",
              "      <td>167.64</td>\n",
              "      <td>20000.0</td>\n",
              "      <td>other</td>\n",
              "      <td>has a kid</td>\n",
              "      <td>straight</td>\n",
              "      <td>likes dogs and likes cats</td>\n",
              "      <td>f</td>\n",
              "      <td>when drinking</td>\n",
              "      <td>single</td>\n",
              "      <td>2012-06-28</td>\n",
              "      <td>18:40:00</td>\n",
              "      <td>2012</td>\n",
              "      <td>6</td>\n",
              "      <td>28</td>\n",
              "      <td>san francisco</td>\n",
              "      <td>california</td>\n",
              "      <td>english</td>\n",
              "      <td>None</td>\n",
              "      <td>None</td>\n",
              "      <td>None</td>\n",
              "      <td>None</td>\n",
              "      <td>2</td>\n",
              "      <td>4</td>\n",
              "      <td>0</td>\n",
              "      <td>2</td>\n",
              "      <td>3</td>\n",
              "      <td>2</td>\n",
              "      <td>1</td>\n",
              "      <td>3</td>\n",
              "      <td>2</td>\n",
              "      <td>0</td>\n",
              "    </tr>\n",
              "    <tr>\n",
              "      <th>123</th>\n",
              "      <td>21</td>\n",
              "      <td>thin</td>\n",
              "      <td>strictly anything</td>\n",
              "      <td>socially</td>\n",
              "      <td>often</td>\n",
              "      <td>working on space camp</td>\n",
              "      <td>ill-matic, drastically fantastic, orgasmic, in...</td>\n",
              "      <td>enjoying it.</td>\n",
              "      <td>producing music, entertaining, struggling with...</td>\n",
              "      <td>hair or clothes, or that im longboarding.</td>\n",
              "      <td>the art of war, fear and loathing in las vegas...</td>\n",
              "      <td>i dont need a god damn thing.</td>\n",
              "      <td>everything. also your mom.</td>\n",
              "      <td>doing the most.</td>\n",
              "      <td>im probably down for a lot more than you realize.</td>\n",
              "      <td>you feel so inclined.</td>\n",
              "      <td>hispanic / latin, white</td>\n",
              "      <td>177.80</td>\n",
              "      <td>1000000.0</td>\n",
              "      <td>medicine / health</td>\n",
              "      <td>doesn't have kids, and doesn't want any</td>\n",
              "      <td>straight</td>\n",
              "      <td>likes dogs</td>\n",
              "      <td>m</td>\n",
              "      <td>sometimes</td>\n",
              "      <td>single</td>\n",
              "      <td>2012-06-29</td>\n",
              "      <td>17:01:00</td>\n",
              "      <td>2012</td>\n",
              "      <td>6</td>\n",
              "      <td>29</td>\n",
              "      <td>san francisco</td>\n",
              "      <td>california</td>\n",
              "      <td>english</td>\n",
              "      <td>None</td>\n",
              "      <td>None</td>\n",
              "      <td>None</td>\n",
              "      <td>None</td>\n",
              "      <td>3</td>\n",
              "      <td>4</td>\n",
              "      <td>1</td>\n",
              "      <td>2</td>\n",
              "      <td>1</td>\n",
              "      <td>3</td>\n",
              "      <td>1</td>\n",
              "      <td>4</td>\n",
              "      <td>0</td>\n",
              "      <td>0</td>\n",
              "    </tr>\n",
              "    <tr>\n",
              "      <th>137</th>\n",
              "      <td>50</td>\n",
              "      <td>average</td>\n",
              "      <td>mostly anything</td>\n",
              "      <td>often</td>\n",
              "      <td>never</td>\n",
              "      <td>college/university</td>\n",
              "      <td>i am a good guy looking to find that someone s...</td>\n",
              "      <td>working hard and learning about myself.</td>\n",
              "      <td>cooking on the grill!</td>\n",
              "      <td>my smile</td>\n",
              "      <td>i dont read a lot, mostly mags and trade journ...</td>\n",
              "      <td>this is good first date stuff...</td>\n",
              "      <td>not enough room here</td>\n",
              "      <td>unwinding from the week with a glass of wine &amp;...</td>\n",
              "      <td>if you ask, i will answer!</td>\n",
              "      <td>you have a great smile!!!  are not too uptight...</td>\n",
              "      <td>white</td>\n",
              "      <td>185.42</td>\n",
              "      <td>80000.0</td>\n",
              "      <td>transportation</td>\n",
              "      <td>doesn't want kids</td>\n",
              "      <td>straight</td>\n",
              "      <td>has cats</td>\n",
              "      <td>m</td>\n",
              "      <td>no</td>\n",
              "      <td>single</td>\n",
              "      <td>2012-06-29</td>\n",
              "      <td>21:54:00</td>\n",
              "      <td>2012</td>\n",
              "      <td>6</td>\n",
              "      <td>29</td>\n",
              "      <td>benicia</td>\n",
              "      <td>california</td>\n",
              "      <td>english</td>\n",
              "      <td>None</td>\n",
              "      <td>None</td>\n",
              "      <td>None</td>\n",
              "      <td>None</td>\n",
              "      <td>2</td>\n",
              "      <td>2</td>\n",
              "      <td>1</td>\n",
              "      <td>0</td>\n",
              "      <td>3</td>\n",
              "      <td>1</td>\n",
              "      <td>2</td>\n",
              "      <td>1</td>\n",
              "      <td>1</td>\n",
              "      <td>2</td>\n",
              "    </tr>\n",
              "    <tr>\n",
              "      <th>167</th>\n",
              "      <td>26</td>\n",
              "      <td>curvy</td>\n",
              "      <td>mostly anything</td>\n",
              "      <td>socially</td>\n",
              "      <td>never</td>\n",
              "      <td>working on college/university</td>\n",
              "      <td>i am strong woman who loves to dance (even tho...</td>\n",
              "      <td>so, i work part time in sales while attending ...</td>\n",
              "      <td>i am really good at boxing so if any luck lady...</td>\n",
              "      <td>my hair . . . oddly enough . . . my friends jo...</td>\n",
              "      <td>remedios: stories of eatrh and iron from the h...</td>\n",
              "      <td>my sorority sisters (lmao dont hate!)  car  my...</td>\n",
              "      <td>about my film. its kind of taken up a huge prt...</td>\n",
              "      <td>i ususally just kick it with my friends and ha...</td>\n",
              "      <td>i am really awkward when it comes to the club ...</td>\n",
              "      <td>just message me if you feel like it. its chill...</td>\n",
              "      <td>hispanic / latin, white</td>\n",
              "      <td>160.02</td>\n",
              "      <td>20000.0</td>\n",
              "      <td>sales / marketing / biz dev</td>\n",
              "      <td>doesn't have kids, but might want them</td>\n",
              "      <td>gay</td>\n",
              "      <td>likes dogs and likes cats</td>\n",
              "      <td>f</td>\n",
              "      <td>no</td>\n",
              "      <td>single</td>\n",
              "      <td>2012-06-23</td>\n",
              "      <td>23:10:00</td>\n",
              "      <td>2012</td>\n",
              "      <td>6</td>\n",
              "      <td>23</td>\n",
              "      <td>berkeley</td>\n",
              "      <td>california</td>\n",
              "      <td>english</td>\n",
              "      <td>None</td>\n",
              "      <td>None</td>\n",
              "      <td>None</td>\n",
              "      <td>None</td>\n",
              "      <td>1</td>\n",
              "      <td>2</td>\n",
              "      <td>1</td>\n",
              "      <td>3</td>\n",
              "      <td>2</td>\n",
              "      <td>1</td>\n",
              "      <td>0</td>\n",
              "      <td>1</td>\n",
              "      <td>4</td>\n",
              "      <td>1</td>\n",
              "    </tr>\n",
              "  </tbody>\n",
              "</table>\n",
              "</div>"
            ],
            "text/plain": [
              "     age body_type               diet  ... essay7_new essay8_new essay9_new\n",
              "94    29       fit    mostly anything  ...          0          0          0\n",
              "113   23     curvy    mostly anything  ...          3          2          0\n",
              "123   21      thin  strictly anything  ...          4          0          0\n",
              "137   50   average    mostly anything  ...          1          1          2\n",
              "167   26     curvy    mostly anything  ...          1          4          1\n",
              "\n",
              "[5 rows x 48 columns]"
            ]
          },
          "metadata": {
            "tags": []
          },
          "execution_count": 69
        }
      ]
    },
    {
      "cell_type": "code",
      "metadata": {
        "id": "DwR4Ywz2I-bs"
      },
      "source": [
        ""
      ],
      "execution_count": null,
      "outputs": []
    }
  ]
}