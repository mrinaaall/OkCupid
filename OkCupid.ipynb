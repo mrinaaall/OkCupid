{
  "nbformat": 4,
  "nbformat_minor": 0,
  "metadata": {
    "colab": {
      "name": "OkCupid.ipynb",
      "provenance": [],
      "collapsed_sections": [],
      "mount_file_id": "1BPbGjnoAwkBCpfF0hv5JuB_OrpVjXd-G",
      "authorship_tag": "ABX9TyOaqLmF/ZKEMFydpXQixuwt",
      "include_colab_link": true
    },
    "kernelspec": {
      "name": "python3",
      "display_name": "Python 3"
    },
    "widgets": {
      "application/vnd.jupyter.widget-state+json": {
        "b3ca9b5b5144495bb2410e2c35797fcd": {
          "model_module": "@jupyter-widgets/controls",
          "model_name": "HBoxModel",
          "state": {
            "_view_name": "HBoxView",
            "_dom_classes": [],
            "_model_name": "HBoxModel",
            "_view_module": "@jupyter-widgets/controls",
            "_model_module_version": "1.5.0",
            "_view_count": null,
            "_view_module_version": "1.5.0",
            "box_style": "",
            "layout": "IPY_MODEL_854c745f56634f2ead198134f8db1a65",
            "_model_module": "@jupyter-widgets/controls",
            "children": [
              "IPY_MODEL_18926e2e7fe245aa8a384f28703df042",
              "IPY_MODEL_3044ecf18ce64321ad8114cfb84d113b"
            ]
          }
        },
        "854c745f56634f2ead198134f8db1a65": {
          "model_module": "@jupyter-widgets/base",
          "model_name": "LayoutModel",
          "state": {
            "_view_name": "LayoutView",
            "grid_template_rows": null,
            "right": null,
            "justify_content": null,
            "_view_module": "@jupyter-widgets/base",
            "overflow": null,
            "_model_module_version": "1.2.0",
            "_view_count": null,
            "flex_flow": null,
            "width": null,
            "min_width": null,
            "border": null,
            "align_items": null,
            "bottom": null,
            "_model_module": "@jupyter-widgets/base",
            "top": null,
            "grid_column": null,
            "overflow_y": null,
            "overflow_x": null,
            "grid_auto_flow": null,
            "grid_area": null,
            "grid_template_columns": null,
            "flex": null,
            "_model_name": "LayoutModel",
            "justify_items": null,
            "grid_row": null,
            "max_height": null,
            "align_content": null,
            "visibility": null,
            "align_self": null,
            "height": null,
            "min_height": null,
            "padding": null,
            "grid_auto_rows": null,
            "grid_gap": null,
            "max_width": null,
            "order": null,
            "_view_module_version": "1.2.0",
            "grid_template_areas": null,
            "object_position": null,
            "object_fit": null,
            "grid_auto_columns": null,
            "margin": null,
            "display": null,
            "left": null
          }
        },
        "18926e2e7fe245aa8a384f28703df042": {
          "model_module": "@jupyter-widgets/controls",
          "model_name": "FloatProgressModel",
          "state": {
            "_view_name": "ProgressView",
            "style": "IPY_MODEL_52f6561a4aa1489f8c6bd69af408bbfa",
            "_dom_classes": [],
            "description": "100%",
            "_model_name": "FloatProgressModel",
            "bar_style": "success",
            "max": 9,
            "_view_module": "@jupyter-widgets/controls",
            "_model_module_version": "1.5.0",
            "value": 9,
            "_view_count": null,
            "_view_module_version": "1.5.0",
            "orientation": "horizontal",
            "min": 0,
            "description_tooltip": null,
            "_model_module": "@jupyter-widgets/controls",
            "layout": "IPY_MODEL_3759dfa2dd3b458abf214ace3dbead37"
          }
        },
        "3044ecf18ce64321ad8114cfb84d113b": {
          "model_module": "@jupyter-widgets/controls",
          "model_name": "HTMLModel",
          "state": {
            "_view_name": "HTMLView",
            "style": "IPY_MODEL_5c17599e8c4e439eab8daa71b99d7c96",
            "_dom_classes": [],
            "description": "",
            "_model_name": "HTMLModel",
            "placeholder": "​",
            "_view_module": "@jupyter-widgets/controls",
            "_model_module_version": "1.5.0",
            "value": " 9/9 [00:02&lt;00:00,  4.02it/s]",
            "_view_count": null,
            "_view_module_version": "1.5.0",
            "description_tooltip": null,
            "_model_module": "@jupyter-widgets/controls",
            "layout": "IPY_MODEL_9226e60ec2024dafbd91d732dce80f21"
          }
        },
        "52f6561a4aa1489f8c6bd69af408bbfa": {
          "model_module": "@jupyter-widgets/controls",
          "model_name": "ProgressStyleModel",
          "state": {
            "_view_name": "StyleView",
            "_model_name": "ProgressStyleModel",
            "description_width": "initial",
            "_view_module": "@jupyter-widgets/base",
            "_model_module_version": "1.5.0",
            "_view_count": null,
            "_view_module_version": "1.2.0",
            "bar_color": null,
            "_model_module": "@jupyter-widgets/controls"
          }
        },
        "3759dfa2dd3b458abf214ace3dbead37": {
          "model_module": "@jupyter-widgets/base",
          "model_name": "LayoutModel",
          "state": {
            "_view_name": "LayoutView",
            "grid_template_rows": null,
            "right": null,
            "justify_content": null,
            "_view_module": "@jupyter-widgets/base",
            "overflow": null,
            "_model_module_version": "1.2.0",
            "_view_count": null,
            "flex_flow": null,
            "width": null,
            "min_width": null,
            "border": null,
            "align_items": null,
            "bottom": null,
            "_model_module": "@jupyter-widgets/base",
            "top": null,
            "grid_column": null,
            "overflow_y": null,
            "overflow_x": null,
            "grid_auto_flow": null,
            "grid_area": null,
            "grid_template_columns": null,
            "flex": null,
            "_model_name": "LayoutModel",
            "justify_items": null,
            "grid_row": null,
            "max_height": null,
            "align_content": null,
            "visibility": null,
            "align_self": null,
            "height": null,
            "min_height": null,
            "padding": null,
            "grid_auto_rows": null,
            "grid_gap": null,
            "max_width": null,
            "order": null,
            "_view_module_version": "1.2.0",
            "grid_template_areas": null,
            "object_position": null,
            "object_fit": null,
            "grid_auto_columns": null,
            "margin": null,
            "display": null,
            "left": null
          }
        },
        "5c17599e8c4e439eab8daa71b99d7c96": {
          "model_module": "@jupyter-widgets/controls",
          "model_name": "DescriptionStyleModel",
          "state": {
            "_view_name": "StyleView",
            "_model_name": "DescriptionStyleModel",
            "description_width": "",
            "_view_module": "@jupyter-widgets/base",
            "_model_module_version": "1.5.0",
            "_view_count": null,
            "_view_module_version": "1.2.0",
            "_model_module": "@jupyter-widgets/controls"
          }
        },
        "9226e60ec2024dafbd91d732dce80f21": {
          "model_module": "@jupyter-widgets/base",
          "model_name": "LayoutModel",
          "state": {
            "_view_name": "LayoutView",
            "grid_template_rows": null,
            "right": null,
            "justify_content": null,
            "_view_module": "@jupyter-widgets/base",
            "overflow": null,
            "_model_module_version": "1.2.0",
            "_view_count": null,
            "flex_flow": null,
            "width": null,
            "min_width": null,
            "border": null,
            "align_items": null,
            "bottom": null,
            "_model_module": "@jupyter-widgets/base",
            "top": null,
            "grid_column": null,
            "overflow_y": null,
            "overflow_x": null,
            "grid_auto_flow": null,
            "grid_area": null,
            "grid_template_columns": null,
            "flex": null,
            "_model_name": "LayoutModel",
            "justify_items": null,
            "grid_row": null,
            "max_height": null,
            "align_content": null,
            "visibility": null,
            "align_self": null,
            "height": null,
            "min_height": null,
            "padding": null,
            "grid_auto_rows": null,
            "grid_gap": null,
            "max_width": null,
            "order": null,
            "_view_module_version": "1.2.0",
            "grid_template_areas": null,
            "object_position": null,
            "object_fit": null,
            "grid_auto_columns": null,
            "margin": null,
            "display": null,
            "left": null
          }
        }
      }
    }
  },
  "cells": [
    {
      "cell_type": "markdown",
      "metadata": {
        "id": "view-in-github",
        "colab_type": "text"
      },
      "source": [
        "<a href=\"https://colab.research.google.com/github/mrinaaall/OkCupid/blob/main/OkCupid.ipynb\" target=\"_parent\"><img src=\"https://colab.research.google.com/assets/colab-badge.svg\" alt=\"Open In Colab\"/></a>"
      ]
    },
    {
      "cell_type": "code",
      "metadata": {
        "id": "QyHtTEal0pQE"
      },
      "source": [
        "import pandas as pd\n",
        "import numpy as np\n",
        "import matplotlib.pyplot as plt\n",
        "import plotly.express as px\n",
        "import datetime\n",
        "from sklearn.feature_extraction.text import CountVectorizer\n",
        "from sklearn.decomposition import LatentDirichletAllocation\n",
        "import plotly.express as px\n",
        "import matplotlib.pyplot as plt\n",
        "from sklearn.preprocessing import MinMaxScaler\n",
        "from sklearn.decomposition import PCA"
      ],
      "execution_count": 2,
      "outputs": []
    },
    {
      "cell_type": "code",
      "metadata": {
        "id": "NshEuVM005lw"
      },
      "source": [
        "missing_values = [\"n/a\", \"na\", \"--\", '-1', \"NaN\"]\n",
        "profile_data = pd.read_csv('/content/drive/MyDrive/profiles.csv', encoding = 'utf8', na_values = missing_values)"
      ],
      "execution_count": 3,
      "outputs": []
    },
    {
      "cell_type": "code",
      "metadata": {
        "id": "XZ5UfXWv4j9T",
        "colab": {
          "base_uri": "https://localhost:8080/"
        },
        "outputId": "0639477f-c6b0-4226-ec30-cb97d543f36a"
      },
      "source": [
        "profile_data.columns"
      ],
      "execution_count": 4,
      "outputs": [
        {
          "output_type": "execute_result",
          "data": {
            "text/plain": [
              "Index(['age', 'body_type', 'diet', 'drinks', 'drugs', 'education', 'essay0',\n",
              "       'essay1', 'essay2', 'essay3', 'essay4', 'essay5', 'essay6', 'essay7',\n",
              "       'essay8', 'essay9', 'ethnicity', 'height', 'income', 'job',\n",
              "       'last_online', 'location', 'offspring', 'orientation', 'pets',\n",
              "       'religion', 'sex', 'sign', 'smokes', 'speaks', 'status'],\n",
              "      dtype='object')"
            ]
          },
          "metadata": {
            "tags": []
          },
          "execution_count": 4
        }
      ]
    },
    {
      "cell_type": "code",
      "metadata": {
        "colab": {
          "base_uri": "https://localhost:8080/",
          "height": 717
        },
        "id": "WeW3oflBQTe0",
        "outputId": "e2b1d001-c0d6-427d-a215-815b4dd95177"
      },
      "source": [
        "profile_data.head()"
      ],
      "execution_count": 5,
      "outputs": [
        {
          "output_type": "execute_result",
          "data": {
            "text/html": [
              "<div>\n",
              "<style scoped>\n",
              "    .dataframe tbody tr th:only-of-type {\n",
              "        vertical-align: middle;\n",
              "    }\n",
              "\n",
              "    .dataframe tbody tr th {\n",
              "        vertical-align: top;\n",
              "    }\n",
              "\n",
              "    .dataframe thead th {\n",
              "        text-align: right;\n",
              "    }\n",
              "</style>\n",
              "<table border=\"1\" class=\"dataframe\">\n",
              "  <thead>\n",
              "    <tr style=\"text-align: right;\">\n",
              "      <th></th>\n",
              "      <th>age</th>\n",
              "      <th>body_type</th>\n",
              "      <th>diet</th>\n",
              "      <th>drinks</th>\n",
              "      <th>drugs</th>\n",
              "      <th>education</th>\n",
              "      <th>essay0</th>\n",
              "      <th>essay1</th>\n",
              "      <th>essay2</th>\n",
              "      <th>essay3</th>\n",
              "      <th>essay4</th>\n",
              "      <th>essay5</th>\n",
              "      <th>essay6</th>\n",
              "      <th>essay7</th>\n",
              "      <th>essay8</th>\n",
              "      <th>essay9</th>\n",
              "      <th>ethnicity</th>\n",
              "      <th>height</th>\n",
              "      <th>income</th>\n",
              "      <th>job</th>\n",
              "      <th>last_online</th>\n",
              "      <th>location</th>\n",
              "      <th>offspring</th>\n",
              "      <th>orientation</th>\n",
              "      <th>pets</th>\n",
              "      <th>religion</th>\n",
              "      <th>sex</th>\n",
              "      <th>sign</th>\n",
              "      <th>smokes</th>\n",
              "      <th>speaks</th>\n",
              "      <th>status</th>\n",
              "    </tr>\n",
              "  </thead>\n",
              "  <tbody>\n",
              "    <tr>\n",
              "      <th>0</th>\n",
              "      <td>22</td>\n",
              "      <td>a little extra</td>\n",
              "      <td>strictly anything</td>\n",
              "      <td>socially</td>\n",
              "      <td>never</td>\n",
              "      <td>working on college/university</td>\n",
              "      <td>about me:&lt;br /&gt;\\n&lt;br /&gt;\\ni would love to think...</td>\n",
              "      <td>currently working as an international agent fo...</td>\n",
              "      <td>making people laugh.&lt;br /&gt;\\nranting about a go...</td>\n",
              "      <td>the way i look. i am a six foot half asian, ha...</td>\n",
              "      <td>books:&lt;br /&gt;\\nabsurdistan, the republic, of mi...</td>\n",
              "      <td>food.&lt;br /&gt;\\nwater.&lt;br /&gt;\\ncell phone.&lt;br /&gt;\\n...</td>\n",
              "      <td>duality and humorous things</td>\n",
              "      <td>trying to find someone to hang out with. i am ...</td>\n",
              "      <td>i am new to california and looking for someone...</td>\n",
              "      <td>you want to be swept off your feet!&lt;br /&gt;\\nyou...</td>\n",
              "      <td>asian, white</td>\n",
              "      <td>75.0</td>\n",
              "      <td>NaN</td>\n",
              "      <td>transportation</td>\n",
              "      <td>2012-06-28-20-30</td>\n",
              "      <td>south san francisco, california</td>\n",
              "      <td>doesn&amp;rsquo;t have kids, but might want them</td>\n",
              "      <td>straight</td>\n",
              "      <td>likes dogs and likes cats</td>\n",
              "      <td>agnosticism and very serious about it</td>\n",
              "      <td>m</td>\n",
              "      <td>gemini</td>\n",
              "      <td>sometimes</td>\n",
              "      <td>english</td>\n",
              "      <td>single</td>\n",
              "    </tr>\n",
              "    <tr>\n",
              "      <th>1</th>\n",
              "      <td>35</td>\n",
              "      <td>average</td>\n",
              "      <td>mostly other</td>\n",
              "      <td>often</td>\n",
              "      <td>sometimes</td>\n",
              "      <td>working on space camp</td>\n",
              "      <td>i am a chef: this is what that means.&lt;br /&gt;\\n1...</td>\n",
              "      <td>dedicating everyday to being an unbelievable b...</td>\n",
              "      <td>being silly. having ridiculous amonts of fun w...</td>\n",
              "      <td>NaN</td>\n",
              "      <td>i am die hard christopher moore fan. i don't r...</td>\n",
              "      <td>delicious porkness in all of its glories.&lt;br /...</td>\n",
              "      <td>NaN</td>\n",
              "      <td>NaN</td>\n",
              "      <td>i am very open and will share just about anyth...</td>\n",
              "      <td>NaN</td>\n",
              "      <td>white</td>\n",
              "      <td>70.0</td>\n",
              "      <td>80000.0</td>\n",
              "      <td>hospitality / travel</td>\n",
              "      <td>2012-06-29-21-41</td>\n",
              "      <td>oakland, california</td>\n",
              "      <td>doesn&amp;rsquo;t have kids, but might want them</td>\n",
              "      <td>straight</td>\n",
              "      <td>likes dogs and likes cats</td>\n",
              "      <td>agnosticism but not too serious about it</td>\n",
              "      <td>m</td>\n",
              "      <td>cancer</td>\n",
              "      <td>no</td>\n",
              "      <td>english (fluently), spanish (poorly), french (...</td>\n",
              "      <td>single</td>\n",
              "    </tr>\n",
              "    <tr>\n",
              "      <th>2</th>\n",
              "      <td>38</td>\n",
              "      <td>thin</td>\n",
              "      <td>anything</td>\n",
              "      <td>socially</td>\n",
              "      <td>NaN</td>\n",
              "      <td>graduated from masters program</td>\n",
              "      <td>i'm not ashamed of much, but writing public te...</td>\n",
              "      <td>i make nerdy software for musicians, artists, ...</td>\n",
              "      <td>improvising in different contexts. alternating...</td>\n",
              "      <td>my large jaw and large glasses are the physica...</td>\n",
              "      <td>okay this is where the cultural matrix gets so...</td>\n",
              "      <td>movement&lt;br /&gt;\\nconversation&lt;br /&gt;\\ncreation&lt;b...</td>\n",
              "      <td>NaN</td>\n",
              "      <td>viewing. listening. dancing. talking. drinking...</td>\n",
              "      <td>when i was five years old, i was known as \"the...</td>\n",
              "      <td>you are bright, open, intense, silly, ironic, ...</td>\n",
              "      <td>NaN</td>\n",
              "      <td>68.0</td>\n",
              "      <td>NaN</td>\n",
              "      <td>NaN</td>\n",
              "      <td>2012-06-27-09-10</td>\n",
              "      <td>san francisco, california</td>\n",
              "      <td>NaN</td>\n",
              "      <td>straight</td>\n",
              "      <td>has cats</td>\n",
              "      <td>NaN</td>\n",
              "      <td>m</td>\n",
              "      <td>pisces but it doesn&amp;rsquo;t matter</td>\n",
              "      <td>no</td>\n",
              "      <td>english, french, c++</td>\n",
              "      <td>available</td>\n",
              "    </tr>\n",
              "    <tr>\n",
              "      <th>3</th>\n",
              "      <td>23</td>\n",
              "      <td>thin</td>\n",
              "      <td>vegetarian</td>\n",
              "      <td>socially</td>\n",
              "      <td>NaN</td>\n",
              "      <td>working on college/university</td>\n",
              "      <td>i work in a library and go to school. . .</td>\n",
              "      <td>reading things written by old dead people</td>\n",
              "      <td>playing synthesizers and organizing books acco...</td>\n",
              "      <td>socially awkward but i do my best</td>\n",
              "      <td>bataille, celine, beckett. . .&lt;br /&gt;\\nlynch, j...</td>\n",
              "      <td>NaN</td>\n",
              "      <td>cats and german philosophy</td>\n",
              "      <td>NaN</td>\n",
              "      <td>NaN</td>\n",
              "      <td>you feel so inclined.</td>\n",
              "      <td>white</td>\n",
              "      <td>71.0</td>\n",
              "      <td>20000.0</td>\n",
              "      <td>student</td>\n",
              "      <td>2012-06-28-14-22</td>\n",
              "      <td>berkeley, california</td>\n",
              "      <td>doesn&amp;rsquo;t want kids</td>\n",
              "      <td>straight</td>\n",
              "      <td>likes cats</td>\n",
              "      <td>NaN</td>\n",
              "      <td>m</td>\n",
              "      <td>pisces</td>\n",
              "      <td>no</td>\n",
              "      <td>english, german (poorly)</td>\n",
              "      <td>single</td>\n",
              "    </tr>\n",
              "    <tr>\n",
              "      <th>4</th>\n",
              "      <td>29</td>\n",
              "      <td>athletic</td>\n",
              "      <td>NaN</td>\n",
              "      <td>socially</td>\n",
              "      <td>never</td>\n",
              "      <td>graduated from college/university</td>\n",
              "      <td>hey how's it going? currently vague on the pro...</td>\n",
              "      <td>work work work work + play</td>\n",
              "      <td>creating imagery to look at:&lt;br /&gt;\\nhttp://bag...</td>\n",
              "      <td>i smile a lot and my inquisitive nature</td>\n",
              "      <td>music: bands, rappers, musicians&lt;br /&gt;\\nat the...</td>\n",
              "      <td>NaN</td>\n",
              "      <td>NaN</td>\n",
              "      <td>NaN</td>\n",
              "      <td>NaN</td>\n",
              "      <td>NaN</td>\n",
              "      <td>asian, black, other</td>\n",
              "      <td>66.0</td>\n",
              "      <td>NaN</td>\n",
              "      <td>artistic / musical / writer</td>\n",
              "      <td>2012-06-27-21-26</td>\n",
              "      <td>san francisco, california</td>\n",
              "      <td>NaN</td>\n",
              "      <td>straight</td>\n",
              "      <td>likes dogs and likes cats</td>\n",
              "      <td>NaN</td>\n",
              "      <td>m</td>\n",
              "      <td>aquarius</td>\n",
              "      <td>no</td>\n",
              "      <td>english</td>\n",
              "      <td>single</td>\n",
              "    </tr>\n",
              "  </tbody>\n",
              "</table>\n",
              "</div>"
            ],
            "text/plain": [
              "   age  ...     status\n",
              "0   22  ...     single\n",
              "1   35  ...     single\n",
              "2   38  ...  available\n",
              "3   23  ...     single\n",
              "4   29  ...     single\n",
              "\n",
              "[5 rows x 31 columns]"
            ]
          },
          "metadata": {
            "tags": []
          },
          "execution_count": 5
        }
      ]
    },
    {
      "cell_type": "markdown",
      "metadata": {
        "id": "SqV1xyephCor"
      },
      "source": [
        "As evident from the the cell above, we can see that there are missing values which can be handled later. In addition to that the text data isn't clean and requires preprocessing before we move forward with any EDA or recommendation modeling. "
      ]
    },
    {
      "cell_type": "code",
      "metadata": {
        "id": "8NuYhDPJMb2C"
      },
      "source": [
        "# Eliminating the Chained Assignment error.\n",
        "pd.set_option('mode.chained_assignment', None)"
      ],
      "execution_count": 6,
      "outputs": []
    },
    {
      "cell_type": "markdown",
      "metadata": {
        "id": "Z8zJyUpaiVun"
      },
      "source": [
        "Handling missing values:\n",
        "\n",
        "Approach 1: Drop all missing values and move forward with preprocessing, feature engineering and modeling. \n",
        "Approach 2: Handle quantitative missing values by imputing mean and handle categorical missing values by replacing NaN with mode values. This might lead to some bias, but that can be handled later.\n",
        "\n",
        "Since I was a little short on time, I decided to move ahead with Approach 1.. leaving room for improvement by coming back to Approach 2 later."
      ]
    },
    {
      "cell_type": "code",
      "metadata": {
        "id": "3Ik0EiEUsOxp"
      },
      "source": [
        "profile_data = profile_data.dropna()"
      ],
      "execution_count": 7,
      "outputs": []
    },
    {
      "cell_type": "markdown",
      "metadata": {
        "id": "ub5WeaEkXngZ"
      },
      "source": [
        "-----------------------"
      ]
    },
    {
      "cell_type": "markdown",
      "metadata": {
        "id": "j1ajawdCZgFj"
      },
      "source": [
        "Preprocessing and Feature Engineering (Demographics):"
      ]
    },
    {
      "cell_type": "code",
      "metadata": {
        "id": "Bsje2YEd2-H4"
      },
      "source": [
        "'''\n",
        "last_online: last active date and time of a user\n",
        "\n",
        "1. Create a date-time object.\n",
        "2. Split DATETIME instance of last_online into two separate columns : 'Date' and 'Time'.\n",
        "3. Split Date into Day, Month and Year for a more specific breakdown of data to obtain the best insights.\n",
        "'''\n",
        "profile_data['last_online'] = pd.to_datetime(profile_data.last_online, format='%Y-%m-%d-%H-%M')\n",
        "\n",
        "# Splitting DATETIME instance of last_online into Date AND Time.\n",
        "profile_data['last_date_online'] = pd.to_datetime(profile_data['last_online']).dt.date\n",
        "profile_data['last_time_online'] = pd.to_datetime(profile_data['last_online']).dt.time\n",
        "\n",
        "# Splitting date into Day, Month, and Year.\n",
        "profile_data['year'] = pd.to_datetime(profile_data['last_date_online']).dt.year\n",
        "profile_data['month'] = pd.to_datetime(profile_data['last_date_online']).dt.month\n",
        "profile_data['day'] = pd.to_datetime(profile_data['last_date_online']).dt.day"
      ],
      "execution_count": 8,
      "outputs": []
    },
    {
      "cell_type": "markdown",
      "metadata": {
        "id": "x02ChxwmXBzS"
      },
      "source": [
        "--------------------------------------"
      ]
    },
    {
      "cell_type": "code",
      "metadata": {
        "id": "1nCHBUKDMaqT"
      },
      "source": [
        "'''\u0010\n",
        "location: gives a users location but with city and state\n",
        "\n",
        "1. Separate the feature 'location' into two new features : City and State.\n",
        "2. DROP State (later in the cells below), since this data is for JUST California users.\n",
        "'''\n",
        "location_separated = profile_data[\"location\"].str.split(\", \", n = 1, expand = True)\n",
        "profile_data['city'] = location_separated[0]\n",
        "profile_data['state'] = location_separated[1]"
      ],
      "execution_count": 9,
      "outputs": []
    },
    {
      "cell_type": "markdown",
      "metadata": {
        "id": "pm2W7g63XRZp"
      },
      "source": [
        "-------------------------------------------"
      ]
    },
    {
      "cell_type": "code",
      "metadata": {
        "id": "H8MNZS7vKVal"
      },
      "source": [
        "'''\n",
        "Retaining the religion eliminating additional information to keep it specific to just religion values\n",
        "'''\n",
        "profile_data['religion'] = profile_data['religion'].str.split(' ').str[0]"
      ],
      "execution_count": 10,
      "outputs": []
    },
    {
      "cell_type": "markdown",
      "metadata": {
        "id": "6O15zVPEYhu9"
      },
      "source": [
        "---------------------"
      ]
    },
    {
      "cell_type": "code",
      "metadata": {
        "id": "RW7WCV5H1q7M"
      },
      "source": [
        "'''\n",
        "Retaining JUST the zodiac sign eliminating additional information.\n",
        "'''\n",
        "profile_data['sign'] = profile_data['sign'].str.split(' ').str[0]"
      ],
      "execution_count": 11,
      "outputs": []
    },
    {
      "cell_type": "markdown",
      "metadata": {
        "id": "8XIIHyX3YwSY"
      },
      "source": [
        "----------------"
      ]
    },
    {
      "cell_type": "code",
      "metadata": {
        "id": "r7MECSDsIJ9c"
      },
      "source": [
        "'''\n",
        "speaks: languages that a user speaks\n",
        "\n",
        "1. Explode the feature 'language' into multiple columns - each column containing one language that they speak.\n",
        "2. Convert it to TYPE String.\n",
        "3. Eliminate 'fluency' from languages for a base model.\n",
        "Future Work: Fluency can definitely be weighed in later to recommend profiles based on fluency levels.\n",
        "'''\n",
        "languages_separated = profile_data['speaks'].str.split(\", \", n = 5, expand = True)\n",
        "\n",
        "profile_data['language_1'] = languages_separated[0]\n",
        "profile_data['language_2'] = languages_separated[1]\n",
        "profile_data['language_3'] = languages_separated[2]\n",
        "profile_data['language_4'] = languages_separated[3]\n",
        "profile_data['language_5'] = languages_separated[4]\n",
        "\n",
        "'''\n",
        "Converting type to STRING:\n",
        "'''\n",
        "profile_data['language_1']=profile_data['language_1'].apply(str)\n",
        "profile_data['language_2']=profile_data['language_2'].apply(str)\n",
        "profile_data['language_3']=profile_data['language_3'].apply(str)\n",
        "profile_data['language_4']=profile_data['language_4'].apply(str)\n",
        "profile_data['language_5']=profile_data['language_5'].apply(str)\n",
        "\n",
        "\n",
        "# Eliminating fluency levels in languages to obtain one single language\"\n",
        "# Importing re package for using regular expressions \n",
        "import re \n",
        "  \n",
        "# Function to clean the names \n",
        "def language_names(language_name): \n",
        "    # Search for opening bracket in the name followed by any characters repeated any number of times \n",
        "    if re.search('\\(.*', language_name): \n",
        "  \n",
        "        # Extract the position of beginning of pattern \n",
        "        pos = re.search('\\(.*', language_name).start() \n",
        "  \n",
        "        # return the cleaned name \n",
        "        return language_name[:pos] \n",
        "  \n",
        "    else: \n",
        "        # if clean up needed return the same name \n",
        "        return language_name \n",
        "          \n",
        "# Updating dataframes with clean text.\n",
        "profile_data['language_1'] = profile_data['language_1'].apply(language_names) \n",
        "profile_data['language_2'] = profile_data['language_2'].apply(language_names) \n",
        "profile_data['language_3'] = profile_data['language_3'].apply(language_names) \n",
        "profile_data['language_4'] = profile_data['language_4'].apply(language_names) \n",
        "profile_data['language_5'] = profile_data['language_5'].apply(language_names) \n",
        "\n",
        "# Getting rid of SPACE post eliminating FLUENCY.\n",
        "profile_data['language_1'] = profile_data['language_1'].str.replace(\" \", \"\")\n",
        "profile_data['language_2'] = profile_data['language_2'].str.replace(\" \", \"\")\n",
        "profile_data['language_3'] = profile_data['language_3'].str.replace(\" \", \"\")\n",
        "profile_data['language_4'] = profile_data['language_4'].str.replace(\" \", \"\")\n",
        "profile_data['language_5'] = profile_data['language_5'].str.replace(\" \", \"\")"
      ],
      "execution_count": 12,
      "outputs": []
    },
    {
      "cell_type": "markdown",
      "metadata": {
        "id": "aybBSHU5p7-q"
      },
      "source": [
        "---------"
      ]
    },
    {
      "cell_type": "code",
      "metadata": {
        "id": "HzZud37jpZCZ"
      },
      "source": [
        "'''\n",
        "1. Clean the column offspring by eliminating (characters &rsquo;) from text.\n",
        "'''\n",
        "profile_data[\"offspring\"] = profile_data['offspring'].str.replace(\"&rsquo;\", \"'\")"
      ],
      "execution_count": 13,
      "outputs": []
    },
    {
      "cell_type": "markdown",
      "metadata": {
        "id": "ghtp-nfsKo_n"
      },
      "source": [
        "-----"
      ]
    },
    {
      "cell_type": "code",
      "metadata": {
        "id": "ecLF6foJHdjk"
      },
      "source": [
        "'''\n",
        "height: measured in inches\n",
        "1. Convert height into cms.\n",
        "'''\n",
        "profile_data['height'] = profile_data['height'].apply(lambda x: x*2.54)"
      ],
      "execution_count": 14,
      "outputs": []
    },
    {
      "cell_type": "markdown",
      "metadata": {
        "id": "y3FKy0SeKxMV"
      },
      "source": [
        "--------"
      ]
    },
    {
      "cell_type": "code",
      "metadata": {
        "id": "9HHCELDwlYAS"
      },
      "source": [
        "'''\n",
        "Original columns are dropped post splitting / exploading to avoid redundancy.\n",
        "'''\n",
        "profile_data = profile_data.drop(columns = (['last_online', 'location', 'religion', 'sign', 'speaks', 'state']))"
      ],
      "execution_count": 15,
      "outputs": []
    },
    {
      "cell_type": "markdown",
      "metadata": {
        "id": "WupR1ziRHd14"
      },
      "source": [
        "----------"
      ]
    },
    {
      "cell_type": "code",
      "metadata": {
        "id": "VmTdcR2pPHY1",
        "colab": {
          "base_uri": "https://localhost:8080/"
        },
        "outputId": "60681a81-575b-478d-9b93-d2787ed20f27"
      },
      "source": [
        "'''\n",
        "Get two lists, one with features that have missing values & the other with features that do not have missing values.\n",
        "'''\n",
        "\n",
        "list_of_complete_col = []\n",
        "list_of_missing_cols = []\n",
        "for cols in profile_data.columns:\n",
        "  if profile_data[cols].isna().sum() > 0:\n",
        "    list_of_missing_cols.append(cols)\n",
        "  else:\n",
        "    list_of_complete_col.append(cols)\n",
        "\n",
        "print('Features with complete data: {}'.format(list_of_complete_col))\n",
        "print('Features with missing values: {}'.format(list_of_missing_cols))"
      ],
      "execution_count": 16,
      "outputs": [
        {
          "output_type": "stream",
          "text": [
            "Features with complete data: ['age', 'body_type', 'diet', 'drinks', 'drugs', 'education', 'essay0', 'essay1', 'essay2', 'essay3', 'essay4', 'essay5', 'essay6', 'essay7', 'essay8', 'essay9', 'ethnicity', 'height', 'income', 'job', 'offspring', 'orientation', 'pets', 'sex', 'smokes', 'status', 'last_date_online', 'last_time_online', 'year', 'month', 'day', 'city', 'language_1', 'language_2', 'language_3', 'language_4', 'language_5']\n",
            "Features with missing values: []\n"
          ],
          "name": "stdout"
        }
      ]
    },
    {
      "cell_type": "markdown",
      "metadata": {
        "id": "tlX8J_H1Xigy"
      },
      "source": [
        "-----------------------------"
      ]
    },
    {
      "cell_type": "markdown",
      "metadata": {
        "id": "HRvx6f_-Zae4"
      },
      "source": [
        "Preprocessing Profile Essays to obtain clean textual information."
      ]
    },
    {
      "cell_type": "code",
      "metadata": {
        "id": "DEZN_lc8KVRv"
      },
      "source": [
        "'''\n",
        "preprocess_text: Function to strip html tags, \\n and https from text.\n",
        "params: data_frame\n",
        "'''\n",
        "def preprocess_text(data_frame):\n",
        "  for cols in data_frame.columns:\n",
        "    data_frame[cols] = data_frame[cols].str.replace('<[^<]+?>', ' ', regex = True)\n",
        "    data_frame[cols] = data_frame[cols].str.replace('\\n', ' ')\n",
        "    data_frame[cols] = data_frame[cols].str.replace('\\'', '')\n",
        "\n",
        "  return data_frame"
      ],
      "execution_count": 17,
      "outputs": []
    },
    {
      "cell_type": "code",
      "metadata": {
        "id": "8XuDdw1SS7r2"
      },
      "source": [
        "profile_data[['essay0', 'essay1', 'essay2', 'essay3', 'essay4', 'essay5', 'essay6', 'essay7',\n",
        "                               'essay8', 'essay9']] = preprocess_text(profile_data[['essay0', 'essay1', 'essay2', 'essay3', 'essay4', 'essay5', 'essay6', 'essay7',\n",
        "                               'essay8', 'essay9']])"
      ],
      "execution_count": 18,
      "outputs": []
    },
    {
      "cell_type": "markdown",
      "metadata": {
        "id": "Z5aPWQiM3huF"
      },
      "source": [
        "----------"
      ]
    },
    {
      "cell_type": "markdown",
      "metadata": {
        "id": "tdKlXV8kxCop"
      },
      "source": [
        "Fact: OkCupid asks users a set of questions that best describe themselves.\n",
        "\n",
        "Idea: Why not utilize these responses to understand the general population and use these said topics to filter out profiles for generating recommendations.\n",
        "\n",
        "Topic Modeling: obtain top 5 topics for each response to an essay question, obtaining the most common answers that will aid in matching users based on similar ideas or responses."
      ]
    },
    {
      "cell_type": "markdown",
      "metadata": {
        "id": "B0eqFENJhcCO"
      },
      "source": [
        "-----"
      ]
    },
    {
      "cell_type": "markdown",
      "metadata": {
        "id": "BH3lMpPn2XHF"
      },
      "source": [
        "Wrapping topic modeling in a function:"
      ]
    },
    {
      "cell_type": "code",
      "metadata": {
        "id": "xIoTnly62Wlg"
      },
      "source": [
        "count_vect = CountVectorizer(max_df = 0.8, min_df = 2, stop_words = 'english')\n",
        "LDA = LatentDirichletAllocation(n_components = 5, random_state = 42)"
      ],
      "execution_count": 19,
      "outputs": []
    },
    {
      "cell_type": "code",
      "metadata": {
        "id": "MlCgQbfLxV0p"
      },
      "source": [
        "def topic_modeling(data_frame, cols, count_vectorizer, lda):\n",
        "  '''\n",
        "  Function: To perform topic modeling on multiple columns of a df.\n",
        "  Params: data_frame - Dataframe as an input.\n",
        "          cols - list of columns to obtain topics.\n",
        "  '''\n",
        "\n",
        "  og_data_frame = data_frame.copy()\n",
        "\n",
        "  # Obtaining document term matrix using count_vect as count_vectorizer:\n",
        "  dt_matrix = count_vectorizer.fit_transform(data_frame[cols].values.astype('U'))\n",
        "\n",
        "  # LDA\n",
        "  lda.fit(dt_matrix)\n",
        "  first_topic = lda.components_[0]\n",
        "  top_topic_words = first_topic.argsort()[-10:]\n",
        "  topic_values = lda.transform(dt_matrix)\n",
        "  og_data_frame[str(cols)+'_new'] = topic_values.argmax(axis=1) \n",
        "\n",
        "  return og_data_frame"
      ],
      "execution_count": 20,
      "outputs": []
    },
    {
      "cell_type": "code",
      "metadata": {
        "id": "jIVw-6x84Nvb"
      },
      "source": [
        "asd = profile_data\n",
        "for column in profile_data[['essay0', 'essay1', 'essay2', 'essay3', 'essay4', 'essay5', 'essay6', 'essay7',\n",
        "                               'essay8', 'essay9']]:\n",
        "  asd = topic_modeling(asd, column, count_vect, LDA)"
      ],
      "execution_count": 21,
      "outputs": []
    },
    {
      "cell_type": "code",
      "metadata": {
        "id": "YoCVnF1l4UN6",
        "colab": {
          "base_uri": "https://localhost:8080/"
        },
        "outputId": "a1ae012e-88e8-4bdb-de51-87e759e1fe73"
      },
      "source": [
        "asd.shape"
      ],
      "execution_count": 22,
      "outputs": [
        {
          "output_type": "execute_result",
          "data": {
            "text/plain": [
              "(1424, 47)"
            ]
          },
          "metadata": {
            "tags": []
          },
          "execution_count": 22
        }
      ]
    },
    {
      "cell_type": "code",
      "metadata": {
        "id": "DwR4Ywz2I-bs",
        "colab": {
          "base_uri": "https://localhost:8080/"
        },
        "outputId": "f21e32e4-0d8e-4924-e653-5c2581824657"
      },
      "source": [
        "'''\n",
        "Checking datatypes of columns and appending to the respective list.\n",
        "'''\n",
        "quantitative_var = []\n",
        "categorical_var = []\n",
        "for cols in asd.columns:\n",
        "  if asd[cols].dtype == 'object':\n",
        "    categorical_var.append(cols)\n",
        "  else:\n",
        "    quantitative_var.append(cols)\n",
        "\n",
        "print('Quantitative Features: {0} \\nCategorical Features: {1}'.format(quantitative_var, categorical_var))"
      ],
      "execution_count": 23,
      "outputs": [
        {
          "output_type": "stream",
          "text": [
            "Quantitative Features: ['age', 'height', 'income', 'year', 'month', 'day', 'essay0_new', 'essay1_new', 'essay2_new', 'essay3_new', 'essay4_new', 'essay5_new', 'essay6_new', 'essay7_new', 'essay8_new', 'essay9_new'] \n",
            "Categorical Features: ['body_type', 'diet', 'drinks', 'drugs', 'education', 'essay0', 'essay1', 'essay2', 'essay3', 'essay4', 'essay5', 'essay6', 'essay7', 'essay8', 'essay9', 'ethnicity', 'job', 'offspring', 'orientation', 'pets', 'sex', 'smokes', 'status', 'last_date_online', 'last_time_online', 'city', 'language_1', 'language_2', 'language_3', 'language_4', 'language_5']\n"
          ],
          "name": "stdout"
        }
      ]
    },
    {
      "cell_type": "markdown",
      "metadata": {
        "id": "_PBEIu5Ehsm3"
      },
      "source": [
        "----"
      ]
    },
    {
      "cell_type": "markdown",
      "metadata": {
        "id": "c2IHyv3dhtvR"
      },
      "source": [
        "Vectorizing categorical features to prepare for clustering:"
      ]
    },
    {
      "cell_type": "code",
      "metadata": {
        "id": "QTQ87SF4HGDK"
      },
      "source": [
        "# Instantiating the Vectorizer\n",
        "vectorizer = CountVectorizer()"
      ],
      "execution_count": 24,
      "outputs": []
    },
    {
      "cell_type": "code",
      "metadata": {
        "id": "EDUfOdbXlm8G"
      },
      "source": [
        "# Resetting index to avoid generating NULL values where there is a mismatch of index:\n",
        "asd = asd.reset_index()"
      ],
      "execution_count": 25,
      "outputs": []
    },
    {
      "cell_type": "code",
      "metadata": {
        "id": "OTDP87Jglgnq"
      },
      "source": [
        "asd = asd.drop(columns='index')"
      ],
      "execution_count": 26,
      "outputs": []
    },
    {
      "cell_type": "markdown",
      "metadata": {
        "id": "0u56ZqRGh-MF"
      },
      "source": [
        "Keeping only categorical features that describe something about the profiles:"
      ]
    },
    {
      "cell_type": "code",
      "metadata": {
        "id": "H1xhUWSVlzfh"
      },
      "source": [
        "new_df = asd[['body_type', 'diet', 'drinks', 'drugs', 'education', 'ethnicity', 'job', 'offspring',\n",
        "       'orientation', 'pets', 'smokes', 'status', 'city']]"
      ],
      "execution_count": 27,
      "outputs": []
    },
    {
      "cell_type": "code",
      "metadata": {
        "id": "IqjaDEdnerBz"
      },
      "source": [
        "# print(new_df.columns)\n",
        "for cols in ['body_type', 'diet', 'drinks', 'drugs', 'education', 'ethnicity', 'job', 'offspring',\n",
        "       'orientation', 'pets', 'smokes', 'status', 'city']:\n",
        "       try:\n",
        "         a = vectorizer.fit_transform(new_df[cols])\n",
        "         df_wrds = pd.DataFrame(a.toarray(), columns=vectorizer.get_feature_names())\n",
        "         new_df = pd.concat([new_df, df_wrds], axis=1)\n",
        "         new_df = new_df.drop(cols, axis=1)\n",
        "        #  break\n",
        "       except Exception as e:\n",
        "        print(cols)"
      ],
      "execution_count": 28,
      "outputs": []
    },
    {
      "cell_type": "code",
      "metadata": {
        "colab": {
          "base_uri": "https://localhost:8080/"
        },
        "id": "YNfgNBdbcfRQ",
        "outputId": "78065e13-0358-4e21-93e0-c143519d5422"
      },
      "source": [
        "new_df.shape"
      ],
      "execution_count": 29,
      "outputs": [
        {
          "output_type": "execute_result",
          "data": {
            "text/plain": [
              "(1424, 231)"
            ]
          },
          "metadata": {
            "tags": []
          },
          "execution_count": 29
        }
      ]
    },
    {
      "cell_type": "markdown",
      "metadata": {
        "id": "XwgFAb7-iJ8w"
      },
      "source": [
        "----"
      ]
    },
    {
      "cell_type": "markdown",
      "metadata": {
        "id": "BR5BmZcviK_2"
      },
      "source": [
        "Standardization and PCA:"
      ]
    },
    {
      "cell_type": "code",
      "metadata": {
        "id": "5_nQyjh_naUi"
      },
      "source": [
        "scaler = MinMaxScaler()\n",
        "vect_df = pd.DataFrame(scaler.fit_transform(new_df), index=new_df.index, columns=new_df.columns)"
      ],
      "execution_count": 30,
      "outputs": []
    },
    {
      "cell_type": "code",
      "metadata": {
        "colab": {
          "base_uri": "https://localhost:8080/",
          "height": 296
        },
        "id": "V1x4BdlqJdMJ",
        "outputId": "c9b2ce56-4b89-43d1-c0d4-f443ef690dc3"
      },
      "source": [
        "# Instantiating PCA\n",
        "pca = PCA()\n",
        "\n",
        "# Fitting and Transforming the DF\n",
        "df_pca = pca.fit_transform(vect_df)\n",
        "\n",
        "# Plotting to determine how many features should the dataset be reduced to\n",
        "plt.style.use(\"bmh\")\n",
        "plt.figure(figsize=(14,4))\n",
        "plt.plot(range(1,new_df.shape[1]+1), pca.explained_variance_ratio_.cumsum())\n",
        "plt.show()\n",
        "\n",
        "# Finding the exact number of features that explain at least 95% of the variance in the dataset\n",
        "total_explained_variance = pca.explained_variance_ratio_.cumsum()\n",
        "n_over_95 = len(total_explained_variance[total_explained_variance>=.95])\n",
        "n_to_reach_95 = new_df.shape[1] - n_over_95\n",
        "\n",
        "print(f\"Number features: {n_to_reach_95}\\nTotal Variance Explained: {total_explained_variance[n_to_reach_95]}\")"
      ],
      "execution_count": 31,
      "outputs": [
        {
          "output_type": "display_data",
          "data": {
            "image/png": "[encoded data removed]",
            "text/plain": [
              "<Figure size 1008x288 with 1 Axes>"
            ]
          },
          "metadata": {
            "tags": [],
            "needs_background": "light"
          }
        },
        {
          "output_type": "stream",
          "text": [
            "Number features: 70\n",
            "Total Variance Explained: 0.9507685163008079\n"
          ],
          "name": "stdout"
        }
      ]
    },
    {
      "cell_type": "code",
      "metadata": {
        "colab": {
          "base_uri": "https://localhost:8080/"
        },
        "id": "dvzbG_RIXOg5",
        "outputId": "549e73a0-ed4d-4a16-eed8-dece121f44ee"
      },
      "source": [
        "# Instantiating PCA\n",
        "pca = PCA()\n",
        "\n",
        "# Fitting and Transforming the DF\n",
        "df_pca = pca.fit_transform(vect_df)\n",
        "\n",
        "# Finding the exact number of features that explain at least 99% of the variance in the dataset\n",
        "total_explained_variance = pca.explained_variance_ratio_.cumsum()\n",
        "n_over_9 = len(total_explained_variance[total_explained_variance>=.99])\n",
        "n_to_reach_9 = vect_df.shape[1] - n_over_9\n",
        "\n",
        "print(\"PCA reduces the # of features from\", vect_df.shape[1], 'to', n_to_reach_9)\n",
        "\n",
        "# Reducing the dataset to the number of features determined before\n",
        "pca = PCA(n_components=n_to_reach_9)\n",
        "\n",
        "# Fitting and transforming the dataset to the stated number of features\n",
        "df_pca = pca.fit_transform(vect_df)\n",
        "\n",
        "# Seeing the variance ratio that still remains after the dataset has been reduced\n",
        "pca.explained_variance_ratio_.cumsum()[-1]"
      ],
      "execution_count": 32,
      "outputs": [
        {
          "output_type": "stream",
          "text": [
            "PCA reduces the # of features from 231 to 106\n"
          ],
          "name": "stdout"
        },
        {
          "output_type": "execute_result",
          "data": {
            "text/plain": [
              "0.9899694592722716"
            ]
          },
          "metadata": {
            "tags": []
          },
          "execution_count": 32
        }
      ]
    },
    {
      "cell_type": "markdown",
      "metadata": {
        "id": "yuidsDr7iTg_"
      },
      "source": [
        "----"
      ]
    },
    {
      "cell_type": "markdown",
      "metadata": {
        "id": "9FQ3u3OLiUmI"
      },
      "source": [
        "Hierarchical Agglomerative Clustering:"
      ]
    },
    {
      "cell_type": "code",
      "metadata": {
        "id": "xqrabRlnpdPT"
      },
      "source": [
        "# from tqdm import tqdm_notebook as tqdm\n",
        "from tqdm.notebook import tqdm\n",
        "from sklearn.cluster import AgglomerativeClustering, KMeans\n",
        "from sklearn.metrics import calinski_harabasz_score, silhouette_score, davies_bouldin_score\n",
        "from sklearn.preprocessing import MinMaxScaler"
      ],
      "execution_count": 33,
      "outputs": []
    },
    {
      "cell_type": "code",
      "metadata": {
        "colab": {
          "base_uri": "https://localhost:8080/",
          "height": 66,
          "referenced_widgets": [
            "b3ca9b5b5144495bb2410e2c35797fcd",
            "854c745f56634f2ead198134f8db1a65",
            "18926e2e7fe245aa8a384f28703df042",
            "3044ecf18ce64321ad8114cfb84d113b",
            "52f6561a4aa1489f8c6bd69af408bbfa",
            "3759dfa2dd3b458abf214ace3dbead37",
            "5c17599e8c4e439eab8daa71b99d7c96",
            "9226e60ec2024dafbd91d732dce80f21"
          ]
        },
        "id": "22wBijA0oykp",
        "outputId": "7e6545a6-df87-48a4-8bbe-4a681a4cdbe1"
      },
      "source": [
        "# Setting the amount of clusters to test out\n",
        "cluster_cnt = [i for i in range(2, 11, 1)]\n",
        "\n",
        "# Establishing empty lists to store the scores for the evaluation metrics\n",
        "ch_scores = []\n",
        "\n",
        "s_scores = []\n",
        "\n",
        "db_scores = []\n",
        "\n",
        "# The DF for evaluation\n",
        "eval_df = df_pca\n",
        "\n",
        "# Looping through different iterations for the number of clusters\n",
        "for i in tqdm(cluster_cnt):\n",
        "    \n",
        "    # Clustering with different number of clusters\n",
        "    clust = AgglomerativeClustering(n_clusters=i, linkage='complete')\n",
        "    clust.fit(eval_df)\n",
        "    cluster_assignments = clust.labels_\n",
        "    \n",
        "    # Appending the scores to the empty lists\n",
        "    ch_scores.append(calinski_harabasz_score(eval_df, cluster_assignments))\n",
        "    s_scores.append(silhouette_score(eval_df, cluster_assignments))\n",
        "    db_scores.append(davies_bouldin_score(eval_df, cluster_assignments))"
      ],
      "execution_count": 34,
      "outputs": [
        {
          "output_type": "display_data",
          "data": {
            "application/vnd.jupyter.widget-view+json": {
              "model_id": "b3ca9b5b5144495bb2410e2c35797fcd",
              "version_minor": 0,
              "version_major": 2
            },
            "text/plain": [
              "HBox(children=(FloatProgress(value=0.0, max=9.0), HTML(value='')))"
            ]
          },
          "metadata": {
            "tags": []
          }
        },
        {
          "output_type": "stream",
          "text": [
            "\n"
          ],
          "name": "stdout"
        }
      ]
    },
    {
      "cell_type": "code",
      "metadata": {
        "id": "wdAqwiwfo1pg"
      },
      "source": [
        "def cluster_eval(y, x):\n",
        "    \"\"\"\n",
        "    Prints the scores of a set evaluation metric. Prints out the max and min values of the evaluation scores.\n",
        "    \"\"\"\n",
        "    \n",
        "    # Creating a DataFrame for returning the max and min scores for each cluster\n",
        "    df = pd.DataFrame(columns=['Cluster Score'], index=[i for i in range(2, len(y)+2)])\n",
        "    df['Cluster Score'] = y\n",
        "    \n",
        "    print('Max Value:\\nCluster #', df[df['Cluster Score']==df['Cluster Score'].max()])\n",
        "    print('\\nMin Value:\\nCluster #', df[df['Cluster Score']==df['Cluster Score'].min()])\n",
        "    \n",
        "    # Plotting out the scores based on cluster count\n",
        "    plt.figure(figsize=(16,6))\n",
        "    plt.style.use('bmh')\n",
        "    plt.plot(x,y)\n",
        "    plt.xlabel('# of Clusters')\n",
        "    plt.ylabel('Score')\n",
        "    plt.show()"
      ],
      "execution_count": 35,
      "outputs": []
    },
    {
      "cell_type": "code",
      "metadata": {
        "colab": {
          "base_uri": "https://localhost:8080/",
          "height": 1000
        },
        "id": "sc8nvIaMrZUZ",
        "outputId": "a3e4c033-264c-45a9-a0bc-94b433a8e28c"
      },
      "source": [
        "print(\"The Calinski-Harabasz Score (find max score):\")\n",
        "cluster_eval(ch_scores, cluster_cnt)\n",
        "\n",
        "print(\"\\nThe Silhouette Coefficient Score (find max score):\")\n",
        "cluster_eval(s_scores, cluster_cnt)\n",
        "\n",
        "print(\"\\nThe Davies-Bouldin Score (find minimum score):\")\n",
        "cluster_eval(db_scores, cluster_cnt)"
      ],
      "execution_count": 36,
      "outputs": [
        {
          "output_type": "stream",
          "text": [
            "The Calinski-Harabasz Score (find max score):\n",
            "Max Value:\n",
            "Cluster #    Cluster Score\n",
            "3       37.03276\n",
            "\n",
            "Min Value:\n",
            "Cluster #     Cluster Score\n",
            "10      20.101704\n"
          ],
          "name": "stdout"
        },
        {
          "output_type": "display_data",
          "data": {
            "image/png": "[encoded data removed]",
            "text/plain": [
              "<Figure size 1152x432 with 1 Axes>"
            ]
          },
          "metadata": {
            "tags": [],
            "needs_background": "light"
          }
        },
        {
          "output_type": "stream",
          "text": [
            "\n",
            "The Silhouette Coefficient Score (find max score):\n",
            "Max Value:\n",
            "Cluster #    Cluster Score\n",
            "2       0.079041\n",
            "\n",
            "Min Value:\n",
            "Cluster #     Cluster Score\n",
            "10       0.015375\n"
          ],
          "name": "stdout"
        },
        {
          "output_type": "display_data",
          "data": {
            "image/png": "[encoded data removed]",
            "text/plain": [
              "<Figure size 1152x432 with 1 Axes>"
            ]
          },
          "metadata": {
            "tags": [],
            "needs_background": "light"
          }
        },
        {
          "output_type": "stream",
          "text": [
            "\n",
            "The Davies-Bouldin Score (find minimum score):\n",
            "Max Value:\n",
            "Cluster #    Cluster Score\n",
            "3       5.083075\n",
            "\n",
            "Min Value:\n",
            "Cluster #    Cluster Score\n",
            "9       3.647525\n"
          ],
          "name": "stdout"
        },
        {
          "output_type": "display_data",
          "data": {
            "image/png": "[encoded data removed]",
            "text/plain": [
              "<Figure size 1152x432 with 1 Axes>"
            ]
          },
          "metadata": {
            "tags": [],
            "needs_background": "light"
          }
        }
      ]
    },
    {
      "cell_type": "markdown",
      "metadata": {
        "id": "uQSY88Yqtwnu"
      },
      "source": [
        "Visualizing scores given the number of clusters. Using ELBOW method we can figure out the ideal number of clusters."
      ]
    },
    {
      "cell_type": "code",
      "metadata": {
        "id": "Dv5qHtQhrcws"
      },
      "source": [
        "# Instantiating HAC based on the optimum number of clusters found\n",
        "hac = AgglomerativeClustering(n_clusters=5, linkage='complete')\n",
        "\n",
        "# Fitting\n",
        "hac.fit(df_pca)\n",
        "\n",
        "# Getting cluster assignments\n",
        "cluster_assignments = hac.labels_\n",
        "\n",
        "# Assigning the clusters to each profile\n",
        "asd['Cluster #'] = cluster_assignments\n",
        "\n",
        "vect_df['Cluster #'] = cluster_assignments"
      ],
      "execution_count": 37,
      "outputs": []
    },
    {
      "cell_type": "markdown",
      "metadata": {
        "id": "CQBbfA9gjrkf"
      },
      "source": [
        "----"
      ]
    },
    {
      "cell_type": "markdown",
      "metadata": {
        "id": "WyrA5eBrjs3S"
      },
      "source": [
        "Cluster column representing data points in the respective cluster."
      ]
    },
    {
      "cell_type": "code",
      "metadata": {
        "colab": {
          "base_uri": "https://localhost:8080/"
        },
        "id": "YBi4QWh4tHR-",
        "outputId": "f0ca24bb-6a78-4c3f-d0c5-0f7daee54798"
      },
      "source": [
        "asd['Cluster #']"
      ],
      "execution_count": 38,
      "outputs": [
        {
          "output_type": "execute_result",
          "data": {
            "text/plain": [
              "0       2\n",
              "1       2\n",
              "2       1\n",
              "3       2\n",
              "4       1\n",
              "       ..\n",
              "1419    1\n",
              "1420    2\n",
              "1421    1\n",
              "1422    1\n",
              "1423    2\n",
              "Name: Cluster #, Length: 1424, dtype: int64"
            ]
          },
          "metadata": {
            "tags": []
          },
          "execution_count": 38
        }
      ]
    },
    {
      "cell_type": "markdown",
      "metadata": {
        "id": "heS2RawknoPX"
      },
      "source": [
        "----"
      ]
    },
    {
      "cell_type": "code",
      "metadata": {
        "colab": {
          "base_uri": "https://localhost:8080/"
        },
        "id": "LFBEe6a2vm-L",
        "outputId": "3bfa2450-376a-4fbb-d537-72581ae12ec2"
      },
      "source": [
        "asd.columns"
      ],
      "execution_count": 39,
      "outputs": [
        {
          "output_type": "execute_result",
          "data": {
            "text/plain": [
              "Index(['age', 'body_type', 'diet', 'drinks', 'drugs', 'education', 'essay0',\n",
              "       'essay1', 'essay2', 'essay3', 'essay4', 'essay5', 'essay6', 'essay7',\n",
              "       'essay8', 'essay9', 'ethnicity', 'height', 'income', 'job', 'offspring',\n",
              "       'orientation', 'pets', 'sex', 'smokes', 'status', 'last_date_online',\n",
              "       'last_time_online', 'year', 'month', 'day', 'city', 'language_1',\n",
              "       'language_2', 'language_3', 'language_4', 'language_5', 'essay0_new',\n",
              "       'essay1_new', 'essay2_new', 'essay3_new', 'essay4_new', 'essay5_new',\n",
              "       'essay6_new', 'essay7_new', 'essay8_new', 'essay9_new', 'Cluster #'],\n",
              "      dtype='object')"
            ]
          },
          "metadata": {
            "tags": []
          },
          "execution_count": 39
        }
      ]
    },
    {
      "cell_type": "markdown",
      "metadata": {
        "id": "js_RrFhxuXVI"
      },
      "source": [
        "Goal: Find similar profiles based on clustering / tree based approaches and generate recommendations to the user to prevent ideal swiping on profiles leading up to no matches.\n",
        "\n",
        "Basic pandas filtering: Based on APIs giving us user preference (while setting up their profiles), I thought I'd do a basic filtering to create a list of profiles which match their preferences."
      ]
    },
    {
      "cell_type": "code",
      "metadata": {
        "id": "DxZ-VF5QuW8J"
      },
      "source": [
        "ajeya_age = 26\n",
        "city_pref = 'san francisco'\n",
        "sex_pref = 'f'\n",
        "orientation_pref = 'straight'\n",
        "status_pref = 'single'"
      ],
      "execution_count": 40,
      "outputs": []
    },
    {
      "cell_type": "code",
      "metadata": {
        "id": "Hbj0EqX0uW0U"
      },
      "source": [
        "curarated_profile = asd[asd['city'] == city_pref]\n",
        "curarated_profile = curarated_profile[curarated_profile['sex'] == sex_pref]\n",
        "curarated_profile = curarated_profile[curarated_profile['orientation'] == orientation_pref]\n",
        "curarated_profile = curarated_profile[curarated_profile['status'] == status_pref]"
      ],
      "execution_count": 41,
      "outputs": []
    },
    {
      "cell_type": "markdown",
      "metadata": {
        "id": "55MPnZ1exEFH"
      },
      "source": [
        "From the following dataframe, we can see that based on the most basic information obtained by OkCupid APIs about a user, we reduced the profile pool from 1424 records to just 131. This can be further filtered by matching TOPICS that profiles have in common (TOPICS obtained from Topic Modeling, representing similar interests). They can also be narrowed down by filtering profiles based on clusters which represent similar profiles based on their profile information."
      ]
    },
    {
      "cell_type": "code",
      "metadata": {
        "colab": {
          "base_uri": "https://localhost:8080/",
          "height": 1000
        },
        "id": "iSQFMLYdwAw9",
        "outputId": "f6ab4f34-5686-4383-fdf3-0281db4a94fd"
      },
      "source": [
        "curarated_profile"
      ],
      "execution_count": 42,
      "outputs": [
        {
          "output_type": "execute_result",
          "data": {
            "text/html": [
              "<div>\n",
              "<style scoped>\n",
              "    .dataframe tbody tr th:only-of-type {\n",
              "        vertical-align: middle;\n",
              "    }\n",
              "\n",
              "    .dataframe tbody tr th {\n",
              "        vertical-align: top;\n",
              "    }\n",
              "\n",
              "    .dataframe thead th {\n",
              "        text-align: right;\n",
              "    }\n",
              "</style>\n",
              "<table border=\"1\" class=\"dataframe\">\n",
              "  <thead>\n",
              "    <tr style=\"text-align: right;\">\n",
              "      <th></th>\n",
              "      <th>age</th>\n",
              "      <th>body_type</th>\n",
              "      <th>diet</th>\n",
              "      <th>drinks</th>\n",
              "      <th>drugs</th>\n",
              "      <th>education</th>\n",
              "      <th>essay0</th>\n",
              "      <th>essay1</th>\n",
              "      <th>essay2</th>\n",
              "      <th>essay3</th>\n",
              "      <th>essay4</th>\n",
              "      <th>essay5</th>\n",
              "      <th>essay6</th>\n",
              "      <th>essay7</th>\n",
              "      <th>essay8</th>\n",
              "      <th>essay9</th>\n",
              "      <th>ethnicity</th>\n",
              "      <th>height</th>\n",
              "      <th>income</th>\n",
              "      <th>job</th>\n",
              "      <th>offspring</th>\n",
              "      <th>orientation</th>\n",
              "      <th>pets</th>\n",
              "      <th>sex</th>\n",
              "      <th>smokes</th>\n",
              "      <th>status</th>\n",
              "      <th>last_date_online</th>\n",
              "      <th>last_time_online</th>\n",
              "      <th>year</th>\n",
              "      <th>month</th>\n",
              "      <th>day</th>\n",
              "      <th>city</th>\n",
              "      <th>language_1</th>\n",
              "      <th>language_2</th>\n",
              "      <th>language_3</th>\n",
              "      <th>language_4</th>\n",
              "      <th>language_5</th>\n",
              "      <th>essay0_new</th>\n",
              "      <th>essay1_new</th>\n",
              "      <th>essay2_new</th>\n",
              "      <th>essay3_new</th>\n",
              "      <th>essay4_new</th>\n",
              "      <th>essay5_new</th>\n",
              "      <th>essay6_new</th>\n",
              "      <th>essay7_new</th>\n",
              "      <th>essay8_new</th>\n",
              "      <th>essay9_new</th>\n",
              "      <th>Cluster #</th>\n",
              "    </tr>\n",
              "  </thead>\n",
              "  <tbody>\n",
              "    <tr>\n",
              "      <th>1</th>\n",
              "      <td>23</td>\n",
              "      <td>curvy</td>\n",
              "      <td>mostly anything</td>\n",
              "      <td>rarely</td>\n",
              "      <td>never</td>\n",
              "      <td>working on college/university</td>\n",
              "      <td>hey  im angel, heres a little about myself. i ...</td>\n",
              "      <td>discovering and exploring! finding myself.  ta...</td>\n",
              "      <td>art, math, learnin things fast, puzzles and br...</td>\n",
              "      <td>id say my hair and my eyes. i would say my smi...</td>\n",
              "      <td>favorite books are: my life as a teenage fairy...</td>\n",
              "      <td>uumm, well music thats one, i love food but th...</td>\n",
              "      <td>everything; the world, what i can do for fun, ...</td>\n",
              "      <td>home happy to have some quite and a good movie...</td>\n",
              "      <td>sometimes i like to sit in the shower.. :)  th...</td>\n",
              "      <td>you are chill, nice, down to earth, educated, ...</td>\n",
              "      <td>black, native american, hispanic / latin</td>\n",
              "      <td>167.64</td>\n",
              "      <td>20000.0</td>\n",
              "      <td>other</td>\n",
              "      <td>has a kid</td>\n",
              "      <td>straight</td>\n",
              "      <td>likes dogs and likes cats</td>\n",
              "      <td>f</td>\n",
              "      <td>when drinking</td>\n",
              "      <td>single</td>\n",
              "      <td>2012-06-28</td>\n",
              "      <td>18:40:00</td>\n",
              "      <td>2012</td>\n",
              "      <td>6</td>\n",
              "      <td>28</td>\n",
              "      <td>san francisco</td>\n",
              "      <td>english</td>\n",
              "      <td>None</td>\n",
              "      <td>None</td>\n",
              "      <td>None</td>\n",
              "      <td>None</td>\n",
              "      <td>2</td>\n",
              "      <td>4</td>\n",
              "      <td>0</td>\n",
              "      <td>2</td>\n",
              "      <td>3</td>\n",
              "      <td>2</td>\n",
              "      <td>1</td>\n",
              "      <td>3</td>\n",
              "      <td>2</td>\n",
              "      <td>0</td>\n",
              "      <td>2</td>\n",
              "    </tr>\n",
              "    <tr>\n",
              "      <th>5</th>\n",
              "      <td>26</td>\n",
              "      <td>fit</td>\n",
              "      <td>mostly anything</td>\n",
              "      <td>socially</td>\n",
              "      <td>never</td>\n",
              "      <td>graduated from college/university</td>\n",
              "      <td>i recently moved to san francisco from london ...</td>\n",
              "      <td>im a civil engineer working in infrastructure....</td>\n",
              "      <td>erm... holistic thinking? organising stuff, wi...</td>\n",
              "      <td>hmm dunno. id like to say my lovely smile? but...</td>\n",
              "      <td>catch 22, lotr, war&amp;amp;peace, anything by iai...</td>\n",
              "      <td>family, friends, books, music, sailing boats, ...</td>\n",
              "      <td>the most fun activity i can do for my evening ...</td>\n",
              "      <td>happy hour or sailing, or running off to do so...</td>\n",
              "      <td>i miss home a lot but moving here is the brave...</td>\n",
              "      <td>youd like to meet up for a drink or a wander. ...</td>\n",
              "      <td>white</td>\n",
              "      <td>172.72</td>\n",
              "      <td>70000.0</td>\n",
              "      <td>science / tech / engineering</td>\n",
              "      <td>doesn't have kids, but wants them</td>\n",
              "      <td>straight</td>\n",
              "      <td>likes dogs</td>\n",
              "      <td>f</td>\n",
              "      <td>no</td>\n",
              "      <td>single</td>\n",
              "      <td>2012-06-18</td>\n",
              "      <td>21:51:00</td>\n",
              "      <td>2012</td>\n",
              "      <td>6</td>\n",
              "      <td>18</td>\n",
              "      <td>san francisco</td>\n",
              "      <td>english</td>\n",
              "      <td>None</td>\n",
              "      <td>None</td>\n",
              "      <td>None</td>\n",
              "      <td>None</td>\n",
              "      <td>2</td>\n",
              "      <td>0</td>\n",
              "      <td>1</td>\n",
              "      <td>3</td>\n",
              "      <td>0</td>\n",
              "      <td>4</td>\n",
              "      <td>4</td>\n",
              "      <td>3</td>\n",
              "      <td>1</td>\n",
              "      <td>1</td>\n",
              "      <td>2</td>\n",
              "    </tr>\n",
              "    <tr>\n",
              "      <th>20</th>\n",
              "      <td>30</td>\n",
              "      <td>fit</td>\n",
              "      <td>mostly anything</td>\n",
              "      <td>rarely</td>\n",
              "      <td>sometimes</td>\n",
              "      <td>college/university</td>\n",
              "      <td>im pretty down to earth and happy with my life...</td>\n",
              "      <td>fulfilling the rudimentary needs of the people...</td>\n",
              "      <td>everything! period! but i specialize in cookin...</td>\n",
              "      <td>it depends on what youre drawn to. it might be...</td>\n",
              "      <td>food- i eat well. i have constant access for h...</td>\n",
              "      <td>-high quality organic food  -good pot  -great ...</td>\n",
              "      <td>food, what to cook, how to cook it.    i talk ...</td>\n",
              "      <td>smokin weed and going to bed at 8... (because ...</td>\n",
              "      <td>im honest, ill answer any question youve got.</td>\n",
              "      <td>you are awesome, enjoy kickin it in the kitche...</td>\n",
              "      <td>white</td>\n",
              "      <td>167.64</td>\n",
              "      <td>40000.0</td>\n",
              "      <td>sales / marketing / biz dev</td>\n",
              "      <td>doesn't have kids, and doesn't want any</td>\n",
              "      <td>straight</td>\n",
              "      <td>likes dogs and likes cats</td>\n",
              "      <td>f</td>\n",
              "      <td>no</td>\n",
              "      <td>single</td>\n",
              "      <td>2012-06-29</td>\n",
              "      <td>16:37:00</td>\n",
              "      <td>2012</td>\n",
              "      <td>6</td>\n",
              "      <td>29</td>\n",
              "      <td>san francisco</td>\n",
              "      <td>english</td>\n",
              "      <td>spanish</td>\n",
              "      <td>None</td>\n",
              "      <td>None</td>\n",
              "      <td>None</td>\n",
              "      <td>2</td>\n",
              "      <td>0</td>\n",
              "      <td>2</td>\n",
              "      <td>2</td>\n",
              "      <td>4</td>\n",
              "      <td>4</td>\n",
              "      <td>0</td>\n",
              "      <td>2</td>\n",
              "      <td>1</td>\n",
              "      <td>2</td>\n",
              "      <td>2</td>\n",
              "    </tr>\n",
              "    <tr>\n",
              "      <th>29</th>\n",
              "      <td>34</td>\n",
              "      <td>average</td>\n",
              "      <td>mostly anything</td>\n",
              "      <td>socially</td>\n",
              "      <td>sometimes</td>\n",
              "      <td>dropped out of space camp</td>\n",
              "      <td>im not a person that is in search of themselve...</td>\n",
              "      <td>stand up comedian.  writer.  video journalist....</td>\n",
              "      <td>randomly singing, comedy, staying away from my...</td>\n",
              "      <td>the guy i buy my weed from at the medical stor...</td>\n",
              "      <td>food:  i could fuck a vegan but not date one s...</td>\n",
              "      <td>comedy  family  friends  food  dinosaurs  a hug</td>\n",
              "      <td>why the flintstones had a christmas episode.</td>\n",
              "      <td>at a comedy show. writing. hanging out with my...</td>\n",
              "      <td>im very hard to get because im picky as hell a...</td>\n",
              "      <td>musts:  you are funny, quick witted, polite, a...</td>\n",
              "      <td>white</td>\n",
              "      <td>162.56</td>\n",
              "      <td>40000.0</td>\n",
              "      <td>entertainment / media</td>\n",
              "      <td>doesn't want kids</td>\n",
              "      <td>straight</td>\n",
              "      <td>likes dogs and likes cats</td>\n",
              "      <td>f</td>\n",
              "      <td>no</td>\n",
              "      <td>single</td>\n",
              "      <td>2012-06-29</td>\n",
              "      <td>19:52:00</td>\n",
              "      <td>2012</td>\n",
              "      <td>6</td>\n",
              "      <td>29</td>\n",
              "      <td>san francisco</td>\n",
              "      <td>english</td>\n",
              "      <td>None</td>\n",
              "      <td>None</td>\n",
              "      <td>None</td>\n",
              "      <td>None</td>\n",
              "      <td>1</td>\n",
              "      <td>1</td>\n",
              "      <td>4</td>\n",
              "      <td>0</td>\n",
              "      <td>1</td>\n",
              "      <td>4</td>\n",
              "      <td>0</td>\n",
              "      <td>3</td>\n",
              "      <td>2</td>\n",
              "      <td>2</td>\n",
              "      <td>0</td>\n",
              "    </tr>\n",
              "    <tr>\n",
              "      <th>35</th>\n",
              "      <td>21</td>\n",
              "      <td>fit</td>\n",
              "      <td>mostly vegetarian</td>\n",
              "      <td>socially</td>\n",
              "      <td>never</td>\n",
              "      <td>working on two-year college</td>\n",
              "      <td>im a sarcastic, laid back, nature lovin, and s...</td>\n",
              "      <td>making it my bitch</td>\n",
              "      <td>reciting the lyrics to kreyshawns masterpiece ...</td>\n",
              "      <td>i studied at the milford academy as a youngn, ...</td>\n",
              "      <td>god bless you, mr. rosewater, big fish, stand ...</td>\n",
              "      <td>good food, sunshine, running, music, traveling...</td>\n",
              "      <td>if tupac really died</td>\n",
              "      <td>dancing on table tops, taking too many shots, ...</td>\n",
              "      <td>anything shared with strangers isnt very private</td>\n",
              "      <td>you feel the urge, or have a moostache.</td>\n",
              "      <td>native american, white</td>\n",
              "      <td>172.72</td>\n",
              "      <td>20000.0</td>\n",
              "      <td>other</td>\n",
              "      <td>doesn't have kids</td>\n",
              "      <td>straight</td>\n",
              "      <td>has dogs and likes cats</td>\n",
              "      <td>f</td>\n",
              "      <td>no</td>\n",
              "      <td>single</td>\n",
              "      <td>2012-06-29</td>\n",
              "      <td>03:24:00</td>\n",
              "      <td>2012</td>\n",
              "      <td>6</td>\n",
              "      <td>29</td>\n",
              "      <td>san francisco</td>\n",
              "      <td>english</td>\n",
              "      <td>None</td>\n",
              "      <td>None</td>\n",
              "      <td>None</td>\n",
              "      <td>None</td>\n",
              "      <td>2</td>\n",
              "      <td>2</td>\n",
              "      <td>0</td>\n",
              "      <td>1</td>\n",
              "      <td>2</td>\n",
              "      <td>4</td>\n",
              "      <td>0</td>\n",
              "      <td>4</td>\n",
              "      <td>3</td>\n",
              "      <td>3</td>\n",
              "      <td>4</td>\n",
              "    </tr>\n",
              "    <tr>\n",
              "      <th>...</th>\n",
              "      <td>...</td>\n",
              "      <td>...</td>\n",
              "      <td>...</td>\n",
              "      <td>...</td>\n",
              "      <td>...</td>\n",
              "      <td>...</td>\n",
              "      <td>...</td>\n",
              "      <td>...</td>\n",
              "      <td>...</td>\n",
              "      <td>...</td>\n",
              "      <td>...</td>\n",
              "      <td>...</td>\n",
              "      <td>...</td>\n",
              "      <td>...</td>\n",
              "      <td>...</td>\n",
              "      <td>...</td>\n",
              "      <td>...</td>\n",
              "      <td>...</td>\n",
              "      <td>...</td>\n",
              "      <td>...</td>\n",
              "      <td>...</td>\n",
              "      <td>...</td>\n",
              "      <td>...</td>\n",
              "      <td>...</td>\n",
              "      <td>...</td>\n",
              "      <td>...</td>\n",
              "      <td>...</td>\n",
              "      <td>...</td>\n",
              "      <td>...</td>\n",
              "      <td>...</td>\n",
              "      <td>...</td>\n",
              "      <td>...</td>\n",
              "      <td>...</td>\n",
              "      <td>...</td>\n",
              "      <td>...</td>\n",
              "      <td>...</td>\n",
              "      <td>...</td>\n",
              "      <td>...</td>\n",
              "      <td>...</td>\n",
              "      <td>...</td>\n",
              "      <td>...</td>\n",
              "      <td>...</td>\n",
              "      <td>...</td>\n",
              "      <td>...</td>\n",
              "      <td>...</td>\n",
              "      <td>...</td>\n",
              "      <td>...</td>\n",
              "      <td>...</td>\n",
              "    </tr>\n",
              "    <tr>\n",
              "      <th>1367</th>\n",
              "      <td>19</td>\n",
              "      <td>thin</td>\n",
              "      <td>other</td>\n",
              "      <td>socially</td>\n",
              "      <td>sometimes</td>\n",
              "      <td>graduated from high school</td>\n",
              "      <td>everyone calls me pocket. before you ask me wh...</td>\n",
              "      <td>ive always been and always will be an artist. ...</td>\n",
              "      <td>drawing  holding a conversation  keeping peopl...</td>\n",
              "      <td>how small i am  my eyes  the freckle on my nos...</td>\n",
              "      <td>omg! twilight is my fav movie of all time!    ...</td>\n",
              "      <td>music  water  art  sushi  sun  friends</td>\n",
              "      <td>how corrupt this world is, and how so many peo...</td>\n",
              "      <td>partying, sometimes with friends, sometimes wi...</td>\n",
              "      <td>i dont know, im a very open person so theres n...</td>\n",
              "      <td>your an awesome guy, i only like awesome people.</td>\n",
              "      <td>native american, white</td>\n",
              "      <td>162.56</td>\n",
              "      <td>1000000.0</td>\n",
              "      <td>artistic / musical / writer</td>\n",
              "      <td>doesn't have kids, and doesn't want any</td>\n",
              "      <td>straight</td>\n",
              "      <td>likes dogs and has cats</td>\n",
              "      <td>f</td>\n",
              "      <td>yes</td>\n",
              "      <td>single</td>\n",
              "      <td>2012-06-30</td>\n",
              "      <td>21:28:00</td>\n",
              "      <td>2012</td>\n",
              "      <td>6</td>\n",
              "      <td>30</td>\n",
              "      <td>san francisco</td>\n",
              "      <td>english</td>\n",
              "      <td>french</td>\n",
              "      <td>None</td>\n",
              "      <td>None</td>\n",
              "      <td>None</td>\n",
              "      <td>1</td>\n",
              "      <td>1</td>\n",
              "      <td>1</td>\n",
              "      <td>4</td>\n",
              "      <td>4</td>\n",
              "      <td>4</td>\n",
              "      <td>2</td>\n",
              "      <td>2</td>\n",
              "      <td>1</td>\n",
              "      <td>4</td>\n",
              "      <td>0</td>\n",
              "    </tr>\n",
              "    <tr>\n",
              "      <th>1372</th>\n",
              "      <td>22</td>\n",
              "      <td>skinny</td>\n",
              "      <td>mostly vegan</td>\n",
              "      <td>not at all</td>\n",
              "      <td>never</td>\n",
              "      <td>working on college/university</td>\n",
              "      <td>i just moved back to fairfield. my next move i...</td>\n",
              "      <td>serving at a bar in isleton, just kinda starte...</td>\n",
              "      <td>painting  creating  cooking  baking  being a m...</td>\n",
              "      <td>my medusa and that im a mom? haha idk. im pret...</td>\n",
              "      <td>hella books, ill read almost anything.  favori...</td>\n",
              "      <td>1.mason  2.famiy&amp;amp;real friends  3.iphone  4...</td>\n",
              "      <td>how people hold the capabilities of being sooo...</td>\n",
              "      <td>sleeepppingggg zzzzzzz (: or painting, smoking...</td>\n",
              "      <td>im a recovering addict. 2 years clean off that...</td>\n",
              "      <td>you are a person with substance.  no tools or ...</td>\n",
              "      <td>white</td>\n",
              "      <td>160.02</td>\n",
              "      <td>20000.0</td>\n",
              "      <td>medicine / health</td>\n",
              "      <td>has a kid, and might want more</td>\n",
              "      <td>straight</td>\n",
              "      <td>likes dogs and likes cats</td>\n",
              "      <td>f</td>\n",
              "      <td>trying to quit</td>\n",
              "      <td>single</td>\n",
              "      <td>2012-07-01</td>\n",
              "      <td>01:50:00</td>\n",
              "      <td>2012</td>\n",
              "      <td>7</td>\n",
              "      <td>1</td>\n",
              "      <td>san francisco</td>\n",
              "      <td>english</td>\n",
              "      <td>None</td>\n",
              "      <td>None</td>\n",
              "      <td>None</td>\n",
              "      <td>None</td>\n",
              "      <td>4</td>\n",
              "      <td>0</td>\n",
              "      <td>3</td>\n",
              "      <td>1</td>\n",
              "      <td>3</td>\n",
              "      <td>4</td>\n",
              "      <td>0</td>\n",
              "      <td>2</td>\n",
              "      <td>0</td>\n",
              "      <td>3</td>\n",
              "      <td>2</td>\n",
              "    </tr>\n",
              "    <tr>\n",
              "      <th>1418</th>\n",
              "      <td>26</td>\n",
              "      <td>jacked</td>\n",
              "      <td>mostly other</td>\n",
              "      <td>socially</td>\n",
              "      <td>never</td>\n",
              "      <td>working on college/university</td>\n",
              "      <td>i am from and raised in fairfield, ca born in ...</td>\n",
              "      <td>i am working at the metreon and going to schoo...</td>\n",
              "      <td>hugging! snorking coke cocain!!! lol  loving l...</td>\n",
              "      <td>maybe my eyes or hair being crazy and and weir...</td>\n",
              "      <td>my fave books would probably be anne rice vamp...</td>\n",
              "      <td>food, water, air, heart, brain, intestines    ...</td>\n",
              "      <td>random thoughts..... how to take over the worl...</td>\n",
              "      <td>i was working but they changed the schedule so...</td>\n",
              "      <td>ill admit this only because i am not ashamed a...</td>\n",
              "      <td>if you are an awesome person and want to have ...</td>\n",
              "      <td>asian, black, indian</td>\n",
              "      <td>162.56</td>\n",
              "      <td>20000.0</td>\n",
              "      <td>student</td>\n",
              "      <td>doesn't want kids</td>\n",
              "      <td>straight</td>\n",
              "      <td>has dogs and dislikes cats</td>\n",
              "      <td>f</td>\n",
              "      <td>no</td>\n",
              "      <td>single</td>\n",
              "      <td>2012-06-30</td>\n",
              "      <td>23:52:00</td>\n",
              "      <td>2012</td>\n",
              "      <td>6</td>\n",
              "      <td>30</td>\n",
              "      <td>san francisco</td>\n",
              "      <td>english</td>\n",
              "      <td>None</td>\n",
              "      <td>None</td>\n",
              "      <td>None</td>\n",
              "      <td>None</td>\n",
              "      <td>2</td>\n",
              "      <td>2</td>\n",
              "      <td>4</td>\n",
              "      <td>2</td>\n",
              "      <td>3</td>\n",
              "      <td>4</td>\n",
              "      <td>0</td>\n",
              "      <td>2</td>\n",
              "      <td>3</td>\n",
              "      <td>4</td>\n",
              "      <td>4</td>\n",
              "    </tr>\n",
              "    <tr>\n",
              "      <th>1419</th>\n",
              "      <td>24</td>\n",
              "      <td>average</td>\n",
              "      <td>mostly vegan</td>\n",
              "      <td>socially</td>\n",
              "      <td>often</td>\n",
              "      <td>working on college/university</td>\n",
              "      <td>this sums me up more completely than anything ...</td>\n",
              "      <td>while my career will be at a fashion magazine,...</td>\n",
              "      <td>reading people. my perspective is my gift.    ...</td>\n",
              "      <td>the warm, loving energy that i put out. also, ...</td>\n",
              "      <td>i am a huge wes anderson fan, so i really dig ...</td>\n",
              "      <td>this is a tricky question, and will probably c...</td>\n",
              "      <td>self-work. im a scorpio with a cancer moon, so...</td>\n",
              "      <td>probably raging with my friends and getting ev...</td>\n",
              "      <td>ive never even considered doing the online dat...</td>\n",
              "      <td>1: youre not a republican.  2: youre knowledge...</td>\n",
              "      <td>white</td>\n",
              "      <td>170.18</td>\n",
              "      <td>20000.0</td>\n",
              "      <td>entertainment / media</td>\n",
              "      <td>doesn't want kids</td>\n",
              "      <td>straight</td>\n",
              "      <td>likes dogs and has cats</td>\n",
              "      <td>f</td>\n",
              "      <td>trying to quit</td>\n",
              "      <td>single</td>\n",
              "      <td>2012-06-30</td>\n",
              "      <td>20:35:00</td>\n",
              "      <td>2012</td>\n",
              "      <td>6</td>\n",
              "      <td>30</td>\n",
              "      <td>san francisco</td>\n",
              "      <td>english</td>\n",
              "      <td>french</td>\n",
              "      <td>None</td>\n",
              "      <td>None</td>\n",
              "      <td>None</td>\n",
              "      <td>1</td>\n",
              "      <td>4</td>\n",
              "      <td>1</td>\n",
              "      <td>1</td>\n",
              "      <td>3</td>\n",
              "      <td>0</td>\n",
              "      <td>3</td>\n",
              "      <td>3</td>\n",
              "      <td>1</td>\n",
              "      <td>2</td>\n",
              "      <td>1</td>\n",
              "    </tr>\n",
              "    <tr>\n",
              "      <th>1421</th>\n",
              "      <td>25</td>\n",
              "      <td>thin</td>\n",
              "      <td>anything</td>\n",
              "      <td>often</td>\n",
              "      <td>sometimes</td>\n",
              "      <td>graduated from two-year college</td>\n",
              "      <td>i guess i could fill this spot with some drive...</td>\n",
              "      <td>i climb a lot. i climb indoors at planet grani...</td>\n",
              "      <td>making people feel comfortable  im a pretty so...</td>\n",
              "      <td>im really small, people point that out a lot. ...</td>\n",
              "      <td>music: indie, punk, metal, 80s: two gallants, ...</td>\n",
              "      <td>1. cigarettes, ugh those devil sticks!  2. mus...</td>\n",
              "      <td>shopping, clothes, makeup, boys, differential ...</td>\n",
              "      <td>begging for change on haight st, cooking cryst...</td>\n",
              "      <td>i sometimes roam the streets at night and clim...</td>\n",
              "      <td>*you are not a douchelord looking to bang some...</td>\n",
              "      <td>white</td>\n",
              "      <td>152.40</td>\n",
              "      <td>30000.0</td>\n",
              "      <td>hospitality / travel</td>\n",
              "      <td>doesn't have kids, but might want them</td>\n",
              "      <td>straight</td>\n",
              "      <td>likes dogs and has cats</td>\n",
              "      <td>f</td>\n",
              "      <td>yes</td>\n",
              "      <td>single</td>\n",
              "      <td>2012-06-30</td>\n",
              "      <td>22:39:00</td>\n",
              "      <td>2012</td>\n",
              "      <td>6</td>\n",
              "      <td>30</td>\n",
              "      <td>san francisco</td>\n",
              "      <td>english</td>\n",
              "      <td>None</td>\n",
              "      <td>None</td>\n",
              "      <td>None</td>\n",
              "      <td>None</td>\n",
              "      <td>2</td>\n",
              "      <td>0</td>\n",
              "      <td>2</td>\n",
              "      <td>1</td>\n",
              "      <td>1</td>\n",
              "      <td>2</td>\n",
              "      <td>4</td>\n",
              "      <td>0</td>\n",
              "      <td>0</td>\n",
              "      <td>4</td>\n",
              "      <td>1</td>\n",
              "    </tr>\n",
              "  </tbody>\n",
              "</table>\n",
              "<p>131 rows × 48 columns</p>\n",
              "</div>"
            ],
            "text/plain": [
              "      age body_type               diet  ... essay8_new essay9_new Cluster #\n",
              "1      23     curvy    mostly anything  ...          2          0         2\n",
              "5      26       fit    mostly anything  ...          1          1         2\n",
              "20     30       fit    mostly anything  ...          1          2         2\n",
              "29     34   average    mostly anything  ...          2          2         0\n",
              "35     21       fit  mostly vegetarian  ...          3          3         4\n",
              "...   ...       ...                ...  ...        ...        ...       ...\n",
              "1367   19      thin              other  ...          1          4         0\n",
              "1372   22    skinny       mostly vegan  ...          0          3         2\n",
              "1418   26    jacked       mostly other  ...          3          4         4\n",
              "1419   24   average       mostly vegan  ...          1          2         1\n",
              "1421   25      thin           anything  ...          0          4         1\n",
              "\n",
              "[131 rows x 48 columns]"
            ]
          },
          "metadata": {
            "tags": []
          },
          "execution_count": 42
        }
      ]
    },
    {
      "cell_type": "markdown",
      "metadata": {
        "id": "DDSKQc2ypgV6"
      },
      "source": [
        "The dataframe above represents users that have filtered out on the basis on a user's preferences (assuming - an API gives us this data). This is just using simple concepts of pandas.\n",
        "\n",
        "Future work: \n",
        "\n",
        "1. Now that clustering and topic modeling have been executed and we have similar profiles in under the same cluster, that information can be used to generate more accurate profiles.\n",
        "2. Since different features contribute to a swipe in different ways, my idea for obtaining a better filtering process is to assign WEIGHTS to different features based on some predefined rules.\n",
        "3. For eg: a user in San Francisco is most likely looking for a person who is in San Francisco (not everyone does long distance from scratch), so we can have profiles closest to SF having the heighest weights and assign lower weights to cities much farther from San Francisco. This can be done to almost all features (specially to essay responses - recommendig profiles with similar interests would be a huge factor in obtaining ideal recommendations).\n",
        "4. Desing a new similarity measure that factors in rules (mentioned above), clustering and topic modeling to quanity the ideal profiles by generating a percentage that represents how well do the profiles match."
      ]
    },
    {
      "cell_type": "markdown",
      "metadata": {
        "id": "ZO-u8EYRo4kY"
      },
      "source": [
        "----"
      ]
    },
    {
      "cell_type": "markdown",
      "metadata": {
        "id": "KgV2Ohh2npvu"
      },
      "source": [
        "Data Analysis:"
      ]
    },
    {
      "cell_type": "code",
      "metadata": {
        "colab": {
          "base_uri": "https://localhost:8080/",
          "height": 542
        },
        "id": "fLS3vcf6nv-2",
        "outputId": "b9ea68e7-2b8c-4d9a-af94-2aa1f9c08071"
      },
      "source": [
        "px.histogram(asd, x = 'age', color = 'city')"
      ],
      "execution_count": 43,
      "outputs": [
        {
          "output_type": "display_data",
          "data": {
            "text/html": [
              "<html>\n",
              "<head><meta charset=\"utf-8\" /></head>\n",
              "<body>\n",
              "    <div>\n",
              "            <script src=\"https://cdnjs.cloudflare.com/ajax/libs/mathjax/2.7.5/MathJax.js?config=TeX-AMS-MML_SVG\"></script><script type=\"text/javascript\">if (window.MathJax) {MathJax.Hub.Config({SVG: {font: \"STIX-Web\"}});}</script>\n",
              "                <script type=\"text/javascript\">window.PlotlyConfig = {MathJaxConfig: 'local'};</script>\n",
              "        <script src=\"https://cdn.plot.ly/plotly-latest.min.js\"></script>    \n",
              "            <div id=\"09f80abf-190b-4b65-a6ec-5b997b5eefa7\" class=\"plotly-graph-div\" style=\"height:525px; width:100%;\"></div>\n",
              "            <script type=\"text/javascript\">\n",
              "                \n",
              "                    window.PLOTLYENV=window.PLOTLYENV || {};\n",
              "                    \n",
              "                if (document.getElementById(\"09f80abf-190b-4b65-a6ec-5b997b5eefa7\")) {\n",
              "                    Plotly.newPlot(\n",
              "                        '09f80abf-190b-4b65-a6ec-5b997b5eefa7',\n",
              "                        [{\"alignmentgroup\": \"True\", \"bingroup\": \"x\", \"hoverlabel\": {\"namelength\": 0}, \"hovertemplate\": \"city=san francisco<br>age=%{x}<br>count=%{y}\", \"legendgroup\": \"city=san francisco\", \"marker\": {\"color\": \"#636efa\"}, \"name\": \"city=san francisco\", \"offsetgroup\": \"city=san francisco\", \"orientation\": \"v\", \"showlegend\": true, \"type\": \"histogram\", \"x\": [29, 23, 21, 26, 37, 35, 47, 44, 23, 30, 23, 30, 22, 21, 20, 24, 34, 34, 21, 24, 28, 25, 25, 22, 23, 28, 36, 26, 27, 22, 48, 18, 22, 33, 43, 25, 32, 21, 30, 25, 31, 27, 39, 36, 37, 37, 30, 33, 28, 29, 29, 31, 43, 27, 26, 26, 26, 46, 26, 41, 35, 29, 27, 23, 19, 22, 29, 41, 23, 28, 27, 31, 37, 24, 33, 20, 29, 26, 39, 43, 24, 24, 36, 24, 21, 39, 32, 38, 36, 33, 28, 32, 20, 22, 24, 37, 41, 57, 33, 30, 32, 41, 28, 54, 33, 27, 22, 23, 39, 45, 26, 29, 32, 41, 20, 24, 46, 42, 34, 21, 25, 33, 27, 20, 21, 18, 26, 33, 27, 60, 28, 28, 23, 24, 41, 26, 21, 22, 39, 25, 21, 49, 36, 20, 45, 29, 49, 33, 45, 34, 43, 42, 59, 21, 30, 32, 25, 47, 33, 37, 38, 26, 29, 36, 34, 27, 33, 25, 24, 29, 61, 33, 29, 43, 56, 30, 25, 47, 38, 28, 25, 21, 20, 39, 26, 22, 43, 32, 68, 26, 27, 20, 28, 22, 32, 25, 21, 32, 39, 25, 24, 29, 30, 25, 21, 50, 31, 25, 43, 22, 35, 35, 34, 31, 24, 29, 27, 58, 30, 24, 32, 35, 32, 28, 32, 29, 21, 27, 38, 24, 48, 56, 32, 31, 28, 31, 23, 39, 25, 32, 28, 40, 24, 44, 65, 33, 26, 33, 22, 26, 21, 34, 20, 24, 43, 30, 33, 28, 38, 25, 29, 42, 61, 44, 25, 34, 43, 42, 31, 32, 35, 44, 37, 27, 36, 42, 26, 30, 30, 39, 26, 44, 29, 27, 42, 48, 28, 20, 27, 26, 29, 36, 53, 21, 26, 34, 22, 22, 38, 23, 47, 33, 35, 26, 33, 38, 23, 39, 41, 33, 37, 25, 20, 40, 44, 48, 28, 37, 35, 22, 27, 47, 23, 29, 34, 26, 31, 62, 33, 33, 30, 19, 41, 27, 28, 32, 41, 68, 38, 36, 24, 36, 25, 33, 35, 22, 33, 28, 31, 21, 20, 23, 26, 19, 46, 49, 21, 44, 25, 26, 18, 30, 35, 22, 39, 32, 29, 44, 26, 26, 38, 24, 23, 58, 28, 38, 34, 23, 37, 31, 25, 19, 25, 27, 43, 64, 37, 25, 28, 25, 48, 33, 27, 27, 26, 26, 31, 24, 56, 60, 32, 28, 28, 29, 29, 32, 31, 30, 48, 26, 28, 30, 32, 41, 24, 25, 26, 29, 42, 30, 33, 33, 21, 30, 35, 28, 37, 21, 24, 23, 56, 25, 29, 20, 34, 33, 28, 25, 30, 34, 23, 19, 38, 23, 20, 31, 35, 57, 43, 35, 44, 37, 27, 25, 20, 25, 23, 21, 21, 51, 37, 32, 51, 24, 65, 34, 29, 38, 23, 27, 22, 22, 22, 32, 23, 26, 31, 54, 26, 37, 34, 29, 25, 24, 29, 37, 24, 27, 30, 31, 41, 39, 60, 30, 22, 32, 61, 23, 43, 31, 44, 30, 28, 23, 34, 34, 21, 37, 56, 43, 20, 24, 25, 26, 23, 21, 30, 30, 18, 29, 25, 23, 26, 29, 25, 27, 20, 34, 25, 67, 27, 25, 22, 30, 30, 31, 22, 21, 30, 19, 29, 35, 23, 22, 34, 27, 42, 34, 40, 28, 20, 21, 30, 28, 23, 33, 34, 22, 26, 26, 24, 25, 33], \"xaxis\": \"x\", \"yaxis\": \"y\"}, {\"alignmentgroup\": \"True\", \"bingroup\": \"x\", \"hoverlabel\": {\"namelength\": 0}, \"hovertemplate\": \"city=benicia<br>age=%{x}<br>count=%{y}\", \"legendgroup\": \"city=benicia\", \"marker\": {\"color\": \"#EF553B\"}, \"name\": \"city=benicia\", \"offsetgroup\": \"city=benicia\", \"orientation\": \"v\", \"showlegend\": true, \"type\": \"histogram\", \"x\": [50, 56, 33, 22, 51, 46, 25, 23, 24, 54, 38, 22, 39, 52], \"xaxis\": \"x\", \"yaxis\": \"y\"}, {\"alignmentgroup\": \"True\", \"bingroup\": \"x\", \"hoverlabel\": {\"namelength\": 0}, \"hovertemplate\": \"city=berkeley<br>age=%{x}<br>count=%{y}\", \"legendgroup\": \"city=berkeley\", \"marker\": {\"color\": \"#00cc96\"}, \"name\": \"city=berkeley\", \"offsetgroup\": \"city=berkeley\", \"orientation\": \"v\", \"showlegend\": true, \"type\": \"histogram\", \"x\": [26, 39, 20, 21, 31, 21, 28, 26, 25, 24, 28, 23, 28, 48, 20, 34, 23, 20, 27, 25, 34, 51, 24, 28, 27, 66, 51, 22, 23, 28, 22, 33, 27, 24, 27, 20, 18, 29, 45, 22, 38, 66, 47, 23, 43, 28, 23, 36, 20, 20, 24, 30, 21, 35, 23, 45, 29, 20, 20, 27, 65, 48, 55, 28, 24, 25, 51, 20, 33, 22, 31, 40, 28, 25, 23, 64, 53, 25, 25, 20, 21, 50, 20, 42, 24, 23, 46, 34], \"xaxis\": \"x\", \"yaxis\": \"y\"}, {\"alignmentgroup\": \"True\", \"bingroup\": \"x\", \"hoverlabel\": {\"namelength\": 0}, \"hovertemplate\": \"city=san mateo<br>age=%{x}<br>count=%{y}\", \"legendgroup\": \"city=san mateo\", \"marker\": {\"color\": \"#ab63fa\"}, \"name\": \"city=san mateo\", \"offsetgroup\": \"city=san mateo\", \"orientation\": \"v\", \"showlegend\": true, \"type\": \"histogram\", \"x\": [30, 31, 27, 22, 63, 41, 32, 39, 40, 26, 22, 31, 23, 28, 23, 24, 25, 24, 40, 27, 22, 44, 43, 62, 41, 31, 32, 23, 51, 34, 29, 30, 25, 41, 53, 22, 44, 27, 29, 22, 21, 31], \"xaxis\": \"x\", \"yaxis\": \"y\"}, {\"alignmentgroup\": \"True\", \"bingroup\": \"x\", \"hoverlabel\": {\"namelength\": 0}, \"hovertemplate\": \"city=san rafael<br>age=%{x}<br>count=%{y}\", \"legendgroup\": \"city=san rafael\", \"marker\": {\"color\": \"#FFA15A\"}, \"name\": \"city=san rafael\", \"offsetgroup\": \"city=san rafael\", \"orientation\": \"v\", \"showlegend\": true, \"type\": \"histogram\", \"x\": [42, 22, 41, 21, 31, 31, 26, 26, 24, 45, 31, 36, 31, 25, 19, 26, 21], \"xaxis\": \"x\", \"yaxis\": \"y\"}, {\"alignmentgroup\": \"True\", \"bingroup\": \"x\", \"hoverlabel\": {\"namelength\": 0}, \"hovertemplate\": \"city=hayward<br>age=%{x}<br>count=%{y}\", \"legendgroup\": \"city=hayward\", \"marker\": {\"color\": \"#19d3f3\"}, \"name\": \"city=hayward\", \"offsetgroup\": \"city=hayward\", \"orientation\": \"v\", \"showlegend\": true, \"type\": \"histogram\", \"x\": [34, 22, 22, 32, 25, 41, 23, 23, 25, 23, 21, 23, 40, 39, 24, 23, 26, 39, 24, 21, 52, 44], \"xaxis\": \"x\", \"yaxis\": \"y\"}, {\"alignmentgroup\": \"True\", \"bingroup\": \"x\", \"hoverlabel\": {\"namelength\": 0}, \"hovertemplate\": \"city=oakland<br>age=%{x}<br>count=%{y}\", \"legendgroup\": \"city=oakland\", \"marker\": {\"color\": \"#FF6692\"}, \"name\": \"city=oakland\", \"offsetgroup\": \"city=oakland\", \"orientation\": \"v\", \"showlegend\": true, \"type\": \"histogram\", \"x\": [35, 31, 36, 23, 25, 25, 43, 19, 22, 40, 30, 30, 39, 20, 21, 33, 32, 42, 22, 19, 40, 37, 39, 22, 28, 32, 24, 19, 55, 26, 42, 31, 53, 23, 52, 24, 25, 23, 34, 37, 30, 48, 22, 40, 35, 56, 49, 27, 36, 40, 23, 31, 34, 21, 32, 21, 49, 26, 27, 26, 26, 46, 44, 26, 26, 30, 36, 27, 44, 32, 27, 51, 34, 20, 22, 33, 28, 25, 27, 28, 29, 19, 26, 27, 22, 28, 32, 33, 32, 34, 28, 36, 36, 38, 44, 33, 25, 45, 45, 34, 31, 23, 43, 35, 19, 24, 45, 26, 30, 35, 25, 30, 33, 37, 24, 34, 19, 53, 32, 37, 31, 31, 31, 26, 26, 24, 28, 28, 21, 29, 25, 32, 24, 29, 33, 22, 35, 32, 24, 29, 37, 39, 26, 22, 32, 58, 58, 30, 44, 19, 29, 26, 26, 55, 26, 27, 30, 19, 33, 21, 54, 26, 31, 27, 65, 44, 62, 29, 38, 32, 18, 22, 31, 64, 24, 26, 27, 54, 41, 28, 28, 23, 23, 21, 27, 35, 23, 36, 30, 42, 50, 32, 24, 29, 20, 48, 18, 22, 54, 38, 31, 42, 37, 29, 39, 49, 50, 30, 29, 56, 37, 28, 24], \"xaxis\": \"x\", \"yaxis\": \"y\"}, {\"alignmentgroup\": \"True\", \"bingroup\": \"x\", \"hoverlabel\": {\"namelength\": 0}, \"hovertemplate\": \"city=mill valley<br>age=%{x}<br>count=%{y}\", \"legendgroup\": \"city=mill valley\", \"marker\": {\"color\": \"#B6E880\"}, \"name\": \"city=mill valley\", \"offsetgroup\": \"city=mill valley\", \"orientation\": \"v\", \"showlegend\": true, \"type\": \"histogram\", \"x\": [47, 55, 55, 21, 67, 35, 38, 31, 52, 50], \"xaxis\": \"x\", \"yaxis\": \"y\"}, {\"alignmentgroup\": \"True\", \"bingroup\": \"x\", \"hoverlabel\": {\"namelength\": 0}, \"hovertemplate\": \"city=sausalito<br>age=%{x}<br>count=%{y}\", \"legendgroup\": \"city=sausalito\", \"marker\": {\"color\": \"#FF97FF\"}, \"name\": \"city=sausalito\", \"offsetgroup\": \"city=sausalito\", \"orientation\": \"v\", \"showlegend\": true, \"type\": \"histogram\", \"x\": [18, 52, 35, 35, 49], \"xaxis\": \"x\", \"yaxis\": \"y\"}, {\"alignmentgroup\": \"True\", \"bingroup\": \"x\", \"hoverlabel\": {\"namelength\": 0}, \"hovertemplate\": \"city=vallejo<br>age=%{x}<br>count=%{y}\", \"legendgroup\": \"city=vallejo\", \"marker\": {\"color\": \"#FECB52\"}, \"name\": \"city=vallejo\", \"offsetgroup\": \"city=vallejo\", \"orientation\": \"v\", \"showlegend\": true, \"type\": \"histogram\", \"x\": [36, 30, 24, 31, 19, 21, 46, 27, 25, 22, 27, 39, 24, 32, 26, 39, 24, 29, 43, 26, 23, 23, 52, 27, 24, 24], \"xaxis\": \"x\", \"yaxis\": \"y\"}, {\"alignmentgroup\": \"True\", \"bingroup\": \"x\", \"hoverlabel\": {\"namelength\": 0}, \"hovertemplate\": \"city=san leandro<br>age=%{x}<br>count=%{y}\", \"legendgroup\": \"city=san leandro\", \"marker\": {\"color\": \"#636efa\"}, \"name\": \"city=san leandro\", \"offsetgroup\": \"city=san leandro\", \"orientation\": \"v\", \"showlegend\": true, \"type\": \"histogram\", \"x\": [38, 46, 29, 33, 18, 28, 56, 61, 19, 27, 34, 56, 33, 33, 33, 58, 20, 19, 25, 26, 25, 23, 40, 34, 20, 27], \"xaxis\": \"x\", \"yaxis\": \"y\"}, {\"alignmentgroup\": \"True\", \"bingroup\": \"x\", \"hoverlabel\": {\"namelength\": 0}, \"hovertemplate\": \"city=palo alto<br>age=%{x}<br>count=%{y}\", \"legendgroup\": \"city=palo alto\", \"marker\": {\"color\": \"#EF553B\"}, \"name\": \"city=palo alto\", \"offsetgroup\": \"city=palo alto\", \"orientation\": \"v\", \"showlegend\": true, \"type\": \"histogram\", \"x\": [40, 28, 50, 35, 30, 23, 29, 25, 45, 23, 31, 28, 54, 45, 40, 20, 49, 35, 26, 47, 34, 52, 34, 27, 24, 53, 66, 21, 40, 24], \"xaxis\": \"x\", \"yaxis\": \"y\"}, {\"alignmentgroup\": \"True\", \"bingroup\": \"x\", \"hoverlabel\": {\"namelength\": 0}, \"hovertemplate\": \"city=alameda<br>age=%{x}<br>count=%{y}\", \"legendgroup\": \"city=alameda\", \"marker\": {\"color\": \"#00cc96\"}, \"name\": \"city=alameda\", \"offsetgroup\": \"city=alameda\", \"orientation\": \"v\", \"showlegend\": true, \"type\": \"histogram\", \"x\": [37, 37, 42, 41, 21, 24, 28, 65, 27, 29, 45, 54, 37, 33, 34, 30, 45, 52, 22, 22, 34, 40, 35, 36, 24, 33, 25], \"xaxis\": \"x\", \"yaxis\": \"y\"}, {\"alignmentgroup\": \"True\", \"bingroup\": \"x\", \"hoverlabel\": {\"namelength\": 0}, \"hovertemplate\": \"city=stanford<br>age=%{x}<br>count=%{y}\", \"legendgroup\": \"city=stanford\", \"marker\": {\"color\": \"#ab63fa\"}, \"name\": \"city=stanford\", \"offsetgroup\": \"city=stanford\", \"orientation\": \"v\", \"showlegend\": true, \"type\": \"histogram\", \"x\": [23, 45, 21, 40, 24, 21], \"xaxis\": \"x\", \"yaxis\": \"y\"}, {\"alignmentgroup\": \"True\", \"bingroup\": \"x\", \"hoverlabel\": {\"namelength\": 0}, \"hovertemplate\": \"city=redwood city<br>age=%{x}<br>count=%{y}\", \"legendgroup\": \"city=redwood city\", \"marker\": {\"color\": \"#FFA15A\"}, \"name\": \"city=redwood city\", \"offsetgroup\": \"city=redwood city\", \"orientation\": \"v\", \"showlegend\": true, \"type\": \"histogram\", \"x\": [51, 56, 22, 41, 27, 49, 28, 50, 25, 30, 30, 25, 23, 20, 34, 64, 26, 31, 24, 42, 45], \"xaxis\": \"x\", \"yaxis\": \"y\"}, {\"alignmentgroup\": \"True\", \"bingroup\": \"x\", \"hoverlabel\": {\"namelength\": 0}, \"hovertemplate\": \"city=el sobrante<br>age=%{x}<br>count=%{y}\", \"legendgroup\": \"city=el sobrante\", \"marker\": {\"color\": \"#19d3f3\"}, \"name\": \"city=el sobrante\", \"offsetgroup\": \"city=el sobrante\", \"orientation\": \"v\", \"showlegend\": true, \"type\": \"histogram\", \"x\": [42, 49, 20, 23, 60, 30, 31], \"xaxis\": \"x\", \"yaxis\": \"y\"}, {\"alignmentgroup\": \"True\", \"bingroup\": \"x\", \"hoverlabel\": {\"namelength\": 0}, \"hovertemplate\": \"city=lafayette<br>age=%{x}<br>count=%{y}\", \"legendgroup\": \"city=lafayette\", \"marker\": {\"color\": \"#FF6692\"}, \"name\": \"city=lafayette\", \"offsetgroup\": \"city=lafayette\", \"orientation\": \"v\", \"showlegend\": true, \"type\": \"histogram\", \"x\": [53, 21, 47, 54, 32], \"xaxis\": \"x\", \"yaxis\": \"y\"}, {\"alignmentgroup\": \"True\", \"bingroup\": \"x\", \"hoverlabel\": {\"namelength\": 0}, \"hovertemplate\": \"city=novato<br>age=%{x}<br>count=%{y}\", \"legendgroup\": \"city=novato\", \"marker\": {\"color\": \"#B6E880\"}, \"name\": \"city=novato\", \"offsetgroup\": \"city=novato\", \"orientation\": \"v\", \"showlegend\": true, \"type\": \"histogram\", \"x\": [24, 62, 19, 23, 58, 27, 62, 38, 57, 47, 54, 55, 52, 52, 61, 54, 61, 24, 32, 45], \"xaxis\": \"x\", \"yaxis\": \"y\"}, {\"alignmentgroup\": \"True\", \"bingroup\": \"x\", \"hoverlabel\": {\"namelength\": 0}, \"hovertemplate\": \"city=castro valley<br>age=%{x}<br>count=%{y}\", \"legendgroup\": \"city=castro valley\", \"marker\": {\"color\": \"#FF97FF\"}, \"name\": \"city=castro valley\", \"offsetgroup\": \"city=castro valley\", \"orientation\": \"v\", \"showlegend\": true, \"type\": \"histogram\", \"x\": [25, 22, 25, 27, 27, 24, 26, 55, 19, 21], \"xaxis\": \"x\", \"yaxis\": \"y\"}, {\"alignmentgroup\": \"True\", \"bingroup\": \"x\", \"hoverlabel\": {\"namelength\": 0}, \"hovertemplate\": \"city=san bruno<br>age=%{x}<br>count=%{y}\", \"legendgroup\": \"city=san bruno\", \"marker\": {\"color\": \"#FECB52\"}, \"name\": \"city=san bruno\", \"offsetgroup\": \"city=san bruno\", \"orientation\": \"v\", \"showlegend\": true, \"type\": \"histogram\", \"x\": [21, 57, 28, 26, 26, 27, 23, 52, 44, 22, 38, 24, 34, 30, 23, 51], \"xaxis\": \"x\", \"yaxis\": \"y\"}, {\"alignmentgroup\": \"True\", \"bingroup\": \"x\", \"hoverlabel\": {\"namelength\": 0}, \"hovertemplate\": \"city=south san francisco<br>age=%{x}<br>count=%{y}\", \"legendgroup\": \"city=south san francisco\", \"marker\": {\"color\": \"#636efa\"}, \"name\": \"city=south san francisco\", \"offsetgroup\": \"city=south san francisco\", \"orientation\": \"v\", \"showlegend\": true, \"type\": \"histogram\", \"x\": [56, 50, 22, 28, 20, 26, 33, 20, 25, 34, 28, 26, 34, 21, 20], \"xaxis\": \"x\", \"yaxis\": \"y\"}, {\"alignmentgroup\": \"True\", \"bingroup\": \"x\", \"hoverlabel\": {\"namelength\": 0}, \"hovertemplate\": \"city=woodacre<br>age=%{x}<br>count=%{y}\", \"legendgroup\": \"city=woodacre\", \"marker\": {\"color\": \"#EF553B\"}, \"name\": \"city=woodacre\", \"offsetgroup\": \"city=woodacre\", \"orientation\": \"v\", \"showlegend\": true, \"type\": \"histogram\", \"x\": [66, 35, 20], \"xaxis\": \"x\", \"yaxis\": \"y\"}, {\"alignmentgroup\": \"True\", \"bingroup\": \"x\", \"hoverlabel\": {\"namelength\": 0}, \"hovertemplate\": \"city=walnut creek<br>age=%{x}<br>count=%{y}\", \"legendgroup\": \"city=walnut creek\", \"marker\": {\"color\": \"#00cc96\"}, \"name\": \"city=walnut creek\", \"offsetgroup\": \"city=walnut creek\", \"orientation\": \"v\", \"showlegend\": true, \"type\": \"histogram\", \"x\": [28, 20, 28, 59, 42, 31, 55, 34, 23, 33, 34, 20, 53, 26], \"xaxis\": \"x\", \"yaxis\": \"y\"}, {\"alignmentgroup\": \"True\", \"bingroup\": \"x\", \"hoverlabel\": {\"namelength\": 0}, \"hovertemplate\": \"city=mountain view<br>age=%{x}<br>count=%{y}\", \"legendgroup\": \"city=mountain view\", \"marker\": {\"color\": \"#ab63fa\"}, \"name\": \"city=mountain view\", \"offsetgroup\": \"city=mountain view\", \"orientation\": \"v\", \"showlegend\": true, \"type\": \"histogram\", \"x\": [39, 28, 26, 52, 26, 25, 20, 33], \"xaxis\": \"x\", \"yaxis\": \"y\"}, {\"alignmentgroup\": \"True\", \"bingroup\": \"x\", \"hoverlabel\": {\"namelength\": 0}, \"hovertemplate\": \"city=rohnert park<br>age=%{x}<br>count=%{y}\", \"legendgroup\": \"city=rohnert park\", \"marker\": {\"color\": \"#FFA15A\"}, \"name\": \"city=rohnert park\", \"offsetgroup\": \"city=rohnert park\", \"orientation\": \"v\", \"showlegend\": true, \"type\": \"histogram\", \"x\": [20], \"xaxis\": \"x\", \"yaxis\": \"y\"}, {\"alignmentgroup\": \"True\", \"bingroup\": \"x\", \"hoverlabel\": {\"namelength\": 0}, \"hovertemplate\": \"city=ross<br>age=%{x}<br>count=%{y}\", \"legendgroup\": \"city=ross\", \"marker\": {\"color\": \"#19d3f3\"}, \"name\": \"city=ross\", \"offsetgroup\": \"city=ross\", \"orientation\": \"v\", \"showlegend\": true, \"type\": \"histogram\", \"x\": [48], \"xaxis\": \"x\", \"yaxis\": \"y\"}, {\"alignmentgroup\": \"True\", \"bingroup\": \"x\", \"hoverlabel\": {\"namelength\": 0}, \"hovertemplate\": \"city=belvedere tiburon<br>age=%{x}<br>count=%{y}\", \"legendgroup\": \"city=belvedere tiburon\", \"marker\": {\"color\": \"#FF6692\"}, \"name\": \"city=belvedere tiburon\", \"offsetgroup\": \"city=belvedere tiburon\", \"orientation\": \"v\", \"showlegend\": true, \"type\": \"histogram\", \"x\": [47, 22], \"xaxis\": \"x\", \"yaxis\": \"y\"}, {\"alignmentgroup\": \"True\", \"bingroup\": \"x\", \"hoverlabel\": {\"namelength\": 0}, \"hovertemplate\": \"city=el cerrito<br>age=%{x}<br>count=%{y}\", \"legendgroup\": \"city=el cerrito\", \"marker\": {\"color\": \"#B6E880\"}, \"name\": \"city=el cerrito\", \"offsetgroup\": \"city=el cerrito\", \"orientation\": \"v\", \"showlegend\": true, \"type\": \"histogram\", \"x\": [25, 47, 29, 25, 63, 43, 39, 22], \"xaxis\": \"x\", \"yaxis\": \"y\"}, {\"alignmentgroup\": \"True\", \"bingroup\": \"x\", \"hoverlabel\": {\"namelength\": 0}, \"hovertemplate\": \"city=fairfax<br>age=%{x}<br>count=%{y}\", \"legendgroup\": \"city=fairfax\", \"marker\": {\"color\": \"#FF97FF\"}, \"name\": \"city=fairfax\", \"offsetgroup\": \"city=fairfax\", \"orientation\": \"v\", \"showlegend\": true, \"type\": \"histogram\", \"x\": [25, 60, 56, 20, 42], \"xaxis\": \"x\", \"yaxis\": \"y\"}, {\"alignmentgroup\": \"True\", \"bingroup\": \"x\", \"hoverlabel\": {\"namelength\": 0}, \"hovertemplate\": \"city=hercules<br>age=%{x}<br>count=%{y}\", \"legendgroup\": \"city=hercules\", \"marker\": {\"color\": \"#FECB52\"}, \"name\": \"city=hercules\", \"offsetgroup\": \"city=hercules\", \"orientation\": \"v\", \"showlegend\": true, \"type\": \"histogram\", \"x\": [25, 45, 27, 27], \"xaxis\": \"x\", \"yaxis\": \"y\"}, {\"alignmentgroup\": \"True\", \"bingroup\": \"x\", \"hoverlabel\": {\"namelength\": 0}, \"hovertemplate\": \"city=martinez<br>age=%{x}<br>count=%{y}\", \"legendgroup\": \"city=martinez\", \"marker\": {\"color\": \"#636efa\"}, \"name\": \"city=martinez\", \"offsetgroup\": \"city=martinez\", \"orientation\": \"v\", \"showlegend\": true, \"type\": \"histogram\", \"x\": [56, 32, 27, 24, 24, 56, 19, 24, 41, 32, 22, 31], \"xaxis\": \"x\", \"yaxis\": \"y\"}, {\"alignmentgroup\": \"True\", \"bingroup\": \"x\", \"hoverlabel\": {\"namelength\": 0}, \"hovertemplate\": \"city=emeryville<br>age=%{x}<br>count=%{y}\", \"legendgroup\": \"city=emeryville\", \"marker\": {\"color\": \"#EF553B\"}, \"name\": \"city=emeryville\", \"offsetgroup\": \"city=emeryville\", \"orientation\": \"v\", \"showlegend\": true, \"type\": \"histogram\", \"x\": [30, 56, 29, 34, 26, 38, 28, 20, 26, 20, 43, 25, 35, 31, 29, 21, 24, 34, 18, 26, 32, 32, 25, 35, 27, 28, 48, 27], \"xaxis\": \"x\", \"yaxis\": \"y\"}, {\"alignmentgroup\": \"True\", \"bingroup\": \"x\", \"hoverlabel\": {\"namelength\": 0}, \"hovertemplate\": \"city=belmont<br>age=%{x}<br>count=%{y}\", \"legendgroup\": \"city=belmont\", \"marker\": {\"color\": \"#00cc96\"}, \"name\": \"city=belmont\", \"offsetgroup\": \"city=belmont\", \"orientation\": \"v\", \"showlegend\": true, \"type\": \"histogram\", \"x\": [35, 49, 49, 32, 29, 20, 38, 57, 22, 26], \"xaxis\": \"x\", \"yaxis\": \"y\"}, {\"alignmentgroup\": \"True\", \"bingroup\": \"x\", \"hoverlabel\": {\"namelength\": 0}, \"hovertemplate\": \"city=richmond<br>age=%{x}<br>count=%{y}\", \"legendgroup\": \"city=richmond\", \"marker\": {\"color\": \"#ab63fa\"}, \"name\": \"city=richmond\", \"offsetgroup\": \"city=richmond\", \"orientation\": \"v\", \"showlegend\": true, \"type\": \"histogram\", \"x\": [39, 20, 30, 18, 46, 26, 18, 45, 62, 56, 41, 22, 20, 62, 22, 24, 32], \"xaxis\": \"x\", \"yaxis\": \"y\"}, {\"alignmentgroup\": \"True\", \"bingroup\": \"x\", \"hoverlabel\": {\"namelength\": 0}, \"hovertemplate\": \"city=pleasant hill<br>age=%{x}<br>count=%{y}\", \"legendgroup\": \"city=pleasant hill\", \"marker\": {\"color\": \"#FFA15A\"}, \"name\": \"city=pleasant hill\", \"offsetgroup\": \"city=pleasant hill\", \"orientation\": \"v\", \"showlegend\": true, \"type\": \"histogram\", \"x\": [24, 25, 67, 19, 26, 45, 27, 34, 56, 22], \"xaxis\": \"x\", \"yaxis\": \"y\"}, {\"alignmentgroup\": \"True\", \"bingroup\": \"x\", \"hoverlabel\": {\"namelength\": 0}, \"hovertemplate\": \"city=san carlos<br>age=%{x}<br>count=%{y}\", \"legendgroup\": \"city=san carlos\", \"marker\": {\"color\": \"#19d3f3\"}, \"name\": \"city=san carlos\", \"offsetgroup\": \"city=san carlos\", \"orientation\": \"v\", \"showlegend\": true, \"type\": \"histogram\", \"x\": [68, 42, 40, 24, 55, 25, 22, 61], \"xaxis\": \"x\", \"yaxis\": \"y\"}, {\"alignmentgroup\": \"True\", \"bingroup\": \"x\", \"hoverlabel\": {\"namelength\": 0}, \"hovertemplate\": \"city=san pablo<br>age=%{x}<br>count=%{y}\", \"legendgroup\": \"city=san pablo\", \"marker\": {\"color\": \"#FF6692\"}, \"name\": \"city=san pablo\", \"offsetgroup\": \"city=san pablo\", \"orientation\": \"v\", \"showlegend\": true, \"type\": \"histogram\", \"x\": [20, 23, 29, 58, 56, 57], \"xaxis\": \"x\", \"yaxis\": \"y\"}, {\"alignmentgroup\": \"True\", \"bingroup\": \"x\", \"hoverlabel\": {\"namelength\": 0}, \"hovertemplate\": \"city=menlo park<br>age=%{x}<br>count=%{y}\", \"legendgroup\": \"city=menlo park\", \"marker\": {\"color\": \"#B6E880\"}, \"name\": \"city=menlo park\", \"offsetgroup\": \"city=menlo park\", \"orientation\": \"v\", \"showlegend\": true, \"type\": \"histogram\", \"x\": [47, 40, 40, 56, 35, 68, 26, 39, 22, 28], \"xaxis\": \"x\", \"yaxis\": \"y\"}, {\"alignmentgroup\": \"True\", \"bingroup\": \"x\", \"hoverlabel\": {\"namelength\": 0}, \"hovertemplate\": \"city=burlingame<br>age=%{x}<br>count=%{y}\", \"legendgroup\": \"city=burlingame\", \"marker\": {\"color\": \"#FF97FF\"}, \"name\": \"city=burlingame\", \"offsetgroup\": \"city=burlingame\", \"orientation\": \"v\", \"showlegend\": true, \"type\": \"histogram\", \"x\": [39, 34, 33, 24, 30, 31, 41], \"xaxis\": \"x\", \"yaxis\": \"y\"}, {\"alignmentgroup\": \"True\", \"bingroup\": \"x\", \"hoverlabel\": {\"namelength\": 0}, \"hovertemplate\": \"city=albany<br>age=%{x}<br>count=%{y}\", \"legendgroup\": \"city=albany\", \"marker\": {\"color\": \"#FECB52\"}, \"name\": \"city=albany\", \"offsetgroup\": \"city=albany\", \"orientation\": \"v\", \"showlegend\": true, \"type\": \"histogram\", \"x\": [59, 33, 37, 27, 18, 57, 64, 33, 45, 21, 41], \"xaxis\": \"x\", \"yaxis\": \"y\"}, {\"alignmentgroup\": \"True\", \"bingroup\": \"x\", \"hoverlabel\": {\"namelength\": 0}, \"hovertemplate\": \"city=millbrae<br>age=%{x}<br>count=%{y}\", \"legendgroup\": \"city=millbrae\", \"marker\": {\"color\": \"#636efa\"}, \"name\": \"city=millbrae\", \"offsetgroup\": \"city=millbrae\", \"orientation\": \"v\", \"showlegend\": true, \"type\": \"histogram\", \"x\": [23, 26, 23], \"xaxis\": \"x\", \"yaxis\": \"y\"}, {\"alignmentgroup\": \"True\", \"bingroup\": \"x\", \"hoverlabel\": {\"namelength\": 0}, \"hovertemplate\": \"city=green brae<br>age=%{x}<br>count=%{y}\", \"legendgroup\": \"city=green brae\", \"marker\": {\"color\": \"#EF553B\"}, \"name\": \"city=green brae\", \"offsetgroup\": \"city=green brae\", \"orientation\": \"v\", \"showlegend\": true, \"type\": \"histogram\", \"x\": [55, 58], \"xaxis\": \"x\", \"yaxis\": \"y\"}, {\"alignmentgroup\": \"True\", \"bingroup\": \"x\", \"hoverlabel\": {\"namelength\": 0}, \"hovertemplate\": \"city=daly city<br>age=%{x}<br>count=%{y}\", \"legendgroup\": \"city=daly city\", \"marker\": {\"color\": \"#00cc96\"}, \"name\": \"city=daly city\", \"offsetgroup\": \"city=daly city\", \"orientation\": \"v\", \"showlegend\": true, \"type\": \"histogram\", \"x\": [24, 28, 23, 28, 26, 51, 54, 23, 22, 31, 26, 22, 59, 34], \"xaxis\": \"x\", \"yaxis\": \"y\"}, {\"alignmentgroup\": \"True\", \"bingroup\": \"x\", \"hoverlabel\": {\"namelength\": 0}, \"hovertemplate\": \"city=rodeo<br>age=%{x}<br>count=%{y}\", \"legendgroup\": \"city=rodeo\", \"marker\": {\"color\": \"#ab63fa\"}, \"name\": \"city=rodeo\", \"offsetgroup\": \"city=rodeo\", \"orientation\": \"v\", \"showlegend\": true, \"type\": \"histogram\", \"x\": [33, 27, 27], \"xaxis\": \"x\", \"yaxis\": \"y\"}, {\"alignmentgroup\": \"True\", \"bingroup\": \"x\", \"hoverlabel\": {\"namelength\": 0}, \"hovertemplate\": \"city=san lorenzo<br>age=%{x}<br>count=%{y}\", \"legendgroup\": \"city=san lorenzo\", \"marker\": {\"color\": \"#FFA15A\"}, \"name\": \"city=san lorenzo\", \"offsetgroup\": \"city=san lorenzo\", \"orientation\": \"v\", \"showlegend\": true, \"type\": \"histogram\", \"x\": [22, 36, 18, 27, 23, 42, 65, 25], \"xaxis\": \"x\", \"yaxis\": \"y\"}, {\"alignmentgroup\": \"True\", \"bingroup\": \"x\", \"hoverlabel\": {\"namelength\": 0}, \"hovertemplate\": \"city=pacifica<br>age=%{x}<br>count=%{y}\", \"legendgroup\": \"city=pacifica\", \"marker\": {\"color\": \"#19d3f3\"}, \"name\": \"city=pacifica\", \"offsetgroup\": \"city=pacifica\", \"orientation\": \"v\", \"showlegend\": true, \"type\": \"histogram\", \"x\": [44, 48, 52, 47, 31, 54, 23, 25, 22, 28, 19], \"xaxis\": \"x\", \"yaxis\": \"y\"}, {\"alignmentgroup\": \"True\", \"bingroup\": \"x\", \"hoverlabel\": {\"namelength\": 0}, \"hovertemplate\": \"city=crockett<br>age=%{x}<br>count=%{y}\", \"legendgroup\": \"city=crockett\", \"marker\": {\"color\": \"#FF6692\"}, \"name\": \"city=crockett\", \"offsetgroup\": \"city=crockett\", \"orientation\": \"v\", \"showlegend\": true, \"type\": \"histogram\", \"x\": [19, 49], \"xaxis\": \"x\", \"yaxis\": \"y\"}, {\"alignmentgroup\": \"True\", \"bingroup\": \"x\", \"hoverlabel\": {\"namelength\": 0}, \"hovertemplate\": \"city=moraga<br>age=%{x}<br>count=%{y}\", \"legendgroup\": \"city=moraga\", \"marker\": {\"color\": \"#B6E880\"}, \"name\": \"city=moraga\", \"offsetgroup\": \"city=moraga\", \"orientation\": \"v\", \"showlegend\": true, \"type\": \"histogram\", \"x\": [19, 24, 22, 26, 21, 55, 20], \"xaxis\": \"x\", \"yaxis\": \"y\"}, {\"alignmentgroup\": \"True\", \"bingroup\": \"x\", \"hoverlabel\": {\"namelength\": 0}, \"hovertemplate\": \"city=ozone park<br>age=%{x}<br>count=%{y}\", \"legendgroup\": \"city=ozone park\", \"marker\": {\"color\": \"#FF97FF\"}, \"name\": \"city=ozone park\", \"offsetgroup\": \"city=ozone park\", \"orientation\": \"v\", \"showlegend\": true, \"type\": \"histogram\", \"x\": [29], \"xaxis\": \"x\", \"yaxis\": \"y\"}, {\"alignmentgroup\": \"True\", \"bingroup\": \"x\", \"hoverlabel\": {\"namelength\": 0}, \"hovertemplate\": \"city=larkspur<br>age=%{x}<br>count=%{y}\", \"legendgroup\": \"city=larkspur\", \"marker\": {\"color\": \"#FECB52\"}, \"name\": \"city=larkspur\", \"offsetgroup\": \"city=larkspur\", \"orientation\": \"v\", \"showlegend\": true, \"type\": \"histogram\", \"x\": [55], \"xaxis\": \"x\", \"yaxis\": \"y\"}, {\"alignmentgroup\": \"True\", \"bingroup\": \"x\", \"hoverlabel\": {\"namelength\": 0}, \"hovertemplate\": \"city=san anselmo<br>age=%{x}<br>count=%{y}\", \"legendgroup\": \"city=san anselmo\", \"marker\": {\"color\": \"#636efa\"}, \"name\": \"city=san anselmo\", \"offsetgroup\": \"city=san anselmo\", \"orientation\": \"v\", \"showlegend\": true, \"type\": \"histogram\", \"x\": [44, 20], \"xaxis\": \"x\", \"yaxis\": \"y\"}, {\"alignmentgroup\": \"True\", \"bingroup\": \"x\", \"hoverlabel\": {\"namelength\": 0}, \"hovertemplate\": \"city=fremont<br>age=%{x}<br>count=%{y}\", \"legendgroup\": \"city=fremont\", \"marker\": {\"color\": \"#EF553B\"}, \"name\": \"city=fremont\", \"offsetgroup\": \"city=fremont\", \"orientation\": \"v\", \"showlegend\": true, \"type\": \"histogram\", \"x\": [20], \"xaxis\": \"x\", \"yaxis\": \"y\"}, {\"alignmentgroup\": \"True\", \"bingroup\": \"x\", \"hoverlabel\": {\"namelength\": 0}, \"hovertemplate\": \"city=el granada<br>age=%{x}<br>count=%{y}\", \"legendgroup\": \"city=el granada\", \"marker\": {\"color\": \"#00cc96\"}, \"name\": \"city=el granada\", \"offsetgroup\": \"city=el granada\", \"orientation\": \"v\", \"showlegend\": true, \"type\": \"histogram\", \"x\": [26], \"xaxis\": \"x\", \"yaxis\": \"y\"}, {\"alignmentgroup\": \"True\", \"bingroup\": \"x\", \"hoverlabel\": {\"namelength\": 0}, \"hovertemplate\": \"city=atherton<br>age=%{x}<br>count=%{y}\", \"legendgroup\": \"city=atherton\", \"marker\": {\"color\": \"#ab63fa\"}, \"name\": \"city=atherton\", \"offsetgroup\": \"city=atherton\", \"orientation\": \"v\", \"showlegend\": true, \"type\": \"histogram\", \"x\": [26], \"xaxis\": \"x\", \"yaxis\": \"y\"}, {\"alignmentgroup\": \"True\", \"bingroup\": \"x\", \"hoverlabel\": {\"namelength\": 0}, \"hovertemplate\": \"city=pinole<br>age=%{x}<br>count=%{y}\", \"legendgroup\": \"city=pinole\", \"marker\": {\"color\": \"#FFA15A\"}, \"name\": \"city=pinole\", \"offsetgroup\": \"city=pinole\", \"orientation\": \"v\", \"showlegend\": true, \"type\": \"histogram\", \"x\": [26, 48, 30], \"xaxis\": \"x\", \"yaxis\": \"y\"}, {\"alignmentgroup\": \"True\", \"bingroup\": \"x\", \"hoverlabel\": {\"namelength\": 0}, \"hovertemplate\": \"city=piedmont<br>age=%{x}<br>count=%{y}\", \"legendgroup\": \"city=piedmont\", \"marker\": {\"color\": \"#19d3f3\"}, \"name\": \"city=piedmont\", \"offsetgroup\": \"city=piedmont\", \"orientation\": \"v\", \"showlegend\": true, \"type\": \"histogram\", \"x\": [23], \"xaxis\": \"x\", \"yaxis\": \"y\"}, {\"alignmentgroup\": \"True\", \"bingroup\": \"x\", \"hoverlabel\": {\"namelength\": 0}, \"hovertemplate\": \"city=half moon bay<br>age=%{x}<br>count=%{y}\", \"legendgroup\": \"city=half moon bay\", \"marker\": {\"color\": \"#FF6692\"}, \"name\": \"city=half moon bay\", \"offsetgroup\": \"city=half moon bay\", \"orientation\": \"v\", \"showlegend\": true, \"type\": \"histogram\", \"x\": [23, 30, 60, 49], \"xaxis\": \"x\", \"yaxis\": \"y\"}, {\"alignmentgroup\": \"True\", \"bingroup\": \"x\", \"hoverlabel\": {\"namelength\": 0}, \"hovertemplate\": \"city=new york<br>age=%{x}<br>count=%{y}\", \"legendgroup\": \"city=new york\", \"marker\": {\"color\": \"#B6E880\"}, \"name\": \"city=new york\", \"offsetgroup\": \"city=new york\", \"orientation\": \"v\", \"showlegend\": true, \"type\": \"histogram\", \"x\": [43], \"xaxis\": \"x\", \"yaxis\": \"y\"}, {\"alignmentgroup\": \"True\", \"bingroup\": \"x\", \"hoverlabel\": {\"namelength\": 0}, \"hovertemplate\": \"city=tucson<br>age=%{x}<br>count=%{y}\", \"legendgroup\": \"city=tucson\", \"marker\": {\"color\": \"#FF97FF\"}, \"name\": \"city=tucson\", \"offsetgroup\": \"city=tucson\", \"orientation\": \"v\", \"showlegend\": true, \"type\": \"histogram\", \"x\": [52], \"xaxis\": \"x\", \"yaxis\": \"y\"}, {\"alignmentgroup\": \"True\", \"bingroup\": \"x\", \"hoverlabel\": {\"namelength\": 0}, \"hovertemplate\": \"city=stockton<br>age=%{x}<br>count=%{y}\", \"legendgroup\": \"city=stockton\", \"marker\": {\"color\": \"#FECB52\"}, \"name\": \"city=stockton\", \"offsetgroup\": \"city=stockton\", \"orientation\": \"v\", \"showlegend\": true, \"type\": \"histogram\", \"x\": [30], \"xaxis\": \"x\", \"yaxis\": \"y\"}, {\"alignmentgroup\": \"True\", \"bingroup\": \"x\", \"hoverlabel\": {\"namelength\": 0}, \"hovertemplate\": \"city=east palo alto<br>age=%{x}<br>count=%{y}\", \"legendgroup\": \"city=east palo alto\", \"marker\": {\"color\": \"#636efa\"}, \"name\": \"city=east palo alto\", \"offsetgroup\": \"city=east palo alto\", \"orientation\": \"v\", \"showlegend\": true, \"type\": \"histogram\", \"x\": [28], \"xaxis\": \"x\", \"yaxis\": \"y\"}, {\"alignmentgroup\": \"True\", \"bingroup\": \"x\", \"hoverlabel\": {\"namelength\": 0}, \"hovertemplate\": \"city=moss beach<br>age=%{x}<br>count=%{y}\", \"legendgroup\": \"city=moss beach\", \"marker\": {\"color\": \"#EF553B\"}, \"name\": \"city=moss beach\", \"offsetgroup\": \"city=moss beach\", \"orientation\": \"v\", \"showlegend\": true, \"type\": \"histogram\", \"x\": [33], \"xaxis\": \"x\", \"yaxis\": \"y\"}, {\"alignmentgroup\": \"True\", \"bingroup\": \"x\", \"hoverlabel\": {\"namelength\": 0}, \"hovertemplate\": \"city=orinda<br>age=%{x}<br>count=%{y}\", \"legendgroup\": \"city=orinda\", \"marker\": {\"color\": \"#00cc96\"}, \"name\": \"city=orinda\", \"offsetgroup\": \"city=orinda\", \"orientation\": \"v\", \"showlegend\": true, \"type\": \"histogram\", \"x\": [22, 27], \"xaxis\": \"x\", \"yaxis\": \"y\"}, {\"alignmentgroup\": \"True\", \"bingroup\": \"x\", \"hoverlabel\": {\"namelength\": 0}, \"hovertemplate\": \"city=san geronimo<br>age=%{x}<br>count=%{y}\", \"legendgroup\": \"city=san geronimo\", \"marker\": {\"color\": \"#ab63fa\"}, \"name\": \"city=san geronimo\", \"offsetgroup\": \"city=san geronimo\", \"orientation\": \"v\", \"showlegend\": true, \"type\": \"histogram\", \"x\": [29], \"xaxis\": \"x\", \"yaxis\": \"y\"}, {\"alignmentgroup\": \"True\", \"bingroup\": \"x\", \"hoverlabel\": {\"namelength\": 0}, \"hovertemplate\": \"city=montara<br>age=%{x}<br>count=%{y}\", \"legendgroup\": \"city=montara\", \"marker\": {\"color\": \"#FFA15A\"}, \"name\": \"city=montara\", \"offsetgroup\": \"city=montara\", \"orientation\": \"v\", \"showlegend\": true, \"type\": \"histogram\", \"x\": [25], \"xaxis\": \"x\", \"yaxis\": \"y\"}, {\"alignmentgroup\": \"True\", \"bingroup\": \"x\", \"hoverlabel\": {\"namelength\": 0}, \"hovertemplate\": \"city=corte madera<br>age=%{x}<br>count=%{y}\", \"legendgroup\": \"city=corte madera\", \"marker\": {\"color\": \"#19d3f3\"}, \"name\": \"city=corte madera\", \"offsetgroup\": \"city=corte madera\", \"orientation\": \"v\", \"showlegend\": true, \"type\": \"histogram\", \"x\": [28], \"xaxis\": \"x\", \"yaxis\": \"y\"}, {\"alignmentgroup\": \"True\", \"bingroup\": \"x\", \"hoverlabel\": {\"namelength\": 0}, \"hovertemplate\": \"city=cincinnati<br>age=%{x}<br>count=%{y}\", \"legendgroup\": \"city=cincinnati\", \"marker\": {\"color\": \"#FF6692\"}, \"name\": \"city=cincinnati\", \"offsetgroup\": \"city=cincinnati\", \"orientation\": \"v\", \"showlegend\": true, \"type\": \"histogram\", \"x\": [29], \"xaxis\": \"x\", \"yaxis\": \"y\"}],\n",
              "                        {\"barmode\": \"relative\", \"legend\": {\"tracegroupgap\": 0}, \"margin\": {\"t\": 60}, \"template\": {\"data\": {\"bar\": [{\"error_x\": {\"color\": \"#2a3f5f\"}, \"error_y\": {\"color\": \"#2a3f5f\"}, \"marker\": {\"line\": {\"color\": \"#E5ECF6\", \"width\": 0.5}}, \"type\": \"bar\"}], \"barpolar\": [{\"marker\": {\"line\": {\"color\": \"#E5ECF6\", \"width\": 0.5}}, \"type\": \"barpolar\"}], \"carpet\": [{\"aaxis\": {\"endlinecolor\": \"#2a3f5f\", \"gridcolor\": \"white\", \"linecolor\": \"white\", \"minorgridcolor\": \"white\", \"startlinecolor\": \"#2a3f5f\"}, \"baxis\": {\"endlinecolor\": \"#2a3f5f\", \"gridcolor\": \"white\", \"linecolor\": \"white\", \"minorgridcolor\": \"white\", \"startlinecolor\": \"#2a3f5f\"}, \"type\": \"carpet\"}], \"choropleth\": [{\"colorbar\": {\"outlinewidth\": 0, \"ticks\": \"\"}, \"type\": \"choropleth\"}], \"contour\": [{\"colorbar\": {\"outlinewidth\": 0, \"ticks\": \"\"}, \"colorscale\": [[0.0, \"#0d0887\"], [0.1111111111111111, \"#46039f\"], [0.2222222222222222, \"#7201a8\"], [0.3333333333333333, \"#9c179e\"], [0.4444444444444444, \"#bd3786\"], [0.5555555555555556, \"#d8576b\"], [0.6666666666666666, \"#ed7953\"], [0.7777777777777778, \"#fb9f3a\"], [0.8888888888888888, \"#fdca26\"], [1.0, \"#f0f921\"]], \"type\": \"contour\"}], \"contourcarpet\": [{\"colorbar\": {\"outlinewidth\": 0, \"ticks\": \"\"}, \"type\": \"contourcarpet\"}], \"heatmap\": [{\"colorbar\": {\"outlinewidth\": 0, \"ticks\": \"\"}, \"colorscale\": [[0.0, \"#0d0887\"], [0.1111111111111111, \"#46039f\"], [0.2222222222222222, \"#7201a8\"], [0.3333333333333333, \"#9c179e\"], [0.4444444444444444, \"#bd3786\"], [0.5555555555555556, \"#d8576b\"], [0.6666666666666666, \"#ed7953\"], [0.7777777777777778, \"#fb9f3a\"], [0.8888888888888888, \"#fdca26\"], [1.0, \"#f0f921\"]], \"type\": \"heatmap\"}], \"heatmapgl\": [{\"colorbar\": {\"outlinewidth\": 0, \"ticks\": \"\"}, \"colorscale\": [[0.0, \"#0d0887\"], [0.1111111111111111, \"#46039f\"], [0.2222222222222222, \"#7201a8\"], [0.3333333333333333, \"#9c179e\"], [0.4444444444444444, \"#bd3786\"], [0.5555555555555556, \"#d8576b\"], [0.6666666666666666, \"#ed7953\"], [0.7777777777777778, \"#fb9f3a\"], [0.8888888888888888, \"#fdca26\"], [1.0, \"#f0f921\"]], \"type\": \"heatmapgl\"}], \"histogram\": [{\"marker\": {\"colorbar\": {\"outlinewidth\": 0, \"ticks\": \"\"}}, \"type\": \"histogram\"}], \"histogram2d\": [{\"colorbar\": {\"outlinewidth\": 0, \"ticks\": \"\"}, \"colorscale\": [[0.0, \"#0d0887\"], [0.1111111111111111, \"#46039f\"], [0.2222222222222222, \"#7201a8\"], [0.3333333333333333, \"#9c179e\"], [0.4444444444444444, \"#bd3786\"], [0.5555555555555556, \"#d8576b\"], [0.6666666666666666, \"#ed7953\"], [0.7777777777777778, \"#fb9f3a\"], [0.8888888888888888, \"#fdca26\"], [1.0, \"#f0f921\"]], \"type\": \"histogram2d\"}], \"histogram2dcontour\": [{\"colorbar\": {\"outlinewidth\": 0, \"ticks\": \"\"}, \"colorscale\": [[0.0, \"#0d0887\"], [0.1111111111111111, \"#46039f\"], [0.2222222222222222, \"#7201a8\"], [0.3333333333333333, \"#9c179e\"], [0.4444444444444444, \"#bd3786\"], [0.5555555555555556, \"#d8576b\"], [0.6666666666666666, \"#ed7953\"], [0.7777777777777778, \"#fb9f3a\"], [0.8888888888888888, \"#fdca26\"], [1.0, \"#f0f921\"]], \"type\": \"histogram2dcontour\"}], \"mesh3d\": [{\"colorbar\": {\"outlinewidth\": 0, \"ticks\": \"\"}, \"type\": \"mesh3d\"}], \"parcoords\": [{\"line\": {\"colorbar\": {\"outlinewidth\": 0, \"ticks\": \"\"}}, \"type\": \"parcoords\"}], \"pie\": [{\"automargin\": true, \"type\": \"pie\"}], \"scatter\": [{\"marker\": {\"colorbar\": {\"outlinewidth\": 0, \"ticks\": \"\"}}, \"type\": \"scatter\"}], \"scatter3d\": [{\"line\": {\"colorbar\": {\"outlinewidth\": 0, \"ticks\": \"\"}}, \"marker\": {\"colorbar\": {\"outlinewidth\": 0, \"ticks\": \"\"}}, \"type\": \"scatter3d\"}], \"scattercarpet\": [{\"marker\": {\"colorbar\": {\"outlinewidth\": 0, \"ticks\": \"\"}}, \"type\": \"scattercarpet\"}], \"scattergeo\": [{\"marker\": {\"colorbar\": {\"outlinewidth\": 0, \"ticks\": \"\"}}, \"type\": \"scattergeo\"}], \"scattergl\": [{\"marker\": {\"colorbar\": {\"outlinewidth\": 0, \"ticks\": \"\"}}, \"type\": \"scattergl\"}], \"scattermapbox\": [{\"marker\": {\"colorbar\": {\"outlinewidth\": 0, \"ticks\": \"\"}}, \"type\": \"scattermapbox\"}], \"scatterpolar\": [{\"marker\": {\"colorbar\": {\"outlinewidth\": 0, \"ticks\": \"\"}}, \"type\": \"scatterpolar\"}], \"scatterpolargl\": [{\"marker\": {\"colorbar\": {\"outlinewidth\": 0, \"ticks\": \"\"}}, \"type\": \"scatterpolargl\"}], \"scatterternary\": [{\"marker\": {\"colorbar\": {\"outlinewidth\": 0, \"ticks\": \"\"}}, \"type\": \"scatterternary\"}], \"surface\": [{\"colorbar\": {\"outlinewidth\": 0, \"ticks\": \"\"}, \"colorscale\": [[0.0, \"#0d0887\"], [0.1111111111111111, \"#46039f\"], [0.2222222222222222, \"#7201a8\"], [0.3333333333333333, \"#9c179e\"], [0.4444444444444444, \"#bd3786\"], [0.5555555555555556, \"#d8576b\"], [0.6666666666666666, \"#ed7953\"], [0.7777777777777778, \"#fb9f3a\"], [0.8888888888888888, \"#fdca26\"], [1.0, \"#f0f921\"]], \"type\": \"surface\"}], \"table\": [{\"cells\": {\"fill\": {\"color\": \"#EBF0F8\"}, \"line\": {\"color\": \"white\"}}, \"header\": {\"fill\": {\"color\": \"#C8D4E3\"}, \"line\": {\"color\": \"white\"}}, \"type\": \"table\"}]}, \"layout\": {\"annotationdefaults\": {\"arrowcolor\": \"#2a3f5f\", \"arrowhead\": 0, \"arrowwidth\": 1}, \"coloraxis\": {\"colorbar\": {\"outlinewidth\": 0, \"ticks\": \"\"}}, \"colorscale\": {\"diverging\": [[0, \"#8e0152\"], [0.1, \"#c51b7d\"], [0.2, \"#de77ae\"], [0.3, \"#f1b6da\"], [0.4, \"#fde0ef\"], [0.5, \"#f7f7f7\"], [0.6, \"#e6f5d0\"], [0.7, \"#b8e186\"], [0.8, \"#7fbc41\"], [0.9, \"#4d9221\"], [1, \"#276419\"]], \"sequential\": [[0.0, \"#0d0887\"], [0.1111111111111111, \"#46039f\"], [0.2222222222222222, \"#7201a8\"], [0.3333333333333333, \"#9c179e\"], [0.4444444444444444, \"#bd3786\"], [0.5555555555555556, \"#d8576b\"], [0.6666666666666666, \"#ed7953\"], [0.7777777777777778, \"#fb9f3a\"], [0.8888888888888888, \"#fdca26\"], [1.0, \"#f0f921\"]], \"sequentialminus\": [[0.0, \"#0d0887\"], [0.1111111111111111, \"#46039f\"], [0.2222222222222222, \"#7201a8\"], [0.3333333333333333, \"#9c179e\"], [0.4444444444444444, \"#bd3786\"], [0.5555555555555556, \"#d8576b\"], [0.6666666666666666, \"#ed7953\"], [0.7777777777777778, \"#fb9f3a\"], [0.8888888888888888, \"#fdca26\"], [1.0, \"#f0f921\"]]}, \"colorway\": [\"#636efa\", \"#EF553B\", \"#00cc96\", \"#ab63fa\", \"#FFA15A\", \"#19d3f3\", \"#FF6692\", \"#B6E880\", \"#FF97FF\", \"#FECB52\"], \"font\": {\"color\": \"#2a3f5f\"}, \"geo\": {\"bgcolor\": \"white\", \"lakecolor\": \"white\", \"landcolor\": \"#E5ECF6\", \"showlakes\": true, \"showland\": true, \"subunitcolor\": \"white\"}, \"hoverlabel\": {\"align\": \"left\"}, \"hovermode\": \"closest\", \"mapbox\": {\"style\": \"light\"}, \"paper_bgcolor\": \"white\", \"plot_bgcolor\": \"#E5ECF6\", \"polar\": {\"angularaxis\": {\"gridcolor\": \"white\", \"linecolor\": \"white\", \"ticks\": \"\"}, \"bgcolor\": \"#E5ECF6\", \"radialaxis\": {\"gridcolor\": \"white\", \"linecolor\": \"white\", \"ticks\": \"\"}}, \"scene\": {\"xaxis\": {\"backgroundcolor\": \"#E5ECF6\", \"gridcolor\": \"white\", \"gridwidth\": 2, \"linecolor\": \"white\", \"showbackground\": true, \"ticks\": \"\", \"zerolinecolor\": \"white\"}, \"yaxis\": {\"backgroundcolor\": \"#E5ECF6\", \"gridcolor\": \"white\", \"gridwidth\": 2, \"linecolor\": \"white\", \"showbackground\": true, \"ticks\": \"\", \"zerolinecolor\": \"white\"}, \"zaxis\": {\"backgroundcolor\": \"#E5ECF6\", \"gridcolor\": \"white\", \"gridwidth\": 2, \"linecolor\": \"white\", \"showbackground\": true, \"ticks\": \"\", \"zerolinecolor\": \"white\"}}, \"shapedefaults\": {\"line\": {\"color\": \"#2a3f5f\"}}, \"ternary\": {\"aaxis\": {\"gridcolor\": \"white\", \"linecolor\": \"white\", \"ticks\": \"\"}, \"baxis\": {\"gridcolor\": \"white\", \"linecolor\": \"white\", \"ticks\": \"\"}, \"bgcolor\": \"#E5ECF6\", \"caxis\": {\"gridcolor\": \"white\", \"linecolor\": \"white\", \"ticks\": \"\"}}, \"title\": {\"x\": 0.05}, \"xaxis\": {\"automargin\": true, \"gridcolor\": \"white\", \"linecolor\": \"white\", \"ticks\": \"\", \"title\": {\"standoff\": 15}, \"zerolinecolor\": \"white\", \"zerolinewidth\": 2}, \"yaxis\": {\"automargin\": true, \"gridcolor\": \"white\", \"linecolor\": \"white\", \"ticks\": \"\", \"title\": {\"standoff\": 15}, \"zerolinecolor\": \"white\", \"zerolinewidth\": 2}}}, \"xaxis\": {\"anchor\": \"y\", \"domain\": [0.0, 1.0], \"title\": {\"text\": \"age\"}}, \"yaxis\": {\"anchor\": \"x\", \"domain\": [0.0, 1.0], \"title\": {\"text\": \"count\"}}},\n",
              "                        {\"responsive\": true}\n",
              "                    ).then(function(){\n",
              "                            \n",
              "var gd = document.getElementById('09f80abf-190b-4b65-a6ec-5b997b5eefa7');\n",
              "var x = new MutationObserver(function (mutations, observer) {{\n",
              "        var display = window.getComputedStyle(gd).display;\n",
              "        if (!display || display === 'none') {{\n",
              "            console.log([gd, 'removed!']);\n",
              "            Plotly.purge(gd);\n",
              "            observer.disconnect();\n",
              "        }}\n",
              "}});\n",
              "\n",
              "// Listen for the removal of the full notebook cells\n",
              "var notebookContainer = gd.closest('#notebook-container');\n",
              "if (notebookContainer) {{\n",
              "    x.observe(notebookContainer, {childList: true});\n",
              "}}\n",
              "\n",
              "// Listen for the clearing of the current output cell\n",
              "var outputEl = gd.closest('.output');\n",
              "if (outputEl) {{\n",
              "    x.observe(outputEl, {childList: true});\n",
              "}}\n",
              "\n",
              "                        })\n",
              "                };\n",
              "                \n",
              "            </script>\n",
              "        </div>\n",
              "</body>\n",
              "</html>"
            ]
          },
          "metadata": {
            "tags": []
          }
        }
      ]
    },
    {
      "cell_type": "markdown",
      "metadata": {
        "id": "vRWKjkLXn6Yv"
      },
      "source": [
        "From the plot above we can observe that San Francisco has the most active users, followed by Oakland and Berkeley. This could be a great insight for the marketing team to generate positive advertisements to ensure customer retention maybe by offering promotions to active users. We also note a lot of cities do not have that many users which could help the marketing team in generating advertisments to obtain new customers."
      ]
    },
    {
      "cell_type": "code",
      "metadata": {
        "colab": {
          "base_uri": "https://localhost:8080/",
          "height": 542
        },
        "id": "zSvxXsHQn3ag",
        "outputId": "ab1cff1c-4f00-4442-c601-d70c39e0d07d"
      },
      "source": [
        "px.histogram(asd, x = 'age', color = 'sex')"
      ],
      "execution_count": 44,
      "outputs": [
        {
          "output_type": "display_data",
          "data": {
            "text/html": [
              "<html>\n",
              "<head><meta charset=\"utf-8\" /></head>\n",
              "<body>\n",
              "    <div>\n",
              "            <script src=\"https://cdnjs.cloudflare.com/ajax/libs/mathjax/2.7.5/MathJax.js?config=TeX-AMS-MML_SVG\"></script><script type=\"text/javascript\">if (window.MathJax) {MathJax.Hub.Config({SVG: {font: \"STIX-Web\"}});}</script>\n",
              "                <script type=\"text/javascript\">window.PlotlyConfig = {MathJaxConfig: 'local'};</script>\n",
              "        <script src=\"https://cdn.plot.ly/plotly-latest.min.js\"></script>    \n",
              "            <div id=\"57e18096-b712-42cf-8829-54fbaf3b94a0\" class=\"plotly-graph-div\" style=\"height:525px; width:100%;\"></div>\n",
              "            <script type=\"text/javascript\">\n",
              "                \n",
              "                    window.PLOTLYENV=window.PLOTLYENV || {};\n",
              "                    \n",
              "                if (document.getElementById(\"57e18096-b712-42cf-8829-54fbaf3b94a0\")) {\n",
              "                    Plotly.newPlot(\n",
              "                        '57e18096-b712-42cf-8829-54fbaf3b94a0',\n",
              "                        [{\"alignmentgroup\": \"True\", \"bingroup\": \"x\", \"hoverlabel\": {\"namelength\": 0}, \"hovertemplate\": \"sex=m<br>age=%{x}<br>count=%{y}\", \"legendgroup\": \"sex=m\", \"marker\": {\"color\": \"#636efa\"}, \"name\": \"sex=m\", \"offsetgroup\": \"sex=m\", \"orientation\": \"v\", \"showlegend\": true, \"type\": \"histogram\", \"x\": [29, 21, 50, 37, 35, 30, 39, 47, 35, 44, 23, 30, 18, 23, 36, 31, 22, 21, 20, 24, 36, 34, 40, 23, 24, 28, 25, 37, 23, 28, 25, 25, 23, 43, 37, 28, 36, 26, 50, 27, 48, 51, 42, 20, 53, 33, 35, 43, 30, 23, 21, 31, 32, 24, 29, 21, 21, 30, 30, 25, 31, 28, 39, 56, 26, 30, 36, 41, 37, 57, 24, 37, 39, 30, 39, 33, 50, 28, 20, 30, 21, 32, 28, 39, 47, 55, 25, 29, 29, 31, 23, 25, 27, 33, 32, 42, 26, 48, 26, 26, 25, 21, 26, 22, 56, 35, 55, 46, 29, 30, 27, 35, 23, 24, 19, 22, 29, 39, 23, 24, 19, 68, 27, 31, 37, 20, 34, 24, 23, 20, 29, 29, 25, 26, 22, 39, 26, 49, 47, 24, 42, 31, 28, 36, 24, 41, 23, 28, 41, 22, 20, 23, 24, 27, 39, 25, 39, 32, 34, 34, 65, 26, 59, 28, 22, 45, 24, 18, 53, 27, 24, 30, 32, 23, 54, 33, 30, 29, 26, 56, 27, 23, 31, 23, 39, 45, 26, 29, 28, 41, 35, 29, 24, 23, 46, 42, 25, 34, 23, 34, 24, 21, 34, 20, 45, 18, 33, 28, 49, 24, 23, 30, 24, 48, 41, 28, 22, 22, 41, 21, 35, 49, 23, 36, 61, 23, 49, 27, 36, 45, 66, 26, 67, 58, 51, 20, 23, 29, 33, 56, 59, 49, 29, 34, 21, 32, 26, 19, 33, 33, 47, 45, 68, 34, 43, 27, 26, 59, 32, 25, 24, 27, 37, 22, 26, 38, 29, 37, 27, 38, 26, 22, 33, 27, 21, 44, 33, 28, 25, 28, 24, 26, 26, 29, 23, 61, 33, 48, 33, 43, 25, 47, 27, 38, 28, 20, 19, 27, 31, 34, 34, 39, 26, 22, 36, 44, 31, 43, 18, 56, 37, 32, 26, 27, 45, 20, 51, 27, 27, 34, 19, 22, 25, 20, 19, 28, 30, 32, 25, 24, 33, 28, 21, 32, 25, 27, 25, 23, 24, 29, 46, 25, 28, 54, 31, 29, 43, 19, 26, 27, 35, 35, 34, 50, 31, 24, 24, 29, 27, 30, 33, 22, 24, 24, 32, 38, 35, 32, 31, 28, 40, 32, 32, 34, 29, 22, 22, 62, 29, 36, 27, 52, 23, 43, 38, 48, 45, 33, 56, 32, 31, 28, 26, 55, 23, 33, 40, 25, 23, 45, 51, 22, 20, 44, 42, 65, 18, 33, 33, 21, 26, 34, 20, 21, 34, 20, 28, 27, 26, 28, 26, 44, 20, 25, 43, 30, 35, 33, 31, 25, 47, 23, 42, 61, 44, 26, 23, 36, 20, 42, 44, 34, 19, 31, 43, 22, 20, 29, 25, 43, 42, 31, 26, 57, 32, 35, 44, 35, 43, 20, 38, 26, 27, 19, 37, 27, 34, 36, 42, 26, 25, 41, 30, 26, 30, 39, 27, 26, 26, 39, 44, 30, 29, 43, 42, 48, 28, 20, 45, 34, 24, 40, 21, 25, 26, 45, 27, 54, 26, 29, 64, 21, 35, 25, 52, 31, 28, 30, 22, 23, 22, 23, 47, 33, 37, 62, 33, 38, 23, 39, 41, 33, 37, 34, 20, 51, 40, 44, 19, 48, 23, 41, 28, 37, 35, 53, 40, 22, 25, 27, 27, 47, 23, 32, 29, 48, 26, 62, 23, 30, 33, 37, 31, 33, 20, 30, 31, 19, 32, 27, 31, 28, 23, 35, 32, 41, 68, 31, 38, 45, 35, 34, 32, 26, 19, 24, 29, 34, 20, 51, 25, 64, 26, 25, 39, 22, 35, 28, 24, 29, 22, 33, 23, 34, 20, 28, 24, 22, 20, 23, 31, 46, 49, 24, 21, 44, 25, 26, 18, 54, 30, 29, 35, 26, 22, 22, 35, 27, 26, 38, 27, 38, 63, 32, 32, 29, 24, 23, 43, 26, 39, 22, 21, 65, 26, 26, 26, 54, 33, 22, 39, 38, 38, 32, 27, 34, 56, 24, 57, 23, 34, 28, 34, 28, 38, 31, 24, 24, 34, 39, 30, 37, 31, 58, 25, 28, 25, 29, 56, 44, 25, 27, 22, 24, 22, 31, 54, 64, 25, 35, 37, 25, 43, 18, 28, 25, 48, 24, 27, 24, 26, 23, 30, 24, 31, 24, 40, 32, 28, 29, 26, 29, 30, 45, 32, 22, 39, 31, 30, 24, 48, 51, 26, 30, 28, 31, 30, 21, 24, 32, 32, 34, 54, 41, 27, 24, 26, 22, 28, 29, 20, 30, 32, 22, 33, 43, 25, 31, 33, 26, 31, 31, 21, 30, 35, 37, 30, 25, 33, 42, 44, 24, 23, 56, 25, 22, 35, 29, 20, 22, 24, 34, 33, 41, 26, 30, 29, 38, 23, 23, 32, 26, 25, 38, 22, 23, 31, 35, 57, 25, 43, 41, 35, 53, 44, 37, 27, 20, 25, 22, 53, 23, 21, 22, 27, 40, 37, 32, 51, 24, 34, 31, 27, 34, 23, 54, 33, 29, 23, 41, 23, 44, 28, 27, 27, 24, 22, 25, 55, 28, 22, 22, 23, 23, 26, 23, 31, 35, 34, 53, 29, 23, 26, 19, 30, 42, 25, 20, 37, 50, 20, 28, 32, 30, 31, 41, 39, 19, 60, 30, 22, 29, 61, 55, 23, 29, 32, 43, 23, 30, 28, 51, 34, 25, 37, 61, 56, 20, 22, 25, 21, 20, 30, 18, 27, 29, 50, 48, 21, 25, 21, 18, 20, 26, 39, 28, 29, 20, 22, 25, 20, 56, 45, 40, 19, 24, 21, 24, 34, 25, 20, 38, 31, 27, 27, 20, 42, 24, 30, 29, 35, 37, 34, 39, 59, 31, 27, 27, 49, 49, 32, 42, 34, 21, 30, 26, 29, 40, 28, 20, 46, 21, 44, 30, 28, 23, 21, 33, 34, 37, 22, 26, 29, 57, 28, 34, 33, 24], \"xaxis\": \"x\", \"yaxis\": \"y\"}, {\"alignmentgroup\": \"True\", \"bingroup\": \"x\", \"hoverlabel\": {\"namelength\": 0}, \"hovertemplate\": \"sex=f<br>age=%{x}<br>count=%{y}\", \"legendgroup\": \"sex=f\", \"marker\": {\"color\": \"#EF553B\"}, \"name\": \"sex=f\", \"offsetgroup\": \"sex=f\", \"orientation\": \"v\", \"showlegend\": true, \"type\": \"histogram\", \"x\": [23, 26, 26, 42, 34, 47, 30, 38, 34, 22, 31, 21, 25, 22, 19, 45, 27, 22, 18, 22, 22, 40, 22, 25, 42, 22, 56, 32, 25, 21, 27, 63, 22, 25, 66, 25, 28, 20, 48, 28, 21, 41, 40, 43, 25, 46, 22, 19, 41, 41, 62, 28, 24, 40, 37, 33, 20, 39, 33, 43, 40, 20, 24, 22, 28, 32, 21, 21, 32, 40, 19, 38, 36, 55, 33, 32, 20, 49, 33, 42, 24, 37, 31, 52, 56, 23, 32, 41, 57, 33, 51, 41, 24, 28, 20, 22, 52, 24, 32, 56, 27, 20, 28, 55, 25, 33, 29, 27, 22, 21, 26, 37, 27, 60, 28, 28, 26, 40, 28, 21, 39, 54, 25, 20, 56, 27, 23, 40, 33, 56, 31, 22, 23, 60, 35, 28, 21, 49, 42, 21, 30, 47, 33, 26, 36, 27, 34, 46, 44, 27, 30, 24, 29, 56, 30, 36, 25, 21, 27, 18, 29, 20, 46, 32, 68, 26, 27, 20, 20, 28, 49, 18, 22, 45, 19, 25, 39, 40, 27, 25, 30, 52, 21, 50, 28, 25, 22, 26, 22, 58, 27, 66, 28, 23, 32, 33, 30, 27, 28, 21, 38, 36, 47, 24, 44, 31, 26, 58, 55, 33, 56, 40, 39, 25, 32, 28, 20, 45, 45, 21, 24, 49, 26, 22, 24, 28, 24, 47, 33, 28, 38, 26, 29, 58, 52, 25, 23, 38, 20, 30, 20, 26, 44, 24, 18, 25, 27, 52, 26, 36, 57, 53, 62, 30, 34, 23, 45, 26, 25, 67, 23, 24, 34, 46, 22, 38, 33, 27, 65, 47, 54, 35, 26, 35, 24, 25, 34, 31, 31, 25, 41, 55, 29, 21, 35, 22, 55, 52, 23, 36, 36, 34, 40, 47, 24, 28, 33, 21, 35, 31, 21, 25, 26, 19, 32, 33, 33, 60, 25, 32, 23, 39, 29, 44, 37, 48, 55, 24, 58, 52, 58, 23, 30, 19, 19, 29, 52, 36, 23, 26, 43, 26, 26, 26, 33, 27, 29, 26, 56, 41, 49, 55, 60, 28, 21, 27, 45, 19, 33, 25, 20, 42, 33, 27, 65, 28, 26, 34, 26, 21, 36, 62, 61, 28, 25, 34, 19, 18, 20, 60, 29, 31, 54, 64, 22, 24, 27, 26, 25, 22, 22, 61, 39, 31, 21, 51, 21, 65, 28, 38, 30, 58, 32, 49, 23, 21, 64, 27, 54, 26, 37, 25, 24, 28, 42, 29, 36, 20, 24, 27, 31, 62, 45, 32, 24, 25, 25, 33, 31, 66, 44, 23, 34, 20, 52, 21, 43, 52, 22, 24, 26, 23, 21, 22, 26, 21, 30, 23, 20, 42, 25, 27, 53, 24, 41, 54, 24, 30, 21, 67, 25, 22, 30, 30, 31, 22, 23, 21, 19, 48, 23, 22, 32, 24, 29, 50, 50, 26, 56, 52, 26, 52, 34, 26, 24, 25], \"xaxis\": \"x\", \"yaxis\": \"y\"}],\n",
              "                        {\"barmode\": \"relative\", \"legend\": {\"tracegroupgap\": 0}, \"margin\": {\"t\": 60}, \"template\": {\"data\": {\"bar\": [{\"error_x\": {\"color\": \"#2a3f5f\"}, \"error_y\": {\"color\": \"#2a3f5f\"}, \"marker\": {\"line\": {\"color\": \"#E5ECF6\", \"width\": 0.5}}, \"type\": \"bar\"}], \"barpolar\": [{\"marker\": {\"line\": {\"color\": \"#E5ECF6\", \"width\": 0.5}}, \"type\": \"barpolar\"}], \"carpet\": [{\"aaxis\": {\"endlinecolor\": \"#2a3f5f\", \"gridcolor\": \"white\", \"linecolor\": \"white\", \"minorgridcolor\": \"white\", \"startlinecolor\": \"#2a3f5f\"}, \"baxis\": {\"endlinecolor\": \"#2a3f5f\", \"gridcolor\": \"white\", \"linecolor\": \"white\", \"minorgridcolor\": \"white\", \"startlinecolor\": \"#2a3f5f\"}, \"type\": \"carpet\"}], \"choropleth\": [{\"colorbar\": {\"outlinewidth\": 0, \"ticks\": \"\"}, \"type\": \"choropleth\"}], \"contour\": [{\"colorbar\": {\"outlinewidth\": 0, \"ticks\": \"\"}, \"colorscale\": [[0.0, \"#0d0887\"], [0.1111111111111111, \"#46039f\"], [0.2222222222222222, \"#7201a8\"], [0.3333333333333333, \"#9c179e\"], [0.4444444444444444, \"#bd3786\"], [0.5555555555555556, \"#d8576b\"], [0.6666666666666666, \"#ed7953\"], [0.7777777777777778, \"#fb9f3a\"], [0.8888888888888888, \"#fdca26\"], [1.0, \"#f0f921\"]], \"type\": \"contour\"}], \"contourcarpet\": [{\"colorbar\": {\"outlinewidth\": 0, \"ticks\": \"\"}, \"type\": \"contourcarpet\"}], \"heatmap\": [{\"colorbar\": {\"outlinewidth\": 0, \"ticks\": \"\"}, \"colorscale\": [[0.0, \"#0d0887\"], [0.1111111111111111, \"#46039f\"], [0.2222222222222222, \"#7201a8\"], [0.3333333333333333, \"#9c179e\"], [0.4444444444444444, \"#bd3786\"], [0.5555555555555556, \"#d8576b\"], [0.6666666666666666, \"#ed7953\"], [0.7777777777777778, \"#fb9f3a\"], [0.8888888888888888, \"#fdca26\"], [1.0, \"#f0f921\"]], \"type\": \"heatmap\"}], \"heatmapgl\": [{\"colorbar\": {\"outlinewidth\": 0, \"ticks\": \"\"}, \"colorscale\": [[0.0, \"#0d0887\"], [0.1111111111111111, \"#46039f\"], [0.2222222222222222, \"#7201a8\"], [0.3333333333333333, \"#9c179e\"], [0.4444444444444444, \"#bd3786\"], [0.5555555555555556, \"#d8576b\"], [0.6666666666666666, \"#ed7953\"], [0.7777777777777778, \"#fb9f3a\"], [0.8888888888888888, \"#fdca26\"], [1.0, \"#f0f921\"]], \"type\": \"heatmapgl\"}], \"histogram\": [{\"marker\": {\"colorbar\": {\"outlinewidth\": 0, \"ticks\": \"\"}}, \"type\": \"histogram\"}], \"histogram2d\": [{\"colorbar\": {\"outlinewidth\": 0, \"ticks\": \"\"}, \"colorscale\": [[0.0, \"#0d0887\"], [0.1111111111111111, \"#46039f\"], [0.2222222222222222, \"#7201a8\"], [0.3333333333333333, \"#9c179e\"], [0.4444444444444444, \"#bd3786\"], [0.5555555555555556, \"#d8576b\"], [0.6666666666666666, \"#ed7953\"], [0.7777777777777778, \"#fb9f3a\"], [0.8888888888888888, \"#fdca26\"], [1.0, \"#f0f921\"]], \"type\": \"histogram2d\"}], \"histogram2dcontour\": [{\"colorbar\": {\"outlinewidth\": 0, \"ticks\": \"\"}, \"colorscale\": [[0.0, \"#0d0887\"], [0.1111111111111111, \"#46039f\"], [0.2222222222222222, \"#7201a8\"], [0.3333333333333333, \"#9c179e\"], [0.4444444444444444, \"#bd3786\"], [0.5555555555555556, \"#d8576b\"], [0.6666666666666666, \"#ed7953\"], [0.7777777777777778, \"#fb9f3a\"], [0.8888888888888888, \"#fdca26\"], [1.0, \"#f0f921\"]], \"type\": \"histogram2dcontour\"}], \"mesh3d\": [{\"colorbar\": {\"outlinewidth\": 0, \"ticks\": \"\"}, \"type\": \"mesh3d\"}], \"parcoords\": [{\"line\": {\"colorbar\": {\"outlinewidth\": 0, \"ticks\": \"\"}}, \"type\": \"parcoords\"}], \"pie\": [{\"automargin\": true, \"type\": \"pie\"}], \"scatter\": [{\"marker\": {\"colorbar\": {\"outlinewidth\": 0, \"ticks\": \"\"}}, \"type\": \"scatter\"}], \"scatter3d\": [{\"line\": {\"colorbar\": {\"outlinewidth\": 0, \"ticks\": \"\"}}, \"marker\": {\"colorbar\": {\"outlinewidth\": 0, \"ticks\": \"\"}}, \"type\": \"scatter3d\"}], \"scattercarpet\": [{\"marker\": {\"colorbar\": {\"outlinewidth\": 0, \"ticks\": \"\"}}, \"type\": \"scattercarpet\"}], \"scattergeo\": [{\"marker\": {\"colorbar\": {\"outlinewidth\": 0, \"ticks\": \"\"}}, \"type\": \"scattergeo\"}], \"scattergl\": [{\"marker\": {\"colorbar\": {\"outlinewidth\": 0, \"ticks\": \"\"}}, \"type\": \"scattergl\"}], \"scattermapbox\": [{\"marker\": {\"colorbar\": {\"outlinewidth\": 0, \"ticks\": \"\"}}, \"type\": \"scattermapbox\"}], \"scatterpolar\": [{\"marker\": {\"colorbar\": {\"outlinewidth\": 0, \"ticks\": \"\"}}, \"type\": \"scatterpolar\"}], \"scatterpolargl\": [{\"marker\": {\"colorbar\": {\"outlinewidth\": 0, \"ticks\": \"\"}}, \"type\": \"scatterpolargl\"}], \"scatterternary\": [{\"marker\": {\"colorbar\": {\"outlinewidth\": 0, \"ticks\": \"\"}}, \"type\": \"scatterternary\"}], \"surface\": [{\"colorbar\": {\"outlinewidth\": 0, \"ticks\": \"\"}, \"colorscale\": [[0.0, \"#0d0887\"], [0.1111111111111111, \"#46039f\"], [0.2222222222222222, \"#7201a8\"], [0.3333333333333333, \"#9c179e\"], [0.4444444444444444, \"#bd3786\"], [0.5555555555555556, \"#d8576b\"], [0.6666666666666666, \"#ed7953\"], [0.7777777777777778, \"#fb9f3a\"], [0.8888888888888888, \"#fdca26\"], [1.0, \"#f0f921\"]], \"type\": \"surface\"}], \"table\": [{\"cells\": {\"fill\": {\"color\": \"#EBF0F8\"}, \"line\": {\"color\": \"white\"}}, \"header\": {\"fill\": {\"color\": \"#C8D4E3\"}, \"line\": {\"color\": \"white\"}}, \"type\": \"table\"}]}, \"layout\": {\"annotationdefaults\": {\"arrowcolor\": \"#2a3f5f\", \"arrowhead\": 0, \"arrowwidth\": 1}, \"coloraxis\": {\"colorbar\": {\"outlinewidth\": 0, \"ticks\": \"\"}}, \"colorscale\": {\"diverging\": [[0, \"#8e0152\"], [0.1, \"#c51b7d\"], [0.2, \"#de77ae\"], [0.3, \"#f1b6da\"], [0.4, \"#fde0ef\"], [0.5, \"#f7f7f7\"], [0.6, \"#e6f5d0\"], [0.7, \"#b8e186\"], [0.8, \"#7fbc41\"], [0.9, \"#4d9221\"], [1, \"#276419\"]], \"sequential\": [[0.0, \"#0d0887\"], [0.1111111111111111, \"#46039f\"], [0.2222222222222222, \"#7201a8\"], [0.3333333333333333, \"#9c179e\"], [0.4444444444444444, \"#bd3786\"], [0.5555555555555556, \"#d8576b\"], [0.6666666666666666, \"#ed7953\"], [0.7777777777777778, \"#fb9f3a\"], [0.8888888888888888, \"#fdca26\"], [1.0, \"#f0f921\"]], \"sequentialminus\": [[0.0, \"#0d0887\"], [0.1111111111111111, \"#46039f\"], [0.2222222222222222, \"#7201a8\"], [0.3333333333333333, \"#9c179e\"], [0.4444444444444444, \"#bd3786\"], [0.5555555555555556, \"#d8576b\"], [0.6666666666666666, \"#ed7953\"], [0.7777777777777778, \"#fb9f3a\"], [0.8888888888888888, \"#fdca26\"], [1.0, \"#f0f921\"]]}, \"colorway\": [\"#636efa\", \"#EF553B\", \"#00cc96\", \"#ab63fa\", \"#FFA15A\", \"#19d3f3\", \"#FF6692\", \"#B6E880\", \"#FF97FF\", \"#FECB52\"], \"font\": {\"color\": \"#2a3f5f\"}, \"geo\": {\"bgcolor\": \"white\", \"lakecolor\": \"white\", \"landcolor\": \"#E5ECF6\", \"showlakes\": true, \"showland\": true, \"subunitcolor\": \"white\"}, \"hoverlabel\": {\"align\": \"left\"}, \"hovermode\": \"closest\", \"mapbox\": {\"style\": \"light\"}, \"paper_bgcolor\": \"white\", \"plot_bgcolor\": \"#E5ECF6\", \"polar\": {\"angularaxis\": {\"gridcolor\": \"white\", \"linecolor\": \"white\", \"ticks\": \"\"}, \"bgcolor\": \"#E5ECF6\", \"radialaxis\": {\"gridcolor\": \"white\", \"linecolor\": \"white\", \"ticks\": \"\"}}, \"scene\": {\"xaxis\": {\"backgroundcolor\": \"#E5ECF6\", \"gridcolor\": \"white\", \"gridwidth\": 2, \"linecolor\": \"white\", \"showbackground\": true, \"ticks\": \"\", \"zerolinecolor\": \"white\"}, \"yaxis\": {\"backgroundcolor\": \"#E5ECF6\", \"gridcolor\": \"white\", \"gridwidth\": 2, \"linecolor\": \"white\", \"showbackground\": true, \"ticks\": \"\", \"zerolinecolor\": \"white\"}, \"zaxis\": {\"backgroundcolor\": \"#E5ECF6\", \"gridcolor\": \"white\", \"gridwidth\": 2, \"linecolor\": \"white\", \"showbackground\": true, \"ticks\": \"\", \"zerolinecolor\": \"white\"}}, \"shapedefaults\": {\"line\": {\"color\": \"#2a3f5f\"}}, \"ternary\": {\"aaxis\": {\"gridcolor\": \"white\", \"linecolor\": \"white\", \"ticks\": \"\"}, \"baxis\": {\"gridcolor\": \"white\", \"linecolor\": \"white\", \"ticks\": \"\"}, \"bgcolor\": \"#E5ECF6\", \"caxis\": {\"gridcolor\": \"white\", \"linecolor\": \"white\", \"ticks\": \"\"}}, \"title\": {\"x\": 0.05}, \"xaxis\": {\"automargin\": true, \"gridcolor\": \"white\", \"linecolor\": \"white\", \"ticks\": \"\", \"title\": {\"standoff\": 15}, \"zerolinecolor\": \"white\", \"zerolinewidth\": 2}, \"yaxis\": {\"automargin\": true, \"gridcolor\": \"white\", \"linecolor\": \"white\", \"ticks\": \"\", \"title\": {\"standoff\": 15}, \"zerolinecolor\": \"white\", \"zerolinewidth\": 2}}}, \"xaxis\": {\"anchor\": \"y\", \"domain\": [0.0, 1.0], \"title\": {\"text\": \"age\"}}, \"yaxis\": {\"anchor\": \"x\", \"domain\": [0.0, 1.0], \"title\": {\"text\": \"count\"}}},\n",
              "                        {\"responsive\": true}\n",
              "                    ).then(function(){\n",
              "                            \n",
              "var gd = document.getElementById('57e18096-b712-42cf-8829-54fbaf3b94a0');\n",
              "var x = new MutationObserver(function (mutations, observer) {{\n",
              "        var display = window.getComputedStyle(gd).display;\n",
              "        if (!display || display === 'none') {{\n",
              "            console.log([gd, 'removed!']);\n",
              "            Plotly.purge(gd);\n",
              "            observer.disconnect();\n",
              "        }}\n",
              "}});\n",
              "\n",
              "// Listen for the removal of the full notebook cells\n",
              "var notebookContainer = gd.closest('#notebook-container');\n",
              "if (notebookContainer) {{\n",
              "    x.observe(notebookContainer, {childList: true});\n",
              "}}\n",
              "\n",
              "// Listen for the clearing of the current output cell\n",
              "var outputEl = gd.closest('.output');\n",
              "if (outputEl) {{\n",
              "    x.observe(outputEl, {childList: true});\n",
              "}}\n",
              "\n",
              "                        })\n",
              "                };\n",
              "                \n",
              "            </script>\n",
              "        </div>\n",
              "</body>\n",
              "</html>"
            ]
          },
          "metadata": {
            "tags": []
          }
        }
      ]
    },
    {
      "cell_type": "markdown",
      "metadata": {
        "id": "74Z3daKyo5u-"
      },
      "source": [
        "From the plot above we observe that # of females active users is much lesser than the # of active male users in California."
      ]
    },
    {
      "cell_type": "code",
      "metadata": {
        "colab": {
          "base_uri": "https://localhost:8080/"
        },
        "id": "DvKE6k0hp5kp",
        "outputId": "5238cc89-8885-4edb-89d0-8d3ef75416b7"
      },
      "source": [
        "asd.columns"
      ],
      "execution_count": 45,
      "outputs": [
        {
          "output_type": "execute_result",
          "data": {
            "text/plain": [
              "Index(['age', 'body_type', 'diet', 'drinks', 'drugs', 'education', 'essay0',\n",
              "       'essay1', 'essay2', 'essay3', 'essay4', 'essay5', 'essay6', 'essay7',\n",
              "       'essay8', 'essay9', 'ethnicity', 'height', 'income', 'job', 'offspring',\n",
              "       'orientation', 'pets', 'sex', 'smokes', 'status', 'last_date_online',\n",
              "       'last_time_online', 'year', 'month', 'day', 'city', 'language_1',\n",
              "       'language_2', 'language_3', 'language_4', 'language_5', 'essay0_new',\n",
              "       'essay1_new', 'essay2_new', 'essay3_new', 'essay4_new', 'essay5_new',\n",
              "       'essay6_new', 'essay7_new', 'essay8_new', 'essay9_new', 'Cluster #'],\n",
              "      dtype='object')"
            ]
          },
          "metadata": {
            "tags": []
          },
          "execution_count": 45
        }
      ]
    },
    {
      "cell_type": "code",
      "metadata": {
        "colab": {
          "base_uri": "https://localhost:8080/",
          "height": 542
        },
        "id": "05k3DDsFlbbD",
        "outputId": "87ce983f-98dc-46ce-f2a3-d0c39a0e9d4f"
      },
      "source": [
        "px.histogram(asd, x = 'age', color = 'orientation')"
      ],
      "execution_count": 46,
      "outputs": [
        {
          "output_type": "display_data",
          "data": {
            "text/html": [
              "<html>\n",
              "<head><meta charset=\"utf-8\" /></head>\n",
              "<body>\n",
              "    <div>\n",
              "            <script src=\"https://cdnjs.cloudflare.com/ajax/libs/mathjax/2.7.5/MathJax.js?config=TeX-AMS-MML_SVG\"></script><script type=\"text/javascript\">if (window.MathJax) {MathJax.Hub.Config({SVG: {font: \"STIX-Web\"}});}</script>\n",
              "                <script type=\"text/javascript\">window.PlotlyConfig = {MathJaxConfig: 'local'};</script>\n",
              "        <script src=\"https://cdn.plot.ly/plotly-latest.min.js\"></script>    \n",
              "            <div id=\"3f7ba174-e560-4453-94a7-ac1dddfe0f68\" class=\"plotly-graph-div\" style=\"height:525px; width:100%;\"></div>\n",
              "            <script type=\"text/javascript\">\n",
              "                \n",
              "                    window.PLOTLYENV=window.PLOTLYENV || {};\n",
              "                    \n",
              "                if (document.getElementById(\"3f7ba174-e560-4453-94a7-ac1dddfe0f68\")) {\n",
              "                    Plotly.newPlot(\n",
              "                        '3f7ba174-e560-4453-94a7-ac1dddfe0f68',\n",
              "                        [{\"alignmentgroup\": \"True\", \"bingroup\": \"x\", \"hoverlabel\": {\"namelength\": 0}, \"hovertemplate\": \"orientation=straight<br>age=%{x}<br>count=%{y}\", \"legendgroup\": \"orientation=straight\", \"marker\": {\"color\": \"#636efa\"}, \"name\": \"orientation=straight\", \"offsetgroup\": \"orientation=straight\", \"orientation\": \"v\", \"showlegend\": true, \"type\": \"histogram\", \"x\": [29, 23, 21, 50, 26, 37, 35, 30, 39, 42, 47, 34, 35, 44, 47, 23, 30, 18, 23, 30, 36, 31, 22, 38, 21, 20, 24, 36, 34, 40, 23, 22, 31, 21, 24, 28, 25, 25, 37, 23, 22, 28, 25, 25, 23, 43, 37, 28, 36, 19, 45, 26, 27, 50, 22, 27, 48, 18, 51, 42, 20, 53, 33, 35, 43, 40, 22, 30, 31, 42, 24, 56, 29, 32, 21, 25, 30, 21, 31, 27, 28, 39, 56, 26, 30, 63, 36, 22, 41, 25, 66, 37, 57, 24, 37, 39, 28, 30, 39, 33, 50, 28, 20, 20, 48, 30, 21, 32, 28, 39, 47, 55, 25, 29, 29, 31, 23, 25, 28, 21, 40, 43, 25, 27, 33, 32, 42, 26, 26, 46, 22, 19, 25, 21, 26, 41, 22, 56, 35, 55, 46, 29, 30, 27, 35, 24, 22, 29, 39, 41, 23, 62, 28, 24, 68, 27, 37, 20, 40, 37, 34, 24, 23, 20, 29, 33, 20, 29, 25, 26, 39, 33, 22, 39, 26, 49, 43, 47, 40, 20, 24, 24, 42, 31, 28, 36, 24, 22, 41, 23, 28, 41, 28, 32, 21, 21, 22, 32, 23, 24, 27, 39, 25, 40, 39, 19, 32, 34, 38, 34, 65, 36, 55, 33, 26, 28, 32, 49, 22, 33, 45, 42, 24, 24, 18, 31, 52, 56, 23, 53, 32, 41, 57, 27, 33, 51, 24, 32, 41, 24, 28, 23, 54, 33, 30, 29, 26, 56, 27, 22, 23, 31, 39, 52, 45, 26, 29, 28, 32, 41, 56, 35, 29, 27, 20, 24, 23, 46, 42, 25, 34, 55, 34, 24, 21, 34, 33, 29, 27, 22, 20, 45, 33, 28, 60, 28, 28, 49, 24, 23, 30, 24, 48, 41, 28, 22, 40, 28, 39, 54, 25, 35, 49, 23, 36, 61, 20, 23, 49, 27, 27, 36, 23, 45, 40, 66, 26, 67, 58, 20, 23, 29, 33, 33, 56, 56, 59, 49, 29, 34, 21, 23, 32, 60, 35, 28, 26, 19, 33, 33, 47, 45, 68, 34, 43, 49, 27, 42, 26, 59, 30, 32, 24, 47, 33, 27, 37, 22, 26, 38, 29, 36, 37, 27, 27, 38, 34, 22, 33, 27, 21, 44, 33, 28, 25, 46, 28, 44, 24, 26, 26, 29, 23, 61, 33, 48, 27, 30, 33, 24, 43, 56, 30, 36, 25, 47, 27, 38, 28, 20, 19, 27, 27, 31, 18, 34, 34, 39, 26, 22, 36, 44, 31, 43, 18, 46, 32, 68, 56, 26, 37, 32, 26, 27, 20, 27, 45, 20, 20, 51, 27, 34, 28, 19, 22, 20, 19, 28, 30, 32, 49, 18, 25, 45, 24, 19, 33, 28, 32, 25, 39, 25, 27, 25, 23, 24, 25, 29, 52, 46, 25, 54, 50, 28, 31, 25, 29, 19, 26, 26, 27, 35, 35, 34, 31, 24, 24, 29, 27, 58, 30, 33, 22, 24, 24, 32, 27, 38, 66, 35, 32, 31, 28, 32, 40, 32, 32, 30, 34, 29, 22, 22, 27, 62, 36, 21, 27, 52, 36, 47, 24, 38, 48, 45, 44, 56, 32, 31, 26, 55, 31, 26, 58, 55, 33, 56, 40, 39, 25, 33, 32, 28, 20, 40, 25, 45, 45, 23, 21, 45, 24, 51, 22, 20, 42, 65, 18, 49, 33, 33, 21, 26, 34, 24, 28, 20, 21, 34, 20, 28, 27, 47, 26, 28, 26, 44, 20, 25, 43, 30, 35, 33, 33, 31, 28, 38, 26, 47, 58, 23, 42, 61, 44, 26, 23, 36, 52, 20, 42, 25, 44, 34, 19, 31, 43, 23, 22, 20, 29, 25, 43, 20, 42, 31, 57, 32, 30, 44, 35, 43, 20, 38, 26, 27, 19, 37, 27, 20, 34, 36, 42, 26, 26, 25, 41, 30, 26, 30, 44, 39, 27, 26, 26, 39, 25, 30, 29, 43, 27, 42, 52, 48, 28, 20, 45, 26, 34, 24, 40, 21, 25, 26, 45, 54, 26, 29, 36, 57, 53, 62, 30, 64, 34, 21, 23, 35, 45, 26, 25, 67, 23, 25, 52, 31, 28, 24, 34, 30, 46, 22, 23, 22, 22, 38, 23, 33, 27, 33, 65, 47, 37, 54, 35, 62, 26, 33, 38, 39, 33, 37, 34, 25, 20, 40, 48, 23, 41, 28, 37, 53, 40, 22, 25, 27, 27, 47, 23, 32, 29, 34, 48, 26, 31, 23, 30, 33, 37, 31, 33, 31, 25, 31, 19, 41, 55, 29, 21, 32, 27, 31, 55, 28, 35, 32, 41, 68, 31, 38, 45, 35, 34, 52, 32, 23, 26, 24, 29, 36, 34, 34, 20, 51, 64, 47, 26, 24, 25, 28, 39, 33, 22, 35, 28, 29, 22, 33, 23, 34, 20, 28, 31, 22, 21, 20, 23, 26, 19, 31, 32, 49, 24, 21, 44, 33, 25, 26, 18, 54, 30, 29, 33, 35, 26, 22, 22, 35, 27, 25, 32, 23, 26, 38, 27, 39, 38, 63, 32, 32, 29, 24, 23, 44, 43, 37, 26, 39, 21, 65, 26, 26, 48, 54, 33, 22, 39, 38, 38, 32, 27, 34, 56, 24, 55, 57, 24, 58, 34, 52, 28, 34, 28, 58, 38, 31, 24, 24, 39, 30, 31, 30, 25, 28, 25, 29, 56, 44, 25, 27, 22, 29, 24, 52, 22, 31, 54, 23, 26, 43, 64, 25, 35, 37, 18, 26, 28, 25, 48, 26, 26, 33, 24, 27, 27, 24, 29, 26, 23, 30, 24, 26, 31, 24, 56, 49, 55, 60, 40, 32, 28, 28, 29, 30, 45, 32, 22, 39, 31, 30, 27, 24, 48, 51, 26, 30, 28, 31, 30, 45, 33, 21, 24, 32, 32, 34, 54, 41, 27, 24, 20, 26, 22, 28, 29, 42, 20, 30, 32, 22, 33, 43, 25, 33, 31, 33, 26, 31, 27, 65, 31, 30, 35, 28, 37, 30, 25, 34, 26, 33, 42, 21, 44, 24, 23, 56, 25, 22, 29, 36, 20, 24, 62, 61, 34, 33, 41, 26, 30, 29, 38, 23, 23, 32, 26, 19, 25, 38, 22, 23, 20, 60, 31, 29, 31, 54, 64, 35, 57, 25, 43, 41, 35, 53, 44, 24, 37, 27, 27, 26, 22, 20, 25, 22, 22, 53, 61, 23, 21, 39, 27, 31, 40, 21, 51, 37, 32, 51, 24, 21, 65, 34, 27, 34, 23, 28, 54, 33, 29, 38, 30, 23, 41, 23, 44, 28, 27, 27, 24, 22, 25, 55, 28, 22, 58, 32, 49, 23, 23, 23, 26, 21, 23, 64, 31, 27, 54, 26, 35, 37, 34, 53, 29, 25, 23, 28, 42, 29, 36, 26, 19, 30, 42, 25, 20, 37, 50, 20, 28, 24, 32, 27, 31, 30, 31, 41, 39, 62, 19, 60, 45, 30, 22, 32, 29, 61, 55, 25, 23, 33, 29, 32, 43, 23, 31, 66, 30, 28, 23, 34, 51, 34, 25, 52, 61, 56, 43, 20, 22, 24, 25, 26, 21, 20, 23, 21, 30, 22, 18, 27, 29, 50, 48, 21, 21, 23, 18, 20, 26, 39, 20, 42, 20, 22, 25, 27, 20, 56, 45, 53, 40, 19, 24, 41, 24, 24, 34, 54, 24, 20, 30, 38, 21, 31, 67, 27, 27, 20, 30, 42, 30, 31, 22, 23, 21, 24, 30, 19, 29, 35, 48, 22, 37, 32, 24, 34, 59, 31, 27, 27, 49, 50, 50, 26, 49, 32, 34, 21, 30, 26, 29, 40, 28, 52, 46, 21, 44, 30, 28, 23, 21, 34, 37, 22, 26, 29, 52, 57, 34, 28, 26, 24, 34, 25, 33, 24], \"xaxis\": \"x\", \"yaxis\": \"y\"}, {\"alignmentgroup\": \"True\", \"bingroup\": \"x\", \"hoverlabel\": {\"namelength\": 0}, \"hovertemplate\": \"orientation=gay<br>age=%{x}<br>count=%{y}\", \"legendgroup\": \"orientation=gay\", \"marker\": {\"color\": \"#EF553B\"}, \"name\": \"orientation=gay\", \"offsetgroup\": \"orientation=gay\", \"orientation\": \"v\", \"showlegend\": true, \"type\": \"histogram\", \"x\": [26, 22, 23, 21, 32, 21, 30, 48, 26, 23, 19, 19, 59, 30, 18, 26, 37, 41, 21, 56, 51, 26, 29, 21, 27, 40, 43, 22, 50, 28, 29, 43, 33, 28, 44, 25, 26, 35, 44, 27, 47, 23, 41, 51, 44, 19, 35, 62, 35, 22, 19, 25, 24, 24, 46, 60, 22, 23, 34, 37, 58, 19, 25, 43, 41, 29, 19, 34, 22, 31, 22, 24, 52, 25, 29, 25, 25, 42, 56, 20], \"xaxis\": \"x\", \"yaxis\": \"y\"}, {\"alignmentgroup\": \"True\", \"bingroup\": \"x\", \"hoverlabel\": {\"namelength\": 0}, \"hovertemplate\": \"orientation=bisexual<br>age=%{x}<br>count=%{y}\", \"legendgroup\": \"orientation=bisexual\", \"marker\": {\"color\": \"#00cc96\"}, \"name\": \"orientation=bisexual\", \"offsetgroup\": \"orientation=bisexual\", \"orientation\": \"v\", \"showlegend\": true, \"type\": \"histogram\", \"x\": [34, 22, 25, 22, 25, 25, 41, 31, 24, 20, 20, 37, 20, 23, 24, 28, 23, 25, 21, 27, 26, 21, 22, 31, 22, 21, 21, 25, 26, 25, 29, 20, 25, 22, 21, 27, 30, 21, 28, 22, 23, 33, 28, 38, 23, 23, 26, 22, 24, 29, 38, 24, 18, 35, 24, 20, 30, 23, 36, 40, 21, 35, 25, 29, 26, 23, 19, 36, 26, 21, 25, 21, 26, 35, 22, 28, 25, 18, 22, 25, 24, 20, 25, 44, 20, 21, 37, 22, 26, 21, 30, 28, 25, 21, 22, 23, 29, 39, 26, 33], \"xaxis\": \"x\", \"yaxis\": \"y\"}],\n",
              "                        {\"barmode\": \"relative\", \"legend\": {\"tracegroupgap\": 0}, \"margin\": {\"t\": 60}, \"template\": {\"data\": {\"bar\": [{\"error_x\": {\"color\": \"#2a3f5f\"}, \"error_y\": {\"color\": \"#2a3f5f\"}, \"marker\": {\"line\": {\"color\": \"#E5ECF6\", \"width\": 0.5}}, \"type\": \"bar\"}], \"barpolar\": [{\"marker\": {\"line\": {\"color\": \"#E5ECF6\", \"width\": 0.5}}, \"type\": \"barpolar\"}], \"carpet\": [{\"aaxis\": {\"endlinecolor\": \"#2a3f5f\", \"gridcolor\": \"white\", \"linecolor\": \"white\", \"minorgridcolor\": \"white\", \"startlinecolor\": \"#2a3f5f\"}, \"baxis\": {\"endlinecolor\": \"#2a3f5f\", \"gridcolor\": \"white\", \"linecolor\": \"white\", \"minorgridcolor\": \"white\", \"startlinecolor\": \"#2a3f5f\"}, \"type\": \"carpet\"}], \"choropleth\": [{\"colorbar\": {\"outlinewidth\": 0, \"ticks\": \"\"}, \"type\": \"choropleth\"}], \"contour\": [{\"colorbar\": {\"outlinewidth\": 0, \"ticks\": \"\"}, \"colorscale\": [[0.0, \"#0d0887\"], [0.1111111111111111, \"#46039f\"], [0.2222222222222222, \"#7201a8\"], [0.3333333333333333, \"#9c179e\"], [0.4444444444444444, \"#bd3786\"], [0.5555555555555556, \"#d8576b\"], [0.6666666666666666, \"#ed7953\"], [0.7777777777777778, \"#fb9f3a\"], [0.8888888888888888, \"#fdca26\"], [1.0, \"#f0f921\"]], \"type\": \"contour\"}], \"contourcarpet\": [{\"colorbar\": {\"outlinewidth\": 0, \"ticks\": \"\"}, \"type\": \"contourcarpet\"}], \"heatmap\": [{\"colorbar\": {\"outlinewidth\": 0, \"ticks\": \"\"}, \"colorscale\": [[0.0, \"#0d0887\"], [0.1111111111111111, \"#46039f\"], [0.2222222222222222, \"#7201a8\"], [0.3333333333333333, \"#9c179e\"], [0.4444444444444444, \"#bd3786\"], [0.5555555555555556, \"#d8576b\"], [0.6666666666666666, \"#ed7953\"], [0.7777777777777778, \"#fb9f3a\"], [0.8888888888888888, \"#fdca26\"], [1.0, \"#f0f921\"]], \"type\": \"heatmap\"}], \"heatmapgl\": [{\"colorbar\": {\"outlinewidth\": 0, \"ticks\": \"\"}, \"colorscale\": [[0.0, \"#0d0887\"], [0.1111111111111111, \"#46039f\"], [0.2222222222222222, \"#7201a8\"], [0.3333333333333333, \"#9c179e\"], [0.4444444444444444, \"#bd3786\"], [0.5555555555555556, \"#d8576b\"], [0.6666666666666666, \"#ed7953\"], [0.7777777777777778, \"#fb9f3a\"], [0.8888888888888888, \"#fdca26\"], [1.0, \"#f0f921\"]], \"type\": \"heatmapgl\"}], \"histogram\": [{\"marker\": {\"colorbar\": {\"outlinewidth\": 0, \"ticks\": \"\"}}, \"type\": \"histogram\"}], \"histogram2d\": [{\"colorbar\": {\"outlinewidth\": 0, \"ticks\": \"\"}, \"colorscale\": [[0.0, \"#0d0887\"], [0.1111111111111111, \"#46039f\"], [0.2222222222222222, \"#7201a8\"], [0.3333333333333333, \"#9c179e\"], [0.4444444444444444, \"#bd3786\"], [0.5555555555555556, \"#d8576b\"], [0.6666666666666666, \"#ed7953\"], [0.7777777777777778, \"#fb9f3a\"], [0.8888888888888888, \"#fdca26\"], [1.0, \"#f0f921\"]], \"type\": \"histogram2d\"}], \"histogram2dcontour\": [{\"colorbar\": {\"outlinewidth\": 0, \"ticks\": \"\"}, \"colorscale\": [[0.0, \"#0d0887\"], [0.1111111111111111, \"#46039f\"], [0.2222222222222222, \"#7201a8\"], [0.3333333333333333, \"#9c179e\"], [0.4444444444444444, \"#bd3786\"], [0.5555555555555556, \"#d8576b\"], [0.6666666666666666, \"#ed7953\"], [0.7777777777777778, \"#fb9f3a\"], [0.8888888888888888, \"#fdca26\"], [1.0, \"#f0f921\"]], \"type\": \"histogram2dcontour\"}], \"mesh3d\": [{\"colorbar\": {\"outlinewidth\": 0, \"ticks\": \"\"}, \"type\": \"mesh3d\"}], \"parcoords\": [{\"line\": {\"colorbar\": {\"outlinewidth\": 0, \"ticks\": \"\"}}, \"type\": \"parcoords\"}], \"pie\": [{\"automargin\": true, \"type\": \"pie\"}], \"scatter\": [{\"marker\": {\"colorbar\": {\"outlinewidth\": 0, \"ticks\": \"\"}}, \"type\": \"scatter\"}], \"scatter3d\": [{\"line\": {\"colorbar\": {\"outlinewidth\": 0, \"ticks\": \"\"}}, \"marker\": {\"colorbar\": {\"outlinewidth\": 0, \"ticks\": \"\"}}, \"type\": \"scatter3d\"}], \"scattercarpet\": [{\"marker\": {\"colorbar\": {\"outlinewidth\": 0, \"ticks\": \"\"}}, \"type\": \"scattercarpet\"}], \"scattergeo\": [{\"marker\": {\"colorbar\": {\"outlinewidth\": 0, \"ticks\": \"\"}}, \"type\": \"scattergeo\"}], \"scattergl\": [{\"marker\": {\"colorbar\": {\"outlinewidth\": 0, \"ticks\": \"\"}}, \"type\": \"scattergl\"}], \"scattermapbox\": [{\"marker\": {\"colorbar\": {\"outlinewidth\": 0, \"ticks\": \"\"}}, \"type\": \"scattermapbox\"}], \"scatterpolar\": [{\"marker\": {\"colorbar\": {\"outlinewidth\": 0, \"ticks\": \"\"}}, \"type\": \"scatterpolar\"}], \"scatterpolargl\": [{\"marker\": {\"colorbar\": {\"outlinewidth\": 0, \"ticks\": \"\"}}, \"type\": \"scatterpolargl\"}], \"scatterternary\": [{\"marker\": {\"colorbar\": {\"outlinewidth\": 0, \"ticks\": \"\"}}, \"type\": \"scatterternary\"}], \"surface\": [{\"colorbar\": {\"outlinewidth\": 0, \"ticks\": \"\"}, \"colorscale\": [[0.0, \"#0d0887\"], [0.1111111111111111, \"#46039f\"], [0.2222222222222222, \"#7201a8\"], [0.3333333333333333, \"#9c179e\"], [0.4444444444444444, \"#bd3786\"], [0.5555555555555556, \"#d8576b\"], [0.6666666666666666, \"#ed7953\"], [0.7777777777777778, \"#fb9f3a\"], [0.8888888888888888, \"#fdca26\"], [1.0, \"#f0f921\"]], \"type\": \"surface\"}], \"table\": [{\"cells\": {\"fill\": {\"color\": \"#EBF0F8\"}, \"line\": {\"color\": \"white\"}}, \"header\": {\"fill\": {\"color\": \"#C8D4E3\"}, \"line\": {\"color\": \"white\"}}, \"type\": \"table\"}]}, \"layout\": {\"annotationdefaults\": {\"arrowcolor\": \"#2a3f5f\", \"arrowhead\": 0, \"arrowwidth\": 1}, \"coloraxis\": {\"colorbar\": {\"outlinewidth\": 0, \"ticks\": \"\"}}, \"colorscale\": {\"diverging\": [[0, \"#8e0152\"], [0.1, \"#c51b7d\"], [0.2, \"#de77ae\"], [0.3, \"#f1b6da\"], [0.4, \"#fde0ef\"], [0.5, \"#f7f7f7\"], [0.6, \"#e6f5d0\"], [0.7, \"#b8e186\"], [0.8, \"#7fbc41\"], [0.9, \"#4d9221\"], [1, \"#276419\"]], \"sequential\": [[0.0, \"#0d0887\"], [0.1111111111111111, \"#46039f\"], [0.2222222222222222, \"#7201a8\"], [0.3333333333333333, \"#9c179e\"], [0.4444444444444444, \"#bd3786\"], [0.5555555555555556, \"#d8576b\"], [0.6666666666666666, \"#ed7953\"], [0.7777777777777778, \"#fb9f3a\"], [0.8888888888888888, \"#fdca26\"], [1.0, \"#f0f921\"]], \"sequentialminus\": [[0.0, \"#0d0887\"], [0.1111111111111111, \"#46039f\"], [0.2222222222222222, \"#7201a8\"], [0.3333333333333333, \"#9c179e\"], [0.4444444444444444, \"#bd3786\"], [0.5555555555555556, \"#d8576b\"], [0.6666666666666666, \"#ed7953\"], [0.7777777777777778, \"#fb9f3a\"], [0.8888888888888888, \"#fdca26\"], [1.0, \"#f0f921\"]]}, \"colorway\": [\"#636efa\", \"#EF553B\", \"#00cc96\", \"#ab63fa\", \"#FFA15A\", \"#19d3f3\", \"#FF6692\", \"#B6E880\", \"#FF97FF\", \"#FECB52\"], \"font\": {\"color\": \"#2a3f5f\"}, \"geo\": {\"bgcolor\": \"white\", \"lakecolor\": \"white\", \"landcolor\": \"#E5ECF6\", \"showlakes\": true, \"showland\": true, \"subunitcolor\": \"white\"}, \"hoverlabel\": {\"align\": \"left\"}, \"hovermode\": \"closest\", \"mapbox\": {\"style\": \"light\"}, \"paper_bgcolor\": \"white\", \"plot_bgcolor\": \"#E5ECF6\", \"polar\": {\"angularaxis\": {\"gridcolor\": \"white\", \"linecolor\": \"white\", \"ticks\": \"\"}, \"bgcolor\": \"#E5ECF6\", \"radialaxis\": {\"gridcolor\": \"white\", \"linecolor\": \"white\", \"ticks\": \"\"}}, \"scene\": {\"xaxis\": {\"backgroundcolor\": \"#E5ECF6\", \"gridcolor\": \"white\", \"gridwidth\": 2, \"linecolor\": \"white\", \"showbackground\": true, \"ticks\": \"\", \"zerolinecolor\": \"white\"}, \"yaxis\": {\"backgroundcolor\": \"#E5ECF6\", \"gridcolor\": \"white\", \"gridwidth\": 2, \"linecolor\": \"white\", \"showbackground\": true, \"ticks\": \"\", \"zerolinecolor\": \"white\"}, \"zaxis\": {\"backgroundcolor\": \"#E5ECF6\", \"gridcolor\": \"white\", \"gridwidth\": 2, \"linecolor\": \"white\", \"showbackground\": true, \"ticks\": \"\", \"zerolinecolor\": \"white\"}}, \"shapedefaults\": {\"line\": {\"color\": \"#2a3f5f\"}}, \"ternary\": {\"aaxis\": {\"gridcolor\": \"white\", \"linecolor\": \"white\", \"ticks\": \"\"}, \"baxis\": {\"gridcolor\": \"white\", \"linecolor\": \"white\", \"ticks\": \"\"}, \"bgcolor\": \"#E5ECF6\", \"caxis\": {\"gridcolor\": \"white\", \"linecolor\": \"white\", \"ticks\": \"\"}}, \"title\": {\"x\": 0.05}, \"xaxis\": {\"automargin\": true, \"gridcolor\": \"white\", \"linecolor\": \"white\", \"ticks\": \"\", \"title\": {\"standoff\": 15}, \"zerolinecolor\": \"white\", \"zerolinewidth\": 2}, \"yaxis\": {\"automargin\": true, \"gridcolor\": \"white\", \"linecolor\": \"white\", \"ticks\": \"\", \"title\": {\"standoff\": 15}, \"zerolinecolor\": \"white\", \"zerolinewidth\": 2}}}, \"xaxis\": {\"anchor\": \"y\", \"domain\": [0.0, 1.0], \"title\": {\"text\": \"age\"}}, \"yaxis\": {\"anchor\": \"x\", \"domain\": [0.0, 1.0], \"title\": {\"text\": \"count\"}}},\n",
              "                        {\"responsive\": true}\n",
              "                    ).then(function(){\n",
              "                            \n",
              "var gd = document.getElementById('3f7ba174-e560-4453-94a7-ac1dddfe0f68');\n",
              "var x = new MutationObserver(function (mutations, observer) {{\n",
              "        var display = window.getComputedStyle(gd).display;\n",
              "        if (!display || display === 'none') {{\n",
              "            console.log([gd, 'removed!']);\n",
              "            Plotly.purge(gd);\n",
              "            observer.disconnect();\n",
              "        }}\n",
              "}});\n",
              "\n",
              "// Listen for the removal of the full notebook cells\n",
              "var notebookContainer = gd.closest('#notebook-container');\n",
              "if (notebookContainer) {{\n",
              "    x.observe(notebookContainer, {childList: true});\n",
              "}}\n",
              "\n",
              "// Listen for the clearing of the current output cell\n",
              "var outputEl = gd.closest('.output');\n",
              "if (outputEl) {{\n",
              "    x.observe(outputEl, {childList: true});\n",
              "}}\n",
              "\n",
              "                        })\n",
              "                };\n",
              "                \n",
              "            </script>\n",
              "        </div>\n",
              "</body>\n",
              "</html>"
            ]
          },
          "metadata": {
            "tags": []
          }
        }
      ]
    },
    {
      "cell_type": "code",
      "metadata": {
        "colab": {
          "base_uri": "https://localhost:8080/",
          "height": 542
        },
        "id": "OMJsH2JMlUGg",
        "outputId": "c8699636-d17e-4510-fba2-8f09c4809d09"
      },
      "source": [
        "px.histogram(asd, x = 'age', color = 'drinks')"
      ],
      "execution_count": 47,
      "outputs": [
        {
          "output_type": "display_data",
          "data": {
            "text/html": [
              "<html>\n",
              "<head><meta charset=\"utf-8\" /></head>\n",
              "<body>\n",
              "    <div>\n",
              "            <script src=\"https://cdnjs.cloudflare.com/ajax/libs/mathjax/2.7.5/MathJax.js?config=TeX-AMS-MML_SVG\"></script><script type=\"text/javascript\">if (window.MathJax) {MathJax.Hub.Config({SVG: {font: \"STIX-Web\"}});}</script>\n",
              "                <script type=\"text/javascript\">window.PlotlyConfig = {MathJaxConfig: 'local'};</script>\n",
              "        <script src=\"https://cdn.plot.ly/plotly-latest.min.js\"></script>    \n",
              "            <div id=\"9b77dcb4-aa13-47f3-bf9d-e9428739540d\" class=\"plotly-graph-div\" style=\"height:525px; width:100%;\"></div>\n",
              "            <script type=\"text/javascript\">\n",
              "                \n",
              "                    window.PLOTLYENV=window.PLOTLYENV || {};\n",
              "                    \n",
              "                if (document.getElementById(\"9b77dcb4-aa13-47f3-bf9d-e9428739540d\")) {\n",
              "                    Plotly.newPlot(\n",
              "                        '9b77dcb4-aa13-47f3-bf9d-e9428739540d',\n",
              "                        [{\"alignmentgroup\": \"True\", \"bingroup\": \"x\", \"hoverlabel\": {\"namelength\": 0}, \"hovertemplate\": \"drinks=socially<br>age=%{x}<br>count=%{y}\", \"legendgroup\": \"drinks=socially\", \"marker\": {\"color\": \"#636efa\"}, \"name\": \"drinks=socially\", \"offsetgroup\": \"drinks=socially\", \"orientation\": \"v\", \"showlegend\": true, \"type\": \"histogram\", \"x\": [29, 21, 26, 26, 30, 35, 44, 47, 30, 18, 23, 31, 22, 20, 34, 34, 31, 21, 28, 25, 25, 23, 22, 28, 25, 23, 37, 28, 36, 19, 45, 27, 48, 18, 42, 22, 20, 53, 22, 33, 35, 43, 22, 30, 25, 31, 32, 22, 24, 56, 21, 32, 21, 25, 27, 28, 56, 26, 30, 63, 36, 22, 25, 57, 24, 37, 25, 28, 30, 39, 33, 50, 28, 20, 48, 30, 21, 39, 47, 55, 25, 29, 29, 31, 21, 41, 43, 25, 27, 26, 48, 26, 46, 22, 19, 25, 41, 22, 35, 55, 46, 29, 27, 23, 24, 19, 22, 29, 39, 41, 23, 62, 28, 19, 68, 27, 37, 20, 24, 40, 37, 34, 23, 29, 33, 20, 26, 39, 33, 39, 26, 49, 43, 47, 40, 20, 24, 31, 36, 22, 28, 32, 21, 32, 23, 39, 34, 38, 34, 65, 36, 33, 59, 28, 20, 22, 33, 24, 24, 37, 18, 31, 56, 23, 53, 32, 41, 57, 27, 33, 51, 30, 24, 28, 54, 30, 29, 26, 27, 22, 31, 39, 52, 45, 24, 27, 20, 23, 46, 42, 28, 34, 55, 34, 21, 25, 33, 29, 22, 45, 26, 33, 28, 37, 27, 28, 49, 24, 30, 24, 48, 22, 28, 22, 39, 25, 21, 35, 49, 23, 36, 61, 49, 27, 36, 23, 40, 66, 26, 58, 51, 29, 33, 33, 56, 59, 49, 29, 22, 34, 21, 23, 32, 60, 35, 28, 26, 19, 33, 47, 21, 68, 34, 43, 49, 27, 26, 59, 21, 32, 24, 47, 27, 37, 22, 26, 26, 29, 36, 37, 27, 38, 26, 34, 44, 28, 44, 24, 26, 29, 23, 61, 33, 27, 33, 24, 29, 43, 56, 30, 36, 27, 20, 27, 31, 39, 26, 36, 44, 43, 18, 32, 68, 37, 26, 27, 27, 45, 20, 51, 34, 28, 28, 30, 32, 49, 18, 45, 24, 33, 28, 21, 39, 27, 25, 40, 27, 25, 29, 30, 52, 46, 25, 28, 25, 29, 19, 26, 27, 34, 50, 31, 24, 29, 27, 58, 33, 24, 24, 32, 27, 28, 23, 35, 32, 28, 40, 32, 33, 30, 34, 22, 27, 62, 28, 36, 21, 52, 36, 47, 24, 23, 38, 48, 45, 44, 33, 31, 28, 55, 31, 26, 58, 33, 23, 40, 39, 25, 32, 28, 20, 25, 45, 23, 21, 45, 24, 51, 44, 42, 33, 22, 26, 34, 24, 20, 21, 28, 27, 24, 28, 26, 44, 25, 43, 30, 35, 33, 28, 38, 25, 29, 58, 23, 61, 44, 23, 52, 20, 42, 25, 44, 34, 31, 22, 20, 25, 20, 42, 31, 26, 57, 30, 35, 43, 38, 26, 27, 37, 20, 34, 42, 26, 41, 26, 30, 44, 39, 18, 27, 26, 39, 25, 29, 48, 28, 34, 24, 40, 25, 45, 27, 54, 36, 57, 53, 62, 30, 64, 21, 35, 45, 26, 25, 67, 23, 52, 28, 24, 34, 30, 46, 22, 23, 22, 23, 33, 65, 47, 54, 62, 35, 38, 23, 41, 37, 25, 20, 51, 40, 44, 48, 23, 41, 28, 37, 40, 22, 27, 27, 47, 29, 34, 26, 31, 62, 30, 33, 37, 31, 33, 31, 25, 20, 31, 19, 29, 32, 35, 22, 55, 28, 41, 68, 31, 38, 45, 52, 32, 23, 26, 36, 19, 24, 29, 36, 34, 34, 40, 51, 25, 64, 47, 24, 33, 22, 35, 28, 21, 22, 33, 23, 20, 28, 24, 20, 23, 25, 26, 19, 31, 46, 49, 24, 33, 25, 26, 18, 54, 30, 29, 33, 35, 22, 22, 35, 32, 23, 38, 63, 32, 32, 29, 23, 44, 37, 22, 21, 65, 26, 26, 26, 48, 54, 22, 38, 38, 27, 34, 24, 55, 57, 23, 34, 52, 28, 34, 31, 24, 34, 39, 37, 58, 30, 25, 28, 25, 29, 19, 44, 25, 19, 27, 22, 29, 24, 52, 36, 22, 31, 23, 26, 64, 35, 25, 48, 26, 33, 27, 27, 24, 29, 23, 24, 26, 31, 41, 49, 55, 40, 32, 28, 28, 29, 26, 29, 30, 45, 21, 31, 30, 27, 48, 51, 26, 30, 28, 31, 30, 45, 33, 24, 32, 32, 54, 41, 27, 26, 22, 28, 29, 42, 20, 30, 32, 22, 33, 43, 25, 33, 31, 31, 65, 31, 30, 37, 25, 34, 33, 21, 44, 24, 23, 35, 36, 24, 62, 61, 33, 25, 41, 26, 30, 38, 32, 26, 25, 20, 60, 31, 31, 54, 64, 22, 35, 43, 35, 53, 44, 37, 27, 27, 26, 22, 25, 61, 23, 21, 22, 31, 40, 21, 37, 32, 51, 24, 21, 65, 34, 31, 34, 23, 29, 41, 23, 44, 28, 27, 27, 24, 22, 28, 22, 22, 58, 32, 23, 23, 26, 21, 27, 54, 35, 37, 34, 25, 24, 23, 28, 42, 26, 19, 30, 42, 25, 50, 24, 31, 30, 41, 39, 19, 60, 30, 22, 32, 29, 55, 24, 25, 25, 33, 29, 32, 43, 23, 31, 66, 44, 23, 34, 21, 43, 52, 22, 25, 21, 20, 23, 30, 26, 30, 18, 27, 50, 48, 21, 23, 20, 29, 42, 25, 25, 20, 56, 40, 41, 21, 24, 54, 24, 20, 30, 21, 67, 27, 27, 22, 30, 42, 30, 31, 23, 21, 19, 29, 35, 48, 23, 37, 34, 39, 31, 27, 49, 50, 26, 49, 32, 34, 21, 26, 29, 40, 20, 46, 21, 44, 30, 21, 34, 22, 26, 29, 52, 57, 34, 28, 26, 24, 33, 24], \"xaxis\": \"x\", \"yaxis\": \"y\"}, {\"alignmentgroup\": \"True\", \"bingroup\": \"x\", \"hoverlabel\": {\"namelength\": 0}, \"hovertemplate\": \"drinks=rarely<br>age=%{x}<br>count=%{y}\", \"legendgroup\": \"drinks=rarely\", \"marker\": {\"color\": \"#EF553B\"}, \"name\": \"drinks=rarely\", \"offsetgroup\": \"drinks=rarely\", \"orientation\": \"v\", \"showlegend\": true, \"type\": \"histogram\", \"x\": [23, 35, 39, 42, 47, 34, 30, 38, 21, 40, 23, 22, 43, 22, 40, 42, 25, 30, 31, 39, 66, 39, 32, 28, 23, 25, 28, 40, 32, 21, 26, 35, 31, 20, 29, 28, 41, 21, 20, 24, 25, 40, 55, 32, 42, 24, 20, 23, 26, 28, 32, 56, 29, 24, 21, 18, 60, 41, 28, 40, 21, 41, 56, 23, 27, 45, 20, 56, 25, 27, 21, 33, 28, 38, 27, 29, 20, 27, 19, 25, 19, 25, 23, 22, 30, 38, 32, 32, 38, 56, 32, 26, 55, 40, 22, 49, 34, 20, 33, 26, 47, 42, 19, 43, 38, 32, 44, 19, 27, 25, 27, 52, 20, 45, 26, 34, 25, 22, 37, 35, 34, 25, 23, 32, 23, 27, 20, 25, 39, 34, 22, 21, 32, 26, 27, 29, 43, 39, 56, 24, 58, 28, 58, 30, 31, 56, 54, 43, 18, 26, 24, 30, 39, 19, 21, 34, 25, 20, 30, 26, 20, 22, 28, 23, 19, 22, 23, 41, 24, 20, 39, 28, 54, 33, 23, 25, 49, 23, 64, 26, 20, 28, 62, 45, 52, 37, 56, 22, 21, 25, 20, 39, 28, 20, 45, 53, 24, 24, 28, 52, 28, 26], \"xaxis\": \"x\", \"yaxis\": \"y\"}, {\"alignmentgroup\": \"True\", \"bingroup\": \"x\", \"hoverlabel\": {\"namelength\": 0}, \"hovertemplate\": \"drinks=often<br>age=%{x}<br>count=%{y}\", \"legendgroup\": \"drinks=often\", \"marker\": {\"color\": \"#00cc96\"}, \"name\": \"drinks=often\", \"offsetgroup\": \"drinks=often\", \"orientation\": \"v\", \"showlegend\": true, \"type\": \"histogram\", \"x\": [50, 27, 23, 29, 30, 20, 26, 24, 22, 24, 42, 28, 23, 27, 32, 26, 49, 32, 41, 23, 33, 29, 24, 25, 23, 34, 27, 20, 28, 26, 23, 33, 45, 42, 30, 33, 38, 33, 46, 26, 48, 25, 47, 28, 34, 56, 22, 20, 19, 22, 25, 32, 21, 28, 54, 31, 22, 43, 26, 35, 22, 31, 29, 22, 33, 45, 26, 26, 23, 43, 24, 26, 30, 26, 31, 38, 33, 33, 41, 32, 34, 28, 24, 29, 35, 31, 21, 27, 38, 24, 33, 32, 24, 23, 25, 26, 28, 25, 26, 24, 60, 32, 24, 24, 26, 27, 21, 28, 29, 29, 34, 23, 29, 25, 25, 22, 27, 51, 53, 27, 23, 30, 28, 34, 22, 24, 26, 21, 18, 26, 27, 34, 25, 31, 25, 24, 30, 32, 29, 59, 50, 30, 23, 34, 25], \"xaxis\": \"x\", \"yaxis\": \"y\"}, {\"alignmentgroup\": \"True\", \"bingroup\": \"x\", \"hoverlabel\": {\"namelength\": 0}, \"hovertemplate\": \"drinks=not at all<br>age=%{x}<br>count=%{y}\", \"legendgroup\": \"drinks=not at all\", \"marker\": {\"color\": \"#ab63fa\"}, \"name\": \"drinks=not at all\", \"offsetgroup\": \"drinks=not at all\", \"orientation\": \"v\", \"showlegend\": true, \"type\": \"histogram\", \"x\": [37, 36, 36, 24, 37, 25, 26, 50, 51, 21, 21, 37, 33, 42, 56, 30, 24, 25, 24, 41, 22, 39, 45, 52, 56, 23, 41, 35, 23, 54, 67, 25, 30, 19, 18, 34, 22, 31, 46, 26, 32, 20, 20, 27, 24, 50, 35, 24, 66, 29, 27, 43, 56, 20, 65, 18, 28, 47, 26, 36, 29, 36, 26, 44, 43, 42, 21, 26, 29, 23, 47, 27, 24, 19, 53, 48, 55, 31, 35, 35, 44, 26, 60, 39, 39, 38, 43, 37, 56, 33, 35, 26, 42, 38, 57, 22, 53, 27, 38, 30, 55, 23, 36, 20, 37, 32, 61, 51, 25, 61, 20, 21, 19, 24, 20, 22, 22, 42, 56, 37], \"xaxis\": \"x\", \"yaxis\": \"y\"}, {\"alignmentgroup\": \"True\", \"bingroup\": \"x\", \"hoverlabel\": {\"namelength\": 0}, \"hovertemplate\": \"drinks=very often<br>age=%{x}<br>count=%{y}\", \"legendgroup\": \"drinks=very often\", \"marker\": {\"color\": \"#FFA15A\"}, \"name\": \"drinks=very often\", \"offsetgroup\": \"drinks=very often\", \"orientation\": \"v\", \"showlegend\": true, \"type\": \"histogram\", \"x\": [23, 24, 20, 31, 22, 27, 25, 25, 21, 35, 20, 30, 26, 33, 39, 35, 30, 26, 25, 22, 56, 25, 22, 18, 29, 20, 29, 22, 27, 33], \"xaxis\": \"x\", \"yaxis\": \"y\"}, {\"alignmentgroup\": \"True\", \"bingroup\": \"x\", \"hoverlabel\": {\"namelength\": 0}, \"hovertemplate\": \"drinks=desperately<br>age=%{x}<br>count=%{y}\", \"legendgroup\": \"drinks=desperately\", \"marker\": {\"color\": \"#19d3f3\"}, \"name\": \"drinks=desperately\", \"offsetgroup\": \"drinks=desperately\", \"orientation\": \"v\", \"showlegend\": true, \"type\": \"histogram\", \"x\": [41, 19, 21, 33, 20, 31, 21, 23, 26, 34, 31, 29, 20, 31, 38], \"xaxis\": \"x\", \"yaxis\": \"y\"}],\n",
              "                        {\"barmode\": \"relative\", \"legend\": {\"tracegroupgap\": 0}, \"margin\": {\"t\": 60}, \"template\": {\"data\": {\"bar\": [{\"error_x\": {\"color\": \"#2a3f5f\"}, \"error_y\": {\"color\": \"#2a3f5f\"}, \"marker\": {\"line\": {\"color\": \"#E5ECF6\", \"width\": 0.5}}, \"type\": \"bar\"}], \"barpolar\": [{\"marker\": {\"line\": {\"color\": \"#E5ECF6\", \"width\": 0.5}}, \"type\": \"barpolar\"}], \"carpet\": [{\"aaxis\": {\"endlinecolor\": \"#2a3f5f\", \"gridcolor\": \"white\", \"linecolor\": \"white\", \"minorgridcolor\": \"white\", \"startlinecolor\": \"#2a3f5f\"}, \"baxis\": {\"endlinecolor\": \"#2a3f5f\", \"gridcolor\": \"white\", \"linecolor\": \"white\", \"minorgridcolor\": \"white\", \"startlinecolor\": \"#2a3f5f\"}, \"type\": \"carpet\"}], \"choropleth\": [{\"colorbar\": {\"outlinewidth\": 0, \"ticks\": \"\"}, \"type\": \"choropleth\"}], \"contour\": [{\"colorbar\": {\"outlinewidth\": 0, \"ticks\": \"\"}, \"colorscale\": [[0.0, \"#0d0887\"], [0.1111111111111111, \"#46039f\"], [0.2222222222222222, \"#7201a8\"], [0.3333333333333333, \"#9c179e\"], [0.4444444444444444, \"#bd3786\"], [0.5555555555555556, \"#d8576b\"], [0.6666666666666666, \"#ed7953\"], [0.7777777777777778, \"#fb9f3a\"], [0.8888888888888888, \"#fdca26\"], [1.0, \"#f0f921\"]], \"type\": \"contour\"}], \"contourcarpet\": [{\"colorbar\": {\"outlinewidth\": 0, \"ticks\": \"\"}, \"type\": \"contourcarpet\"}], \"heatmap\": [{\"colorbar\": {\"outlinewidth\": 0, \"ticks\": \"\"}, \"colorscale\": [[0.0, \"#0d0887\"], [0.1111111111111111, \"#46039f\"], [0.2222222222222222, \"#7201a8\"], [0.3333333333333333, \"#9c179e\"], [0.4444444444444444, \"#bd3786\"], [0.5555555555555556, \"#d8576b\"], [0.6666666666666666, \"#ed7953\"], [0.7777777777777778, \"#fb9f3a\"], [0.8888888888888888, \"#fdca26\"], [1.0, \"#f0f921\"]], \"type\": \"heatmap\"}], \"heatmapgl\": [{\"colorbar\": {\"outlinewidth\": 0, \"ticks\": \"\"}, \"colorscale\": [[0.0, \"#0d0887\"], [0.1111111111111111, \"#46039f\"], [0.2222222222222222, \"#7201a8\"], [0.3333333333333333, \"#9c179e\"], [0.4444444444444444, \"#bd3786\"], [0.5555555555555556, \"#d8576b\"], [0.6666666666666666, \"#ed7953\"], [0.7777777777777778, \"#fb9f3a\"], [0.8888888888888888, \"#fdca26\"], [1.0, \"#f0f921\"]], \"type\": \"heatmapgl\"}], \"histogram\": [{\"marker\": {\"colorbar\": {\"outlinewidth\": 0, \"ticks\": \"\"}}, \"type\": \"histogram\"}], \"histogram2d\": [{\"colorbar\": {\"outlinewidth\": 0, \"ticks\": \"\"}, \"colorscale\": [[0.0, \"#0d0887\"], [0.1111111111111111, \"#46039f\"], [0.2222222222222222, \"#7201a8\"], [0.3333333333333333, \"#9c179e\"], [0.4444444444444444, \"#bd3786\"], [0.5555555555555556, \"#d8576b\"], [0.6666666666666666, \"#ed7953\"], [0.7777777777777778, \"#fb9f3a\"], [0.8888888888888888, \"#fdca26\"], [1.0, \"#f0f921\"]], \"type\": \"histogram2d\"}], \"histogram2dcontour\": [{\"colorbar\": {\"outlinewidth\": 0, \"ticks\": \"\"}, \"colorscale\": [[0.0, \"#0d0887\"], [0.1111111111111111, \"#46039f\"], [0.2222222222222222, \"#7201a8\"], [0.3333333333333333, \"#9c179e\"], [0.4444444444444444, \"#bd3786\"], [0.5555555555555556, \"#d8576b\"], [0.6666666666666666, \"#ed7953\"], [0.7777777777777778, \"#fb9f3a\"], [0.8888888888888888, \"#fdca26\"], [1.0, \"#f0f921\"]], \"type\": \"histogram2dcontour\"}], \"mesh3d\": [{\"colorbar\": {\"outlinewidth\": 0, \"ticks\": \"\"}, \"type\": \"mesh3d\"}], \"parcoords\": [{\"line\": {\"colorbar\": {\"outlinewidth\": 0, \"ticks\": \"\"}}, \"type\": \"parcoords\"}], \"pie\": [{\"automargin\": true, \"type\": \"pie\"}], \"scatter\": [{\"marker\": {\"colorbar\": {\"outlinewidth\": 0, \"ticks\": \"\"}}, \"type\": \"scatter\"}], \"scatter3d\": [{\"line\": {\"colorbar\": {\"outlinewidth\": 0, \"ticks\": \"\"}}, \"marker\": {\"colorbar\": {\"outlinewidth\": 0, \"ticks\": \"\"}}, \"type\": \"scatter3d\"}], \"scattercarpet\": [{\"marker\": {\"colorbar\": {\"outlinewidth\": 0, \"ticks\": \"\"}}, \"type\": \"scattercarpet\"}], \"scattergeo\": [{\"marker\": {\"colorbar\": {\"outlinewidth\": 0, \"ticks\": \"\"}}, \"type\": \"scattergeo\"}], \"scattergl\": [{\"marker\": {\"colorbar\": {\"outlinewidth\": 0, \"ticks\": \"\"}}, \"type\": \"scattergl\"}], \"scattermapbox\": [{\"marker\": {\"colorbar\": {\"outlinewidth\": 0, \"ticks\": \"\"}}, \"type\": \"scattermapbox\"}], \"scatterpolar\": [{\"marker\": {\"colorbar\": {\"outlinewidth\": 0, \"ticks\": \"\"}}, \"type\": \"scatterpolar\"}], \"scatterpolargl\": [{\"marker\": {\"colorbar\": {\"outlinewidth\": 0, \"ticks\": \"\"}}, \"type\": \"scatterpolargl\"}], \"scatterternary\": [{\"marker\": {\"colorbar\": {\"outlinewidth\": 0, \"ticks\": \"\"}}, \"type\": \"scatterternary\"}], \"surface\": [{\"colorbar\": {\"outlinewidth\": 0, \"ticks\": \"\"}, \"colorscale\": [[0.0, \"#0d0887\"], [0.1111111111111111, \"#46039f\"], [0.2222222222222222, \"#7201a8\"], [0.3333333333333333, \"#9c179e\"], [0.4444444444444444, \"#bd3786\"], [0.5555555555555556, \"#d8576b\"], [0.6666666666666666, \"#ed7953\"], [0.7777777777777778, \"#fb9f3a\"], [0.8888888888888888, \"#fdca26\"], [1.0, \"#f0f921\"]], \"type\": \"surface\"}], \"table\": [{\"cells\": {\"fill\": {\"color\": \"#EBF0F8\"}, \"line\": {\"color\": \"white\"}}, \"header\": {\"fill\": {\"color\": \"#C8D4E3\"}, \"line\": {\"color\": \"white\"}}, \"type\": \"table\"}]}, \"layout\": {\"annotationdefaults\": {\"arrowcolor\": \"#2a3f5f\", \"arrowhead\": 0, \"arrowwidth\": 1}, \"coloraxis\": {\"colorbar\": {\"outlinewidth\": 0, \"ticks\": \"\"}}, \"colorscale\": {\"diverging\": [[0, \"#8e0152\"], [0.1, \"#c51b7d\"], [0.2, \"#de77ae\"], [0.3, \"#f1b6da\"], [0.4, \"#fde0ef\"], [0.5, \"#f7f7f7\"], [0.6, \"#e6f5d0\"], [0.7, \"#b8e186\"], [0.8, \"#7fbc41\"], [0.9, \"#4d9221\"], [1, \"#276419\"]], \"sequential\": [[0.0, \"#0d0887\"], [0.1111111111111111, \"#46039f\"], [0.2222222222222222, \"#7201a8\"], [0.3333333333333333, \"#9c179e\"], [0.4444444444444444, \"#bd3786\"], [0.5555555555555556, \"#d8576b\"], [0.6666666666666666, \"#ed7953\"], [0.7777777777777778, \"#fb9f3a\"], [0.8888888888888888, \"#fdca26\"], [1.0, \"#f0f921\"]], \"sequentialminus\": [[0.0, \"#0d0887\"], [0.1111111111111111, \"#46039f\"], [0.2222222222222222, \"#7201a8\"], [0.3333333333333333, \"#9c179e\"], [0.4444444444444444, \"#bd3786\"], [0.5555555555555556, \"#d8576b\"], [0.6666666666666666, \"#ed7953\"], [0.7777777777777778, \"#fb9f3a\"], [0.8888888888888888, \"#fdca26\"], [1.0, \"#f0f921\"]]}, \"colorway\": [\"#636efa\", \"#EF553B\", \"#00cc96\", \"#ab63fa\", \"#FFA15A\", \"#19d3f3\", \"#FF6692\", \"#B6E880\", \"#FF97FF\", \"#FECB52\"], \"font\": {\"color\": \"#2a3f5f\"}, \"geo\": {\"bgcolor\": \"white\", \"lakecolor\": \"white\", \"landcolor\": \"#E5ECF6\", \"showlakes\": true, \"showland\": true, \"subunitcolor\": \"white\"}, \"hoverlabel\": {\"align\": \"left\"}, \"hovermode\": \"closest\", \"mapbox\": {\"style\": \"light\"}, \"paper_bgcolor\": \"white\", \"plot_bgcolor\": \"#E5ECF6\", \"polar\": {\"angularaxis\": {\"gridcolor\": \"white\", \"linecolor\": \"white\", \"ticks\": \"\"}, \"bgcolor\": \"#E5ECF6\", \"radialaxis\": {\"gridcolor\": \"white\", \"linecolor\": \"white\", \"ticks\": \"\"}}, \"scene\": {\"xaxis\": {\"backgroundcolor\": \"#E5ECF6\", \"gridcolor\": \"white\", \"gridwidth\": 2, \"linecolor\": \"white\", \"showbackground\": true, \"ticks\": \"\", \"zerolinecolor\": \"white\"}, \"yaxis\": {\"backgroundcolor\": \"#E5ECF6\", \"gridcolor\": \"white\", \"gridwidth\": 2, \"linecolor\": \"white\", \"showbackground\": true, \"ticks\": \"\", \"zerolinecolor\": \"white\"}, \"zaxis\": {\"backgroundcolor\": \"#E5ECF6\", \"gridcolor\": \"white\", \"gridwidth\": 2, \"linecolor\": \"white\", \"showbackground\": true, \"ticks\": \"\", \"zerolinecolor\": \"white\"}}, \"shapedefaults\": {\"line\": {\"color\": \"#2a3f5f\"}}, \"ternary\": {\"aaxis\": {\"gridcolor\": \"white\", \"linecolor\": \"white\", \"ticks\": \"\"}, \"baxis\": {\"gridcolor\": \"white\", \"linecolor\": \"white\", \"ticks\": \"\"}, \"bgcolor\": \"#E5ECF6\", \"caxis\": {\"gridcolor\": \"white\", \"linecolor\": \"white\", \"ticks\": \"\"}}, \"title\": {\"x\": 0.05}, \"xaxis\": {\"automargin\": true, \"gridcolor\": \"white\", \"linecolor\": \"white\", \"ticks\": \"\", \"title\": {\"standoff\": 15}, \"zerolinecolor\": \"white\", \"zerolinewidth\": 2}, \"yaxis\": {\"automargin\": true, \"gridcolor\": \"white\", \"linecolor\": \"white\", \"ticks\": \"\", \"title\": {\"standoff\": 15}, \"zerolinecolor\": \"white\", \"zerolinewidth\": 2}}}, \"xaxis\": {\"anchor\": \"y\", \"domain\": [0.0, 1.0], \"title\": {\"text\": \"age\"}}, \"yaxis\": {\"anchor\": \"x\", \"domain\": [0.0, 1.0], \"title\": {\"text\": \"count\"}}},\n",
              "                        {\"responsive\": true}\n",
              "                    ).then(function(){\n",
              "                            \n",
              "var gd = document.getElementById('9b77dcb4-aa13-47f3-bf9d-e9428739540d');\n",
              "var x = new MutationObserver(function (mutations, observer) {{\n",
              "        var display = window.getComputedStyle(gd).display;\n",
              "        if (!display || display === 'none') {{\n",
              "            console.log([gd, 'removed!']);\n",
              "            Plotly.purge(gd);\n",
              "            observer.disconnect();\n",
              "        }}\n",
              "}});\n",
              "\n",
              "// Listen for the removal of the full notebook cells\n",
              "var notebookContainer = gd.closest('#notebook-container');\n",
              "if (notebookContainer) {{\n",
              "    x.observe(notebookContainer, {childList: true});\n",
              "}}\n",
              "\n",
              "// Listen for the clearing of the current output cell\n",
              "var outputEl = gd.closest('.output');\n",
              "if (outputEl) {{\n",
              "    x.observe(outputEl, {childList: true});\n",
              "}}\n",
              "\n",
              "                        })\n",
              "                };\n",
              "                \n",
              "            </script>\n",
              "        </div>\n",
              "</body>\n",
              "</html>"
            ]
          },
          "metadata": {
            "tags": []
          }
        }
      ]
    },
    {
      "cell_type": "markdown",
      "metadata": {
        "id": "_5HWusl6tAHU"
      },
      "source": [
        "Users visualized based on AGE and DRINKS preference. It is evident from the graph that most of the users do not drink. This just gives us an insight into the general population and this can help us recommend fun date ideas to users who actually do not prefer drinking (moving from the standard bar dates)."
      ]
    },
    {
      "cell_type": "code",
      "metadata": {
        "colab": {
          "base_uri": "https://localhost:8080/",
          "height": 542
        },
        "id": "tl3fhHxRlHbF",
        "outputId": "7f930637-e867-4d1a-b30d-5dfd00a58c5d"
      },
      "source": [
        "px.histogram(asd, x = 'age',  color = 'body_type')"
      ],
      "execution_count": 48,
      "outputs": [
        {
          "output_type": "display_data",
          "data": {
            "text/html": [
              "<html>\n",
              "<head><meta charset=\"utf-8\" /></head>\n",
              "<body>\n",
              "    <div>\n",
              "            <script src=\"https://cdnjs.cloudflare.com/ajax/libs/mathjax/2.7.5/MathJax.js?config=TeX-AMS-MML_SVG\"></script><script type=\"text/javascript\">if (window.MathJax) {MathJax.Hub.Config({SVG: {font: \"STIX-Web\"}});}</script>\n",
              "                <script type=\"text/javascript\">window.PlotlyConfig = {MathJaxConfig: 'local'};</script>\n",
              "        <script src=\"https://cdn.plot.ly/plotly-latest.min.js\"></script>    \n",
              "            <div id=\"43923756-ec3c-49cb-8c0f-ef137c6dfa04\" class=\"plotly-graph-div\" style=\"height:525px; width:100%;\"></div>\n",
              "            <script type=\"text/javascript\">\n",
              "                \n",
              "                    window.PLOTLYENV=window.PLOTLYENV || {};\n",
              "                    \n",
              "                if (document.getElementById(\"43923756-ec3c-49cb-8c0f-ef137c6dfa04\")) {\n",
              "                    Plotly.newPlot(\n",
              "                        '43923756-ec3c-49cb-8c0f-ef137c6dfa04',\n",
              "                        [{\"alignmentgroup\": \"True\", \"bingroup\": \"x\", \"hoverlabel\": {\"namelength\": 0}, \"hovertemplate\": \"body_type=fit<br>age=%{x}<br>count=%{y}\", \"legendgroup\": \"body_type=fit\", \"marker\": {\"color\": \"#636efa\"}, \"name\": \"body_type=fit\", \"offsetgroup\": \"body_type=fit\", \"orientation\": \"v\", \"showlegend\": true, \"type\": \"histogram\", \"x\": [29, 26, 37, 39, 42, 47, 23, 30, 36, 31, 21, 28, 25, 28, 51, 53, 35, 25, 39, 36, 37, 39, 39, 48, 30, 55, 31, 23, 43, 27, 33, 21, 35, 29, 29, 68, 27, 24, 23, 29, 33, 26, 24, 23, 28, 22, 25, 22, 37, 31, 32, 57, 41, 29, 26, 52, 45, 28, 46, 34, 34, 24, 37, 60, 49, 48, 45, 67, 58, 51, 56, 22, 21, 28, 19, 47, 49, 26, 21, 32, 27, 37, 22, 34, 22, 33, 46, 44, 47, 34, 29, 26, 44, 68, 49, 24, 25, 54, 28, 26, 27, 35, 50, 24, 31, 62, 36, 24, 28, 26, 55, 45, 20, 49, 26, 22, 26, 34, 26, 28, 20, 28, 47, 42, 44, 43, 34, 42, 25, 26, 44, 27, 52, 48, 40, 26, 26, 64, 23, 30, 33, 54, 62, 38, 34, 51, 48, 40, 29, 48, 26, 25, 30, 41, 55, 32, 35, 32, 31, 29, 34, 64, 24, 28, 20, 31, 18, 54, 35, 43, 26, 26, 39, 52, 37, 19, 44, 22, 31, 64, 35, 18, 28, 31, 24, 60, 45, 48, 45, 33, 54, 26, 32, 22, 26, 27, 30, 42, 24, 25, 36, 61, 38, 37, 25, 53, 23, 21, 31, 40, 51, 33, 38, 23, 27, 58, 32, 23, 23, 64, 54, 29, 25, 37, 50, 28, 30, 60, 45, 43, 66, 25, 52, 21, 21, 25, 25, 27, 20, 40, 19, 31, 25, 31, 22, 24, 50, 50, 29, 46, 28, 26, 33, 34, 26, 33], \"xaxis\": \"x\", \"yaxis\": \"y\"}, {\"alignmentgroup\": \"True\", \"bingroup\": \"x\", \"hoverlabel\": {\"namelength\": 0}, \"hovertemplate\": \"body_type=curvy<br>age=%{x}<br>count=%{y}\", \"legendgroup\": \"body_type=curvy\", \"marker\": {\"color\": \"#EF553B\"}, \"name\": \"body_type=curvy\", \"offsetgroup\": \"body_type=curvy\", \"orientation\": \"v\", \"showlegend\": true, \"type\": \"histogram\", \"x\": [23, 26, 34, 38, 34, 22, 22, 32, 21, 27, 28, 25, 41, 24, 40, 39, 40, 20, 24, 22, 28, 32, 32, 36, 20, 33, 42, 24, 52, 41, 33, 28, 20, 28, 21, 27, 28, 21, 39, 21, 27, 23, 23, 21, 47, 26, 27, 30, 29, 25, 27, 20, 32, 20, 40, 27, 25, 21, 25, 26, 58, 32, 27, 21, 38, 31, 55, 33, 23, 21, 24, 24, 26, 38, 27, 20, 53, 45, 34, 65, 24, 25, 35, 52, 36, 40, 47, 24, 33, 21, 35, 25, 26, 19, 33, 33, 30, 19, 36, 33, 56, 55, 28, 21, 27, 42, 33, 34, 26, 21, 25, 34, 18, 20, 60, 29, 31, 27, 39, 65, 28, 49, 27, 26, 37, 25, 28, 20, 24, 31, 25, 44, 34, 26, 42, 41, 24, 21, 30, 48, 32], \"xaxis\": \"x\", \"yaxis\": \"y\"}, {\"alignmentgroup\": \"True\", \"bingroup\": \"x\", \"hoverlabel\": {\"namelength\": 0}, \"hovertemplate\": \"body_type=thin<br>age=%{x}<br>count=%{y}\", \"legendgroup\": \"body_type=thin\", \"marker\": {\"color\": \"#00cc96\"}, \"name\": \"body_type=thin\", \"offsetgroup\": \"body_type=thin\", \"orientation\": \"v\", \"showlegend\": true, \"type\": \"histogram\", \"x\": [21, 25, 23, 18, 22, 20, 22, 22, 30, 25, 30, 19, 20, 38, 32, 49, 53, 24, 23, 54, 56, 31, 29, 26, 25, 20, 23, 40, 66, 26, 29, 33, 34, 42, 36, 28, 33, 25, 28, 26, 19, 28, 32, 18, 43, 66, 28, 33, 47, 28, 65, 34, 38, 26, 18, 43, 27, 23, 25, 31, 47, 33, 47, 31, 62, 55, 26, 26, 28, 29, 21, 46, 24, 25, 39, 24, 44, 56, 43, 48, 26, 26, 28, 29, 25, 30, 33, 31, 19, 22, 24, 26, 54, 22, 23, 21, 35, 27, 61, 25, 28, 52, 22, 22, 24, 25, 26, 23, 21, 30, 27, 30, 19, 30, 28, 25], \"xaxis\": \"x\", \"yaxis\": \"y\"}, {\"alignmentgroup\": \"True\", \"bingroup\": \"x\", \"hoverlabel\": {\"namelength\": 0}, \"hovertemplate\": \"body_type=average<br>age=%{x}<br>count=%{y}\", \"legendgroup\": \"body_type=average\", \"marker\": {\"color\": \"#ab63fa\"}, \"name\": \"body_type=average\", \"offsetgroup\": \"body_type=average\", \"orientation\": \"v\", \"showlegend\": true, \"type\": \"histogram\", \"x\": [50, 35, 30, 47, 35, 44, 31, 20, 24, 34, 40, 23, 22, 28, 19, 27, 22, 48, 42, 43, 40, 23, 25, 21, 32, 56, 29, 21, 21, 31, 56, 63, 41, 37, 24, 28, 20, 25, 25, 40, 42, 26, 48, 26, 46, 25, 26, 22, 56, 46, 35, 19, 62, 31, 25, 22, 39, 49, 24, 31, 28, 41, 21, 20, 24, 39, 34, 65, 33, 26, 59, 45, 24, 27, 51, 24, 30, 33, 30, 27, 24, 32, 27, 24, 23, 42, 25, 21, 25, 33, 29, 20, 45, 26, 23, 24, 40, 28, 41, 49, 36, 59, 32, 35, 33, 45, 68, 43, 33, 38, 29, 37, 33, 44, 26, 61, 24, 30, 38, 20, 27, 34, 36, 31, 56, 32, 26, 20, 27, 27, 28, 22, 25, 22, 25, 24, 21, 32, 25, 29, 30, 46, 22, 29, 19, 35, 24, 29, 27, 33, 24, 32, 27, 38, 23, 35, 40, 30, 22, 28, 36, 27, 52, 23, 38, 56, 31, 40, 25, 20, 25, 45, 24, 22, 33, 27, 47, 44, 25, 58, 44, 20, 25, 34, 19, 23, 29, 31, 26, 35, 36, 26, 26, 41, 39, 25, 34, 45, 27, 29, 36, 57, 62, 21, 26, 67, 28, 24, 46, 23, 33, 19, 35, 53, 25, 32, 34, 37, 31, 33, 31, 20, 22, 28, 23, 41, 68, 35, 34, 23, 36, 20, 35, 22, 34, 20, 24, 49, 21, 44, 25, 26, 22, 23, 26, 38, 32, 29, 39, 22, 65, 26, 48, 54, 38, 34, 24, 57, 24, 23, 58, 34, 58, 24, 34, 30, 23, 29, 27, 29, 52, 54, 26, 25, 24, 30, 26, 49, 40, 32, 39, 30, 30, 28, 30, 32, 41, 33, 31, 30, 26, 25, 33, 29, 62, 41, 32, 38, 22, 23, 54, 64, 25, 20, 22, 27, 21, 37, 51, 21, 34, 23, 29, 41, 44, 28, 25, 22, 23, 53, 24, 19, 30, 20, 20, 32, 31, 19, 29, 24, 23, 33, 31, 30, 23, 21, 61, 43, 22, 18, 27, 50, 48, 18, 20, 20, 25, 24, 24, 67, 27, 20, 22, 42, 23, 29, 35, 23, 37, 24, 34, 39, 27, 32, 26, 56, 40, 20, 52, 21, 23, 37, 52, 57, 34, 24], \"xaxis\": \"x\", \"yaxis\": \"y\"}, {\"alignmentgroup\": \"True\", \"bingroup\": \"x\", \"hoverlabel\": {\"namelength\": 0}, \"hovertemplate\": \"body_type=overweight<br>age=%{x}<br>count=%{y}\", \"legendgroup\": \"body_type=overweight\", \"marker\": {\"color\": \"#FFA15A\"}, \"name\": \"body_type=overweight\", \"offsetgroup\": \"body_type=overweight\", \"orientation\": \"v\", \"showlegend\": true, \"type\": \"histogram\", \"x\": [23, 24, 37, 30, 22, 26, 42, 26, 48, 46, 50, 40, 20, 22, 47, 63, 31, 24, 34, 57, 30, 30, 28, 59], \"xaxis\": \"x\", \"yaxis\": \"y\"}, {\"alignmentgroup\": \"True\", \"bingroup\": \"x\", \"hoverlabel\": {\"namelength\": 0}, \"hovertemplate\": \"body_type=athletic<br>age=%{x}<br>count=%{y}\", \"legendgroup\": \"body_type=athletic\", \"marker\": {\"color\": \"#19d3f3\"}, \"name\": \"body_type=athletic\", \"offsetgroup\": \"body_type=athletic\", \"orientation\": \"v\", \"showlegend\": true, \"type\": \"histogram\", \"x\": [30, 18, 22, 21, 25, 25, 23, 43, 36, 45, 50, 27, 30, 26, 33, 50, 20, 28, 47, 29, 29, 32, 26, 55, 30, 27, 24, 23, 28, 24, 37, 34, 20, 20, 43, 47, 41, 23, 27, 40, 39, 34, 28, 18, 56, 32, 26, 35, 29, 55, 33, 28, 28, 28, 22, 54, 35, 49, 36, 61, 27, 33, 56, 49, 29, 60, 34, 27, 24, 26, 27, 27, 38, 21, 25, 56, 19, 39, 22, 43, 18, 37, 45, 20, 51, 34, 19, 30, 45, 28, 39, 27, 25, 23, 31, 22, 22, 24, 32, 29, 29, 48, 45, 44, 33, 32, 56, 33, 45, 23, 18, 21, 28, 43, 30, 35, 33, 42, 61, 23, 36, 52, 31, 43, 22, 42, 32, 38, 26, 27, 19, 30, 39, 30, 29, 20, 45, 24, 21, 25, 54, 34, 35, 52, 22, 22, 38, 37, 23, 39, 37, 44, 28, 37, 27, 27, 23, 30, 31, 29, 21, 38, 45, 32, 19, 24, 34, 51, 22, 22, 23, 32, 30, 29, 35, 22, 32, 23, 37, 21, 26, 33, 22, 38, 32, 28, 31, 24, 58, 25, 25, 22, 23, 25, 27, 24, 29, 23, 24, 32, 30, 31, 51, 19, 34, 22, 28, 29, 65, 31, 21, 35, 23, 24, 33, 28, 26, 23, 23, 26, 25, 31, 35, 43, 41, 35, 53, 27, 22, 32, 24, 27, 34, 23, 27, 28, 22, 34, 29, 42, 26, 42, 39, 32, 55, 32, 23, 51, 20, 37, 56, 30, 29, 21, 26, 29, 20, 45, 34, 30, 31, 27, 49, 42, 34, 21, 44, 30, 21, 22, 34], \"xaxis\": \"x\", \"yaxis\": \"y\"}, {\"alignmentgroup\": \"True\", \"bingroup\": \"x\", \"hoverlabel\": {\"namelength\": 0}, \"hovertemplate\": \"body_type=a little extra<br>age=%{x}<br>count=%{y}\", \"legendgroup\": \"body_type=a little extra\", \"marker\": {\"color\": \"#FF6692\"}, \"name\": \"body_type=a little extra\", \"offsetgroup\": \"body_type=a little extra\", \"orientation\": \"v\", \"showlegend\": true, \"type\": \"histogram\", \"x\": [36, 37, 33, 42, 24, 30, 57, 25, 39, 19, 23, 39, 21, 19, 23, 39, 41, 34, 22, 24, 23, 56, 23, 26, 59, 28, 23, 33, 43, 31, 27, 27, 52, 34, 31, 34, 43, 58, 39, 51, 44, 28, 20, 25, 33, 44, 57, 30, 35, 37, 44, 26, 27, 41, 41, 23, 33, 19, 31, 25, 25, 39, 28, 33, 26, 32, 38, 29, 27, 55, 34, 28, 38, 39, 28, 56, 25, 25, 37, 43, 27, 41, 29, 26, 26, 21, 24, 32, 27, 20, 43, 25, 37, 44, 20, 22, 22, 61, 23, 36, 41, 30, 34, 20, 23, 56, 53, 25, 21, 49], \"xaxis\": \"x\", \"yaxis\": \"y\"}, {\"alignmentgroup\": \"True\", \"bingroup\": \"x\", \"hoverlabel\": {\"namelength\": 0}, \"hovertemplate\": \"body_type=skinny<br>age=%{x}<br>count=%{y}\", \"legendgroup\": \"body_type=skinny\", \"marker\": {\"color\": \"#B6E880\"}, \"name\": \"body_type=skinny\", \"offsetgroup\": \"body_type=skinny\", \"orientation\": \"v\", \"showlegend\": true, \"type\": \"histogram\", \"x\": [26, 25, 32, 29, 32, 23, 23, 27, 18, 22, 20, 33, 27, 24, 26, 20, 33, 28, 32, 22, 42, 20, 26, 29, 25, 20, 20, 42, 23, 33, 40, 23, 27, 27, 27, 24, 28, 35, 22, 31, 24, 55, 26, 29, 21, 22, 54, 20, 38, 22, 28, 24], \"xaxis\": \"x\", \"yaxis\": \"y\"}, {\"alignmentgroup\": \"True\", \"bingroup\": \"x\", \"hoverlabel\": {\"namelength\": 0}, \"hovertemplate\": \"body_type=jacked<br>age=%{x}<br>count=%{y}\", \"legendgroup\": \"body_type=jacked\", \"marker\": {\"color\": \"#FF97FF\"}, \"name\": \"body_type=jacked\", \"offsetgroup\": \"body_type=jacked\", \"orientation\": \"v\", \"showlegend\": true, \"type\": \"histogram\", \"x\": [31, 41, 22, 30, 30, 25, 25, 30, 32, 28, 33, 21, 43, 26, 35, 35, 23, 22, 31, 30, 44, 39, 26], \"xaxis\": \"x\", \"yaxis\": \"y\"}, {\"alignmentgroup\": \"True\", \"bingroup\": \"x\", \"hoverlabel\": {\"namelength\": 0}, \"hovertemplate\": \"body_type=used up<br>age=%{x}<br>count=%{y}\", \"legendgroup\": \"body_type=used up\", \"marker\": {\"color\": \"#FECB52\"}, \"name\": \"body_type=used up\", \"offsetgroup\": \"body_type=used up\", \"orientation\": \"v\", \"showlegend\": true, \"type\": \"histogram\", \"x\": [28, 23, 41, 21, 18, 32, 31, 23, 30, 24, 26, 28, 26, 20, 20, 29, 31, 22, 20, 29], \"xaxis\": \"x\", \"yaxis\": \"y\"}, {\"alignmentgroup\": \"True\", \"bingroup\": \"x\", \"hoverlabel\": {\"namelength\": 0}, \"hovertemplate\": \"body_type=full figured<br>age=%{x}<br>count=%{y}\", \"legendgroup\": \"body_type=full figured\", \"marker\": {\"color\": \"#636efa\"}, \"name\": \"body_type=full figured\", \"offsetgroup\": \"body_type=full figured\", \"orientation\": \"v\", \"showlegend\": true, \"type\": \"histogram\", \"x\": [22, 66, 28, 21, 41, 22, 37, 33, 36, 55, 20, 56, 31, 29, 36, 27, 19, 26, 30, 25, 22, 31, 60, 26, 24, 56, 22, 25, 62, 21, 24, 29, 26], \"xaxis\": \"x\", \"yaxis\": \"y\"}, {\"alignmentgroup\": \"True\", \"bingroup\": \"x\", \"hoverlabel\": {\"namelength\": 0}, \"hovertemplate\": \"body_type=rather not say<br>age=%{x}<br>count=%{y}\", \"legendgroup\": \"body_type=rather not say\", \"marker\": {\"color\": \"#EF553B\"}, \"name\": \"body_type=rather not say\", \"offsetgroup\": \"body_type=rather not say\", \"orientation\": \"v\", \"showlegend\": true, \"type\": \"histogram\", \"x\": [21, 26], \"xaxis\": \"x\", \"yaxis\": \"y\"}],\n",
              "                        {\"barmode\": \"relative\", \"legend\": {\"tracegroupgap\": 0}, \"margin\": {\"t\": 60}, \"template\": {\"data\": {\"bar\": [{\"error_x\": {\"color\": \"#2a3f5f\"}, \"error_y\": {\"color\": \"#2a3f5f\"}, \"marker\": {\"line\": {\"color\": \"#E5ECF6\", \"width\": 0.5}}, \"type\": \"bar\"}], \"barpolar\": [{\"marker\": {\"line\": {\"color\": \"#E5ECF6\", \"width\": 0.5}}, \"type\": \"barpolar\"}], \"carpet\": [{\"aaxis\": {\"endlinecolor\": \"#2a3f5f\", \"gridcolor\": \"white\", \"linecolor\": \"white\", \"minorgridcolor\": \"white\", \"startlinecolor\": \"#2a3f5f\"}, \"baxis\": {\"endlinecolor\": \"#2a3f5f\", \"gridcolor\": \"white\", \"linecolor\": \"white\", \"minorgridcolor\": \"white\", \"startlinecolor\": \"#2a3f5f\"}, \"type\": \"carpet\"}], \"choropleth\": [{\"colorbar\": {\"outlinewidth\": 0, \"ticks\": \"\"}, \"type\": \"choropleth\"}], \"contour\": [{\"colorbar\": {\"outlinewidth\": 0, \"ticks\": \"\"}, \"colorscale\": [[0.0, \"#0d0887\"], [0.1111111111111111, \"#46039f\"], [0.2222222222222222, \"#7201a8\"], [0.3333333333333333, \"#9c179e\"], [0.4444444444444444, \"#bd3786\"], [0.5555555555555556, \"#d8576b\"], [0.6666666666666666, \"#ed7953\"], [0.7777777777777778, \"#fb9f3a\"], [0.8888888888888888, \"#fdca26\"], [1.0, \"#f0f921\"]], \"type\": \"contour\"}], \"contourcarpet\": [{\"colorbar\": {\"outlinewidth\": 0, \"ticks\": \"\"}, \"type\": \"contourcarpet\"}], \"heatmap\": [{\"colorbar\": {\"outlinewidth\": 0, \"ticks\": \"\"}, \"colorscale\": [[0.0, \"#0d0887\"], [0.1111111111111111, \"#46039f\"], [0.2222222222222222, \"#7201a8\"], [0.3333333333333333, \"#9c179e\"], [0.4444444444444444, \"#bd3786\"], [0.5555555555555556, \"#d8576b\"], [0.6666666666666666, \"#ed7953\"], [0.7777777777777778, \"#fb9f3a\"], [0.8888888888888888, \"#fdca26\"], [1.0, \"#f0f921\"]], \"type\": \"heatmap\"}], \"heatmapgl\": [{\"colorbar\": {\"outlinewidth\": 0, \"ticks\": \"\"}, \"colorscale\": [[0.0, \"#0d0887\"], [0.1111111111111111, \"#46039f\"], [0.2222222222222222, \"#7201a8\"], [0.3333333333333333, \"#9c179e\"], [0.4444444444444444, \"#bd3786\"], [0.5555555555555556, \"#d8576b\"], [0.6666666666666666, \"#ed7953\"], [0.7777777777777778, \"#fb9f3a\"], [0.8888888888888888, \"#fdca26\"], [1.0, \"#f0f921\"]], \"type\": \"heatmapgl\"}], \"histogram\": [{\"marker\": {\"colorbar\": {\"outlinewidth\": 0, \"ticks\": \"\"}}, \"type\": \"histogram\"}], \"histogram2d\": [{\"colorbar\": {\"outlinewidth\": 0, \"ticks\": \"\"}, \"colorscale\": [[0.0, \"#0d0887\"], [0.1111111111111111, \"#46039f\"], [0.2222222222222222, \"#7201a8\"], [0.3333333333333333, \"#9c179e\"], [0.4444444444444444, \"#bd3786\"], [0.5555555555555556, \"#d8576b\"], [0.6666666666666666, \"#ed7953\"], [0.7777777777777778, \"#fb9f3a\"], [0.8888888888888888, \"#fdca26\"], [1.0, \"#f0f921\"]], \"type\": \"histogram2d\"}], \"histogram2dcontour\": [{\"colorbar\": {\"outlinewidth\": 0, \"ticks\": \"\"}, \"colorscale\": [[0.0, \"#0d0887\"], [0.1111111111111111, \"#46039f\"], [0.2222222222222222, \"#7201a8\"], [0.3333333333333333, \"#9c179e\"], [0.4444444444444444, \"#bd3786\"], [0.5555555555555556, \"#d8576b\"], [0.6666666666666666, \"#ed7953\"], [0.7777777777777778, \"#fb9f3a\"], [0.8888888888888888, \"#fdca26\"], [1.0, \"#f0f921\"]], \"type\": \"histogram2dcontour\"}], \"mesh3d\": [{\"colorbar\": {\"outlinewidth\": 0, \"ticks\": \"\"}, \"type\": \"mesh3d\"}], \"parcoords\": [{\"line\": {\"colorbar\": {\"outlinewidth\": 0, \"ticks\": \"\"}}, \"type\": \"parcoords\"}], \"pie\": [{\"automargin\": true, \"type\": \"pie\"}], \"scatter\": [{\"marker\": {\"colorbar\": {\"outlinewidth\": 0, \"ticks\": \"\"}}, \"type\": \"scatter\"}], \"scatter3d\": [{\"line\": {\"colorbar\": {\"outlinewidth\": 0, \"ticks\": \"\"}}, \"marker\": {\"colorbar\": {\"outlinewidth\": 0, \"ticks\": \"\"}}, \"type\": \"scatter3d\"}], \"scattercarpet\": [{\"marker\": {\"colorbar\": {\"outlinewidth\": 0, \"ticks\": \"\"}}, \"type\": \"scattercarpet\"}], \"scattergeo\": [{\"marker\": {\"colorbar\": {\"outlinewidth\": 0, \"ticks\": \"\"}}, \"type\": \"scattergeo\"}], \"scattergl\": [{\"marker\": {\"colorbar\": {\"outlinewidth\": 0, \"ticks\": \"\"}}, \"type\": \"scattergl\"}], \"scattermapbox\": [{\"marker\": {\"colorbar\": {\"outlinewidth\": 0, \"ticks\": \"\"}}, \"type\": \"scattermapbox\"}], \"scatterpolar\": [{\"marker\": {\"colorbar\": {\"outlinewidth\": 0, \"ticks\": \"\"}}, \"type\": \"scatterpolar\"}], \"scatterpolargl\": [{\"marker\": {\"colorbar\": {\"outlinewidth\": 0, \"ticks\": \"\"}}, \"type\": \"scatterpolargl\"}], \"scatterternary\": [{\"marker\": {\"colorbar\": {\"outlinewidth\": 0, \"ticks\": \"\"}}, \"type\": \"scatterternary\"}], \"surface\": [{\"colorbar\": {\"outlinewidth\": 0, \"ticks\": \"\"}, \"colorscale\": [[0.0, \"#0d0887\"], [0.1111111111111111, \"#46039f\"], [0.2222222222222222, \"#7201a8\"], [0.3333333333333333, \"#9c179e\"], [0.4444444444444444, \"#bd3786\"], [0.5555555555555556, \"#d8576b\"], [0.6666666666666666, \"#ed7953\"], [0.7777777777777778, \"#fb9f3a\"], [0.8888888888888888, \"#fdca26\"], [1.0, \"#f0f921\"]], \"type\": \"surface\"}], \"table\": [{\"cells\": {\"fill\": {\"color\": \"#EBF0F8\"}, \"line\": {\"color\": \"white\"}}, \"header\": {\"fill\": {\"color\": \"#C8D4E3\"}, \"line\": {\"color\": \"white\"}}, \"type\": \"table\"}]}, \"layout\": {\"annotationdefaults\": {\"arrowcolor\": \"#2a3f5f\", \"arrowhead\": 0, \"arrowwidth\": 1}, \"coloraxis\": {\"colorbar\": {\"outlinewidth\": 0, \"ticks\": \"\"}}, \"colorscale\": {\"diverging\": [[0, \"#8e0152\"], [0.1, \"#c51b7d\"], [0.2, \"#de77ae\"], [0.3, \"#f1b6da\"], [0.4, \"#fde0ef\"], [0.5, \"#f7f7f7\"], [0.6, \"#e6f5d0\"], [0.7, \"#b8e186\"], [0.8, \"#7fbc41\"], [0.9, \"#4d9221\"], [1, \"#276419\"]], \"sequential\": [[0.0, \"#0d0887\"], [0.1111111111111111, \"#46039f\"], [0.2222222222222222, \"#7201a8\"], [0.3333333333333333, \"#9c179e\"], [0.4444444444444444, \"#bd3786\"], [0.5555555555555556, \"#d8576b\"], [0.6666666666666666, \"#ed7953\"], [0.7777777777777778, \"#fb9f3a\"], [0.8888888888888888, \"#fdca26\"], [1.0, \"#f0f921\"]], \"sequentialminus\": [[0.0, \"#0d0887\"], [0.1111111111111111, \"#46039f\"], [0.2222222222222222, \"#7201a8\"], [0.3333333333333333, \"#9c179e\"], [0.4444444444444444, \"#bd3786\"], [0.5555555555555556, \"#d8576b\"], [0.6666666666666666, \"#ed7953\"], [0.7777777777777778, \"#fb9f3a\"], [0.8888888888888888, \"#fdca26\"], [1.0, \"#f0f921\"]]}, \"colorway\": [\"#636efa\", \"#EF553B\", \"#00cc96\", \"#ab63fa\", \"#FFA15A\", \"#19d3f3\", \"#FF6692\", \"#B6E880\", \"#FF97FF\", \"#FECB52\"], \"font\": {\"color\": \"#2a3f5f\"}, \"geo\": {\"bgcolor\": \"white\", \"lakecolor\": \"white\", \"landcolor\": \"#E5ECF6\", \"showlakes\": true, \"showland\": true, \"subunitcolor\": \"white\"}, \"hoverlabel\": {\"align\": \"left\"}, \"hovermode\": \"closest\", \"mapbox\": {\"style\": \"light\"}, \"paper_bgcolor\": \"white\", \"plot_bgcolor\": \"#E5ECF6\", \"polar\": {\"angularaxis\": {\"gridcolor\": \"white\", \"linecolor\": \"white\", \"ticks\": \"\"}, \"bgcolor\": \"#E5ECF6\", \"radialaxis\": {\"gridcolor\": \"white\", \"linecolor\": \"white\", \"ticks\": \"\"}}, \"scene\": {\"xaxis\": {\"backgroundcolor\": \"#E5ECF6\", \"gridcolor\": \"white\", \"gridwidth\": 2, \"linecolor\": \"white\", \"showbackground\": true, \"ticks\": \"\", \"zerolinecolor\": \"white\"}, \"yaxis\": {\"backgroundcolor\": \"#E5ECF6\", \"gridcolor\": \"white\", \"gridwidth\": 2, \"linecolor\": \"white\", \"showbackground\": true, \"ticks\": \"\", \"zerolinecolor\": \"white\"}, \"zaxis\": {\"backgroundcolor\": \"#E5ECF6\", \"gridcolor\": \"white\", \"gridwidth\": 2, \"linecolor\": \"white\", \"showbackground\": true, \"ticks\": \"\", \"zerolinecolor\": \"white\"}}, \"shapedefaults\": {\"line\": {\"color\": \"#2a3f5f\"}}, \"ternary\": {\"aaxis\": {\"gridcolor\": \"white\", \"linecolor\": \"white\", \"ticks\": \"\"}, \"baxis\": {\"gridcolor\": \"white\", \"linecolor\": \"white\", \"ticks\": \"\"}, \"bgcolor\": \"#E5ECF6\", \"caxis\": {\"gridcolor\": \"white\", \"linecolor\": \"white\", \"ticks\": \"\"}}, \"title\": {\"x\": 0.05}, \"xaxis\": {\"automargin\": true, \"gridcolor\": \"white\", \"linecolor\": \"white\", \"ticks\": \"\", \"title\": {\"standoff\": 15}, \"zerolinecolor\": \"white\", \"zerolinewidth\": 2}, \"yaxis\": {\"automargin\": true, \"gridcolor\": \"white\", \"linecolor\": \"white\", \"ticks\": \"\", \"title\": {\"standoff\": 15}, \"zerolinecolor\": \"white\", \"zerolinewidth\": 2}}}, \"xaxis\": {\"anchor\": \"y\", \"domain\": [0.0, 1.0], \"title\": {\"text\": \"age\"}}, \"yaxis\": {\"anchor\": \"x\", \"domain\": [0.0, 1.0], \"title\": {\"text\": \"count\"}}},\n",
              "                        {\"responsive\": true}\n",
              "                    ).then(function(){\n",
              "                            \n",
              "var gd = document.getElementById('43923756-ec3c-49cb-8c0f-ef137c6dfa04');\n",
              "var x = new MutationObserver(function (mutations, observer) {{\n",
              "        var display = window.getComputedStyle(gd).display;\n",
              "        if (!display || display === 'none') {{\n",
              "            console.log([gd, 'removed!']);\n",
              "            Plotly.purge(gd);\n",
              "            observer.disconnect();\n",
              "        }}\n",
              "}});\n",
              "\n",
              "// Listen for the removal of the full notebook cells\n",
              "var notebookContainer = gd.closest('#notebook-container');\n",
              "if (notebookContainer) {{\n",
              "    x.observe(notebookContainer, {childList: true});\n",
              "}}\n",
              "\n",
              "// Listen for the clearing of the current output cell\n",
              "var outputEl = gd.closest('.output');\n",
              "if (outputEl) {{\n",
              "    x.observe(outputEl, {childList: true});\n",
              "}}\n",
              "\n",
              "                        })\n",
              "                };\n",
              "                \n",
              "            </script>\n",
              "        </div>\n",
              "</body>\n",
              "</html>"
            ]
          },
          "metadata": {
            "tags": []
          }
        }
      ]
    },
    {
      "cell_type": "markdown",
      "metadata": {
        "id": "NLAgojqns5ys"
      },
      "source": [
        "Users visualized based on their AGE and BODY_TYPE."
      ]
    },
    {
      "cell_type": "code",
      "metadata": {
        "colab": {
          "base_uri": "https://localhost:8080/",
          "height": 542
        },
        "id": "7tzM7lzsqriP",
        "outputId": "b6b8d64b-08ea-4a9f-a81d-428aba1d0ee3"
      },
      "source": [
        "px.histogram(asd, x = 'age', color='Cluster #')"
      ],
      "execution_count": 49,
      "outputs": [
        {
          "output_type": "display_data",
          "data": {
            "text/html": [
              "<html>\n",
              "<head><meta charset=\"utf-8\" /></head>\n",
              "<body>\n",
              "    <div>\n",
              "            <script src=\"https://cdnjs.cloudflare.com/ajax/libs/mathjax/2.7.5/MathJax.js?config=TeX-AMS-MML_SVG\"></script><script type=\"text/javascript\">if (window.MathJax) {MathJax.Hub.Config({SVG: {font: \"STIX-Web\"}});}</script>\n",
              "                <script type=\"text/javascript\">window.PlotlyConfig = {MathJaxConfig: 'local'};</script>\n",
              "        <script src=\"https://cdn.plot.ly/plotly-latest.min.js\"></script>    \n",
              "            <div id=\"a4d3b35f-7b97-4c50-89ba-3b1460c065e4\" class=\"plotly-graph-div\" style=\"height:525px; width:100%;\"></div>\n",
              "            <script type=\"text/javascript\">\n",
              "                \n",
              "                    window.PLOTLYENV=window.PLOTLYENV || {};\n",
              "                    \n",
              "                if (document.getElementById(\"a4d3b35f-7b97-4c50-89ba-3b1460c065e4\")) {\n",
              "                    Plotly.newPlot(\n",
              "                        'a4d3b35f-7b97-4c50-89ba-3b1460c065e4',\n",
              "                        [{\"alignmentgroup\": \"True\", \"bingroup\": \"x\", \"hoverlabel\": {\"namelength\": 0}, \"hovertemplate\": \"Cluster #=2<br>age=%{x}<br>count=%{y}\", \"legendgroup\": \"Cluster #=2\", \"marker\": {\"color\": \"#636efa\"}, \"name\": \"Cluster #=2\", \"offsetgroup\": \"Cluster #=2\", \"orientation\": \"v\", \"showlegend\": true, \"type\": \"histogram\", \"x\": [29, 23, 50, 26, 30, 39, 34, 35, 44, 47, 23, 30, 31, 38, 24, 40, 22, 31, 28, 25, 23, 25, 37, 50, 48, 51, 42, 53, 35, 43, 40, 30, 25, 42, 32, 56, 29, 32, 25, 30, 31, 27, 39, 56, 30, 63, 36, 22, 41, 66, 37, 37, 39, 33, 50, 28, 48, 30, 32, 28, 55, 25, 29, 29, 31, 28, 41, 32, 26, 46, 25, 55, 46, 35, 41, 62, 28, 68, 31, 40, 37, 34, 20, 26, 39, 33, 22, 49, 47, 40, 24, 31, 28, 41, 28, 41, 32, 32, 39, 34, 34, 36, 55, 59, 32, 49, 22, 33, 24, 24, 37, 31, 52, 56, 23, 53, 32, 33, 51, 54, 30, 26, 56, 39, 52, 29, 24, 32, 56, 35, 27, 20, 24, 46, 42, 55, 34, 45, 33, 28, 60, 28, 49, 30, 48, 28, 22, 41, 54, 35, 49, 23, 61, 56, 27, 36, 45, 40, 66, 26, 67, 51, 20, 29, 33, 56, 56, 49, 29, 22, 34, 21, 23, 32, 60, 33, 33, 47, 68, 34, 43, 49, 27, 26, 59, 24, 33, 22, 38, 36, 37, 34, 44, 46, 44, 23, 33, 27, 33, 56, 36, 27, 38, 27, 31, 29, 39, 26, 44, 43, 32, 56, 37, 26, 20, 27, 45, 51, 34, 28, 22, 25, 30, 32, 45, 24, 28, 32, 39, 24, 30, 52, 46, 21, 54, 50, 28, 29, 34, 24, 29, 30, 66, 23, 32, 33, 32, 30, 34, 27, 62, 28, 36, 21, 38, 52, 47, 23, 38, 48, 45, 44, 56, 32, 28, 55, 58, 56, 39, 25, 33, 28, 40, 25, 45, 45, 45, 51, 42, 65, 49, 22, 26, 34, 24, 34, 28, 26, 28, 26, 43, 35, 33, 38, 47, 58, 23, 26, 23, 36, 52, 25, 31, 43, 38, 22, 42, 31, 26, 57, 32, 44, 35, 43, 38, 27, 37, 42, 26, 30, 44, 26, 39, 29, 43, 52, 45, 26, 34, 40, 45, 54, 57, 53, 62, 64, 34, 23, 45, 26, 67, 23, 52, 31, 24, 46, 22, 33, 65, 47, 54, 26, 38, 24, 37, 34, 51, 40, 48, 41, 37, 25, 27, 27, 47, 29, 34, 48, 26, 62, 33, 37, 31, 33, 25, 30, 55, 35, 31, 28, 23, 68, 45, 35, 52, 34, 34, 51, 64, 47, 24, 39, 33, 35, 28, 33, 23, 34, 35, 31, 22, 26, 31, 32, 24, 21, 44, 33, 26, 54, 29, 26, 22, 60, 32, 26, 63, 32, 43, 37, 26, 26, 26, 54, 39, 38, 32, 34, 56, 55, 57, 24, 23, 58, 34, 52, 31, 24, 34, 39, 30, 31, 25, 29, 56, 44, 22, 52, 36, 54, 23, 43, 35, 37, 48, 26, 33, 24, 24, 24, 26, 31, 56, 41, 49, 55, 60, 32, 28, 28, 26, 30, 45, 32, 39, 27, 48, 51, 26, 30, 28, 30, 32, 32, 34, 54, 41, 25, 22, 28, 29, 42, 32, 22, 33, 25, 33, 31, 31, 27, 65, 30, 28, 37, 30, 25, 42, 44, 29, 36, 62, 61, 34, 28, 41, 32, 26, 18, 23, 60, 31, 64, 35, 57, 25, 35, 44, 26, 53, 61, 23, 21, 39, 31, 40, 37, 65, 34, 28, 54, 33, 29, 41, 44, 27, 27, 24, 25, 55, 58, 32, 49, 23, 26, 64, 31, 26, 35, 53, 25, 42, 19, 37, 50, 28, 24, 31, 30, 39, 19, 45, 30, 29, 61, 55, 24, 25, 29, 32, 43, 23, 31, 66, 51, 52, 37, 43, 52, 20, 22, 24, 22, 21, 29, 50, 42, 25, 22, 56, 45, 53, 40, 24, 54, 30, 67, 27, 25, 42, 30, 31, 48, 22, 37, 29, 39, 50, 50, 26, 49, 32, 42, 21, 30, 40, 52, 46, 44, 33, 34, 26, 52, 57, 34, 24], \"xaxis\": \"x\", \"yaxis\": \"y\"}, {\"alignmentgroup\": \"True\", \"bingroup\": \"x\", \"hoverlabel\": {\"namelength\": 0}, \"hovertemplate\": \"Cluster #=1<br>age=%{x}<br>count=%{y}\", \"legendgroup\": \"Cluster #=1\", \"marker\": {\"color\": \"#EF553B\"}, \"name\": \"Cluster #=1\", \"offsetgroup\": \"Cluster #=1\", \"orientation\": \"v\", \"showlegend\": true, \"type\": \"histogram\", \"x\": [21, 26, 35, 42, 23, 22, 34, 36, 19, 45, 27, 20, 23, 30, 25, 57, 47, 23, 40, 43, 27, 26, 19, 35, 27, 23, 27, 39, 43, 24, 36, 28, 22, 25, 38, 65, 33, 41, 24, 30, 41, 33, 23, 23, 29, 26, 37, 24, 26, 21, 20, 23, 49, 23, 33, 35, 19, 45, 42, 47, 29, 22, 33, 33, 28, 26, 61, 48, 29, 30, 47, 34, 68, 27, 27, 28, 21, 27, 25, 40, 29, 25, 31, 22, 43, 27, 22, 50, 31, 58, 33, 32, 27, 28, 35, 32, 32, 31, 23, 21, 27, 24, 30, 33, 28, 25, 61, 44, 34, 25, 30, 35, 34, 25, 41, 30, 39, 27, 44, 30, 48, 27, 26, 36, 25, 34, 23, 38, 62, 33, 39, 20, 28, 22, 31, 23, 31, 31, 41, 21, 27, 32, 38, 34, 26, 36, 36, 40, 25, 28, 22, 28, 20, 30, 27, 38, 29, 23, 44, 26, 38, 30, 25, 29, 24, 64, 28, 25, 27, 27, 29, 26, 24, 40, 29, 29, 24, 45, 26, 56, 25, 22, 35, 24, 25, 23, 22, 31, 29, 43, 37, 25, 22, 22, 27, 51, 51, 28, 22, 54, 37, 29, 23, 28, 27, 31, 62, 60, 32, 25, 44, 30, 28, 34, 34, 30, 23, 18, 26, 34, 21, 30, 30, 29, 32, 31, 27, 49, 34, 56, 28, 23, 24, 25, 33], \"xaxis\": \"x\", \"yaxis\": \"y\"}, {\"alignmentgroup\": \"True\", \"bingroup\": \"x\", \"hoverlabel\": {\"namelength\": 0}, \"hovertemplate\": \"Cluster #=4<br>age=%{x}<br>count=%{y}\", \"legendgroup\": \"Cluster #=4\", \"marker\": {\"color\": \"#00cc96\"}, \"name\": \"Cluster #=4\", \"offsetgroup\": \"Cluster #=4\", \"orientation\": \"v\", \"showlegend\": true, \"type\": \"histogram\", \"x\": [37, 47, 30, 18, 36, 20, 36, 21, 24, 25, 37, 22, 28, 23, 43, 28, 26, 27, 22, 18, 22, 22, 33, 21, 31, 22, 24, 21, 21, 21, 28, 26, 25, 24, 25, 30, 39, 20, 21, 39, 25, 21, 25, 42, 48, 26, 22, 26, 41, 22, 56, 30, 24, 19, 22, 29, 39, 23, 24, 19, 37, 24, 24, 23, 29, 33, 20, 25, 26, 20, 42, 24, 22, 23, 21, 20, 23, 27, 40, 39, 19, 32, 26, 28, 45, 18, 27, 24, 28, 29, 20, 23, 31, 45, 26, 28, 29, 23, 25, 34, 24, 21, 25, 33, 22, 18, 28, 24, 23, 22, 40, 28, 21, 39, 27, 23, 58, 59, 28, 26, 32, 25, 26, 26, 27, 38, 21, 28, 25, 24, 26, 29, 30, 24, 20, 19, 18, 34, 22, 36, 31, 18, 46, 26, 32, 20, 27, 19, 19, 49, 18, 19, 25, 25, 25, 19, 26, 35, 35, 27, 22, 24, 38, 31, 28, 40, 22, 22, 29, 27, 36, 24, 33, 31, 26, 26, 55, 33, 40, 32, 20, 23, 21, 24, 22, 20, 44, 18, 33, 21, 28, 20, 47, 25, 26, 42, 20, 44, 19, 23, 20, 29, 43, 20, 26, 19, 27, 20, 36, 26, 26, 18, 25, 27, 42, 20, 24, 21, 25, 26, 29, 30, 21, 35, 25, 28, 30, 22, 22, 47, 27, 37, 35, 23, 33, 25, 44, 19, 23, 53, 40, 23, 30, 20, 19, 32, 22, 55, 35, 41, 31, 32, 23, 19, 24, 29, 20, 25, 24, 21, 29, 22, 20, 24, 21, 25, 46, 49, 25, 18, 33, 35, 22, 23, 27, 39, 24, 29, 39, 22, 21, 65, 48, 22, 27, 24, 28, 34, 28, 58, 38, 24, 23, 37, 58, 25, 28, 19, 19, 27, 22, 31, 26, 25, 43, 26, 26, 23, 30, 21, 31, 30, 31, 19, 33, 21, 24, 27, 20, 30, 43, 31, 21, 35, 26, 34, 26, 33, 21, 24, 23, 22, 33, 26, 30, 29, 34, 23, 38, 20, 54, 22, 41, 53, 24, 27, 27, 25, 22, 20, 22, 21, 24, 34, 27, 30, 23, 23, 28, 22, 23, 23, 27, 34, 24, 29, 36, 26, 30, 42, 25, 20, 20, 32, 41, 22, 23, 33, 23, 25, 20, 21, 61, 22, 26, 21, 20, 23, 21, 18, 27, 21, 25, 21, 20, 39, 20, 29, 20, 25, 20, 19, 41, 21, 24, 25, 24, 20, 20, 22, 22, 23, 21, 24, 35, 23, 24, 28, 20, 21, 30, 26, 37, 22, 34, 28, 26], \"xaxis\": \"x\", \"yaxis\": \"y\"}, {\"alignmentgroup\": \"True\", \"bingroup\": \"x\", \"hoverlabel\": {\"namelength\": 0}, \"hovertemplate\": \"Cluster #=3<br>age=%{x}<br>count=%{y}\", \"legendgroup\": \"Cluster #=3\", \"marker\": {\"color\": \"#ab63fa\"}, \"name\": \"Cluster #=3\", \"offsetgroup\": \"Cluster #=3\", \"orientation\": \"v\", \"showlegend\": true, \"type\": \"histogram\", \"x\": [21, 20, 29, 21, 20, 21, 41, 25, 31, 21, 25, 27, 20, 20, 20, 23, 19, 18, 24, 19, 21, 23, 21, 20, 24, 29], \"xaxis\": \"x\", \"yaxis\": \"y\"}, {\"alignmentgroup\": \"True\", \"bingroup\": \"x\", \"hoverlabel\": {\"namelength\": 0}, \"hovertemplate\": \"Cluster #=0<br>age=%{x}<br>count=%{y}\", \"legendgroup\": \"Cluster #=0\", \"marker\": {\"color\": \"#FFA15A\"}, \"name\": \"Cluster #=0\", \"offsetgroup\": \"Cluster #=0\", \"orientation\": \"v\", \"showlegend\": true, \"type\": \"histogram\", \"x\": [34, 23, 25, 22, 28, 20, 33, 21, 29, 24, 42, 57, 32, 23, 27, 22, 41, 28, 34, 27, 20, 27, 36, 21, 30, 27, 37, 27, 26, 27, 43, 28, 25, 21, 20, 22, 25, 33, 25, 23, 27, 28, 26, 24, 24, 29, 43, 26, 33, 20, 44, 31, 29, 42, 20, 24, 26, 28, 23, 33, 35, 41, 35, 32, 29, 26, 35, 25, 38, 32, 33, 25, 22, 20, 33, 26, 20, 38, 25, 32, 31, 23, 38, 22, 56, 25, 26, 30, 48, 28, 27, 38, 31, 27, 19, 34, 59, 27, 26, 29, 21], \"xaxis\": \"x\", \"yaxis\": \"y\"}],\n",
              "                        {\"barmode\": \"relative\", \"legend\": {\"tracegroupgap\": 0}, \"margin\": {\"t\": 60}, \"template\": {\"data\": {\"bar\": [{\"error_x\": {\"color\": \"#2a3f5f\"}, \"error_y\": {\"color\": \"#2a3f5f\"}, \"marker\": {\"line\": {\"color\": \"#E5ECF6\", \"width\": 0.5}}, \"type\": \"bar\"}], \"barpolar\": [{\"marker\": {\"line\": {\"color\": \"#E5ECF6\", \"width\": 0.5}}, \"type\": \"barpolar\"}], \"carpet\": [{\"aaxis\": {\"endlinecolor\": \"#2a3f5f\", \"gridcolor\": \"white\", \"linecolor\": \"white\", \"minorgridcolor\": \"white\", \"startlinecolor\": \"#2a3f5f\"}, \"baxis\": {\"endlinecolor\": \"#2a3f5f\", \"gridcolor\": \"white\", \"linecolor\": \"white\", \"minorgridcolor\": \"white\", \"startlinecolor\": \"#2a3f5f\"}, \"type\": \"carpet\"}], \"choropleth\": [{\"colorbar\": {\"outlinewidth\": 0, \"ticks\": \"\"}, \"type\": \"choropleth\"}], \"contour\": [{\"colorbar\": {\"outlinewidth\": 0, \"ticks\": \"\"}, \"colorscale\": [[0.0, \"#0d0887\"], [0.1111111111111111, \"#46039f\"], [0.2222222222222222, \"#7201a8\"], [0.3333333333333333, \"#9c179e\"], [0.4444444444444444, \"#bd3786\"], [0.5555555555555556, \"#d8576b\"], [0.6666666666666666, \"#ed7953\"], [0.7777777777777778, \"#fb9f3a\"], [0.8888888888888888, \"#fdca26\"], [1.0, \"#f0f921\"]], \"type\": \"contour\"}], \"contourcarpet\": [{\"colorbar\": {\"outlinewidth\": 0, \"ticks\": \"\"}, \"type\": \"contourcarpet\"}], \"heatmap\": [{\"colorbar\": {\"outlinewidth\": 0, \"ticks\": \"\"}, \"colorscale\": [[0.0, \"#0d0887\"], [0.1111111111111111, \"#46039f\"], [0.2222222222222222, \"#7201a8\"], [0.3333333333333333, \"#9c179e\"], [0.4444444444444444, \"#bd3786\"], [0.5555555555555556, \"#d8576b\"], [0.6666666666666666, \"#ed7953\"], [0.7777777777777778, \"#fb9f3a\"], [0.8888888888888888, \"#fdca26\"], [1.0, \"#f0f921\"]], \"type\": \"heatmap\"}], \"heatmapgl\": [{\"colorbar\": {\"outlinewidth\": 0, \"ticks\": \"\"}, \"colorscale\": [[0.0, \"#0d0887\"], [0.1111111111111111, \"#46039f\"], [0.2222222222222222, \"#7201a8\"], [0.3333333333333333, \"#9c179e\"], [0.4444444444444444, \"#bd3786\"], [0.5555555555555556, \"#d8576b\"], [0.6666666666666666, \"#ed7953\"], [0.7777777777777778, \"#fb9f3a\"], [0.8888888888888888, \"#fdca26\"], [1.0, \"#f0f921\"]], \"type\": \"heatmapgl\"}], \"histogram\": [{\"marker\": {\"colorbar\": {\"outlinewidth\": 0, \"ticks\": \"\"}}, \"type\": \"histogram\"}], \"histogram2d\": [{\"colorbar\": {\"outlinewidth\": 0, \"ticks\": \"\"}, \"colorscale\": [[0.0, \"#0d0887\"], [0.1111111111111111, \"#46039f\"], [0.2222222222222222, \"#7201a8\"], [0.3333333333333333, \"#9c179e\"], [0.4444444444444444, \"#bd3786\"], [0.5555555555555556, \"#d8576b\"], [0.6666666666666666, \"#ed7953\"], [0.7777777777777778, \"#fb9f3a\"], [0.8888888888888888, \"#fdca26\"], [1.0, \"#f0f921\"]], \"type\": \"histogram2d\"}], \"histogram2dcontour\": [{\"colorbar\": {\"outlinewidth\": 0, \"ticks\": \"\"}, \"colorscale\": [[0.0, \"#0d0887\"], [0.1111111111111111, \"#46039f\"], [0.2222222222222222, \"#7201a8\"], [0.3333333333333333, \"#9c179e\"], [0.4444444444444444, \"#bd3786\"], [0.5555555555555556, \"#d8576b\"], [0.6666666666666666, \"#ed7953\"], [0.7777777777777778, \"#fb9f3a\"], [0.8888888888888888, \"#fdca26\"], [1.0, \"#f0f921\"]], \"type\": \"histogram2dcontour\"}], \"mesh3d\": [{\"colorbar\": {\"outlinewidth\": 0, \"ticks\": \"\"}, \"type\": \"mesh3d\"}], \"parcoords\": [{\"line\": {\"colorbar\": {\"outlinewidth\": 0, \"ticks\": \"\"}}, \"type\": \"parcoords\"}], \"pie\": [{\"automargin\": true, \"type\": \"pie\"}], \"scatter\": [{\"marker\": {\"colorbar\": {\"outlinewidth\": 0, \"ticks\": \"\"}}, \"type\": \"scatter\"}], \"scatter3d\": [{\"line\": {\"colorbar\": {\"outlinewidth\": 0, \"ticks\": \"\"}}, \"marker\": {\"colorbar\": {\"outlinewidth\": 0, \"ticks\": \"\"}}, \"type\": \"scatter3d\"}], \"scattercarpet\": [{\"marker\": {\"colorbar\": {\"outlinewidth\": 0, \"ticks\": \"\"}}, \"type\": \"scattercarpet\"}], \"scattergeo\": [{\"marker\": {\"colorbar\": {\"outlinewidth\": 0, \"ticks\": \"\"}}, \"type\": \"scattergeo\"}], \"scattergl\": [{\"marker\": {\"colorbar\": {\"outlinewidth\": 0, \"ticks\": \"\"}}, \"type\": \"scattergl\"}], \"scattermapbox\": [{\"marker\": {\"colorbar\": {\"outlinewidth\": 0, \"ticks\": \"\"}}, \"type\": \"scattermapbox\"}], \"scatterpolar\": [{\"marker\": {\"colorbar\": {\"outlinewidth\": 0, \"ticks\": \"\"}}, \"type\": \"scatterpolar\"}], \"scatterpolargl\": [{\"marker\": {\"colorbar\": {\"outlinewidth\": 0, \"ticks\": \"\"}}, \"type\": \"scatterpolargl\"}], \"scatterternary\": [{\"marker\": {\"colorbar\": {\"outlinewidth\": 0, \"ticks\": \"\"}}, \"type\": \"scatterternary\"}], \"surface\": [{\"colorbar\": {\"outlinewidth\": 0, \"ticks\": \"\"}, \"colorscale\": [[0.0, \"#0d0887\"], [0.1111111111111111, \"#46039f\"], [0.2222222222222222, \"#7201a8\"], [0.3333333333333333, \"#9c179e\"], [0.4444444444444444, \"#bd3786\"], [0.5555555555555556, \"#d8576b\"], [0.6666666666666666, \"#ed7953\"], [0.7777777777777778, \"#fb9f3a\"], [0.8888888888888888, \"#fdca26\"], [1.0, \"#f0f921\"]], \"type\": \"surface\"}], \"table\": [{\"cells\": {\"fill\": {\"color\": \"#EBF0F8\"}, \"line\": {\"color\": \"white\"}}, \"header\": {\"fill\": {\"color\": \"#C8D4E3\"}, \"line\": {\"color\": \"white\"}}, \"type\": \"table\"}]}, \"layout\": {\"annotationdefaults\": {\"arrowcolor\": \"#2a3f5f\", \"arrowhead\": 0, \"arrowwidth\": 1}, \"coloraxis\": {\"colorbar\": {\"outlinewidth\": 0, \"ticks\": \"\"}}, \"colorscale\": {\"diverging\": [[0, \"#8e0152\"], [0.1, \"#c51b7d\"], [0.2, \"#de77ae\"], [0.3, \"#f1b6da\"], [0.4, \"#fde0ef\"], [0.5, \"#f7f7f7\"], [0.6, \"#e6f5d0\"], [0.7, \"#b8e186\"], [0.8, \"#7fbc41\"], [0.9, \"#4d9221\"], [1, \"#276419\"]], \"sequential\": [[0.0, \"#0d0887\"], [0.1111111111111111, \"#46039f\"], [0.2222222222222222, \"#7201a8\"], [0.3333333333333333, \"#9c179e\"], [0.4444444444444444, \"#bd3786\"], [0.5555555555555556, \"#d8576b\"], [0.6666666666666666, \"#ed7953\"], [0.7777777777777778, \"#fb9f3a\"], [0.8888888888888888, \"#fdca26\"], [1.0, \"#f0f921\"]], \"sequentialminus\": [[0.0, \"#0d0887\"], [0.1111111111111111, \"#46039f\"], [0.2222222222222222, \"#7201a8\"], [0.3333333333333333, \"#9c179e\"], [0.4444444444444444, \"#bd3786\"], [0.5555555555555556, \"#d8576b\"], [0.6666666666666666, \"#ed7953\"], [0.7777777777777778, \"#fb9f3a\"], [0.8888888888888888, \"#fdca26\"], [1.0, \"#f0f921\"]]}, \"colorway\": [\"#636efa\", \"#EF553B\", \"#00cc96\", \"#ab63fa\", \"#FFA15A\", \"#19d3f3\", \"#FF6692\", \"#B6E880\", \"#FF97FF\", \"#FECB52\"], \"font\": {\"color\": \"#2a3f5f\"}, \"geo\": {\"bgcolor\": \"white\", \"lakecolor\": \"white\", \"landcolor\": \"#E5ECF6\", \"showlakes\": true, \"showland\": true, \"subunitcolor\": \"white\"}, \"hoverlabel\": {\"align\": \"left\"}, \"hovermode\": \"closest\", \"mapbox\": {\"style\": \"light\"}, \"paper_bgcolor\": \"white\", \"plot_bgcolor\": \"#E5ECF6\", \"polar\": {\"angularaxis\": {\"gridcolor\": \"white\", \"linecolor\": \"white\", \"ticks\": \"\"}, \"bgcolor\": \"#E5ECF6\", \"radialaxis\": {\"gridcolor\": \"white\", \"linecolor\": \"white\", \"ticks\": \"\"}}, \"scene\": {\"xaxis\": {\"backgroundcolor\": \"#E5ECF6\", \"gridcolor\": \"white\", \"gridwidth\": 2, \"linecolor\": \"white\", \"showbackground\": true, \"ticks\": \"\", \"zerolinecolor\": \"white\"}, \"yaxis\": {\"backgroundcolor\": \"#E5ECF6\", \"gridcolor\": \"white\", \"gridwidth\": 2, \"linecolor\": \"white\", \"showbackground\": true, \"ticks\": \"\", \"zerolinecolor\": \"white\"}, \"zaxis\": {\"backgroundcolor\": \"#E5ECF6\", \"gridcolor\": \"white\", \"gridwidth\": 2, \"linecolor\": \"white\", \"showbackground\": true, \"ticks\": \"\", \"zerolinecolor\": \"white\"}}, \"shapedefaults\": {\"line\": {\"color\": \"#2a3f5f\"}}, \"ternary\": {\"aaxis\": {\"gridcolor\": \"white\", \"linecolor\": \"white\", \"ticks\": \"\"}, \"baxis\": {\"gridcolor\": \"white\", \"linecolor\": \"white\", \"ticks\": \"\"}, \"bgcolor\": \"#E5ECF6\", \"caxis\": {\"gridcolor\": \"white\", \"linecolor\": \"white\", \"ticks\": \"\"}}, \"title\": {\"x\": 0.05}, \"xaxis\": {\"automargin\": true, \"gridcolor\": \"white\", \"linecolor\": \"white\", \"ticks\": \"\", \"title\": {\"standoff\": 15}, \"zerolinecolor\": \"white\", \"zerolinewidth\": 2}, \"yaxis\": {\"automargin\": true, \"gridcolor\": \"white\", \"linecolor\": \"white\", \"ticks\": \"\", \"title\": {\"standoff\": 15}, \"zerolinecolor\": \"white\", \"zerolinewidth\": 2}}}, \"xaxis\": {\"anchor\": \"y\", \"domain\": [0.0, 1.0], \"title\": {\"text\": \"age\"}}, \"yaxis\": {\"anchor\": \"x\", \"domain\": [0.0, 1.0], \"title\": {\"text\": \"count\"}}},\n",
              "                        {\"responsive\": true}\n",
              "                    ).then(function(){\n",
              "                            \n",
              "var gd = document.getElementById('a4d3b35f-7b97-4c50-89ba-3b1460c065e4');\n",
              "var x = new MutationObserver(function (mutations, observer) {{\n",
              "        var display = window.getComputedStyle(gd).display;\n",
              "        if (!display || display === 'none') {{\n",
              "            console.log([gd, 'removed!']);\n",
              "            Plotly.purge(gd);\n",
              "            observer.disconnect();\n",
              "        }}\n",
              "}});\n",
              "\n",
              "// Listen for the removal of the full notebook cells\n",
              "var notebookContainer = gd.closest('#notebook-container');\n",
              "if (notebookContainer) {{\n",
              "    x.observe(notebookContainer, {childList: true});\n",
              "}}\n",
              "\n",
              "// Listen for the clearing of the current output cell\n",
              "var outputEl = gd.closest('.output');\n",
              "if (outputEl) {{\n",
              "    x.observe(outputEl, {childList: true});\n",
              "}}\n",
              "\n",
              "                        })\n",
              "                };\n",
              "                \n",
              "            </script>\n",
              "        </div>\n",
              "</body>\n",
              "</html>"
            ]
          },
          "metadata": {
            "tags": []
          }
        }
      ]
    },
    {
      "cell_type": "markdown",
      "metadata": {
        "id": "6peki83XrBQO"
      },
      "source": [
        "The plot above shows us the distribution of age colored by the clusters they were assigned to. This can be further explored in clustering to visualize clusters better getting an idea of how similar profiles would fall under the same cluster (signifying similarities in profiles - making them ideal for recommendation)."
      ]
    },
    {
      "cell_type": "code",
      "metadata": {
        "id": "mR_RumkesD50"
      },
      "source": [
        ""
      ],
      "execution_count": 49,
      "outputs": []
    },
    {
      "cell_type": "markdown",
      "metadata": {
        "id": "HXpAIcq5uLLC"
      },
      "source": [
        "Things achieved so far:\n",
        "\n",
        "Future Steps:\n",
        "1. More detailed EDA.\n",
        "2. Recommend profiles based on clusters obtained from clustering.\n",
        "3. Assign weights to features to add more depth to filtering / recommendation.\n",
        "4. Get data with information on who swiped on whom or who matched with whom to implement Collaberative Filtering developing a recommendation engine. \n",
        "\n",
        "IF information on messages is made public, it would be interesting to see how loyal a user is (MONOGOMY), loyal in the sense that if they match with someone while they were talking to a match, would they switch to different users or would they start a new conversation ditching an already ongoing conversation."
      ]
    },
    {
      "cell_type": "code",
      "metadata": {
        "id": "dg6Pq7nzvVCP"
      },
      "source": [
        ""
      ],
      "execution_count": null,
      "outputs": []
    }
  ]
}